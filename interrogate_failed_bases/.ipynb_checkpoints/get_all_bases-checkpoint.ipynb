{
 "cells": [
  {
   "cell_type": "code",
   "execution_count": 2,
   "id": "initial_id",
   "metadata": {
    "collapsed": true,
    "ExecuteTime": {
     "end_time": "2024-03-11T11:53:25.810750Z",
     "start_time": "2024-03-11T11:53:25.804851Z"
    }
   },
   "outputs": [],
   "source": [
    "import os\n",
    "import pandas as pd\n",
    "import glob\n",
    "os.chdir('/data/xchem-fragalysis/kfieseler/A71EV2A_run2')"
   ]
  },
  {
   "cell_type": "markdown",
   "source": [
    "Get df where:\n",
    "df['batch'] == batch\n",
    "df['base'] == dir_name (inchi key)\n",
    "df['base'] == path_to_fragmenstein_output\n",
    "df['minimised'] == True or False\n",
    "df['error'] == None or string of error message"
   ],
   "metadata": {
    "collapsed": false
   },
   "id": "b6d8ba44540b694f"
  },
  {
   "cell_type": "code",
   "outputs": [
    {
     "ename": "NameError",
     "evalue": "name 'glob' is not defined",
     "output_type": "error",
     "traceback": [
      "\u001B[0;31m---------------------------------------------------------------------------\u001B[0m",
      "\u001B[0;31mNameError\u001B[0m                                 Traceback (most recent call last)",
      "Cell \u001B[0;32mIn[3], line 3\u001B[0m\n\u001B[1;32m      1\u001B[0m \u001B[38;5;66;03m# Recursively find all .py files\u001B[39;00m\n\u001B[1;32m      2\u001B[0m mols \u001B[38;5;241m=\u001B[39m []\n\u001B[0;32m----> 3\u001B[0m \u001B[38;5;28;01mfor\u001B[39;00m file \u001B[38;5;129;01min\u001B[39;00m \u001B[43mglob\u001B[49m\u001B[38;5;241m.\u001B[39mglob(\u001B[38;5;124m\"\u001B[39m\u001B[38;5;124m**/*base*.mol\u001B[39m\u001B[38;5;124m\"\u001B[39m, recursive\u001B[38;5;241m=\u001B[39m\u001B[38;5;28;01mTrue\u001B[39;00m):\n\u001B[1;32m      4\u001B[0m     \u001B[38;5;28mprint\u001B[39m(file)\n",
      "\u001B[0;31mNameError\u001B[0m: name 'glob' is not defined"
     ]
    }
   ],
   "source": [
    "# Recursively find all .py files\n",
    "mols = []\n",
    "for file in glob.glob(\"**/*base*.mol\", recursive=True):\n",
    "    print(file)\n",
    "    mols.append(file)"
   ],
   "metadata": {
    "collapsed": false,
    "ExecuteTime": {
     "end_time": "2024-03-11T11:55:47.207375Z",
     "start_time": "2024-03-11T11:55:46.808831Z"
    }
   },
   "id": "61708eb598ea8aab",
   "execution_count": 3
  }
 ],
 "metadata": {
  "kernelspec": {
   "display_name": "Python 3",
   "language": "python",
   "name": "python3"
  },
  "language_info": {
   "codemirror_mode": {
    "name": "ipython",
    "version": 2
   },
   "file_extension": ".py",
   "mimetype": "text/x-python",
   "name": "python",
   "nbconvert_exporter": "python",
   "pygments_lexer": "ipython2",
   "version": "2.7.6"
  }
 },
 "nbformat": 4,
 "nbformat_minor": 5
}

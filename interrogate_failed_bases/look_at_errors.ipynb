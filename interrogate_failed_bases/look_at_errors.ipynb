{
 "cells": [
  {
   "cell_type": "code",
   "execution_count": 1,
   "id": "initial_id",
   "metadata": {
    "collapsed": true,
    "ExecuteTime": {
     "end_time": "2024-03-11T14:08:21.602603Z",
     "start_time": "2024-03-11T14:08:21.271865Z"
    }
   },
   "outputs": [],
   "source": [
    "import pandas as pd\n",
    "import os"
   ]
  },
  {
   "cell_type": "code",
   "outputs": [
    {
     "data": {
      "text/plain": "      batch                         base  \\\n0    batch0  LXINEYASRREWNB-UHFFFAOYSA-N   \n1    batch0  LXINEYASRREWNB-UHFFFAOYSA-N   \n2    batch0  BHKVBKDDVLQZCR-UHFFFAOYSA-N   \n3    batch0  BHKVBKDDVLQZCR-UHFFFAOYSA-N   \n4    batch0  CEQDLNCRDRYDKS-UHFFFAOYSA-N   \n..      ...                          ...   \n88  batch13  SRDGULMUCFCNKM-UHFFFAOYSA-N   \n89  batch13  JOQRKFCIIQYZLX-UHFFFAOYSA-N   \n90  batch13  JOQRKFCIIQYZLX-UHFFFAOYSA-N   \n91  batch13  PYNBBVRZWAORJG-UHFFFAOYSA-N   \n92  batch13  PYNBBVRZWAORJG-UHFFFAOYSA-N   \n\n                              base_output_dir  minimised error  \n0   LXINEYASRREWNB-UHFFFAOYSA-N-S88V5d-base-A       True   NaN  \n1   LXINEYASRREWNB-UHFFFAOYSA-N-S88V5d-base-B       True   NaN  \n2   BHKVBKDDVLQZCR-UHFFFAOYSA-N-32LB6u-base-A       True   NaN  \n3   BHKVBKDDVLQZCR-UHFFFAOYSA-N-32LB6u-base-B       True   NaN  \n4   CEQDLNCRDRYDKS-UHFFFAOYSA-N-45U3LK-base-A       True   NaN  \n..                                        ...        ...   ...  \n88  SRDGULMUCFCNKM-UHFFFAOYSA-N-4NdXMd-base-B       True   NaN  \n89  JOQRKFCIIQYZLX-UHFFFAOYSA-N-3mjXqv-base-A       True   NaN  \n90  JOQRKFCIIQYZLX-UHFFFAOYSA-N-3mjXqv-base-B       True   NaN  \n91  PYNBBVRZWAORJG-UHFFFAOYSA-N-fT3Po8-base-A       True   NaN  \n92  PYNBBVRZWAORJG-UHFFFAOYSA-N-fT3Po8-base-B       True   NaN  \n\n[93 rows x 5 columns]",
      "text/html": "<div>\n<style scoped>\n    .dataframe tbody tr th:only-of-type {\n        vertical-align: middle;\n    }\n\n    .dataframe tbody tr th {\n        vertical-align: top;\n    }\n\n    .dataframe thead th {\n        text-align: right;\n    }\n</style>\n<table border=\"1\" class=\"dataframe\">\n  <thead>\n    <tr style=\"text-align: right;\">\n      <th></th>\n      <th>batch</th>\n      <th>base</th>\n      <th>base_output_dir</th>\n      <th>minimised</th>\n      <th>error</th>\n    </tr>\n  </thead>\n  <tbody>\n    <tr>\n      <th>0</th>\n      <td>batch0</td>\n      <td>LXINEYASRREWNB-UHFFFAOYSA-N</td>\n      <td>LXINEYASRREWNB-UHFFFAOYSA-N-S88V5d-base-A</td>\n      <td>True</td>\n      <td>NaN</td>\n    </tr>\n    <tr>\n      <th>1</th>\n      <td>batch0</td>\n      <td>LXINEYASRREWNB-UHFFFAOYSA-N</td>\n      <td>LXINEYASRREWNB-UHFFFAOYSA-N-S88V5d-base-B</td>\n      <td>True</td>\n      <td>NaN</td>\n    </tr>\n    <tr>\n      <th>2</th>\n      <td>batch0</td>\n      <td>BHKVBKDDVLQZCR-UHFFFAOYSA-N</td>\n      <td>BHKVBKDDVLQZCR-UHFFFAOYSA-N-32LB6u-base-A</td>\n      <td>True</td>\n      <td>NaN</td>\n    </tr>\n    <tr>\n      <th>3</th>\n      <td>batch0</td>\n      <td>BHKVBKDDVLQZCR-UHFFFAOYSA-N</td>\n      <td>BHKVBKDDVLQZCR-UHFFFAOYSA-N-32LB6u-base-B</td>\n      <td>True</td>\n      <td>NaN</td>\n    </tr>\n    <tr>\n      <th>4</th>\n      <td>batch0</td>\n      <td>CEQDLNCRDRYDKS-UHFFFAOYSA-N</td>\n      <td>CEQDLNCRDRYDKS-UHFFFAOYSA-N-45U3LK-base-A</td>\n      <td>True</td>\n      <td>NaN</td>\n    </tr>\n    <tr>\n      <th>...</th>\n      <td>...</td>\n      <td>...</td>\n      <td>...</td>\n      <td>...</td>\n      <td>...</td>\n    </tr>\n    <tr>\n      <th>88</th>\n      <td>batch13</td>\n      <td>SRDGULMUCFCNKM-UHFFFAOYSA-N</td>\n      <td>SRDGULMUCFCNKM-UHFFFAOYSA-N-4NdXMd-base-B</td>\n      <td>True</td>\n      <td>NaN</td>\n    </tr>\n    <tr>\n      <th>89</th>\n      <td>batch13</td>\n      <td>JOQRKFCIIQYZLX-UHFFFAOYSA-N</td>\n      <td>JOQRKFCIIQYZLX-UHFFFAOYSA-N-3mjXqv-base-A</td>\n      <td>True</td>\n      <td>NaN</td>\n    </tr>\n    <tr>\n      <th>90</th>\n      <td>batch13</td>\n      <td>JOQRKFCIIQYZLX-UHFFFAOYSA-N</td>\n      <td>JOQRKFCIIQYZLX-UHFFFAOYSA-N-3mjXqv-base-B</td>\n      <td>True</td>\n      <td>NaN</td>\n    </tr>\n    <tr>\n      <th>91</th>\n      <td>batch13</td>\n      <td>PYNBBVRZWAORJG-UHFFFAOYSA-N</td>\n      <td>PYNBBVRZWAORJG-UHFFFAOYSA-N-fT3Po8-base-A</td>\n      <td>True</td>\n      <td>NaN</td>\n    </tr>\n    <tr>\n      <th>92</th>\n      <td>batch13</td>\n      <td>PYNBBVRZWAORJG-UHFFFAOYSA-N</td>\n      <td>PYNBBVRZWAORJG-UHFFFAOYSA-N-fT3Po8-base-B</td>\n      <td>True</td>\n      <td>NaN</td>\n    </tr>\n  </tbody>\n</table>\n<p>93 rows × 5 columns</p>\n</div>"
     },
     "execution_count": 2,
     "metadata": {},
     "output_type": "execute_result"
    }
   ],
   "source": [
    "df = pd.read_pickle('bases_df_errors.pkl')\n",
    "df"
   ],
   "metadata": {
    "collapsed": false,
    "ExecuteTime": {
     "end_time": "2024-03-11T14:08:21.610842Z",
     "start_time": "2024-03-11T14:08:21.603605Z"
    }
   },
   "id": "569b83762c77ee09",
   "execution_count": 2
  },
  {
   "cell_type": "code",
   "outputs": [
    {
     "data": {
      "text/plain": "minimised\nTrue     68\nFalse    25\nName: count, dtype: int64"
     },
     "execution_count": 6,
     "metadata": {},
     "output_type": "execute_result"
    }
   ],
   "source": [
    "df['minimised'].value_counts()"
   ],
   "metadata": {
    "collapsed": false,
    "ExecuteTime": {
     "end_time": "2024-03-11T14:23:19.220507Z",
     "start_time": "2024-03-11T14:23:19.215067Z"
    }
   },
   "id": "1ce3818b84cdc23",
   "execution_count": 6
  },
  {
   "cell_type": "code",
   "outputs": [
    {
     "data": {
      "text/plain": "minimised\nTrue     0.731183\nFalse    0.268817\nName: proportion, dtype: float64"
     },
     "execution_count": 3,
     "metadata": {},
     "output_type": "execute_result"
    }
   ],
   "source": [
    "# percentage\n",
    "df['minimised'].value_counts(normalize=True)"
   ],
   "metadata": {
    "collapsed": false,
    "ExecuteTime": {
     "end_time": "2024-03-11T14:08:21.614338Z",
     "start_time": "2024-03-11T14:08:21.611399Z"
    }
   },
   "id": "ac5dc7d119765ee2",
   "execution_count": 3
  },
  {
   "cell_type": "code",
   "outputs": [
    {
     "data": {
      "text/plain": "error\nDistanceError: A71EV2A-x0310A+A71EV2A-x0732A                                                                 6\nDistanceError: A71EV2A-x0528A                                                                                6\nDistanceError: A71EV2A-x0732A+A71EV2A-x0884A                                                                 3\nDistanceError: A71EV2A-x0922A                                                                                2\nPoisonError: None has poison atoms [10, 11, 17, 15, 3, 5, 10, 11]                                            2\nPoisonError: None has poison atoms [0, 1, 2, 2, 1, 3, 2]                                                     1\nPoisonError: None has poison atoms [2, 1, 0, 7, 1, 2]                                                        1\nPoisonError: None has poison atoms [9, 10, 11, 3, 10, 9]                                                     1\nPoisonError: None has poison atoms [5, 4, 3, 5, 4, 3, 4, 3, 2, 3, 10, 4, 3]                                  1\nPoisonError: None has poison atoms [15, 14, 1, 15, 14, 1, 0, 1, 14, 15, 14, 1, 2, 1, 13, 14, 1, 8, 14, 1]    1\nDistanceError: A71EV2A-x0739A+A71EV2A-x0922A                                                                 1\nName: count, dtype: int64"
     },
     "execution_count": 5,
     "metadata": {},
     "output_type": "execute_result"
    }
   ],
   "source": [
    "df['error'].value_counts()"
   ],
   "metadata": {
    "collapsed": false,
    "ExecuteTime": {
     "end_time": "2024-03-11T14:09:02.662368Z",
     "start_time": "2024-03-11T14:09:02.658325Z"
    }
   },
   "id": "ba932279d0899477",
   "execution_count": 5
  }
 ],
 "metadata": {
  "kernelspec": {
   "display_name": "Python 3",
   "language": "python",
   "name": "python3"
  },
  "language_info": {
   "codemirror_mode": {
    "name": "ipython",
    "version": 2
   },
   "file_extension": ".py",
   "mimetype": "text/x-python",
   "name": "python",
   "nbconvert_exporter": "python",
   "pygments_lexer": "ipython2",
   "version": "2.7.6"
  }
 },
 "nbformat": 4,
 "nbformat_minor": 5
}

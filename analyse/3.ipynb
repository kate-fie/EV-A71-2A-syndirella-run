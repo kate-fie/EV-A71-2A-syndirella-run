{
 "cells": [
  {
   "cell_type": "code",
   "execution_count": 6,
   "id": "initial_id",
   "metadata": {
    "collapsed": true,
    "ExecuteTime": {
     "end_time": "2024-04-03T08:43:46.714678Z",
     "start_time": "2024-04-03T08:43:46.479459Z"
    }
   },
   "outputs": [],
   "source": [
    "import pandas as pd\n",
    "from rdkit import Chem\n",
    "from rdkit.Chem import rdinchi"
   ]
  },
  {
   "cell_type": "code",
   "outputs": [
    {
     "data": {
      "text/plain": "                                 smiles  \\\n0     Cn1ncc(NC(=O)CC#N)c1NC(=O)C1CCCO1   \n1     N#CCC(=O)Nc1cccc(NC(=O)C2CCCO2)c1   \n2    Cc1ccc(NC(=O)CC#N)cc1NC(=O)C1CCCO1   \n3     N#CCC(=O)Nc1ccnc(NC(=O)C2CCCO2)c1   \n4    Cc1ccc(NC(=O)C2CCCO2)cc1NC(=O)CC#N   \n..                                  ...   \n135        N#CCC(=O)Nc1ccncc1(NC(=O)CO)   \n136       Cc1cccc(NC(=O)CO)c1NC(=O)CC#N   \n137       N#CCC(=O)Nc1c(NC(=O)CO)cccc1F   \n138     c1cc(NC(=O)CO)c(NC(=O)CC#N)cc1F   \n139     c1cc(NC(=O)CO)c(NC(=O)CC#N)cc1F   \n\n                                             reactants  \\\n0    [('Cn1ncc(NC(=O)OC(C)(C)C)c1N', 'O=C(O)C1CCCO1...   \n1    [('CC(C)(C)OC(=O)Nc1cccc(N)c1', 'O=C(O)C1CCCO1...   \n2    [('CC(C)(C)OC(=O)Nc1cc(N)c(C)cc1', 'O=C(O)C1CC...   \n3    [('Nc1cc(NC(=O)OC(C)(C)C)ccn1', 'O=C(O)C1CCCO1...   \n4    [('CC(C)(C)OC(=O)Nc1cc(N)ccc1C', 'O=C(O)C1CCCO...   \n..                                                 ...   \n135  [('CC(C)(C)OC(=O)Nc1ccncc1(N)', 'O=C(O)CO'), '...   \n136  [('CC(C)(C)OC(=O)Nc1c(C)cccc1(N)', 'O=C(O)CO')...   \n137  [('CC(C)(C)OC(=O)Nc1c(F)cccc1(N)', 'O=C(O)CO')...   \n138  [('CC(C)(C)OC(=O)Nc1cc(F)ccc1(N)', 'O=C(O)CO')...   \n139  [('CC(C)(C)OC(=O)Nc1cc(C)ccc1(N)', 'O=C(O)CO')...   \n\n                                       reaction_names  num_steps  \\\n0    ['Amidation', 'N-Boc_deprotection', 'Amidation']          3   \n1    ['Amidation', 'N-Boc_deprotection', 'Amidation']          3   \n2    ['Amidation', 'N-Boc_deprotection', 'Amidation']          3   \n3    ['Amidation', 'N-Boc_deprotection', 'Amidation']          3   \n4    ['Amidation', 'N-Boc_deprotection', 'Amidation']          3   \n..                                                ...        ...   \n135  ['Amidation', 'N-Boc_deprotection', 'Amidation']          3   \n136  ['Amidation', 'N-Boc_deprotection', 'Amidation']          3   \n137  ['Amidation', 'N-Boc_deprotection', 'Amidation']          3   \n138  ['Amidation', 'N-Boc_deprotection', 'Amidation']          3   \n139  ['Amidation', 'N-Boc_deprotection', 'Amidation']          3   \n\n              compound_set  batch  \\\n0    x0310-x0416-merge-1-1      0   \n1    x0310-x0416-merge-2-1      0   \n2    x0310-x0416-merge-2-2      0   \n3    x0310-x0416-merge-2-3      0   \n4    x0310-x0416-merge-2-4      0   \n..                     ...    ...   \n135  x0310-x0732-merge-3-3     13   \n136  x0310-x0732-merge-3-4     13   \n137  x0310-x0732-merge-3-5     13   \n138  x0310-x0732-merge-3-6     13   \n139  x0310-x0732-merge-3-7     13   \n\n                                                  hits  \n0    A71EV2A-x0310_A_147_A71EV2A-x0501+A+152+1 A71E...  \n1    A71EV2A-x0310_A_147_A71EV2A-x0501+A+152+1 A71E...  \n2    A71EV2A-x0310_A_147_A71EV2A-x0501+A+152+1 A71E...  \n3    A71EV2A-x0310_A_147_A71EV2A-x0501+A+152+1 A71E...  \n4    A71EV2A-x0310_A_147_A71EV2A-x0501+A+152+1 A71E...  \n..                                                 ...  \n135  A71EV2A-x0310_A_147_A71EV2A-x0501+A+152+1 A71E...  \n136  A71EV2A-x0310_A_147_A71EV2A-x0501+A+152+1 A71E...  \n137  A71EV2A-x0310_A_147_A71EV2A-x0501+A+152+1 A71E...  \n138  A71EV2A-x0310_A_147_A71EV2A-x0501+A+152+1 A71E...  \n139  A71EV2A-x0310_A_147_A71EV2A-x0501+A+152+1 A71E...  \n\n[140 rows x 7 columns]",
      "text/html": "<div>\n<style scoped>\n    .dataframe tbody tr th:only-of-type {\n        vertical-align: middle;\n    }\n\n    .dataframe tbody tr th {\n        vertical-align: top;\n    }\n\n    .dataframe thead th {\n        text-align: right;\n    }\n</style>\n<table border=\"1\" class=\"dataframe\">\n  <thead>\n    <tr style=\"text-align: right;\">\n      <th></th>\n      <th>smiles</th>\n      <th>reactants</th>\n      <th>reaction_names</th>\n      <th>num_steps</th>\n      <th>compound_set</th>\n      <th>batch</th>\n      <th>hits</th>\n    </tr>\n  </thead>\n  <tbody>\n    <tr>\n      <th>0</th>\n      <td>Cn1ncc(NC(=O)CC#N)c1NC(=O)C1CCCO1</td>\n      <td>[('Cn1ncc(NC(=O)OC(C)(C)C)c1N', 'O=C(O)C1CCCO1...</td>\n      <td>['Amidation', 'N-Boc_deprotection', 'Amidation']</td>\n      <td>3</td>\n      <td>x0310-x0416-merge-1-1</td>\n      <td>0</td>\n      <td>A71EV2A-x0310_A_147_A71EV2A-x0501+A+152+1 A71E...</td>\n    </tr>\n    <tr>\n      <th>1</th>\n      <td>N#CCC(=O)Nc1cccc(NC(=O)C2CCCO2)c1</td>\n      <td>[('CC(C)(C)OC(=O)Nc1cccc(N)c1', 'O=C(O)C1CCCO1...</td>\n      <td>['Amidation', 'N-Boc_deprotection', 'Amidation']</td>\n      <td>3</td>\n      <td>x0310-x0416-merge-2-1</td>\n      <td>0</td>\n      <td>A71EV2A-x0310_A_147_A71EV2A-x0501+A+152+1 A71E...</td>\n    </tr>\n    <tr>\n      <th>2</th>\n      <td>Cc1ccc(NC(=O)CC#N)cc1NC(=O)C1CCCO1</td>\n      <td>[('CC(C)(C)OC(=O)Nc1cc(N)c(C)cc1', 'O=C(O)C1CC...</td>\n      <td>['Amidation', 'N-Boc_deprotection', 'Amidation']</td>\n      <td>3</td>\n      <td>x0310-x0416-merge-2-2</td>\n      <td>0</td>\n      <td>A71EV2A-x0310_A_147_A71EV2A-x0501+A+152+1 A71E...</td>\n    </tr>\n    <tr>\n      <th>3</th>\n      <td>N#CCC(=O)Nc1ccnc(NC(=O)C2CCCO2)c1</td>\n      <td>[('Nc1cc(NC(=O)OC(C)(C)C)ccn1', 'O=C(O)C1CCCO1...</td>\n      <td>['Amidation', 'N-Boc_deprotection', 'Amidation']</td>\n      <td>3</td>\n      <td>x0310-x0416-merge-2-3</td>\n      <td>0</td>\n      <td>A71EV2A-x0310_A_147_A71EV2A-x0501+A+152+1 A71E...</td>\n    </tr>\n    <tr>\n      <th>4</th>\n      <td>Cc1ccc(NC(=O)C2CCCO2)cc1NC(=O)CC#N</td>\n      <td>[('CC(C)(C)OC(=O)Nc1cc(N)ccc1C', 'O=C(O)C1CCCO...</td>\n      <td>['Amidation', 'N-Boc_deprotection', 'Amidation']</td>\n      <td>3</td>\n      <td>x0310-x0416-merge-2-4</td>\n      <td>0</td>\n      <td>A71EV2A-x0310_A_147_A71EV2A-x0501+A+152+1 A71E...</td>\n    </tr>\n    <tr>\n      <th>...</th>\n      <td>...</td>\n      <td>...</td>\n      <td>...</td>\n      <td>...</td>\n      <td>...</td>\n      <td>...</td>\n      <td>...</td>\n    </tr>\n    <tr>\n      <th>135</th>\n      <td>N#CCC(=O)Nc1ccncc1(NC(=O)CO)</td>\n      <td>[('CC(C)(C)OC(=O)Nc1ccncc1(N)', 'O=C(O)CO'), '...</td>\n      <td>['Amidation', 'N-Boc_deprotection', 'Amidation']</td>\n      <td>3</td>\n      <td>x0310-x0732-merge-3-3</td>\n      <td>13</td>\n      <td>A71EV2A-x0310_A_147_A71EV2A-x0501+A+152+1 A71E...</td>\n    </tr>\n    <tr>\n      <th>136</th>\n      <td>Cc1cccc(NC(=O)CO)c1NC(=O)CC#N</td>\n      <td>[('CC(C)(C)OC(=O)Nc1c(C)cccc1(N)', 'O=C(O)CO')...</td>\n      <td>['Amidation', 'N-Boc_deprotection', 'Amidation']</td>\n      <td>3</td>\n      <td>x0310-x0732-merge-3-4</td>\n      <td>13</td>\n      <td>A71EV2A-x0310_A_147_A71EV2A-x0501+A+152+1 A71E...</td>\n    </tr>\n    <tr>\n      <th>137</th>\n      <td>N#CCC(=O)Nc1c(NC(=O)CO)cccc1F</td>\n      <td>[('CC(C)(C)OC(=O)Nc1c(F)cccc1(N)', 'O=C(O)CO')...</td>\n      <td>['Amidation', 'N-Boc_deprotection', 'Amidation']</td>\n      <td>3</td>\n      <td>x0310-x0732-merge-3-5</td>\n      <td>13</td>\n      <td>A71EV2A-x0310_A_147_A71EV2A-x0501+A+152+1 A71E...</td>\n    </tr>\n    <tr>\n      <th>138</th>\n      <td>c1cc(NC(=O)CO)c(NC(=O)CC#N)cc1F</td>\n      <td>[('CC(C)(C)OC(=O)Nc1cc(F)ccc1(N)', 'O=C(O)CO')...</td>\n      <td>['Amidation', 'N-Boc_deprotection', 'Amidation']</td>\n      <td>3</td>\n      <td>x0310-x0732-merge-3-6</td>\n      <td>13</td>\n      <td>A71EV2A-x0310_A_147_A71EV2A-x0501+A+152+1 A71E...</td>\n    </tr>\n    <tr>\n      <th>139</th>\n      <td>c1cc(NC(=O)CO)c(NC(=O)CC#N)cc1F</td>\n      <td>[('CC(C)(C)OC(=O)Nc1cc(C)ccc1(N)', 'O=C(O)CO')...</td>\n      <td>['Amidation', 'N-Boc_deprotection', 'Amidation']</td>\n      <td>3</td>\n      <td>x0310-x0732-merge-3-7</td>\n      <td>13</td>\n      <td>A71EV2A-x0310_A_147_A71EV2A-x0501+A+152+1 A71E...</td>\n    </tr>\n  </tbody>\n</table>\n<p>140 rows × 7 columns</p>\n</div>"
     },
     "execution_count": 7,
     "metadata": {},
     "output_type": "execute_result"
    }
   ],
   "source": [
    "df = pd.read_csv('/Users/kate_fieseler/PycharmProjects/EV-A71-2A-syndirella-run/base_compounds/syndirella_input_MASTER_run3.csv',\n",
    "                 index_col=0)\n",
    "df"
   ],
   "metadata": {
    "collapsed": false,
    "ExecuteTime": {
     "end_time": "2024-04-03T08:43:46.722151Z",
     "start_time": "2024-04-03T08:43:46.715749Z"
    }
   },
   "id": "b25e690183f2289",
   "execution_count": 7
  },
  {
   "cell_type": "code",
   "outputs": [
    {
     "data": {
      "text/plain": "                                 smiles  \\\n0     Cn1ncc(NC(=O)CC#N)c1NC(=O)C1CCCO1   \n1     N#CCC(=O)Nc1cccc(NC(=O)C2CCCO2)c1   \n2    Cc1ccc(NC(=O)CC#N)cc1NC(=O)C1CCCO1   \n3     N#CCC(=O)Nc1ccnc(NC(=O)C2CCCO2)c1   \n4    Cc1ccc(NC(=O)C2CCCO2)cc1NC(=O)CC#N   \n..                                  ...   \n135        N#CCC(=O)Nc1ccncc1(NC(=O)CO)   \n136       Cc1cccc(NC(=O)CO)c1NC(=O)CC#N   \n137       N#CCC(=O)Nc1c(NC(=O)CO)cccc1F   \n138     c1cc(NC(=O)CO)c(NC(=O)CC#N)cc1F   \n139     c1cc(NC(=O)CO)c(NC(=O)CC#N)cc1F   \n\n                                             reactants  \\\n0    [('Cn1ncc(NC(=O)OC(C)(C)C)c1N', 'O=C(O)C1CCCO1...   \n1    [('CC(C)(C)OC(=O)Nc1cccc(N)c1', 'O=C(O)C1CCCO1...   \n2    [('CC(C)(C)OC(=O)Nc1cc(N)c(C)cc1', 'O=C(O)C1CC...   \n3    [('Nc1cc(NC(=O)OC(C)(C)C)ccn1', 'O=C(O)C1CCCO1...   \n4    [('CC(C)(C)OC(=O)Nc1cc(N)ccc1C', 'O=C(O)C1CCCO...   \n..                                                 ...   \n135  [('CC(C)(C)OC(=O)Nc1ccncc1(N)', 'O=C(O)CO'), '...   \n136  [('CC(C)(C)OC(=O)Nc1c(C)cccc1(N)', 'O=C(O)CO')...   \n137  [('CC(C)(C)OC(=O)Nc1c(F)cccc1(N)', 'O=C(O)CO')...   \n138  [('CC(C)(C)OC(=O)Nc1cc(F)ccc1(N)', 'O=C(O)CO')...   \n139  [('CC(C)(C)OC(=O)Nc1cc(C)ccc1(N)', 'O=C(O)CO')...   \n\n                                       reaction_names  num_steps  \\\n0    ['Amidation', 'N-Boc_deprotection', 'Amidation']          3   \n1    ['Amidation', 'N-Boc_deprotection', 'Amidation']          3   \n2    ['Amidation', 'N-Boc_deprotection', 'Amidation']          3   \n3    ['Amidation', 'N-Boc_deprotection', 'Amidation']          3   \n4    ['Amidation', 'N-Boc_deprotection', 'Amidation']          3   \n..                                                ...        ...   \n135  ['Amidation', 'N-Boc_deprotection', 'Amidation']          3   \n136  ['Amidation', 'N-Boc_deprotection', 'Amidation']          3   \n137  ['Amidation', 'N-Boc_deprotection', 'Amidation']          3   \n138  ['Amidation', 'N-Boc_deprotection', 'Amidation']          3   \n139  ['Amidation', 'N-Boc_deprotection', 'Amidation']          3   \n\n              compound_set  batch  \\\n0    x0310-x0416-merge-1-1      0   \n1    x0310-x0416-merge-2-1      0   \n2    x0310-x0416-merge-2-2      0   \n3    x0310-x0416-merge-2-3      0   \n4    x0310-x0416-merge-2-4      0   \n..                     ...    ...   \n135  x0310-x0732-merge-3-3     13   \n136  x0310-x0732-merge-3-4     13   \n137  x0310-x0732-merge-3-5     13   \n138  x0310-x0732-merge-3-6     13   \n139  x0310-x0732-merge-3-7     13   \n\n                                                  hits  \\\n0    A71EV2A-x0310_A_147_A71EV2A-x0501+A+152+1 A71E...   \n1    A71EV2A-x0310_A_147_A71EV2A-x0501+A+152+1 A71E...   \n2    A71EV2A-x0310_A_147_A71EV2A-x0501+A+152+1 A71E...   \n3    A71EV2A-x0310_A_147_A71EV2A-x0501+A+152+1 A71E...   \n4    A71EV2A-x0310_A_147_A71EV2A-x0501+A+152+1 A71E...   \n..                                                 ...   \n135  A71EV2A-x0310_A_147_A71EV2A-x0501+A+152+1 A71E...   \n136  A71EV2A-x0310_A_147_A71EV2A-x0501+A+152+1 A71E...   \n137  A71EV2A-x0310_A_147_A71EV2A-x0501+A+152+1 A71E...   \n138  A71EV2A-x0310_A_147_A71EV2A-x0501+A+152+1 A71E...   \n139  A71EV2A-x0310_A_147_A71EV2A-x0501+A+152+1 A71E...   \n\n                       inchi_key  \n0    LXINEYASRREWNB-UHFFFAOYSA-N  \n1    BHKVBKDDVLQZCR-UHFFFAOYSA-N  \n2    CEQDLNCRDRYDKS-UHFFFAOYSA-N  \n3    GHOYNZDJCPMSBM-UHFFFAOYSA-N  \n4    BCPKNOZHZDDVQN-UHFFFAOYSA-N  \n..                           ...  \n135  GCAQUNSOGCAEFO-UHFFFAOYSA-N  \n136  XBMUEFOOXYBEDQ-UHFFFAOYSA-N  \n137  YREOFFMAGZFGRV-UHFFFAOYSA-N  \n138  VXLLSVROUGTXAB-UHFFFAOYSA-N  \n139  VXLLSVROUGTXAB-UHFFFAOYSA-N  \n\n[140 rows x 8 columns]",
      "text/html": "<div>\n<style scoped>\n    .dataframe tbody tr th:only-of-type {\n        vertical-align: middle;\n    }\n\n    .dataframe tbody tr th {\n        vertical-align: top;\n    }\n\n    .dataframe thead th {\n        text-align: right;\n    }\n</style>\n<table border=\"1\" class=\"dataframe\">\n  <thead>\n    <tr style=\"text-align: right;\">\n      <th></th>\n      <th>smiles</th>\n      <th>reactants</th>\n      <th>reaction_names</th>\n      <th>num_steps</th>\n      <th>compound_set</th>\n      <th>batch</th>\n      <th>hits</th>\n      <th>inchi_key</th>\n    </tr>\n  </thead>\n  <tbody>\n    <tr>\n      <th>0</th>\n      <td>Cn1ncc(NC(=O)CC#N)c1NC(=O)C1CCCO1</td>\n      <td>[('Cn1ncc(NC(=O)OC(C)(C)C)c1N', 'O=C(O)C1CCCO1...</td>\n      <td>['Amidation', 'N-Boc_deprotection', 'Amidation']</td>\n      <td>3</td>\n      <td>x0310-x0416-merge-1-1</td>\n      <td>0</td>\n      <td>A71EV2A-x0310_A_147_A71EV2A-x0501+A+152+1 A71E...</td>\n      <td>LXINEYASRREWNB-UHFFFAOYSA-N</td>\n    </tr>\n    <tr>\n      <th>1</th>\n      <td>N#CCC(=O)Nc1cccc(NC(=O)C2CCCO2)c1</td>\n      <td>[('CC(C)(C)OC(=O)Nc1cccc(N)c1', 'O=C(O)C1CCCO1...</td>\n      <td>['Amidation', 'N-Boc_deprotection', 'Amidation']</td>\n      <td>3</td>\n      <td>x0310-x0416-merge-2-1</td>\n      <td>0</td>\n      <td>A71EV2A-x0310_A_147_A71EV2A-x0501+A+152+1 A71E...</td>\n      <td>BHKVBKDDVLQZCR-UHFFFAOYSA-N</td>\n    </tr>\n    <tr>\n      <th>2</th>\n      <td>Cc1ccc(NC(=O)CC#N)cc1NC(=O)C1CCCO1</td>\n      <td>[('CC(C)(C)OC(=O)Nc1cc(N)c(C)cc1', 'O=C(O)C1CC...</td>\n      <td>['Amidation', 'N-Boc_deprotection', 'Amidation']</td>\n      <td>3</td>\n      <td>x0310-x0416-merge-2-2</td>\n      <td>0</td>\n      <td>A71EV2A-x0310_A_147_A71EV2A-x0501+A+152+1 A71E...</td>\n      <td>CEQDLNCRDRYDKS-UHFFFAOYSA-N</td>\n    </tr>\n    <tr>\n      <th>3</th>\n      <td>N#CCC(=O)Nc1ccnc(NC(=O)C2CCCO2)c1</td>\n      <td>[('Nc1cc(NC(=O)OC(C)(C)C)ccn1', 'O=C(O)C1CCCO1...</td>\n      <td>['Amidation', 'N-Boc_deprotection', 'Amidation']</td>\n      <td>3</td>\n      <td>x0310-x0416-merge-2-3</td>\n      <td>0</td>\n      <td>A71EV2A-x0310_A_147_A71EV2A-x0501+A+152+1 A71E...</td>\n      <td>GHOYNZDJCPMSBM-UHFFFAOYSA-N</td>\n    </tr>\n    <tr>\n      <th>4</th>\n      <td>Cc1ccc(NC(=O)C2CCCO2)cc1NC(=O)CC#N</td>\n      <td>[('CC(C)(C)OC(=O)Nc1cc(N)ccc1C', 'O=C(O)C1CCCO...</td>\n      <td>['Amidation', 'N-Boc_deprotection', 'Amidation']</td>\n      <td>3</td>\n      <td>x0310-x0416-merge-2-4</td>\n      <td>0</td>\n      <td>A71EV2A-x0310_A_147_A71EV2A-x0501+A+152+1 A71E...</td>\n      <td>BCPKNOZHZDDVQN-UHFFFAOYSA-N</td>\n    </tr>\n    <tr>\n      <th>...</th>\n      <td>...</td>\n      <td>...</td>\n      <td>...</td>\n      <td>...</td>\n      <td>...</td>\n      <td>...</td>\n      <td>...</td>\n      <td>...</td>\n    </tr>\n    <tr>\n      <th>135</th>\n      <td>N#CCC(=O)Nc1ccncc1(NC(=O)CO)</td>\n      <td>[('CC(C)(C)OC(=O)Nc1ccncc1(N)', 'O=C(O)CO'), '...</td>\n      <td>['Amidation', 'N-Boc_deprotection', 'Amidation']</td>\n      <td>3</td>\n      <td>x0310-x0732-merge-3-3</td>\n      <td>13</td>\n      <td>A71EV2A-x0310_A_147_A71EV2A-x0501+A+152+1 A71E...</td>\n      <td>GCAQUNSOGCAEFO-UHFFFAOYSA-N</td>\n    </tr>\n    <tr>\n      <th>136</th>\n      <td>Cc1cccc(NC(=O)CO)c1NC(=O)CC#N</td>\n      <td>[('CC(C)(C)OC(=O)Nc1c(C)cccc1(N)', 'O=C(O)CO')...</td>\n      <td>['Amidation', 'N-Boc_deprotection', 'Amidation']</td>\n      <td>3</td>\n      <td>x0310-x0732-merge-3-4</td>\n      <td>13</td>\n      <td>A71EV2A-x0310_A_147_A71EV2A-x0501+A+152+1 A71E...</td>\n      <td>XBMUEFOOXYBEDQ-UHFFFAOYSA-N</td>\n    </tr>\n    <tr>\n      <th>137</th>\n      <td>N#CCC(=O)Nc1c(NC(=O)CO)cccc1F</td>\n      <td>[('CC(C)(C)OC(=O)Nc1c(F)cccc1(N)', 'O=C(O)CO')...</td>\n      <td>['Amidation', 'N-Boc_deprotection', 'Amidation']</td>\n      <td>3</td>\n      <td>x0310-x0732-merge-3-5</td>\n      <td>13</td>\n      <td>A71EV2A-x0310_A_147_A71EV2A-x0501+A+152+1 A71E...</td>\n      <td>YREOFFMAGZFGRV-UHFFFAOYSA-N</td>\n    </tr>\n    <tr>\n      <th>138</th>\n      <td>c1cc(NC(=O)CO)c(NC(=O)CC#N)cc1F</td>\n      <td>[('CC(C)(C)OC(=O)Nc1cc(F)ccc1(N)', 'O=C(O)CO')...</td>\n      <td>['Amidation', 'N-Boc_deprotection', 'Amidation']</td>\n      <td>3</td>\n      <td>x0310-x0732-merge-3-6</td>\n      <td>13</td>\n      <td>A71EV2A-x0310_A_147_A71EV2A-x0501+A+152+1 A71E...</td>\n      <td>VXLLSVROUGTXAB-UHFFFAOYSA-N</td>\n    </tr>\n    <tr>\n      <th>139</th>\n      <td>c1cc(NC(=O)CO)c(NC(=O)CC#N)cc1F</td>\n      <td>[('CC(C)(C)OC(=O)Nc1cc(C)ccc1(N)', 'O=C(O)CO')...</td>\n      <td>['Amidation', 'N-Boc_deprotection', 'Amidation']</td>\n      <td>3</td>\n      <td>x0310-x0732-merge-3-7</td>\n      <td>13</td>\n      <td>A71EV2A-x0310_A_147_A71EV2A-x0501+A+152+1 A71E...</td>\n      <td>VXLLSVROUGTXAB-UHFFFAOYSA-N</td>\n    </tr>\n  </tbody>\n</table>\n<p>140 rows × 8 columns</p>\n</div>"
     },
     "execution_count": 8,
     "metadata": {},
     "output_type": "execute_result"
    }
   ],
   "source": [
    "# generate the inchi keys\n",
    "inchi_keys = [rdinchi.InchiToInchiKey(rdinchi.MolToInchi(Chem.MolFromSmiles(smiles))[0]) for smiles in df['smiles']]\n",
    "df['inchi_key'] = inchi_keys\n",
    "df"
   ],
   "metadata": {
    "collapsed": false,
    "ExecuteTime": {
     "end_time": "2024-04-03T08:43:46.753683Z",
     "start_time": "2024-04-03T08:43:46.722892Z"
    }
   },
   "id": "644248268d378102",
   "execution_count": 8
  },
  {
   "cell_type": "code",
   "outputs": [],
   "source": [
    "# save\n",
    "df.to_csv('/Users/kate_fieseler/PycharmProjects/EV-A71-2A-syndirella-run/base_compounds/syndirella_input_MASTER_FINAL.csv')"
   ],
   "metadata": {
    "collapsed": false,
    "ExecuteTime": {
     "end_time": "2024-04-03T08:44:23.023138Z",
     "start_time": "2024-04-03T08:44:23.017028Z"
    }
   },
   "id": "3aa1c277bf5edc12",
   "execution_count": 9
  },
  {
   "cell_type": "code",
   "outputs": [],
   "source": [],
   "metadata": {
    "collapsed": false
   },
   "id": "14390c7139ecdb63"
  }
 ],
 "metadata": {
  "kernelspec": {
   "display_name": "Python 3",
   "language": "python",
   "name": "python3"
  },
  "language_info": {
   "codemirror_mode": {
    "name": "ipython",
    "version": 2
   },
   "file_extension": ".py",
   "mimetype": "text/x-python",
   "name": "python",
   "nbconvert_exporter": "python",
   "pygments_lexer": "ipython2",
   "version": "2.7.6"
  }
 },
 "nbformat": 4,
 "nbformat_minor": 5
}

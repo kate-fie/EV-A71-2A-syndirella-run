{
 "cells": [
  {
   "cell_type": "code",
   "execution_count": 21,
   "id": "initial_id",
   "metadata": {
    "collapsed": true,
    "ExecuteTime": {
     "end_time": "2024-04-02T10:57:58.842908Z",
     "start_time": "2024-04-02T10:57:58.617724Z"
    }
   },
   "outputs": [],
   "source": [
    "import pandas as pd\n",
    "from datetime import datetime\n",
    "from rdkit import Chem"
   ]
  },
  {
   "cell_type": "code",
   "outputs": [
    {
     "name": "stdout",
     "output_type": "stream",
     "text": [
      "2024-04-02 10:22:02.222752\n"
     ]
    }
   ],
   "source": [
    "print(datetime.now())"
   ],
   "metadata": {
    "collapsed": false,
    "ExecuteTime": {
     "end_time": "2024-04-02T09:22:02.224374Z",
     "start_time": "2024-04-02T09:22:02.222020Z"
    }
   },
   "id": "280904dd0ec3be9",
   "execution_count": 16
  },
  {
   "cell_type": "markdown",
   "source": [
    "## Number of base compounds input to pipeline"
   ],
   "metadata": {
    "collapsed": false
   },
   "id": "6c834c3185f58998"
  },
  {
   "cell_type": "code",
   "outputs": [],
   "source": [
    "df1 = pd.read_pickle('/Users/kate_fieseler/PycharmProjects/EV-A71-2A-syndirella-run/base_compounds/syndirella_input_MASTER_run1.pkl')\n",
    "df2 = pd.read_pickle('/Users/kate_fieseler/PycharmProjects/EV-A71-2A-syndirella-run/base_compounds/syndirella_input_MASTER_run2.pkl')\n",
    "df3 = pd.read_pickle('/Users/kate_fieseler/PycharmProjects/EV-A71-2A-syndirella-run/base_compounds/syndirella_input_MASTER_run3.pkl')"
   ],
   "metadata": {
    "collapsed": false,
    "ExecuteTime": {
     "end_time": "2024-04-02T08:58:38.079514Z",
     "start_time": "2024-04-02T08:58:38.065184Z"
    }
   },
   "id": "5cdf0055be1656cd",
   "execution_count": 7
  },
  {
   "cell_type": "code",
   "outputs": [
    {
     "data": {
      "text/plain": "133"
     },
     "execution_count": 8,
     "metadata": {},
     "output_type": "execute_result"
    }
   ],
   "source": [
    "len(df1)"
   ],
   "metadata": {
    "collapsed": false,
    "ExecuteTime": {
     "end_time": "2024-04-02T08:58:38.301086Z",
     "start_time": "2024-04-02T08:58:38.298291Z"
    }
   },
   "id": "6dcefeda8adb7231",
   "execution_count": 8
  },
  {
   "cell_type": "code",
   "outputs": [
    {
     "data": {
      "text/plain": "140"
     },
     "execution_count": 9,
     "metadata": {},
     "output_type": "execute_result"
    }
   ],
   "source": [
    "len(df2)"
   ],
   "metadata": {
    "collapsed": false,
    "ExecuteTime": {
     "end_time": "2024-04-02T08:58:38.555405Z",
     "start_time": "2024-04-02T08:58:38.552947Z"
    }
   },
   "id": "b648e92d0ef6c28d",
   "execution_count": 9
  },
  {
   "cell_type": "code",
   "outputs": [
    {
     "data": {
      "text/plain": "140"
     },
     "execution_count": 10,
     "metadata": {},
     "output_type": "execute_result"
    }
   ],
   "source": [
    "len(df3)"
   ],
   "metadata": {
    "collapsed": false,
    "ExecuteTime": {
     "end_time": "2024-04-02T08:58:38.824551Z",
     "start_time": "2024-04-02T08:58:38.822128Z"
    }
   },
   "id": "5b11ce413c8f8d2f",
   "execution_count": 10
  },
  {
   "cell_type": "code",
   "outputs": [
    {
     "name": "stdout",
     "output_type": "stream",
     "text": [
      "Total number of unqiue base compounds + routes + fragments input into pipeline:  140\n"
     ]
    }
   ],
   "source": [
    "print('Total number of unqiue base compounds + routes + fragments input into pipeline: ', len(df3))"
   ],
   "metadata": {
    "collapsed": false,
    "ExecuteTime": {
     "end_time": "2024-04-02T10:56:11.319348Z",
     "start_time": "2024-04-02T10:56:11.314724Z"
    }
   },
   "id": "8359dc642b6e30b6",
   "execution_count": 20
  },
  {
   "cell_type": "code",
   "outputs": [
    {
     "data": {
      "text/plain": "121"
     },
     "execution_count": 24,
     "metadata": {},
     "output_type": "execute_result"
    }
   ],
   "source": [
    "# get number of unique base compound smiles\n",
    "def unique_inchi_keys(smiles_list):\n",
    "    inchi_keys = set()  # Using a set to store unique InChI keys\n",
    "\n",
    "    for smiles in smiles_list:\n",
    "        molecule = Chem.MolFromSmiles(smiles)\n",
    "        if molecule is not None:  # Check if the molecule could be parsed\n",
    "            inchi_key = Chem.inchi.MolToInchiKey(molecule)\n",
    "            inchi_keys.add(inchi_key)\n",
    "\n",
    "    return len(inchi_keys), inchi_keys\n",
    "unique_count, keys = unique_inchi_keys(df3['smiles'])\n",
    "unique_count"
   ],
   "metadata": {
    "collapsed": false,
    "ExecuteTime": {
     "end_time": "2024-04-02T10:58:32.610693Z",
     "start_time": "2024-04-02T10:58:32.581519Z"
    }
   },
   "id": "28f7b05ba044eec5",
   "execution_count": 24
  },
  {
   "cell_type": "code",
   "outputs": [
    {
     "name": "stdout",
     "output_type": "stream",
     "text": [
      "Total number of unique base compounds input into pipeline:  121\n"
     ]
    }
   ],
   "source": [
    "print('Total number of unique base compounds input into pipeline: ', unique_count)"
   ],
   "metadata": {
    "collapsed": false,
    "ExecuteTime": {
     "end_time": "2024-04-02T11:51:05.825832Z",
     "start_time": "2024-04-02T11:51:05.817794Z"
    }
   },
   "id": "dd415f1cfda84f14",
   "execution_count": 25
  },
  {
   "cell_type": "markdown",
   "source": [
    "## Number of base compounds that were successfully processed by pipeline"
   ],
   "metadata": {
    "collapsed": false
   },
   "id": "7e0bd6c78b3c928b"
  },
  {
   "cell_type": "code",
   "outputs": [],
   "source": [
    "# condor_interactive\n",
    "# cd A71EV2A_run3\n",
    "# find . -mindepth 3 -maxdepth 3 -type d -name 'base-check' | wc -l"
   ],
   "metadata": {
    "collapsed": false,
    "ExecuteTime": {
     "end_time": "2024-04-02T08:59:28.889423Z",
     "start_time": "2024-04-02T08:59:28.887660Z"
    }
   },
   "id": "6c9a9c82cac86da1",
   "execution_count": 12
  },
  {
   "cell_type": "code",
   "outputs": [
    {
     "name": "stdout",
     "output_type": "stream",
     "text": [
      "Total number of base compounds that were successfully processed by pipeline:  123\n"
     ]
    }
   ],
   "source": [
    "print('Total number of base compounds that were successfully processed by pipeline:  123')"
   ],
   "metadata": {
    "collapsed": false,
    "ExecuteTime": {
     "end_time": "2024-04-02T09:20:09.368795Z",
     "start_time": "2024-04-02T09:20:09.358774Z"
    }
   },
   "id": "b0b05d7cf11963d8",
   "execution_count": 13
  },
  {
   "cell_type": "markdown",
   "source": [
    "## Number of base compounds that passed minimisation"
   ],
   "metadata": {
    "collapsed": false
   },
   "id": "ee136c8bb6ea27ec"
  },
  {
   "cell_type": "code",
   "outputs": [],
   "source": [
    "# condor_interactive\n",
    "# cd A71EV2A_run3\n",
    "# find . -mindepth 2 -maxdepth 2 -type d -name '*N' | wc -l"
   ],
   "metadata": {
    "collapsed": false,
    "ExecuteTime": {
     "end_time": "2024-04-02T09:26:31.358930Z",
     "start_time": "2024-04-02T09:26:31.355484Z"
    }
   },
   "id": "cf4ef7fe0d0f17a9",
   "execution_count": 17
  },
  {
   "cell_type": "code",
   "outputs": [
    {
     "name": "stdout",
     "output_type": "stream",
     "text": [
      "Total number of base compounds that passed minimisation:  90\n"
     ]
    }
   ],
   "source": [
    "print('Total number of base compounds that passed minimisation:  90')"
   ],
   "metadata": {
    "collapsed": false,
    "ExecuteTime": {
     "end_time": "2024-04-02T09:26:37.006619Z",
     "start_time": "2024-04-02T09:26:37.004418Z"
    }
   },
   "id": "be63c8b79a256e87",
   "execution_count": 18
  },
  {
   "cell_type": "markdown",
   "source": [
    "## How many base compounds have a to_hippo.pkl file\n",
    "\n",
    "On inspection, there are sometimes multiple to_hippo.pkl files for a single base compound. This is because the pipeline was run multiple times for that base compound possibly since there is no alternate route to the base compounds routes if I remember correctly."
   ],
   "metadata": {
    "collapsed": false
   },
   "id": "6aaabca521635c62"
  },
  {
   "cell_type": "code",
   "outputs": [],
   "source": [
    "# condor_interactive\n",
    "# cd A71EV2A_run3\n",
    "# find . -mindepth 3 -maxdepth 3 -type f -name '*to_hippo.pkl.gz' | wc -l"
   ],
   "metadata": {
    "collapsed": false
   },
   "id": "8d24642a3a96a59e"
  },
  {
   "cell_type": "code",
   "outputs": [
    {
     "name": "stdout",
     "output_type": "stream",
     "text": [
      "Total number of base compounds that have a to_hippo.pkl.gz file:  83\n"
     ]
    }
   ],
   "source": [
    "print('Total number of base compounds that have a to_hippo.pkl.gz file:  83')"
   ],
   "metadata": {
    "collapsed": false,
    "ExecuteTime": {
     "end_time": "2024-04-02T10:50:05.280144Z",
     "start_time": "2024-04-02T10:50:05.274750Z"
    }
   },
   "id": "3004dc4b79b78151",
   "execution_count": 19
  },
  {
   "cell_type": "markdown",
   "source": [
    "## Which base compounds that have output, do not have a to_hippo.pkl file?"
   ],
   "metadata": {
    "collapsed": false
   },
   "id": "83dd1d6e193c9dc3"
  },
  {
   "cell_type": "code",
   "outputs": [],
   "source": [
    "# 7 don't"
   ],
   "metadata": {
    "collapsed": false
   },
   "id": "8b7fcc992894cc90"
  }
 ],
 "metadata": {
  "kernelspec": {
   "display_name": "Python 3",
   "language": "python",
   "name": "python3"
  },
  "language_info": {
   "codemirror_mode": {
    "name": "ipython",
    "version": 2
   },
   "file_extension": ".py",
   "mimetype": "text/x-python",
   "name": "python",
   "nbconvert_exporter": "python",
   "pygments_lexer": "ipython2",
   "version": "2.7.6"
  }
 },
 "nbformat": 4,
 "nbformat_minor": 5
}

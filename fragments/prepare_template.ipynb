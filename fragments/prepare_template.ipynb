{
 "cells": [
  {
   "cell_type": "code",
   "id": "initial_id",
   "metadata": {
    "collapsed": true,
    "ExecuteTime": {
     "end_time": "2024-04-07T11:26:44.760059Z",
     "start_time": "2024-04-07T11:26:40.654654Z"
    }
   },
   "source": [
    "from pathlib import Path\n",
    "import pyrosetta\n",
    "import pyrosetta_help as ph\n",
    "from types import ModuleType\n",
    "from IPython.display import display, HTML\n",
    "\n",
    "from collections import Counter\n",
    "prc: ModuleType = pyrosetta.rosetta.core\n",
    "prp: ModuleType = pyrosetta.rosetta.protocols\n",
    "prcc: ModuleType = pyrosetta.rosetta.core.conformation\n",
    "pr_scoring: ModuleType = pyrosetta.rosetta.core.scoring\n",
    "\n",
    "\n",
    "\n",
    "ignore_unrecognized_res=False\n",
    "load_PDB_components=False\n",
    "\n",
    "logger = ph.configure_logger()\n",
    "pyrosetta.distributed.maybe_init(extra_options=ph.make_option_string(no_optH=False,\n",
    "                                                                     ex1=None,\n",
    "                                                                     ex2=None,\n",
    "                                                                     # mute='all',\n",
    "                                                                     ignore_unrecognized_res=ignore_unrecognized_res,\n",
    "                                                                     load_PDB_components=load_PDB_components,\n",
    "                                                                     ignore_waters=True)\n",
    "                                 )\n",
    "pyrosetta.rosetta.basic.options.set_boolean_option('run:ignore_zero_occupancy', False)\n",
    "pyrosetta.rosetta.basic.options.set_boolean_option('in:auto_setup_metals', True)"
   ],
   "outputs": [
    {
     "data": {
      "text/plain": [],
      "application/vnd.jupyter.widget-view+json": {
       "version_major": 2,
       "version_minor": 0,
       "model_id": "a2b6c0dd94fb4e618e376afc6ff2df49"
      }
     },
     "metadata": {},
     "output_type": "display_data"
    }
   ],
   "execution_count": 1
  },
  {
   "metadata": {
    "ExecuteTime": {
     "end_time": "2024-04-07T11:26:46.643013Z",
     "start_time": "2024-04-07T11:26:44.761144Z"
    }
   },
   "cell_type": "code",
   "source": "pose = ph.parameterized_pose_from_file(pdb_filename='/Users/kate_fieseler/PycharmProjects/EV-A71-2A-syndirella-run/fragments/A71EV2A/aligned_files/Ax0310a/Ax0310a.pdb', wanted_ligands={'LIG': 'Cc1nn(C)c(C)c1NC(=O)CC#N'})",
   "id": "f311aa8f4f6d6eeb",
   "outputs": [],
   "execution_count": 2
  },
  {
   "metadata": {},
   "cell_type": "markdown",
   "source": "# RELAX",
   "id": "a506c319a9da8bc"
  },
  {
   "metadata": {
    "ExecuteTime": {
     "end_time": "2024-04-07T11:37:26.491500Z",
     "start_time": "2024-04-07T11:26:46.643760Z"
    }
   },
   "cell_type": "code",
   "source": [
    "def relax(original: pyrosetta.Pose,\n",
    "          constraint_weight: float=5,\n",
    "          cycles: int=15,\n",
    "          relax_to_start_coords:bool=True) -> pyrosetta.Pose:\n",
    "    pose: pyrosetta.Pose = original.clone()\n",
    "    # configure constraints\n",
    "    scorefxn: pr_scoring.ScoreFunction = pyrosetta.get_fa_scorefxn()\n",
    "    scorefxn.set_weight(pr_scoring.ScoreType.coordinate_constraint, constraint_weight)\n",
    "    scorefxn.set_weight(pr_scoring.ScoreType.angle_constraint, constraint_weight)\n",
    "    scorefxn.set_weight(pr_scoring.ScoreType.atom_pair_constraint, constraint_weight)\n",
    "    pyrosetta.rosetta.basic.options.set_boolean_option('relax:constrain_relax_to_start_coords', relax_to_start_coords)\n",
    "    pyrosetta.rosetta.basic.options.set_boolean_option('relax:coord_constrain_sidechains', relax_to_start_coords)\n",
    "    # set up the relax sampler\n",
    "    pyrosetta.rosetta.protocols.relax.FastRelax.register_options()\n",
    "    relax = pyrosetta.rosetta.protocols.relax.FastRelax(scorefxn, cycles)\n",
    "    relax.constrain_relax_to_start_coords(relax_to_start_coords)\n",
    "    relax.apply(pose)\n",
    "    return pose\n",
    "\n",
    "relax(pose)\n",
    "\n",
    "pose.dump_pdb('/Users/kate_fieseler/PycharmProjects/EV-A71-2A-syndirella-run/fragments/Ax0310_relaxed.pdb')"
   ],
   "id": "18d9a01e0b7aaefe",
   "outputs": [
    {
     "data": {
      "text/plain": [
       "True"
      ]
     },
     "execution_count": 3,
     "metadata": {},
     "output_type": "execute_result"
    }
   ],
   "execution_count": 3
  },
  {
   "metadata": {},
   "cell_type": "markdown",
   "source": "# REMOVE LIGAND",
   "id": "d9ffa40516e2e3b3"
  },
  {
   "metadata": {
    "ExecuteTime": {
     "end_time": "2024-04-07T11:37:26.568946Z",
     "start_time": "2024-04-07T11:37:26.493440Z"
    }
   },
   "cell_type": "code",
   "source": [
    "from Bio.PDB import PDBParser, PDBIO, Select\n",
    "\n",
    "class NonLigandAndZincSelect(Select):\n",
    "    \"\"\"Custom selection class to exclude ligand residues and zinc atoms.\"\"\"\n",
    "    def __init__(self, ligand_residue_names):\n",
    "        self.ligand_residue_names = ligand_residue_names\n",
    "\n",
    "    def accept_residue(self, residue):\n",
    "        \"\"\"Accept the residue if it's not a ligand.\"\"\"\n",
    "        return residue.get_resname().strip() not in self.ligand_residue_names\n",
    "\n",
    "    def accept_atom(self, atom):\n",
    "        \"\"\"Accept the atom if it's not a zinc atom.\"\"\"\n",
    "        return atom.element != 'ZN'\n",
    "\n",
    "def remove_ligands_and_zinc_from_pdb(input_pdb_path, output_pdb_path, ligand_residue_names):\n",
    "    parser = PDBParser()\n",
    "    structure = parser.get_structure(\"structure\", input_pdb_path)\n",
    "\n",
    "    io = PDBIO()\n",
    "    io.set_structure(structure)\n",
    "\n",
    "    # Save the structure excluding the specified ligands and zinc atoms\n",
    "    io.save(output_pdb_path, NonLigandAndZincSelect(ligand_residue_names))\n",
    "\n",
    "# Example usage\n",
    "input_pdb_path = '/Users/kate_fieseler/PycharmProjects/EV-A71-2A-syndirella-run/fragments/Ax0310_relaxed.pdb'  # Path to your input PDB file\n",
    "output_pdb_path = '/Users/kate_fieseler/PycharmProjects/EV-A71-2A-syndirella-run/fragments/TO_USE/Ax0310_relaxed_apo.pdb'  # Path where you want to save the PDB file without the ligand\n",
    "ligand_residue_names = ['LIG', 'HETATM']  # List of residue names of the ligands to remove\n",
    "\n",
    "remove_ligands_and_zinc_from_pdb(input_pdb_path, output_pdb_path, ligand_residue_names)"
   ],
   "id": "49e9a2c819a1e357",
   "outputs": [],
   "execution_count": 4
  }
 ],
 "metadata": {
  "kernelspec": {
   "display_name": "Python 3",
   "language": "python",
   "name": "python3"
  },
  "language_info": {
   "codemirror_mode": {
    "name": "ipython",
    "version": 2
   },
   "file_extension": ".py",
   "mimetype": "text/x-python",
   "name": "python",
   "nbconvert_exporter": "python",
   "pygments_lexer": "ipython2",
   "version": "2.7.6"
  }
 },
 "nbformat": 4,
 "nbformat_minor": 5
}

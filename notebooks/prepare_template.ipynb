{
 "cells": [
  {
   "cell_type": "code",
   "outputs": [],
   "source": [
    "from Bio.PDB import PDBParser, PDBIO, Select\n",
    "\n",
    "class NonLigandAndZincSelect(Select):\n",
    "    \"\"\"Custom selection class to exclude ligand residues and zinc atoms.\"\"\"\n",
    "    def __init__(self, ligand_residue_names):\n",
    "        self.ligand_residue_names = ligand_residue_names\n",
    "\n",
    "    def accept_residue(self, residue):\n",
    "        \"\"\"Accept the residue if it's not a ligand.\"\"\"\n",
    "        return residue.get_resname().strip() not in self.ligand_residue_names\n",
    "\n",
    "    def accept_atom(self, atom):\n",
    "        \"\"\"Accept the atom if it's not a zinc atom.\"\"\"\n",
    "        return atom.element != 'ZN'\n",
    "\n",
    "def remove_ligands_and_zinc_from_pdb(input_pdb_path, output_pdb_path, ligand_residue_names):\n",
    "    parser = PDBParser()\n",
    "    structure = parser.get_structure(\"structure\", input_pdb_path)\n",
    "\n",
    "    io = PDBIO()\n",
    "    io.set_structure(structure)\n",
    "\n",
    "    # Save the structure excluding the specified ligands and zinc atoms\n",
    "    io.save(output_pdb_path, NonLigandAndZincSelect(ligand_residue_names))\n",
    "\n",
    "# Example usage\n",
    "input_pdb_path = '/Users/kate_fieseler/PycharmProjects/EV-A71-2A-syndirella-run/fragments/x0310_relaxed.pdb'  # Path to your input PDB file\n",
    "output_pdb_path = '/Users/kate_fieseler/PycharmProjects/EV-A71-2A-syndirella-run/fragments/x0310_relaxed_apo.pdb'  # Path where you want to save the PDB file without the ligand\n",
    "ligand_residue_names = ['LIG', 'HETATM']  # List of residue names of the ligands to remove\n",
    "\n",
    "remove_ligands_and_zinc_from_pdb(input_pdb_path, output_pdb_path, ligand_residue_names)"
   ],
   "metadata": {
    "collapsed": false,
    "ExecuteTime": {
     "end_time": "2024-03-04T12:21:39.557437Z",
     "start_time": "2024-03-04T12:21:39.530888Z"
    }
   },
   "id": "32634e8880b31dce",
   "execution_count": 10
  },
  {
   "cell_type": "code",
   "outputs": [],
   "source": [],
   "metadata": {
    "collapsed": false
   },
   "id": "e368f1d8112e3e3e"
  }
 ],
 "metadata": {
  "kernelspec": {
   "display_name": "Python 3",
   "language": "python",
   "name": "python3"
  },
  "language_info": {
   "codemirror_mode": {
    "name": "ipython",
    "version": 2
   },
   "file_extension": ".py",
   "mimetype": "text/x-python",
   "name": "python",
   "nbconvert_exporter": "python",
   "pygments_lexer": "ipython2",
   "version": "2.7.6"
  }
 },
 "nbformat": 4,
 "nbformat_minor": 5
}

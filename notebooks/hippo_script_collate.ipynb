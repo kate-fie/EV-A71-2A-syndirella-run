{
 "cells": [
  {
   "cell_type": "code",
   "execution_count": 299,
   "id": "initial_id",
   "metadata": {
    "collapsed": true,
    "ExecuteTime": {
     "end_time": "2024-03-07T17:49:59.518324Z",
     "start_time": "2024-03-07T17:49:59.515397Z"
    }
   },
   "outputs": [],
   "source": [
    "import pandas as pd\n",
    "import os\n",
    "import logging\n",
    "# Configure the logging system\n",
    "logging.basicConfig(level=logging.INFO, filename='app.log', filemode='w',\n",
    "                    format='%(name)s - %(levelname)s - %(message)s')\n",
    "logger = logging.getLogger('batch_test')\n",
    "import ast\n",
    "from pathlib import Path\n",
    "import glob2\n",
    "import tqdm\n",
    "import numpy as np"
   ]
  },
  {
   "cell_type": "markdown",
   "source": [
    "# Kate's Function\n",
    "1. Per batch\n",
    "2. Start with the base compound and then the elaborations\n",
    "3. For each of those iterate through the **reaction steps** starting from step 1\n",
    "4. Metadata needed per reactant/product:\n",
    "    - smiles\n",
    "5. Reaction:\n",
    "    - Type / reaction name\n",
    "6. Poses:\n",
    "    - **Path to the minimised .mol**"
   ],
   "metadata": {
    "collapsed": false
   },
   "id": "f6842b75c5b92d89"
  },
  {
   "cell_type": "code",
   "outputs": [],
   "source": [
    "def parse_syndirella_products_csv(df: pd.DataFrame,\n",
    "                                  product_csv: bool,\n",
    "                                  base_output_path: str):\n",
    "    \"\"\"\n",
    "    Parse a products csv within a base compound. \n",
    "    :param df: dataframe of the products csv (could be internal step or final step). \n",
    "    :param product_csv: bool if it is the final products csv or not.\n",
    "    :param base_output_path: path to output folder for the base compound. \n",
    "    :return to_hippo_df: pd.DataFrame with all of the reactants and products within that batch folder.\n",
    "    \"\"\"\n",
    "    to_hippo_df: pd.DataFrame = pd.DataFrame(columns=['reaction', 'r1_smiles', 'r2_smiles', 'product', 'inspiration1', 'inspiration2', 'pose_path', 'metadata'])\n",
    "    for i, row in df.iterrows():\n",
    "        metadata: dict = {}\n",
    "        if product_csv:\n",
    "            try:\n",
    "                if np.isnan(row['∆∆G']):\n",
    "                    continue # there was no successful placement\n",
    "                else:\n",
    "                    metadata['placement_ddG'] = row['∆∆G']\n",
    "                    metadata['placement_mRMSD'] = row.comRMSD\n",
    "                # inspiration\n",
    "                inspiration1: str = ast.literal_eval(row.regarded)[0]\n",
    "                inspiration2: str = ast.literal_eval(row.regarded)[1]\n",
    "                # pose_path\n",
    "                name = row['name']\n",
    "                pose_path = os.path.join(base_output_path, name, f'{name}.minimised.mol')\n",
    "            except Exception as e:\n",
    "                continue # if this product was not placed, skip it\n",
    "        else:\n",
    "            inspiration1 = None\n",
    "            inspiration2 = None\n",
    "            pose_path = None\n",
    "        # register the reactants\n",
    "        r1_smiles: str = row.r1_smiles\n",
    "        # r2 reactant could not exist yet\n",
    "        try:\n",
    "            r2_smiles: str = row.r2_smiles\n",
    "        except Exception:\n",
    "            r2_smiles: str = None        \n",
    "        # register the product\n",
    "        product_smiles: str = row.smiles\n",
    "        # register the reaction\n",
    "        reaction_name: str = row.reaction\n",
    "        try:\n",
    "            metadata['flag'] = row.flag\n",
    "        except Exception:\n",
    "            pass\n",
    "        # add all info to df\n",
    "        to_hippo_df.loc[i] = [reaction_name, r1_smiles, r2_smiles, product_smiles, inspiration1, inspiration2, pose_path, metadata]\n",
    "    return to_hippo_df\n",
    "\n",
    "def parse_syndirella_products_batch(path: str):\n",
    "    \"\"\"\n",
    "    Parse all base compounds within a batch. \n",
    "    :param path: path to batch folder. \n",
    "    :return batch_df with all of the reactants and products within that batch folder. \n",
    "    \"\"\"\n",
    "    # Iterate over all directories directly under the specified path\n",
    "    all_product_dfs: list(pd.DataFrame) = []\n",
    "    \n",
    "    for root, dirs, files in os.walk(path, topdown=True):\n",
    "        if root==path:\n",
    "            for dir in dirs:\n",
    "                if root != path:\n",
    "                    continue\n",
    "                current_dir_path = os.path.join(root, dir)\n",
    "                print(f\"Current dir path: {current_dir_path}\")\n",
    "                csv_files: list(str) = glob2.glob(os.path.join(current_dir_path, '**/*products*.csv'), recursive=True)\n",
    "                for file in csv_files:\n",
    "                    print(f\"Processing file: {file}\")\n",
    "                    df = pd.read_csv(file, low_memory=False)\n",
    "                    product_csv: bool = 'regarded' in df.columns\n",
    "                    base_output_path: str = os.path.join(current_dir_path, 'output')\n",
    "                    print(f\"Base output path: {base_output_path}\")\n",
    "                    new_df = parse_syndirella_products_csv(df, \n",
    "                                                           product_csv, \n",
    "                                                           base_output_path)\n",
    "                    all_product_dfs.append(new_df)\n",
    "            batch_df = pd.concat(all_product_dfs)\n",
    "            batch_df.reset_index(drop=True, inplace=True)\n",
    "        else:\n",
    "            # Clear the dirs list to prevent os.walk from going any deeper\n",
    "            dirs[:] = []  # This stops os.walk from descending into subdirs beyond the first level\n",
    "        \n",
    "    return batch_df"
   ],
   "metadata": {
    "collapsed": false,
    "ExecuteTime": {
     "end_time": "2024-03-07T17:49:59.717904Z",
     "start_time": "2024-03-07T17:49:59.711468Z"
    }
   },
   "id": "b6316715639ef074",
   "execution_count": 301
  },
  {
   "cell_type": "code",
   "outputs": [
    {
     "name": "stdout",
     "output_type": "stream",
     "text": [
      "Current dir path: /Users/kate_fieseler/PycharmProjects/EV-A71-2A-syndirella-run/testing/batch0/BCPKNOZHZDDVQN-UHFFFAOYSA-N\n",
      "Processing file: /Users/kate_fieseler/PycharmProjects/EV-A71-2A-syndirella-run/testing/batch0/BCPKNOZHZDDVQN-UHFFFAOYSA-N/BCPKNOZHZDDVQN-UHFFFAOYSA-N_Amidation_products_3of3_placements.csv\n",
      "Base output path: /Users/kate_fieseler/PycharmProjects/EV-A71-2A-syndirella-run/testing/batch0/BCPKNOZHZDDVQN-UHFFFAOYSA-N/output\n",
      "Processing file: /Users/kate_fieseler/PycharmProjects/EV-A71-2A-syndirella-run/testing/batch0/BCPKNOZHZDDVQN-UHFFFAOYSA-N/extra/BCPKNOZHZDDVQN-UHFFFAOYSA-N_N-Boc_deprotection_products_2of3.csv\n",
      "Base output path: /Users/kate_fieseler/PycharmProjects/EV-A71-2A-syndirella-run/testing/batch0/BCPKNOZHZDDVQN-UHFFFAOYSA-N/output\n",
      "Processing file: /Users/kate_fieseler/PycharmProjects/EV-A71-2A-syndirella-run/testing/batch0/BCPKNOZHZDDVQN-UHFFFAOYSA-N/extra/BCPKNOZHZDDVQN-UHFFFAOYSA-N_Amidation_products_1of3.csv\n",
      "Base output path: /Users/kate_fieseler/PycharmProjects/EV-A71-2A-syndirella-run/testing/batch0/BCPKNOZHZDDVQN-UHFFFAOYSA-N/output\n",
      "Current dir path: /Users/kate_fieseler/PycharmProjects/EV-A71-2A-syndirella-run/testing/batch0/BHKVBKDDVLQZCR-UHFFFAOYSA-N\n",
      "Processing file: /Users/kate_fieseler/PycharmProjects/EV-A71-2A-syndirella-run/testing/batch0/BHKVBKDDVLQZCR-UHFFFAOYSA-N/BHKVBKDDVLQZCR-UHFFFAOYSA-N_Amidation_products_3of3_placements.csv\n",
      "Base output path: /Users/kate_fieseler/PycharmProjects/EV-A71-2A-syndirella-run/testing/batch0/BHKVBKDDVLQZCR-UHFFFAOYSA-N/output\n",
      "Processing file: /Users/kate_fieseler/PycharmProjects/EV-A71-2A-syndirella-run/testing/batch0/BHKVBKDDVLQZCR-UHFFFAOYSA-N/extra/BHKVBKDDVLQZCR-UHFFFAOYSA-N_Amidation_products_1of3.csv\n",
      "Base output path: /Users/kate_fieseler/PycharmProjects/EV-A71-2A-syndirella-run/testing/batch0/BHKVBKDDVLQZCR-UHFFFAOYSA-N/output\n",
      "Processing file: /Users/kate_fieseler/PycharmProjects/EV-A71-2A-syndirella-run/testing/batch0/BHKVBKDDVLQZCR-UHFFFAOYSA-N/extra/BHKVBKDDVLQZCR-UHFFFAOYSA-N_N-Boc_deprotection_products_2of3.csv\n",
      "Base output path: /Users/kate_fieseler/PycharmProjects/EV-A71-2A-syndirella-run/testing/batch0/BHKVBKDDVLQZCR-UHFFFAOYSA-N/output\n"
     ]
    }
   ],
   "source": [
    "batch_df = parse_syndirella_products_batch('/Users/kate_fieseler/PycharmProjects/EV-A71-2A-syndirella-run/testing/batch0')"
   ],
   "metadata": {
    "collapsed": false,
    "ExecuteTime": {
     "end_time": "2024-03-07T18:04:21.791811Z",
     "start_time": "2024-03-07T17:49:59.718642Z"
    }
   },
   "id": "d72387cff8a51c1d",
   "execution_count": 302
  },
  {
   "cell_type": "code",
   "outputs": [
    {
     "data": {
      "text/plain": "                  reaction                                          r1_smiles  \\\n0                Amidation                                         N#CCC(=O)O   \n1                Amidation                                         N#CCC(=O)O   \n2                Amidation                                      CC(C#N)C(=O)O   \n3                Amidation                                      CC(C#N)C(=O)O   \n4                Amidation                                      CC(C#N)C(=O)O   \n...                    ...                                                ...   \n340325  N-Boc_deprotection  COC(=O)c1cc(NC(=O)C2CCC(CN3C(=O)C=CC3=O)O2)c(N...   \n340326  N-Boc_deprotection  COC(=O)c1cc(NC(=O)C2CCC(CN3C(=O)C=CC3=O)O2)c(N...   \n340327  N-Boc_deprotection  COC(=O)c1cc(NC(=O)C23COC(C(=O)OC(C)(C)C)(C2)C3...   \n340328  N-Boc_deprotection  COC(=O)c1cc(NC(=O)C2(Cc3ccc(F)cc3)CCCO2)c(N(C(...   \n340329  N-Boc_deprotection  COC(=O)c1cc(NC(=O)C2(Cc3ccc(F)cc3)CCCO2)c(N(C(...   \n\n                        r2_smiles  \\\n0       Cc1ccc(NC(=O)C2CCCO2)cc1N   \n1       Cc1ccc(NC(=O)C2CCCO2)cc1N   \n2       Cc1ccc(NC(=O)C2CCCO2)cc1N   \n3       Cc1ccc(NC(=O)C2CCCO2)cc1N   \n4       Cc1ccc(NC(=O)C2CCCO2)cc1N   \n...                           ...   \n340325                       None   \n340326                       None   \n340327                       None   \n340328                       None   \n340329                       None   \n\n                                                  product      inspiration1  \\\n0                 Cc1ccc(NC(=O)[C@@H]2CCCO2)cc1NC(=O)CC#N  A71EV2A-x0310_0A   \n1                  Cc1ccc(NC(=O)[C@H]2CCCO2)cc1NC(=O)CC#N  A71EV2A-x0310_0A   \n2          Cc1ccc(NC(=O)[C@@H]2CCCO2)cc1NC(=O)[C@H](C)C#N  A71EV2A-x0310_0A   \n3           Cc1ccc(NC(=O)[C@H]2CCCO2)cc1NC(=O)[C@H](C)C#N  A71EV2A-x0310_0A   \n4         Cc1ccc(NC(=O)[C@@H]2CCCO2)cc1NC(=O)[C@@H](C)C#N  A71EV2A-x0310_0A   \n...                                                   ...               ...   \n340325  COC(=O)c1cc(NC(=O)[C@@H]2CC[C@@H](CN3C(=O)C=CC...              None   \n340326  COC(=O)c1cc(NC(=O)[C@H]2CC[C@@H](CN3C(=O)C=CC3...              None   \n340327  COC(=O)c1cc(NC(=O)C23COC(C(=O)OC(C)(C)C)(C2)C3...              None   \n340328  COC(=O)c1cc(NC(=O)[C@]2(Cc3ccc(F)cc3)CCCO2)c(N...              None   \n340329  COC(=O)c1cc(NC(=O)[C@@]2(Cc3ccc(F)cc3)CCCO2)c(...              None   \n\n            inspiration2                                          pose_path  \\\n0       A71EV2A-x0416_0A  /Users/kate_fieseler/PycharmProjects/EV-A71-2A...   \n1       A71EV2A-x0416_0A  /Users/kate_fieseler/PycharmProjects/EV-A71-2A...   \n2       A71EV2A-x0416_0A  /Users/kate_fieseler/PycharmProjects/EV-A71-2A...   \n3       A71EV2A-x0416_0A  /Users/kate_fieseler/PycharmProjects/EV-A71-2A...   \n4       A71EV2A-x0416_0A  /Users/kate_fieseler/PycharmProjects/EV-A71-2A...   \n...                  ...                                                ...   \n340325              None                                               None   \n340326              None                                               None   \n340327              None                                               None   \n340328              None                                               None   \n340329              None                                               None   \n\n                                                 metadata  \n0       {'placement_ddG': -7.088948016603069, 'placeme...  \n1       {'placement_ddG': -17.49852954868254, 'placeme...  \n2       {'placement_ddG': -3.6648069897823343, 'placem...  \n3       {'placement_ddG': -3.2878999159478894, 'placem...  \n4       {'placement_ddG': -10.314010490964392, 'placem...  \n...                                                   ...  \n340325                                                 {}  \n340326                                                 {}  \n340327                                                 {}  \n340328                                                 {}  \n340329                                                 {}  \n\n[340330 rows x 8 columns]",
      "text/html": "<div>\n<style scoped>\n    .dataframe tbody tr th:only-of-type {\n        vertical-align: middle;\n    }\n\n    .dataframe tbody tr th {\n        vertical-align: top;\n    }\n\n    .dataframe thead th {\n        text-align: right;\n    }\n</style>\n<table border=\"1\" class=\"dataframe\">\n  <thead>\n    <tr style=\"text-align: right;\">\n      <th></th>\n      <th>reaction</th>\n      <th>r1_smiles</th>\n      <th>r2_smiles</th>\n      <th>product</th>\n      <th>inspiration1</th>\n      <th>inspiration2</th>\n      <th>pose_path</th>\n      <th>metadata</th>\n    </tr>\n  </thead>\n  <tbody>\n    <tr>\n      <th>0</th>\n      <td>Amidation</td>\n      <td>N#CCC(=O)O</td>\n      <td>Cc1ccc(NC(=O)C2CCCO2)cc1N</td>\n      <td>Cc1ccc(NC(=O)[C@@H]2CCCO2)cc1NC(=O)CC#N</td>\n      <td>A71EV2A-x0310_0A</td>\n      <td>A71EV2A-x0416_0A</td>\n      <td>/Users/kate_fieseler/PycharmProjects/EV-A71-2A...</td>\n      <td>{'placement_ddG': -7.088948016603069, 'placeme...</td>\n    </tr>\n    <tr>\n      <th>1</th>\n      <td>Amidation</td>\n      <td>N#CCC(=O)O</td>\n      <td>Cc1ccc(NC(=O)C2CCCO2)cc1N</td>\n      <td>Cc1ccc(NC(=O)[C@H]2CCCO2)cc1NC(=O)CC#N</td>\n      <td>A71EV2A-x0310_0A</td>\n      <td>A71EV2A-x0416_0A</td>\n      <td>/Users/kate_fieseler/PycharmProjects/EV-A71-2A...</td>\n      <td>{'placement_ddG': -17.49852954868254, 'placeme...</td>\n    </tr>\n    <tr>\n      <th>2</th>\n      <td>Amidation</td>\n      <td>CC(C#N)C(=O)O</td>\n      <td>Cc1ccc(NC(=O)C2CCCO2)cc1N</td>\n      <td>Cc1ccc(NC(=O)[C@@H]2CCCO2)cc1NC(=O)[C@H](C)C#N</td>\n      <td>A71EV2A-x0310_0A</td>\n      <td>A71EV2A-x0416_0A</td>\n      <td>/Users/kate_fieseler/PycharmProjects/EV-A71-2A...</td>\n      <td>{'placement_ddG': -3.6648069897823343, 'placem...</td>\n    </tr>\n    <tr>\n      <th>3</th>\n      <td>Amidation</td>\n      <td>CC(C#N)C(=O)O</td>\n      <td>Cc1ccc(NC(=O)C2CCCO2)cc1N</td>\n      <td>Cc1ccc(NC(=O)[C@H]2CCCO2)cc1NC(=O)[C@H](C)C#N</td>\n      <td>A71EV2A-x0310_0A</td>\n      <td>A71EV2A-x0416_0A</td>\n      <td>/Users/kate_fieseler/PycharmProjects/EV-A71-2A...</td>\n      <td>{'placement_ddG': -3.2878999159478894, 'placem...</td>\n    </tr>\n    <tr>\n      <th>4</th>\n      <td>Amidation</td>\n      <td>CC(C#N)C(=O)O</td>\n      <td>Cc1ccc(NC(=O)C2CCCO2)cc1N</td>\n      <td>Cc1ccc(NC(=O)[C@@H]2CCCO2)cc1NC(=O)[C@@H](C)C#N</td>\n      <td>A71EV2A-x0310_0A</td>\n      <td>A71EV2A-x0416_0A</td>\n      <td>/Users/kate_fieseler/PycharmProjects/EV-A71-2A...</td>\n      <td>{'placement_ddG': -10.314010490964392, 'placem...</td>\n    </tr>\n    <tr>\n      <th>...</th>\n      <td>...</td>\n      <td>...</td>\n      <td>...</td>\n      <td>...</td>\n      <td>...</td>\n      <td>...</td>\n      <td>...</td>\n      <td>...</td>\n    </tr>\n    <tr>\n      <th>340325</th>\n      <td>N-Boc_deprotection</td>\n      <td>COC(=O)c1cc(NC(=O)C2CCC(CN3C(=O)C=CC3=O)O2)c(N...</td>\n      <td>None</td>\n      <td>COC(=O)c1cc(NC(=O)[C@@H]2CC[C@@H](CN3C(=O)C=CC...</td>\n      <td>None</td>\n      <td>None</td>\n      <td>None</td>\n      <td>{}</td>\n    </tr>\n    <tr>\n      <th>340326</th>\n      <td>N-Boc_deprotection</td>\n      <td>COC(=O)c1cc(NC(=O)C2CCC(CN3C(=O)C=CC3=O)O2)c(N...</td>\n      <td>None</td>\n      <td>COC(=O)c1cc(NC(=O)[C@H]2CC[C@@H](CN3C(=O)C=CC3...</td>\n      <td>None</td>\n      <td>None</td>\n      <td>None</td>\n      <td>{}</td>\n    </tr>\n    <tr>\n      <th>340327</th>\n      <td>N-Boc_deprotection</td>\n      <td>COC(=O)c1cc(NC(=O)C23COC(C(=O)OC(C)(C)C)(C2)C3...</td>\n      <td>None</td>\n      <td>COC(=O)c1cc(NC(=O)C23COC(C(=O)OC(C)(C)C)(C2)C3...</td>\n      <td>None</td>\n      <td>None</td>\n      <td>None</td>\n      <td>{}</td>\n    </tr>\n    <tr>\n      <th>340328</th>\n      <td>N-Boc_deprotection</td>\n      <td>COC(=O)c1cc(NC(=O)C2(Cc3ccc(F)cc3)CCCO2)c(N(C(...</td>\n      <td>None</td>\n      <td>COC(=O)c1cc(NC(=O)[C@]2(Cc3ccc(F)cc3)CCCO2)c(N...</td>\n      <td>None</td>\n      <td>None</td>\n      <td>None</td>\n      <td>{}</td>\n    </tr>\n    <tr>\n      <th>340329</th>\n      <td>N-Boc_deprotection</td>\n      <td>COC(=O)c1cc(NC(=O)C2(Cc3ccc(F)cc3)CCCO2)c(N(C(...</td>\n      <td>None</td>\n      <td>COC(=O)c1cc(NC(=O)[C@@]2(Cc3ccc(F)cc3)CCCO2)c(...</td>\n      <td>None</td>\n      <td>None</td>\n      <td>None</td>\n      <td>{}</td>\n    </tr>\n  </tbody>\n</table>\n<p>340330 rows × 8 columns</p>\n</div>"
     },
     "execution_count": 303,
     "metadata": {},
     "output_type": "execute_result"
    }
   ],
   "source": [
    "batch_df"
   ],
   "metadata": {
    "collapsed": false,
    "ExecuteTime": {
     "end_time": "2024-03-07T18:04:21.810218Z",
     "start_time": "2024-03-07T18:04:21.796731Z"
    }
   },
   "id": "1b840d760fc3c3d9",
   "execution_count": 303
  }
 ],
 "metadata": {
  "kernelspec": {
   "display_name": "Python 3",
   "language": "python",
   "name": "python3"
  },
  "language_info": {
   "codemirror_mode": {
    "name": "ipython",
    "version": 2
   },
   "file_extension": ".py",
   "mimetype": "text/x-python",
   "name": "python",
   "nbconvert_exporter": "python",
   "pygments_lexer": "ipython2",
   "version": "2.7.6"
  }
 },
 "nbformat": 4,
 "nbformat_minor": 5
}

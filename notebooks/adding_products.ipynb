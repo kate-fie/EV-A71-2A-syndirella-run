{
 "cells": [
  {
   "cell_type": "code",
   "execution_count": 82,
   "id": "initial_id",
   "metadata": {
    "collapsed": true,
    "ExecuteTime": {
     "end_time": "2024-02-29T15:41:17.215373Z",
     "start_time": "2024-02-29T15:41:17.212169Z"
    }
   },
   "outputs": [],
   "source": [
    "import pandas as pd\n",
    "import json\n",
    "from rdkit import Chem\n",
    "from rdkit.Chem.rdChemReactions import ReactionFromSmarts"
   ]
  },
  {
   "cell_type": "code",
   "outputs": [
    {
     "data": {
      "text/plain": "               target-names  no-steps  concentration-required-mM  \\\n0     x0310-x0416-merge-1-1         3                        100   \n1     x0310-x0416-merge-2-1         3                        100   \n2     x0310-x0416-merge-2-2         3                        100   \n3     x0310-x0416-merge-2-3         3                        100   \n4     x0310-x0416-merge-2-4         3                        100   \n..                      ...       ...                        ...   \n128   x0922-x0416-merge-1-7         2                        100   \n129   x0922-x0416-merge-1-8         2                        100   \n130   x0922-x0416-merge-1-9         2                        100   \n131  x0922-x0416-merge-1-10         2                        100   \n132  x0922-x0416-merge-1-11         2                        100   \n\n     amount-required-uL  batch-tag                   reactant-1-1  \\\n0                    40  wasgo-2.0     Cn1ncc(NC(=O)OC(C)(C)C)c1N   \n1                    40  wasgo-2.0     CC(C)(C)OC(=O)Nc1cccc(N)c1   \n2                    40  wasgo-2.0  CC(C)(C)OC(=O)Nc1cc(N)c(C)cc1   \n3                    40  wasgo-2.0     Nc1cc(NC(=O)OC(C)(C)C)ccn1   \n4                    40  wasgo-2.0    CC(C)(C)OC(=O)Nc1cc(N)ccc1C   \n..                  ...        ...                            ...   \n128                  40  wasgo-2.0                  Fc1ccc(O)cc1N   \n129                  40  wasgo-2.0                Nc1cc(O)c(C)cc1   \n130                  40  wasgo-2.0               Nc1cc(O)c(C)cc1C   \n131                  40  wasgo-2.0                   Nc1cncc(O)c1   \n132                  40  wasgo-2.0                   Nc1ccnc(O)c1   \n\n      reactant-2-1                reaction-product-smiles-1 reaction-name-1  \\\n0    O=C(O)C1CCCO1   Cn1ncc(NC(=O)OC(C)(C)C)c1NC(=O)C1CCCO1       Amidation   \n1    O=C(O)C1CCCO1   CC(C)(C)OC(=O)Nc1cccc(NC(=O)C2CCCO2)c1       Amidation   \n2    O=C(O)C1CCCO1  Cc1ccc(NC(=O)OC(C)(C)C)cc1NC(=O)C1CCCO1       Amidation   \n3    O=C(O)C1CCCO1   CC(C)(C)OC(=O)Nc1ccnc(NC(=O)C2CCCO2)c1       Amidation   \n4    O=C(O)C1CCCO1  Cc1ccc(NC(=O)C2CCCO2)cc1NC(=O)OC(C)(C)C       Amidation   \n..             ...                                      ...             ...   \n128  O=C(O)C1CCCO1                                product-1       Amidation   \n129  O=C(O)C1CCCO1                                product-1       Amidation   \n130  O=C(O)C1CCCO1                                product-1       Amidation   \n131  O=C(O)C1CCCO1                                product-1       Amidation   \n132  O=C(O)C1CCCO1                                product-1       Amidation   \n\n    reaction-recipe-1  ...  reaction-product-smiles-4 reaction-name-4  \\\n0            standard  ...                        NaN             NaN   \n1            standard  ...                        NaN             NaN   \n2            standard  ...                        NaN             NaN   \n3            standard  ...                        NaN             NaN   \n4            standard  ...                        NaN             NaN   \n..                ...  ...                        ...             ...   \n128          standard  ...                        NaN             NaN   \n129          standard  ...                        NaN             NaN   \n130          standard  ...                        NaN             NaN   \n131          standard  ...                        NaN             NaN   \n132          standard  ...                        NaN             NaN   \n\n    reaction-recipe-4 reaction-groupby-column-4 reactant-1-5 reactant-2-5  \\\n0                 NaN                       NaN          NaN          NaN   \n1                 NaN                       NaN          NaN          NaN   \n2                 NaN                       NaN          NaN          NaN   \n3                 NaN                       NaN          NaN          NaN   \n4                 NaN                       NaN          NaN          NaN   \n..                ...                       ...          ...          ...   \n128               NaN                       NaN          NaN          NaN   \n129               NaN                       NaN          NaN          NaN   \n130               NaN                       NaN          NaN          NaN   \n131               NaN                       NaN          NaN          NaN   \n132               NaN                       NaN          NaN          NaN   \n\n    reaction-product-smiles-5 reaction-name-5 reaction-recipe-5  \\\n0                         NaN             NaN               NaN   \n1                         NaN             NaN               NaN   \n2                         NaN             NaN               NaN   \n3                         NaN             NaN               NaN   \n4                         NaN             NaN               NaN   \n..                        ...             ...               ...   \n128                       NaN             NaN               NaN   \n129                       NaN             NaN               NaN   \n130                       NaN             NaN               NaN   \n131                       NaN             NaN               NaN   \n132                       NaN             NaN               NaN   \n\n    reaction-groupby-column-5  \n0                         NaN  \n1                         NaN  \n2                         NaN  \n3                         NaN  \n4                         NaN  \n..                        ...  \n128                       NaN  \n129                       NaN  \n130                       NaN  \n131                       NaN  \n132                       NaN  \n\n[133 rows x 35 columns]",
      "text/html": "<div>\n<style scoped>\n    .dataframe tbody tr th:only-of-type {\n        vertical-align: middle;\n    }\n\n    .dataframe tbody tr th {\n        vertical-align: top;\n    }\n\n    .dataframe thead th {\n        text-align: right;\n    }\n</style>\n<table border=\"1\" class=\"dataframe\">\n  <thead>\n    <tr style=\"text-align: right;\">\n      <th></th>\n      <th>target-names</th>\n      <th>no-steps</th>\n      <th>concentration-required-mM</th>\n      <th>amount-required-uL</th>\n      <th>batch-tag</th>\n      <th>reactant-1-1</th>\n      <th>reactant-2-1</th>\n      <th>reaction-product-smiles-1</th>\n      <th>reaction-name-1</th>\n      <th>reaction-recipe-1</th>\n      <th>...</th>\n      <th>reaction-product-smiles-4</th>\n      <th>reaction-name-4</th>\n      <th>reaction-recipe-4</th>\n      <th>reaction-groupby-column-4</th>\n      <th>reactant-1-5</th>\n      <th>reactant-2-5</th>\n      <th>reaction-product-smiles-5</th>\n      <th>reaction-name-5</th>\n      <th>reaction-recipe-5</th>\n      <th>reaction-groupby-column-5</th>\n    </tr>\n  </thead>\n  <tbody>\n    <tr>\n      <th>0</th>\n      <td>x0310-x0416-merge-1-1</td>\n      <td>3</td>\n      <td>100</td>\n      <td>40</td>\n      <td>wasgo-2.0</td>\n      <td>Cn1ncc(NC(=O)OC(C)(C)C)c1N</td>\n      <td>O=C(O)C1CCCO1</td>\n      <td>Cn1ncc(NC(=O)OC(C)(C)C)c1NC(=O)C1CCCO1</td>\n      <td>Amidation</td>\n      <td>standard</td>\n      <td>...</td>\n      <td>NaN</td>\n      <td>NaN</td>\n      <td>NaN</td>\n      <td>NaN</td>\n      <td>NaN</td>\n      <td>NaN</td>\n      <td>NaN</td>\n      <td>NaN</td>\n      <td>NaN</td>\n      <td>NaN</td>\n    </tr>\n    <tr>\n      <th>1</th>\n      <td>x0310-x0416-merge-2-1</td>\n      <td>3</td>\n      <td>100</td>\n      <td>40</td>\n      <td>wasgo-2.0</td>\n      <td>CC(C)(C)OC(=O)Nc1cccc(N)c1</td>\n      <td>O=C(O)C1CCCO1</td>\n      <td>CC(C)(C)OC(=O)Nc1cccc(NC(=O)C2CCCO2)c1</td>\n      <td>Amidation</td>\n      <td>standard</td>\n      <td>...</td>\n      <td>NaN</td>\n      <td>NaN</td>\n      <td>NaN</td>\n      <td>NaN</td>\n      <td>NaN</td>\n      <td>NaN</td>\n      <td>NaN</td>\n      <td>NaN</td>\n      <td>NaN</td>\n      <td>NaN</td>\n    </tr>\n    <tr>\n      <th>2</th>\n      <td>x0310-x0416-merge-2-2</td>\n      <td>3</td>\n      <td>100</td>\n      <td>40</td>\n      <td>wasgo-2.0</td>\n      <td>CC(C)(C)OC(=O)Nc1cc(N)c(C)cc1</td>\n      <td>O=C(O)C1CCCO1</td>\n      <td>Cc1ccc(NC(=O)OC(C)(C)C)cc1NC(=O)C1CCCO1</td>\n      <td>Amidation</td>\n      <td>standard</td>\n      <td>...</td>\n      <td>NaN</td>\n      <td>NaN</td>\n      <td>NaN</td>\n      <td>NaN</td>\n      <td>NaN</td>\n      <td>NaN</td>\n      <td>NaN</td>\n      <td>NaN</td>\n      <td>NaN</td>\n      <td>NaN</td>\n    </tr>\n    <tr>\n      <th>3</th>\n      <td>x0310-x0416-merge-2-3</td>\n      <td>3</td>\n      <td>100</td>\n      <td>40</td>\n      <td>wasgo-2.0</td>\n      <td>Nc1cc(NC(=O)OC(C)(C)C)ccn1</td>\n      <td>O=C(O)C1CCCO1</td>\n      <td>CC(C)(C)OC(=O)Nc1ccnc(NC(=O)C2CCCO2)c1</td>\n      <td>Amidation</td>\n      <td>standard</td>\n      <td>...</td>\n      <td>NaN</td>\n      <td>NaN</td>\n      <td>NaN</td>\n      <td>NaN</td>\n      <td>NaN</td>\n      <td>NaN</td>\n      <td>NaN</td>\n      <td>NaN</td>\n      <td>NaN</td>\n      <td>NaN</td>\n    </tr>\n    <tr>\n      <th>4</th>\n      <td>x0310-x0416-merge-2-4</td>\n      <td>3</td>\n      <td>100</td>\n      <td>40</td>\n      <td>wasgo-2.0</td>\n      <td>CC(C)(C)OC(=O)Nc1cc(N)ccc1C</td>\n      <td>O=C(O)C1CCCO1</td>\n      <td>Cc1ccc(NC(=O)C2CCCO2)cc1NC(=O)OC(C)(C)C</td>\n      <td>Amidation</td>\n      <td>standard</td>\n      <td>...</td>\n      <td>NaN</td>\n      <td>NaN</td>\n      <td>NaN</td>\n      <td>NaN</td>\n      <td>NaN</td>\n      <td>NaN</td>\n      <td>NaN</td>\n      <td>NaN</td>\n      <td>NaN</td>\n      <td>NaN</td>\n    </tr>\n    <tr>\n      <th>...</th>\n      <td>...</td>\n      <td>...</td>\n      <td>...</td>\n      <td>...</td>\n      <td>...</td>\n      <td>...</td>\n      <td>...</td>\n      <td>...</td>\n      <td>...</td>\n      <td>...</td>\n      <td>...</td>\n      <td>...</td>\n      <td>...</td>\n      <td>...</td>\n      <td>...</td>\n      <td>...</td>\n      <td>...</td>\n      <td>...</td>\n      <td>...</td>\n      <td>...</td>\n      <td>...</td>\n    </tr>\n    <tr>\n      <th>128</th>\n      <td>x0922-x0416-merge-1-7</td>\n      <td>2</td>\n      <td>100</td>\n      <td>40</td>\n      <td>wasgo-2.0</td>\n      <td>Fc1ccc(O)cc1N</td>\n      <td>O=C(O)C1CCCO1</td>\n      <td>product-1</td>\n      <td>Amidation</td>\n      <td>standard</td>\n      <td>...</td>\n      <td>NaN</td>\n      <td>NaN</td>\n      <td>NaN</td>\n      <td>NaN</td>\n      <td>NaN</td>\n      <td>NaN</td>\n      <td>NaN</td>\n      <td>NaN</td>\n      <td>NaN</td>\n      <td>NaN</td>\n    </tr>\n    <tr>\n      <th>129</th>\n      <td>x0922-x0416-merge-1-8</td>\n      <td>2</td>\n      <td>100</td>\n      <td>40</td>\n      <td>wasgo-2.0</td>\n      <td>Nc1cc(O)c(C)cc1</td>\n      <td>O=C(O)C1CCCO1</td>\n      <td>product-1</td>\n      <td>Amidation</td>\n      <td>standard</td>\n      <td>...</td>\n      <td>NaN</td>\n      <td>NaN</td>\n      <td>NaN</td>\n      <td>NaN</td>\n      <td>NaN</td>\n      <td>NaN</td>\n      <td>NaN</td>\n      <td>NaN</td>\n      <td>NaN</td>\n      <td>NaN</td>\n    </tr>\n    <tr>\n      <th>130</th>\n      <td>x0922-x0416-merge-1-9</td>\n      <td>2</td>\n      <td>100</td>\n      <td>40</td>\n      <td>wasgo-2.0</td>\n      <td>Nc1cc(O)c(C)cc1C</td>\n      <td>O=C(O)C1CCCO1</td>\n      <td>product-1</td>\n      <td>Amidation</td>\n      <td>standard</td>\n      <td>...</td>\n      <td>NaN</td>\n      <td>NaN</td>\n      <td>NaN</td>\n      <td>NaN</td>\n      <td>NaN</td>\n      <td>NaN</td>\n      <td>NaN</td>\n      <td>NaN</td>\n      <td>NaN</td>\n      <td>NaN</td>\n    </tr>\n    <tr>\n      <th>131</th>\n      <td>x0922-x0416-merge-1-10</td>\n      <td>2</td>\n      <td>100</td>\n      <td>40</td>\n      <td>wasgo-2.0</td>\n      <td>Nc1cncc(O)c1</td>\n      <td>O=C(O)C1CCCO1</td>\n      <td>product-1</td>\n      <td>Amidation</td>\n      <td>standard</td>\n      <td>...</td>\n      <td>NaN</td>\n      <td>NaN</td>\n      <td>NaN</td>\n      <td>NaN</td>\n      <td>NaN</td>\n      <td>NaN</td>\n      <td>NaN</td>\n      <td>NaN</td>\n      <td>NaN</td>\n      <td>NaN</td>\n    </tr>\n    <tr>\n      <th>132</th>\n      <td>x0922-x0416-merge-1-11</td>\n      <td>2</td>\n      <td>100</td>\n      <td>40</td>\n      <td>wasgo-2.0</td>\n      <td>Nc1ccnc(O)c1</td>\n      <td>O=C(O)C1CCCO1</td>\n      <td>product-1</td>\n      <td>Amidation</td>\n      <td>standard</td>\n      <td>...</td>\n      <td>NaN</td>\n      <td>NaN</td>\n      <td>NaN</td>\n      <td>NaN</td>\n      <td>NaN</td>\n      <td>NaN</td>\n      <td>NaN</td>\n      <td>NaN</td>\n      <td>NaN</td>\n      <td>NaN</td>\n    </tr>\n  </tbody>\n</table>\n<p>133 rows × 35 columns</p>\n</div>"
     },
     "execution_count": 83,
     "metadata": {},
     "output_type": "execute_result"
    }
   ],
   "source": [
    "df = pd.read_csv('../base_compounds/wt_designs_MASTER_COMPLETE_v1_29Feb.csv', index_col=0)\n",
    "df.reset_index(drop=True, inplace=True)\n",
    "df"
   ],
   "metadata": {
    "collapsed": false,
    "ExecuteTime": {
     "end_time": "2024-02-29T15:41:17.230322Z",
     "start_time": "2024-02-29T15:41:17.216704Z"
    }
   },
   "id": "3c362f75e87211e8",
   "execution_count": 83
  },
  {
   "cell_type": "markdown",
   "source": [
    "# Fill in product values from new designs"
   ],
   "metadata": {
    "collapsed": false
   },
   "id": "6f329893605ed247"
  },
  {
   "cell_type": "code",
   "outputs": [],
   "source": [
    "df = pd.read_pickle('../base_compounds/wt_designs_MASTER_COMPLETE_v1_29Feb.pkl')"
   ],
   "metadata": {
    "collapsed": false,
    "ExecuteTime": {
     "end_time": "2024-02-29T16:19:24.489670Z",
     "start_time": "2024-02-29T16:19:24.486034Z"
    }
   },
   "id": "9a20a4e7dfbefcd7",
   "execution_count": 148
  },
  {
   "cell_type": "code",
   "outputs": [],
   "source": [
    "with open('/Users/kate_fieseler/PycharmProjects/syndirella/syndirella/constants/RXN_SMARTS_CONSTANTS.json', 'r') as f:\n",
    "    rxn_smarts = json.load(f)\n",
    "reaction = ReactionFromSmarts(rxn_smarts['N-Boc_deprotection'])"
   ],
   "metadata": {
    "collapsed": false,
    "ExecuteTime": {
     "end_time": "2024-02-29T16:19:25.112757Z",
     "start_time": "2024-02-29T16:19:25.108308Z"
    }
   },
   "id": "45ba386edcdb13b4",
   "execution_count": 149
  },
  {
   "cell_type": "code",
   "outputs": [],
   "source": [
    "# get reactants, print out reactants and first product\n",
    "rows = range(0, len(df))\n",
    "for row in rows:\n",
    "    # if df.iloc[row]['reaction-product-smiles-2'] == 'product-2' and df.iloc[row]['reaction-name-2'] == 'Boc deprotection':\n",
    "    #     print(row)\n",
    "    #     r1 = Chem.MolFromSmiles(df.iloc[row]['reactant-1-2'])\n",
    "    #     r2 = Chem.MolFromSmiles(df.iloc[row]['reactant-2-2'])\n",
    "    #     products = reaction.RunReactants([r1, r2])\n",
    "    #     print(products)\n",
    "    #     if len(products) == 0:\n",
    "    #         products = reaction.RunReactants([r2, r1])\n",
    "    #     product = products[0][0]\n",
    "    #     df.loc[row, 'reaction-product-smiles-2'] = Chem.MolToSmiles(product)\n",
    "    #     print(df.iloc[row]['reaction-product-smiles-2'])\n",
    "    if df.iloc[row]['reactant-1-3'] == 'product-2':\n",
    "        df.loc[row, 'reactant-1-3'] = df.iloc[row]['reaction-product-smiles-2']"
   ],
   "metadata": {
    "collapsed": false,
    "ExecuteTime": {
     "end_time": "2024-02-29T16:19:25.585859Z",
     "start_time": "2024-02-29T16:19:25.576691Z"
    }
   },
   "id": "e7aa5e4bddd83c98",
   "execution_count": 150
  },
  {
   "cell_type": "code",
   "outputs": [
    {
     "data": {
      "text/plain": "               target-names  no-steps  concentration-required-mM  \\\n0     x0310-x0416-merge-1-1         3                        100   \n1     x0310-x0416-merge-2-1         3                        100   \n2     x0310-x0416-merge-2-2         3                        100   \n3     x0310-x0416-merge-2-3         3                        100   \n4     x0310-x0416-merge-2-4         3                        100   \n..                      ...       ...                        ...   \n128   x0922-x0416-merge-1-7         2                        100   \n129   x0922-x0416-merge-1-8         2                        100   \n130   x0922-x0416-merge-1-9         2                        100   \n131  x0922-x0416-merge-1-10         2                        100   \n132  x0922-x0416-merge-1-11         2                        100   \n\n     amount-required-uL  batch-tag                   reactant-1-1  \\\n0                    40  wasgo-2.0     Cn1ncc(NC(=O)OC(C)(C)C)c1N   \n1                    40  wasgo-2.0     CC(C)(C)OC(=O)Nc1cccc(N)c1   \n2                    40  wasgo-2.0  CC(C)(C)OC(=O)Nc1cc(N)c(C)cc1   \n3                    40  wasgo-2.0     Nc1cc(NC(=O)OC(C)(C)C)ccn1   \n4                    40  wasgo-2.0    CC(C)(C)OC(=O)Nc1cc(N)ccc1C   \n..                  ...        ...                            ...   \n128                  40  wasgo-2.0                  Fc1ccc(O)cc1N   \n129                  40  wasgo-2.0                Nc1cc(O)c(C)cc1   \n130                  40  wasgo-2.0               Nc1cc(O)c(C)cc1C   \n131                  40  wasgo-2.0                   Nc1cncc(O)c1   \n132                  40  wasgo-2.0                   Nc1ccnc(O)c1   \n\n      reactant-2-1                reaction-product-smiles-1 reaction-name-1  \\\n0    O=C(O)C1CCCO1   Cn1ncc(NC(=O)OC(C)(C)C)c1NC(=O)C1CCCO1       Amidation   \n1    O=C(O)C1CCCO1   CC(C)(C)OC(=O)Nc1cccc(NC(=O)C2CCCO2)c1       Amidation   \n2    O=C(O)C1CCCO1  Cc1ccc(NC(=O)OC(C)(C)C)cc1NC(=O)C1CCCO1       Amidation   \n3    O=C(O)C1CCCO1   CC(C)(C)OC(=O)Nc1ccnc(NC(=O)C2CCCO2)c1       Amidation   \n4    O=C(O)C1CCCO1  Cc1ccc(NC(=O)C2CCCO2)cc1NC(=O)OC(C)(C)C       Amidation   \n..             ...                                      ...             ...   \n128  O=C(O)C1CCCO1                O=C(Nc1cc(O)ccc1F)C1CCCO1       Amidation   \n129  O=C(O)C1CCCO1                Cc1ccc(NC(=O)C2CCCO2)cc1O       Amidation   \n130  O=C(O)C1CCCO1             Cc1cc(C)c(NC(=O)C2CCCO2)cc1O       Amidation   \n131  O=C(O)C1CCCO1                 O=C(Nc1cncc(O)c1)C1CCCO1       Amidation   \n132  O=C(O)C1CCCO1                 O=C(Nc1ccnc(O)c1)C1CCCO1       Amidation   \n\n    reaction-recipe-1  ...  reaction-product-smiles-4 reaction-name-4  \\\n0            standard  ...                        NaN             NaN   \n1            standard  ...                        NaN             NaN   \n2            standard  ...                        NaN             NaN   \n3            standard  ...                        NaN             NaN   \n4            standard  ...                        NaN             NaN   \n..                ...  ...                        ...             ...   \n128          standard  ...                        NaN             NaN   \n129          standard  ...                        NaN             NaN   \n130          standard  ...                        NaN             NaN   \n131          standard  ...                        NaN             NaN   \n132          standard  ...                        NaN             NaN   \n\n    reaction-recipe-4 reaction-groupby-column-4 reactant-1-5 reactant-2-5  \\\n0                 NaN                       NaN          NaN          NaN   \n1                 NaN                       NaN          NaN          NaN   \n2                 NaN                       NaN          NaN          NaN   \n3                 NaN                       NaN          NaN          NaN   \n4                 NaN                       NaN          NaN          NaN   \n..                ...                       ...          ...          ...   \n128               NaN                       NaN          NaN          NaN   \n129               NaN                       NaN          NaN          NaN   \n130               NaN                       NaN          NaN          NaN   \n131               NaN                       NaN          NaN          NaN   \n132               NaN                       NaN          NaN          NaN   \n\n    reaction-product-smiles-5 reaction-name-5 reaction-recipe-5  \\\n0                         NaN             NaN               NaN   \n1                         NaN             NaN               NaN   \n2                         NaN             NaN               NaN   \n3                         NaN             NaN               NaN   \n4                         NaN             NaN               NaN   \n..                        ...             ...               ...   \n128                       NaN             NaN               NaN   \n129                       NaN             NaN               NaN   \n130                       NaN             NaN               NaN   \n131                       NaN             NaN               NaN   \n132                       NaN             NaN               NaN   \n\n    reaction-groupby-column-5  \n0                         NaN  \n1                         NaN  \n2                         NaN  \n3                         NaN  \n4                         NaN  \n..                        ...  \n128                       NaN  \n129                       NaN  \n130                       NaN  \n131                       NaN  \n132                       NaN  \n\n[133 rows x 35 columns]",
      "text/html": "<div>\n<style scoped>\n    .dataframe tbody tr th:only-of-type {\n        vertical-align: middle;\n    }\n\n    .dataframe tbody tr th {\n        vertical-align: top;\n    }\n\n    .dataframe thead th {\n        text-align: right;\n    }\n</style>\n<table border=\"1\" class=\"dataframe\">\n  <thead>\n    <tr style=\"text-align: right;\">\n      <th></th>\n      <th>target-names</th>\n      <th>no-steps</th>\n      <th>concentration-required-mM</th>\n      <th>amount-required-uL</th>\n      <th>batch-tag</th>\n      <th>reactant-1-1</th>\n      <th>reactant-2-1</th>\n      <th>reaction-product-smiles-1</th>\n      <th>reaction-name-1</th>\n      <th>reaction-recipe-1</th>\n      <th>...</th>\n      <th>reaction-product-smiles-4</th>\n      <th>reaction-name-4</th>\n      <th>reaction-recipe-4</th>\n      <th>reaction-groupby-column-4</th>\n      <th>reactant-1-5</th>\n      <th>reactant-2-5</th>\n      <th>reaction-product-smiles-5</th>\n      <th>reaction-name-5</th>\n      <th>reaction-recipe-5</th>\n      <th>reaction-groupby-column-5</th>\n    </tr>\n  </thead>\n  <tbody>\n    <tr>\n      <th>0</th>\n      <td>x0310-x0416-merge-1-1</td>\n      <td>3</td>\n      <td>100</td>\n      <td>40</td>\n      <td>wasgo-2.0</td>\n      <td>Cn1ncc(NC(=O)OC(C)(C)C)c1N</td>\n      <td>O=C(O)C1CCCO1</td>\n      <td>Cn1ncc(NC(=O)OC(C)(C)C)c1NC(=O)C1CCCO1</td>\n      <td>Amidation</td>\n      <td>standard</td>\n      <td>...</td>\n      <td>NaN</td>\n      <td>NaN</td>\n      <td>NaN</td>\n      <td>NaN</td>\n      <td>NaN</td>\n      <td>NaN</td>\n      <td>NaN</td>\n      <td>NaN</td>\n      <td>NaN</td>\n      <td>NaN</td>\n    </tr>\n    <tr>\n      <th>1</th>\n      <td>x0310-x0416-merge-2-1</td>\n      <td>3</td>\n      <td>100</td>\n      <td>40</td>\n      <td>wasgo-2.0</td>\n      <td>CC(C)(C)OC(=O)Nc1cccc(N)c1</td>\n      <td>O=C(O)C1CCCO1</td>\n      <td>CC(C)(C)OC(=O)Nc1cccc(NC(=O)C2CCCO2)c1</td>\n      <td>Amidation</td>\n      <td>standard</td>\n      <td>...</td>\n      <td>NaN</td>\n      <td>NaN</td>\n      <td>NaN</td>\n      <td>NaN</td>\n      <td>NaN</td>\n      <td>NaN</td>\n      <td>NaN</td>\n      <td>NaN</td>\n      <td>NaN</td>\n      <td>NaN</td>\n    </tr>\n    <tr>\n      <th>2</th>\n      <td>x0310-x0416-merge-2-2</td>\n      <td>3</td>\n      <td>100</td>\n      <td>40</td>\n      <td>wasgo-2.0</td>\n      <td>CC(C)(C)OC(=O)Nc1cc(N)c(C)cc1</td>\n      <td>O=C(O)C1CCCO1</td>\n      <td>Cc1ccc(NC(=O)OC(C)(C)C)cc1NC(=O)C1CCCO1</td>\n      <td>Amidation</td>\n      <td>standard</td>\n      <td>...</td>\n      <td>NaN</td>\n      <td>NaN</td>\n      <td>NaN</td>\n      <td>NaN</td>\n      <td>NaN</td>\n      <td>NaN</td>\n      <td>NaN</td>\n      <td>NaN</td>\n      <td>NaN</td>\n      <td>NaN</td>\n    </tr>\n    <tr>\n      <th>3</th>\n      <td>x0310-x0416-merge-2-3</td>\n      <td>3</td>\n      <td>100</td>\n      <td>40</td>\n      <td>wasgo-2.0</td>\n      <td>Nc1cc(NC(=O)OC(C)(C)C)ccn1</td>\n      <td>O=C(O)C1CCCO1</td>\n      <td>CC(C)(C)OC(=O)Nc1ccnc(NC(=O)C2CCCO2)c1</td>\n      <td>Amidation</td>\n      <td>standard</td>\n      <td>...</td>\n      <td>NaN</td>\n      <td>NaN</td>\n      <td>NaN</td>\n      <td>NaN</td>\n      <td>NaN</td>\n      <td>NaN</td>\n      <td>NaN</td>\n      <td>NaN</td>\n      <td>NaN</td>\n      <td>NaN</td>\n    </tr>\n    <tr>\n      <th>4</th>\n      <td>x0310-x0416-merge-2-4</td>\n      <td>3</td>\n      <td>100</td>\n      <td>40</td>\n      <td>wasgo-2.0</td>\n      <td>CC(C)(C)OC(=O)Nc1cc(N)ccc1C</td>\n      <td>O=C(O)C1CCCO1</td>\n      <td>Cc1ccc(NC(=O)C2CCCO2)cc1NC(=O)OC(C)(C)C</td>\n      <td>Amidation</td>\n      <td>standard</td>\n      <td>...</td>\n      <td>NaN</td>\n      <td>NaN</td>\n      <td>NaN</td>\n      <td>NaN</td>\n      <td>NaN</td>\n      <td>NaN</td>\n      <td>NaN</td>\n      <td>NaN</td>\n      <td>NaN</td>\n      <td>NaN</td>\n    </tr>\n    <tr>\n      <th>...</th>\n      <td>...</td>\n      <td>...</td>\n      <td>...</td>\n      <td>...</td>\n      <td>...</td>\n      <td>...</td>\n      <td>...</td>\n      <td>...</td>\n      <td>...</td>\n      <td>...</td>\n      <td>...</td>\n      <td>...</td>\n      <td>...</td>\n      <td>...</td>\n      <td>...</td>\n      <td>...</td>\n      <td>...</td>\n      <td>...</td>\n      <td>...</td>\n      <td>...</td>\n      <td>...</td>\n    </tr>\n    <tr>\n      <th>128</th>\n      <td>x0922-x0416-merge-1-7</td>\n      <td>2</td>\n      <td>100</td>\n      <td>40</td>\n      <td>wasgo-2.0</td>\n      <td>Fc1ccc(O)cc1N</td>\n      <td>O=C(O)C1CCCO1</td>\n      <td>O=C(Nc1cc(O)ccc1F)C1CCCO1</td>\n      <td>Amidation</td>\n      <td>standard</td>\n      <td>...</td>\n      <td>NaN</td>\n      <td>NaN</td>\n      <td>NaN</td>\n      <td>NaN</td>\n      <td>NaN</td>\n      <td>NaN</td>\n      <td>NaN</td>\n      <td>NaN</td>\n      <td>NaN</td>\n      <td>NaN</td>\n    </tr>\n    <tr>\n      <th>129</th>\n      <td>x0922-x0416-merge-1-8</td>\n      <td>2</td>\n      <td>100</td>\n      <td>40</td>\n      <td>wasgo-2.0</td>\n      <td>Nc1cc(O)c(C)cc1</td>\n      <td>O=C(O)C1CCCO1</td>\n      <td>Cc1ccc(NC(=O)C2CCCO2)cc1O</td>\n      <td>Amidation</td>\n      <td>standard</td>\n      <td>...</td>\n      <td>NaN</td>\n      <td>NaN</td>\n      <td>NaN</td>\n      <td>NaN</td>\n      <td>NaN</td>\n      <td>NaN</td>\n      <td>NaN</td>\n      <td>NaN</td>\n      <td>NaN</td>\n      <td>NaN</td>\n    </tr>\n    <tr>\n      <th>130</th>\n      <td>x0922-x0416-merge-1-9</td>\n      <td>2</td>\n      <td>100</td>\n      <td>40</td>\n      <td>wasgo-2.0</td>\n      <td>Nc1cc(O)c(C)cc1C</td>\n      <td>O=C(O)C1CCCO1</td>\n      <td>Cc1cc(C)c(NC(=O)C2CCCO2)cc1O</td>\n      <td>Amidation</td>\n      <td>standard</td>\n      <td>...</td>\n      <td>NaN</td>\n      <td>NaN</td>\n      <td>NaN</td>\n      <td>NaN</td>\n      <td>NaN</td>\n      <td>NaN</td>\n      <td>NaN</td>\n      <td>NaN</td>\n      <td>NaN</td>\n      <td>NaN</td>\n    </tr>\n    <tr>\n      <th>131</th>\n      <td>x0922-x0416-merge-1-10</td>\n      <td>2</td>\n      <td>100</td>\n      <td>40</td>\n      <td>wasgo-2.0</td>\n      <td>Nc1cncc(O)c1</td>\n      <td>O=C(O)C1CCCO1</td>\n      <td>O=C(Nc1cncc(O)c1)C1CCCO1</td>\n      <td>Amidation</td>\n      <td>standard</td>\n      <td>...</td>\n      <td>NaN</td>\n      <td>NaN</td>\n      <td>NaN</td>\n      <td>NaN</td>\n      <td>NaN</td>\n      <td>NaN</td>\n      <td>NaN</td>\n      <td>NaN</td>\n      <td>NaN</td>\n      <td>NaN</td>\n    </tr>\n    <tr>\n      <th>132</th>\n      <td>x0922-x0416-merge-1-11</td>\n      <td>2</td>\n      <td>100</td>\n      <td>40</td>\n      <td>wasgo-2.0</td>\n      <td>Nc1ccnc(O)c1</td>\n      <td>O=C(O)C1CCCO1</td>\n      <td>O=C(Nc1ccnc(O)c1)C1CCCO1</td>\n      <td>Amidation</td>\n      <td>standard</td>\n      <td>...</td>\n      <td>NaN</td>\n      <td>NaN</td>\n      <td>NaN</td>\n      <td>NaN</td>\n      <td>NaN</td>\n      <td>NaN</td>\n      <td>NaN</td>\n      <td>NaN</td>\n      <td>NaN</td>\n      <td>NaN</td>\n    </tr>\n  </tbody>\n</table>\n<p>133 rows × 35 columns</p>\n</div>"
     },
     "execution_count": 151,
     "metadata": {},
     "output_type": "execute_result"
    }
   ],
   "source": [
    "df"
   ],
   "metadata": {
    "collapsed": false,
    "ExecuteTime": {
     "end_time": "2024-02-29T16:19:26.698428Z",
     "start_time": "2024-02-29T16:19:26.685230Z"
    }
   },
   "id": "887a6271a5d605d7",
   "execution_count": 151
  },
  {
   "cell_type": "code",
   "outputs": [
    {
     "data": {
      "text/plain": "Empty DataFrame\nColumns: [target-names, no-steps, concentration-required-mM, amount-required-uL, batch-tag, reactant-1-1, reactant-2-1, reaction-product-smiles-1, reaction-name-1, reaction-recipe-1, reaction-groupby-column-1, reactant-1-2, reactant-2-2, reaction-product-smiles-2, reaction-name-2, reaction-recipe-2, reaction-groupby-column-2, reactant-1-3, reactant-2-3, reaction-product-smiles-3, reaction-name-3, reaction-recipe-3, reaction-groupby-column-3, reactant-1-4, reactant-2-4, reaction-product-smiles-4, reaction-name-4, reaction-recipe-4, reaction-groupby-column-4, reactant-1-5, reactant-2-5, reaction-product-smiles-5, reaction-name-5, reaction-recipe-5, reaction-groupby-column-5]\nIndex: []\n\n[0 rows x 35 columns]",
      "text/html": "<div>\n<style scoped>\n    .dataframe tbody tr th:only-of-type {\n        vertical-align: middle;\n    }\n\n    .dataframe tbody tr th {\n        vertical-align: top;\n    }\n\n    .dataframe thead th {\n        text-align: right;\n    }\n</style>\n<table border=\"1\" class=\"dataframe\">\n  <thead>\n    <tr style=\"text-align: right;\">\n      <th></th>\n      <th>target-names</th>\n      <th>no-steps</th>\n      <th>concentration-required-mM</th>\n      <th>amount-required-uL</th>\n      <th>batch-tag</th>\n      <th>reactant-1-1</th>\n      <th>reactant-2-1</th>\n      <th>reaction-product-smiles-1</th>\n      <th>reaction-name-1</th>\n      <th>reaction-recipe-1</th>\n      <th>...</th>\n      <th>reaction-product-smiles-4</th>\n      <th>reaction-name-4</th>\n      <th>reaction-recipe-4</th>\n      <th>reaction-groupby-column-4</th>\n      <th>reactant-1-5</th>\n      <th>reactant-2-5</th>\n      <th>reaction-product-smiles-5</th>\n      <th>reaction-name-5</th>\n      <th>reaction-recipe-5</th>\n      <th>reaction-groupby-column-5</th>\n    </tr>\n  </thead>\n  <tbody>\n  </tbody>\n</table>\n<p>0 rows × 35 columns</p>\n</div>"
     },
     "execution_count": 152,
     "metadata": {},
     "output_type": "execute_result"
    }
   ],
   "source": [
    "# check if reaction-product-smiles-1 is still 'product-1'\n",
    "df[df['reactant-1-3'] == 'product-2']"
   ],
   "metadata": {
    "collapsed": false,
    "ExecuteTime": {
     "end_time": "2024-02-29T16:19:44.727098Z",
     "start_time": "2024-02-29T16:19:44.719019Z"
    }
   },
   "id": "376be709d14d28eb",
   "execution_count": 152
  },
  {
   "cell_type": "code",
   "outputs": [],
   "source": [
    "df.to_pickle('../base_compounds/wt_designs_MASTER_COMPLETE_v1_29Feb.pkl')"
   ],
   "metadata": {
    "collapsed": false,
    "ExecuteTime": {
     "end_time": "2024-02-29T16:19:52.264112Z",
     "start_time": "2024-02-29T16:19:52.259925Z"
    }
   },
   "id": "16833b267f0166fd",
   "execution_count": 153
  },
  {
   "cell_type": "code",
   "outputs": [],
   "source": [],
   "metadata": {
    "collapsed": false
   },
   "id": "b87ec21b87eaf661"
  }
 ],
 "metadata": {
  "kernelspec": {
   "display_name": "Python 3",
   "language": "python",
   "name": "python3"
  },
  "language_info": {
   "codemirror_mode": {
    "name": "ipython",
    "version": 2
   },
   "file_extension": ".py",
   "mimetype": "text/x-python",
   "name": "python",
   "nbconvert_exporter": "python",
   "pygments_lexer": "ipython2",
   "version": "2.7.6"
  }
 },
 "nbformat": 4,
 "nbformat_minor": 5
}

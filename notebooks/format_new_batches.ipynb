{
 "cells": [
  {
   "cell_type": "code",
   "execution_count": 1,
   "id": "initial_id",
   "metadata": {
    "collapsed": true,
    "ExecuteTime": {
     "end_time": "2024-03-27T11:28:30.733285Z",
     "start_time": "2024-03-27T11:28:28.152995Z"
    }
   },
   "outputs": [],
   "source": [
    "import pandas as pd"
   ]
  },
  {
   "cell_type": "code",
   "outputs": [],
   "source": [
    "batch1_todo = [\n",
    "    \"N#CCC(=O)Nc1cccc(NC(=O)CO)c1\",\n",
    "    \"Cc1ccc(NC(=O)CC#N)cc1NC(=O)CO\",\n",
    "    \"N#CCC(=O)Nc1ccnc(NC(=O)CO)c1\",\n",
    "    \"Cc1ccc(NC(=O)CO)cc1NC(=O)CC#N\",\n",
    "    \"Cc1ccc(NC(=O)CO)cc1NC(=O)CC#N\",\n",
    "    \"N#CCC(=O)Nc1cc(NC(=O)CO)ccc1F\",\n",
    "    \"Cc1cc(NC(=O)CO)cc(NC(=O)CC#N)c1\",\n",
    "    \"Cc1cc(NC(=O)CO)cc(NC(=O)CC#N)c1\"\n",
    "]\n",
    "\n",
    "batch3_todo = [\n",
    "    \"CN(C)C(=O)c1ccccc1OC1CCN(C)C1=O\",\n",
    "    \"CN1CCC(Oc2ccccc2OCC(=O)N2CCOCC2)C1=O\",\n",
    "    \"Cc1cccc(OC2CCN(C)C2=O)c1OCC(=O)N1CCOCC1\",\n",
    "    \"Cc1cc(C)c(OCC(=O)N2CCOCC2)c(OC2CCN(C)C2=O)c1\",\n",
    "    \"Cc1ccc(OC2CCN(C)C2=O)c(OCC(=O)N2CCOCC2)c1\",\n",
    "    \"Cc1cnc(OCC(=O)N2CCOCC2)c(OC2CCN(C)C2=O)c1\",\n",
    "    \"CC(=O)Nc1cccc(NC(C)=O)c1CNS(C)(=O)=O\",\n",
    "    \"CC(=O)Nc1c(CNS(C)(=O)=O)ccc(OCC(=O)N(C)C)c1Br\",\n",
    "    \"CC(=O)Nc1cccc(OCC(=O)N(C)C)c1CNS(C)(=O)=O\"\n",
    "]\n",
    "\n",
    "batch4_todo = [\n",
    "    \"CC(=O)Nc1cc(C)ccc1NC(=O)CO\",\n",
    "    \"CC(=O)Nc1ccc(C)cc1NC(=O)CO\",\n",
    "    \"CC(=O)Nc1ccc(C)cc1NC(=O)CO\",\n",
    "    \"CC(=O)Nc1cccc(NC(=O)CO)c1\",\n",
    "    \"CC(=O)Nc1cc(NC(=O)CO)ccc1C\",\n",
    "    \"CC(=O)Nc1cc(NC(=O)CO)ccn1\",\n",
    "    \"CC(=O)Nc1ccc(C)c(NC(=O)CO)c1\",\n",
    "    \"CC(=O)Nc1ccc(C)c(NC(=O)CO)c1\"\n",
    "]"
   ],
   "metadata": {
    "collapsed": false,
    "ExecuteTime": {
     "end_time": "2024-03-27T11:39:39.969234Z",
     "start_time": "2024-03-27T11:39:39.965377Z"
    }
   },
   "id": "6a8f54f4e6195a04",
   "execution_count": 3
  },
  {
   "cell_type": "code",
   "outputs": [
    {
     "data": {
      "text/plain": "                                 smiles  \\\n0     Cn1ncc(NC(=O)CC#N)c1NC(=O)C1CCCO1   \n1     N#CCC(=O)Nc1cccc(NC(=O)C2CCCO2)c1   \n2    Cc1ccc(NC(=O)CC#N)cc1NC(=O)C1CCCO1   \n3     N#CCC(=O)Nc1ccnc(NC(=O)C2CCCO2)c1   \n4    Cc1ccc(NC(=O)C2CCCO2)cc1NC(=O)CC#N   \n..                                  ...   \n135        N#CCC(=O)Nc1ccncc1(NC(=O)CO)   \n136       Cc1cccc(NC(=O)CO)c1NC(=O)CC#N   \n137       N#CCC(=O)Nc1c(NC(=O)CO)cccc1F   \n138     c1cc(NC(=O)CO)c(NC(=O)CC#N)cc1F   \n139     c1cc(NC(=O)CO)c(NC(=O)CC#N)cc1F   \n\n                                             reactants  \\\n0    [('Cn1ncc(NC(=O)OC(C)(C)C)c1N', 'O=C(O)C1CCCO1...   \n1    [('CC(C)(C)OC(=O)Nc1cccc(N)c1', 'O=C(O)C1CCCO1...   \n2    [('CC(C)(C)OC(=O)Nc1cc(N)c(C)cc1', 'O=C(O)C1CC...   \n3    [('Nc1cc(NC(=O)OC(C)(C)C)ccn1', 'O=C(O)C1CCCO1...   \n4    [('CC(C)(C)OC(=O)Nc1cc(N)ccc1C', 'O=C(O)C1CCCO...   \n..                                                 ...   \n135  [('CC(C)(C)OC(=O)Nc1ccncc1(N)', 'O=C(O)CO'), '...   \n136  [('CC(C)(C)OC(=O)Nc1c(C)cccc1(N)', 'O=C(O)CO')...   \n137  [('CC(C)(C)OC(=O)Nc1c(F)cccc1(N)', 'O=C(O)CO')...   \n138  [('CC(C)(C)OC(=O)Nc1cc(F)ccc1(N)', 'O=C(O)CO')...   \n139  [('CC(C)(C)OC(=O)Nc1cc(C)ccc1(N)', 'O=C(O)CO')...   \n\n                                       reaction_names  num_steps  \\\n0    ['Amidation', 'N-Boc_deprotection', 'Amidation']          3   \n1    ['Amidation', 'N-Boc_deprotection', 'Amidation']          3   \n2    ['Amidation', 'N-Boc_deprotection', 'Amidation']          3   \n3    ['Amidation', 'N-Boc_deprotection', 'Amidation']          3   \n4    ['Amidation', 'N-Boc_deprotection', 'Amidation']          3   \n..                                                ...        ...   \n135  ['Amidation', 'N-Boc_deprotection', 'Amidation']          3   \n136  ['Amidation', 'N-Boc_deprotection', 'Amidation']          3   \n137  ['Amidation', 'N-Boc_deprotection', 'Amidation']          3   \n138  ['Amidation', 'N-Boc_deprotection', 'Amidation']          3   \n139  ['Amidation', 'N-Boc_deprotection', 'Amidation']          3   \n\n              compound_set  batch  \\\n0    x0310-x0416-merge-1-1      0   \n1    x0310-x0416-merge-2-1      0   \n2    x0310-x0416-merge-2-2      0   \n3    x0310-x0416-merge-2-3      0   \n4    x0310-x0416-merge-2-4      0   \n..                     ...    ...   \n135  x0310-x0732-merge-3-3     13   \n136  x0310-x0732-merge-3-4     13   \n137  x0310-x0732-merge-3-5     13   \n138  x0310-x0732-merge-3-6     13   \n139  x0310-x0732-merge-3-7     13   \n\n                                                  hits  \n0    A71EV2A-x0310_A_147_A71EV2A-x0501+A+152+1 A71E...  \n1    A71EV2A-x0310_A_147_A71EV2A-x0501+A+152+1 A71E...  \n2    A71EV2A-x0310_A_147_A71EV2A-x0501+A+152+1 A71E...  \n3    A71EV2A-x0310_A_147_A71EV2A-x0501+A+152+1 A71E...  \n4    A71EV2A-x0310_A_147_A71EV2A-x0501+A+152+1 A71E...  \n..                                                 ...  \n135  A71EV2A-x0310_A_147_A71EV2A-x0501+A+152+1 A71E...  \n136  A71EV2A-x0310_A_147_A71EV2A-x0501+A+152+1 A71E...  \n137  A71EV2A-x0310_A_147_A71EV2A-x0501+A+152+1 A71E...  \n138  A71EV2A-x0310_A_147_A71EV2A-x0501+A+152+1 A71E...  \n139  A71EV2A-x0310_A_147_A71EV2A-x0501+A+152+1 A71E...  \n\n[140 rows x 7 columns]",
      "text/html": "<div>\n<style scoped>\n    .dataframe tbody tr th:only-of-type {\n        vertical-align: middle;\n    }\n\n    .dataframe tbody tr th {\n        vertical-align: top;\n    }\n\n    .dataframe thead th {\n        text-align: right;\n    }\n</style>\n<table border=\"1\" class=\"dataframe\">\n  <thead>\n    <tr style=\"text-align: right;\">\n      <th></th>\n      <th>smiles</th>\n      <th>reactants</th>\n      <th>reaction_names</th>\n      <th>num_steps</th>\n      <th>compound_set</th>\n      <th>batch</th>\n      <th>hits</th>\n    </tr>\n  </thead>\n  <tbody>\n    <tr>\n      <th>0</th>\n      <td>Cn1ncc(NC(=O)CC#N)c1NC(=O)C1CCCO1</td>\n      <td>[('Cn1ncc(NC(=O)OC(C)(C)C)c1N', 'O=C(O)C1CCCO1...</td>\n      <td>['Amidation', 'N-Boc_deprotection', 'Amidation']</td>\n      <td>3</td>\n      <td>x0310-x0416-merge-1-1</td>\n      <td>0</td>\n      <td>A71EV2A-x0310_A_147_A71EV2A-x0501+A+152+1 A71E...</td>\n    </tr>\n    <tr>\n      <th>1</th>\n      <td>N#CCC(=O)Nc1cccc(NC(=O)C2CCCO2)c1</td>\n      <td>[('CC(C)(C)OC(=O)Nc1cccc(N)c1', 'O=C(O)C1CCCO1...</td>\n      <td>['Amidation', 'N-Boc_deprotection', 'Amidation']</td>\n      <td>3</td>\n      <td>x0310-x0416-merge-2-1</td>\n      <td>0</td>\n      <td>A71EV2A-x0310_A_147_A71EV2A-x0501+A+152+1 A71E...</td>\n    </tr>\n    <tr>\n      <th>2</th>\n      <td>Cc1ccc(NC(=O)CC#N)cc1NC(=O)C1CCCO1</td>\n      <td>[('CC(C)(C)OC(=O)Nc1cc(N)c(C)cc1', 'O=C(O)C1CC...</td>\n      <td>['Amidation', 'N-Boc_deprotection', 'Amidation']</td>\n      <td>3</td>\n      <td>x0310-x0416-merge-2-2</td>\n      <td>0</td>\n      <td>A71EV2A-x0310_A_147_A71EV2A-x0501+A+152+1 A71E...</td>\n    </tr>\n    <tr>\n      <th>3</th>\n      <td>N#CCC(=O)Nc1ccnc(NC(=O)C2CCCO2)c1</td>\n      <td>[('Nc1cc(NC(=O)OC(C)(C)C)ccn1', 'O=C(O)C1CCCO1...</td>\n      <td>['Amidation', 'N-Boc_deprotection', 'Amidation']</td>\n      <td>3</td>\n      <td>x0310-x0416-merge-2-3</td>\n      <td>0</td>\n      <td>A71EV2A-x0310_A_147_A71EV2A-x0501+A+152+1 A71E...</td>\n    </tr>\n    <tr>\n      <th>4</th>\n      <td>Cc1ccc(NC(=O)C2CCCO2)cc1NC(=O)CC#N</td>\n      <td>[('CC(C)(C)OC(=O)Nc1cc(N)ccc1C', 'O=C(O)C1CCCO...</td>\n      <td>['Amidation', 'N-Boc_deprotection', 'Amidation']</td>\n      <td>3</td>\n      <td>x0310-x0416-merge-2-4</td>\n      <td>0</td>\n      <td>A71EV2A-x0310_A_147_A71EV2A-x0501+A+152+1 A71E...</td>\n    </tr>\n    <tr>\n      <th>...</th>\n      <td>...</td>\n      <td>...</td>\n      <td>...</td>\n      <td>...</td>\n      <td>...</td>\n      <td>...</td>\n      <td>...</td>\n    </tr>\n    <tr>\n      <th>135</th>\n      <td>N#CCC(=O)Nc1ccncc1(NC(=O)CO)</td>\n      <td>[('CC(C)(C)OC(=O)Nc1ccncc1(N)', 'O=C(O)CO'), '...</td>\n      <td>['Amidation', 'N-Boc_deprotection', 'Amidation']</td>\n      <td>3</td>\n      <td>x0310-x0732-merge-3-3</td>\n      <td>13</td>\n      <td>A71EV2A-x0310_A_147_A71EV2A-x0501+A+152+1 A71E...</td>\n    </tr>\n    <tr>\n      <th>136</th>\n      <td>Cc1cccc(NC(=O)CO)c1NC(=O)CC#N</td>\n      <td>[('CC(C)(C)OC(=O)Nc1c(C)cccc1(N)', 'O=C(O)CO')...</td>\n      <td>['Amidation', 'N-Boc_deprotection', 'Amidation']</td>\n      <td>3</td>\n      <td>x0310-x0732-merge-3-4</td>\n      <td>13</td>\n      <td>A71EV2A-x0310_A_147_A71EV2A-x0501+A+152+1 A71E...</td>\n    </tr>\n    <tr>\n      <th>137</th>\n      <td>N#CCC(=O)Nc1c(NC(=O)CO)cccc1F</td>\n      <td>[('CC(C)(C)OC(=O)Nc1c(F)cccc1(N)', 'O=C(O)CO')...</td>\n      <td>['Amidation', 'N-Boc_deprotection', 'Amidation']</td>\n      <td>3</td>\n      <td>x0310-x0732-merge-3-5</td>\n      <td>13</td>\n      <td>A71EV2A-x0310_A_147_A71EV2A-x0501+A+152+1 A71E...</td>\n    </tr>\n    <tr>\n      <th>138</th>\n      <td>c1cc(NC(=O)CO)c(NC(=O)CC#N)cc1F</td>\n      <td>[('CC(C)(C)OC(=O)Nc1cc(F)ccc1(N)', 'O=C(O)CO')...</td>\n      <td>['Amidation', 'N-Boc_deprotection', 'Amidation']</td>\n      <td>3</td>\n      <td>x0310-x0732-merge-3-6</td>\n      <td>13</td>\n      <td>A71EV2A-x0310_A_147_A71EV2A-x0501+A+152+1 A71E...</td>\n    </tr>\n    <tr>\n      <th>139</th>\n      <td>c1cc(NC(=O)CO)c(NC(=O)CC#N)cc1F</td>\n      <td>[('CC(C)(C)OC(=O)Nc1cc(C)ccc1(N)', 'O=C(O)CO')...</td>\n      <td>['Amidation', 'N-Boc_deprotection', 'Amidation']</td>\n      <td>3</td>\n      <td>x0310-x0732-merge-3-7</td>\n      <td>13</td>\n      <td>A71EV2A-x0310_A_147_A71EV2A-x0501+A+152+1 A71E...</td>\n    </tr>\n  </tbody>\n</table>\n<p>140 rows × 7 columns</p>\n</div>"
     },
     "execution_count": 4,
     "metadata": {},
     "output_type": "execute_result"
    }
   ],
   "source": [
    "df = pd.read_pickle(\"/Users/kate_fieseler/PycharmProjects/EV-A71-2A-syndirella-run/base_compounds/syndirella_input_MASTER_run3.pkl\")\n",
    "df"
   ],
   "metadata": {
    "collapsed": false,
    "ExecuteTime": {
     "end_time": "2024-03-27T11:40:02.316409Z",
     "start_time": "2024-03-27T11:40:02.300086Z"
    }
   },
   "id": "64a9b2735042217a",
   "execution_count": 4
  },
  {
   "cell_type": "code",
   "outputs": [],
   "source": [
    "batch1 = df[df[\"batch\"] == 1]\n",
    "batch3 = df[df[\"batch\"] == 3]\n",
    "batch4 = df[df[\"batch\"] == 4]"
   ],
   "metadata": {
    "collapsed": false,
    "ExecuteTime": {
     "end_time": "2024-03-27T11:40:37.349146Z",
     "start_time": "2024-03-27T11:40:37.344858Z"
    }
   },
   "id": "9a3c06cb6e9a86a5",
   "execution_count": 5
  },
  {
   "cell_type": "code",
   "outputs": [
    {
     "data": {
      "text/plain": "                                    smiles  \\\n10            N#CCC(=O)Nc1cccc(NC(=O)CO)c1   \n11           Cc1ccc(NC(=O)CC#N)cc1NC(=O)CO   \n12            N#CCC(=O)Nc1ccnc(NC(=O)CO)c1   \n13           Cc1ccc(NC(=O)CO)cc1NC(=O)CC#N   \n14           Cc1ccc(NC(=O)CO)cc1NC(=O)CC#N   \n15           N#CCC(=O)Nc1cc(NC(=O)CO)ccc1F   \n16         Cc1cc(NC(=O)CO)cc(NC(=O)CC#N)c1   \n17         Cc1cc(NC(=O)CO)cc(NC(=O)CC#N)c1   \n18  Cc1cc(NC(=O)CC#N)cc(OCC(=O)N2CCOCC2)c1   \n19    Cc1cnc(OCC(=O)N2CCOCC2)cc1NC(=O)CC#N   \n\n                                            reactants  \\\n10  [('CC(C)(C)OC(=O)Nc1cccc(N)c1', 'O=C(O)CO'), '...   \n11  [('CC(C)(C)OC(=O)Nc1cc(N)c(C)cc1', 'O=C(O)CO')...   \n12  [('Nc1cc(NC(=O)OC(C)(C)C)ccn1', 'O=C(O)CO'), '...   \n13  [('CC(C)(C)OC(=O)Nc1cc(N)ccc1C', 'O=C(O)CO'), ...   \n14  [('CC(C)(C)OC(=O)Nc1cc(N)ccc1C', 'O=C(O)CO'), ...   \n15  [('CC(C)(C)OC(=O)Nc1cc(N)ccc1F', 'O=C(O)CO'), ...   \n16  [('CC(C)(C)OC(=O)Nc1cc(C)cc(N)c1', 'O=C(O)CO')...   \n17  [('CC(C)(C)OC(=O)Nc1cc(N)cc(C)c1', 'O=C(O)CO')...   \n18  [('Cc1cc(O)cc(N)c1', 'N#CCC(=O)O'), ('Cc1cc(O)...   \n19  [('Cc1cnc(O)cc1N', 'N#CCC(=O)O'), ('Cc1cnc(O)c...   \n\n                                      reaction_names  num_steps  \\\n10  ['Amidation', 'N-Boc_deprotection', 'Amidation']          3   \n11  ['Amidation', 'N-Boc_deprotection', 'Amidation']          3   \n12  ['Amidation', 'N-Boc_deprotection', 'Amidation']          3   \n13  ['Amidation', 'N-Boc_deprotection', 'Amidation']          3   \n14  ['Amidation', 'N-Boc_deprotection', 'Amidation']          3   \n15  ['Amidation', 'N-Boc_deprotection', 'Amidation']          3   \n16  ['Amidation', 'N-Boc_deprotection', 'Amidation']          3   \n17  ['Amidation', 'N-Boc_deprotection', 'Amidation']          3   \n18       ['Amidation', 'Williamson_ether_synthesis']          2   \n19       ['Amidation', 'Williamson_ether_synthesis']          2   \n\n             compound_set  batch  \\\n10  x0310-x0732-merge-2-1      1   \n11  x0310-x0732-merge-2-2      1   \n12  x0310-x0732-merge-2-3      1   \n13  x0310-x0732-merge-2-4      1   \n14  x0310-x0732-merge-2-5      1   \n15  x0310-x0732-merge-2-6      1   \n16  x0310-x0732-merge-2-7      1   \n17  x0310-x0732-merge-2-8      1   \n18  x0310-x0739-merge-2-1      1   \n19  x0310-x0739-merge-2-2      1   \n\n                                                 hits  \n10  A71EV2A-x0310_A_147_A71EV2A-x0501+A+152+1 A71E...  \n11  A71EV2A-x0310_A_147_A71EV2A-x0501+A+152+1 A71E...  \n12  A71EV2A-x0310_A_147_A71EV2A-x0501+A+152+1 A71E...  \n13  A71EV2A-x0310_A_147_A71EV2A-x0501+A+152+1 A71E...  \n14  A71EV2A-x0310_A_147_A71EV2A-x0501+A+152+1 A71E...  \n15  A71EV2A-x0310_A_147_A71EV2A-x0501+A+152+1 A71E...  \n16  A71EV2A-x0310_A_147_A71EV2A-x0501+A+152+1 A71E...  \n17  A71EV2A-x0310_A_147_A71EV2A-x0501+A+152+1 A71E...  \n18  A71EV2A-x0310_A_147_A71EV2A-x0501+A+152+1 A71E...  \n19  A71EV2A-x0310_A_147_A71EV2A-x0501+A+152+1 A71E...  ",
      "text/html": "<div>\n<style scoped>\n    .dataframe tbody tr th:only-of-type {\n        vertical-align: middle;\n    }\n\n    .dataframe tbody tr th {\n        vertical-align: top;\n    }\n\n    .dataframe thead th {\n        text-align: right;\n    }\n</style>\n<table border=\"1\" class=\"dataframe\">\n  <thead>\n    <tr style=\"text-align: right;\">\n      <th></th>\n      <th>smiles</th>\n      <th>reactants</th>\n      <th>reaction_names</th>\n      <th>num_steps</th>\n      <th>compound_set</th>\n      <th>batch</th>\n      <th>hits</th>\n    </tr>\n  </thead>\n  <tbody>\n    <tr>\n      <th>10</th>\n      <td>N#CCC(=O)Nc1cccc(NC(=O)CO)c1</td>\n      <td>[('CC(C)(C)OC(=O)Nc1cccc(N)c1', 'O=C(O)CO'), '...</td>\n      <td>['Amidation', 'N-Boc_deprotection', 'Amidation']</td>\n      <td>3</td>\n      <td>x0310-x0732-merge-2-1</td>\n      <td>1</td>\n      <td>A71EV2A-x0310_A_147_A71EV2A-x0501+A+152+1 A71E...</td>\n    </tr>\n    <tr>\n      <th>11</th>\n      <td>Cc1ccc(NC(=O)CC#N)cc1NC(=O)CO</td>\n      <td>[('CC(C)(C)OC(=O)Nc1cc(N)c(C)cc1', 'O=C(O)CO')...</td>\n      <td>['Amidation', 'N-Boc_deprotection', 'Amidation']</td>\n      <td>3</td>\n      <td>x0310-x0732-merge-2-2</td>\n      <td>1</td>\n      <td>A71EV2A-x0310_A_147_A71EV2A-x0501+A+152+1 A71E...</td>\n    </tr>\n    <tr>\n      <th>12</th>\n      <td>N#CCC(=O)Nc1ccnc(NC(=O)CO)c1</td>\n      <td>[('Nc1cc(NC(=O)OC(C)(C)C)ccn1', 'O=C(O)CO'), '...</td>\n      <td>['Amidation', 'N-Boc_deprotection', 'Amidation']</td>\n      <td>3</td>\n      <td>x0310-x0732-merge-2-3</td>\n      <td>1</td>\n      <td>A71EV2A-x0310_A_147_A71EV2A-x0501+A+152+1 A71E...</td>\n    </tr>\n    <tr>\n      <th>13</th>\n      <td>Cc1ccc(NC(=O)CO)cc1NC(=O)CC#N</td>\n      <td>[('CC(C)(C)OC(=O)Nc1cc(N)ccc1C', 'O=C(O)CO'), ...</td>\n      <td>['Amidation', 'N-Boc_deprotection', 'Amidation']</td>\n      <td>3</td>\n      <td>x0310-x0732-merge-2-4</td>\n      <td>1</td>\n      <td>A71EV2A-x0310_A_147_A71EV2A-x0501+A+152+1 A71E...</td>\n    </tr>\n    <tr>\n      <th>14</th>\n      <td>Cc1ccc(NC(=O)CO)cc1NC(=O)CC#N</td>\n      <td>[('CC(C)(C)OC(=O)Nc1cc(N)ccc1C', 'O=C(O)CO'), ...</td>\n      <td>['Amidation', 'N-Boc_deprotection', 'Amidation']</td>\n      <td>3</td>\n      <td>x0310-x0732-merge-2-5</td>\n      <td>1</td>\n      <td>A71EV2A-x0310_A_147_A71EV2A-x0501+A+152+1 A71E...</td>\n    </tr>\n    <tr>\n      <th>15</th>\n      <td>N#CCC(=O)Nc1cc(NC(=O)CO)ccc1F</td>\n      <td>[('CC(C)(C)OC(=O)Nc1cc(N)ccc1F', 'O=C(O)CO'), ...</td>\n      <td>['Amidation', 'N-Boc_deprotection', 'Amidation']</td>\n      <td>3</td>\n      <td>x0310-x0732-merge-2-6</td>\n      <td>1</td>\n      <td>A71EV2A-x0310_A_147_A71EV2A-x0501+A+152+1 A71E...</td>\n    </tr>\n    <tr>\n      <th>16</th>\n      <td>Cc1cc(NC(=O)CO)cc(NC(=O)CC#N)c1</td>\n      <td>[('CC(C)(C)OC(=O)Nc1cc(C)cc(N)c1', 'O=C(O)CO')...</td>\n      <td>['Amidation', 'N-Boc_deprotection', 'Amidation']</td>\n      <td>3</td>\n      <td>x0310-x0732-merge-2-7</td>\n      <td>1</td>\n      <td>A71EV2A-x0310_A_147_A71EV2A-x0501+A+152+1 A71E...</td>\n    </tr>\n    <tr>\n      <th>17</th>\n      <td>Cc1cc(NC(=O)CO)cc(NC(=O)CC#N)c1</td>\n      <td>[('CC(C)(C)OC(=O)Nc1cc(N)cc(C)c1', 'O=C(O)CO')...</td>\n      <td>['Amidation', 'N-Boc_deprotection', 'Amidation']</td>\n      <td>3</td>\n      <td>x0310-x0732-merge-2-8</td>\n      <td>1</td>\n      <td>A71EV2A-x0310_A_147_A71EV2A-x0501+A+152+1 A71E...</td>\n    </tr>\n    <tr>\n      <th>18</th>\n      <td>Cc1cc(NC(=O)CC#N)cc(OCC(=O)N2CCOCC2)c1</td>\n      <td>[('Cc1cc(O)cc(N)c1', 'N#CCC(=O)O'), ('Cc1cc(O)...</td>\n      <td>['Amidation', 'Williamson_ether_synthesis']</td>\n      <td>2</td>\n      <td>x0310-x0739-merge-2-1</td>\n      <td>1</td>\n      <td>A71EV2A-x0310_A_147_A71EV2A-x0501+A+152+1 A71E...</td>\n    </tr>\n    <tr>\n      <th>19</th>\n      <td>Cc1cnc(OCC(=O)N2CCOCC2)cc1NC(=O)CC#N</td>\n      <td>[('Cc1cnc(O)cc1N', 'N#CCC(=O)O'), ('Cc1cnc(O)c...</td>\n      <td>['Amidation', 'Williamson_ether_synthesis']</td>\n      <td>2</td>\n      <td>x0310-x0739-merge-2-2</td>\n      <td>1</td>\n      <td>A71EV2A-x0310_A_147_A71EV2A-x0501+A+152+1 A71E...</td>\n    </tr>\n  </tbody>\n</table>\n</div>"
     },
     "execution_count": 6,
     "metadata": {},
     "output_type": "execute_result"
    }
   ],
   "source": [
    "batch1 "
   ],
   "metadata": {
    "collapsed": false,
    "ExecuteTime": {
     "end_time": "2024-03-27T11:40:43.983710Z",
     "start_time": "2024-03-27T11:40:43.976818Z"
    }
   },
   "id": "1deee042901bece3",
   "execution_count": 6
  },
  {
   "cell_type": "code",
   "outputs": [],
   "source": [
    "batch1_new = batch1[batch1[\"smiles\"].isin(batch1_todo)]\n",
    "batch1_new\n",
    "batch1_new.to_csv('/Users/kate_fieseler/PycharmProjects/EV-A71-2A-syndirella-run/batches_run5/batch1.csv')"
   ],
   "metadata": {
    "collapsed": false,
    "ExecuteTime": {
     "end_time": "2024-03-27T11:42:35.258148Z",
     "start_time": "2024-03-27T11:42:35.236981Z"
    }
   },
   "id": "113ff3b473e36459",
   "execution_count": 9
  },
  {
   "cell_type": "code",
   "outputs": [
    {
     "data": {
      "text/plain": "                                           smiles  \\\n30                CN(C)C(=O)c1ccccc1OC1CCN(C)C1=O   \n31           CN1CCC(Oc2ccccc2OCC(=O)N2CCOCC2)C1=O   \n32        Cc1cccc(OC2CCN(C)C2=O)c1OCC(=O)N1CCOCC1   \n33   Cc1cc(C)c(OCC(=O)N2CCOCC2)c(OC2CCN(C)C2=O)c1   \n34      Cc1ccc(OC2CCN(C)C2=O)c(OCC(=O)N2CCOCC2)c1   \n35      Cc1cnc(OCC(=O)N2CCOCC2)c(OC2CCN(C)C2=O)c1   \n36           CC(=O)Nc1cccc(NC(C)=O)c1CNS(C)(=O)=O   \n37  CC(=O)Nc1c(CNS(C)(=O)=O)ccc(OCC(=O)N(C)C)c1Br   \n38      CC(=O)Nc1cccc(OCC(=O)N(C)C)c1CNS(C)(=O)=O   \n\n                                            reactants  \\\n30        [('CN(C)C(=O)c1ccccc1Cl', 'O=C1C(O)CCN1C')]   \n31  [('C[Si](C)(Oc1ccccc1O)C(C)(C)C', 'O=C1C(Cl)CC...   \n32  [('Cc1cccc(O)c1OCc1ccccc1', 'O=C1C(Cl)CCN1C'),...   \n33  [('Cc1cc(O)c(OCc2ccccc2)c(C)c1', 'O=C1C(Cl)CCN...   \n34  [('Cc1cc(OCc2ccccc2)c(O)cc1', 'O=C1C(Cl)CCN1C'...   \n35  [('Cc1cnc(OCc2ccccc2)c(O)c1', 'O=C1C(Cl)CCN1C'...   \n36  [('Brc1c(N)cccc1NC(=O)OC(C)(C)C', 'CC(=O)O'), ...   \n37  [('Fc1ccc(O)c(Br)c1N', 'CC(=O)O'), ('CC(=O)Nc1...   \n38  [('Nc1cccc(O)c1Br', 'CC(=O)O'), ('CC(=O)Nc1ccc...   \n\n                                       reaction_names  num_steps  \\\n30                      ['Nucleophilic_substitution']          1   \n31  ['Williamson_ether_synthesis', 'TBS_alcohol_de...          3   \n32  ['Williamson_ether_synthesis', 'Benzyl_alcohol...          3   \n33  ['Williamson_ether_synthesis', 'Benzyl_alcohol...          3   \n34  ['Williamson_ether_synthesis', 'Benzyl_alcohol...          3   \n35  ['Williamson_ether_synthesis', 'Benzyl_alcohol...          3   \n36  ['Amidation', 'N-Boc_deprotection', 'Amidation...          4   \n37  ['Amidation', 'Williamson_ether_synthesis', 'S...          3   \n38  ['Amidation', 'Williamson_ether_synthesis', 'S...          3   \n\n                   compound_set  batch  \\\n30        x0528-x0450-merge-1-2      3   \n31        x0528-x0739-merge-1-1      3   \n32        x0528-x0739-merge-1-2      3   \n33        x0528-x0739-merge-1-3      3   \n34        x0528-x0739-merge-1-4      3   \n35        x0528-x0739-merge-1-5      3   \n36        x0884-x0719-merge-1-1      3   \n37  x0884-x0719-x0922-merge-2-1      3   \n38  x0884-x0719-x0922-merge-2-2      3   \n\n                                                 hits  \n30                                                NaN  \n31  A71EV2A-x0528_A_147_A71EV2A-x0501+A+152+1 A71E...  \n32  A71EV2A-x0528_A_147_A71EV2A-x0501+A+152+1 A71E...  \n33  A71EV2A-x0528_A_147_A71EV2A-x0501+A+152+1 A71E...  \n34  A71EV2A-x0528_A_147_A71EV2A-x0501+A+152+1 A71E...  \n35  A71EV2A-x0528_A_147_A71EV2A-x0501+A+152+1 A71E...  \n36                                                NaN  \n37                                                NaN  \n38                                                NaN  ",
      "text/html": "<div>\n<style scoped>\n    .dataframe tbody tr th:only-of-type {\n        vertical-align: middle;\n    }\n\n    .dataframe tbody tr th {\n        vertical-align: top;\n    }\n\n    .dataframe thead th {\n        text-align: right;\n    }\n</style>\n<table border=\"1\" class=\"dataframe\">\n  <thead>\n    <tr style=\"text-align: right;\">\n      <th></th>\n      <th>smiles</th>\n      <th>reactants</th>\n      <th>reaction_names</th>\n      <th>num_steps</th>\n      <th>compound_set</th>\n      <th>batch</th>\n      <th>hits</th>\n    </tr>\n  </thead>\n  <tbody>\n    <tr>\n      <th>30</th>\n      <td>CN(C)C(=O)c1ccccc1OC1CCN(C)C1=O</td>\n      <td>[('CN(C)C(=O)c1ccccc1Cl', 'O=C1C(O)CCN1C')]</td>\n      <td>['Nucleophilic_substitution']</td>\n      <td>1</td>\n      <td>x0528-x0450-merge-1-2</td>\n      <td>3</td>\n      <td>NaN</td>\n    </tr>\n    <tr>\n      <th>31</th>\n      <td>CN1CCC(Oc2ccccc2OCC(=O)N2CCOCC2)C1=O</td>\n      <td>[('C[Si](C)(Oc1ccccc1O)C(C)(C)C', 'O=C1C(Cl)CC...</td>\n      <td>['Williamson_ether_synthesis', 'TBS_alcohol_de...</td>\n      <td>3</td>\n      <td>x0528-x0739-merge-1-1</td>\n      <td>3</td>\n      <td>A71EV2A-x0528_A_147_A71EV2A-x0501+A+152+1 A71E...</td>\n    </tr>\n    <tr>\n      <th>32</th>\n      <td>Cc1cccc(OC2CCN(C)C2=O)c1OCC(=O)N1CCOCC1</td>\n      <td>[('Cc1cccc(O)c1OCc1ccccc1', 'O=C1C(Cl)CCN1C'),...</td>\n      <td>['Williamson_ether_synthesis', 'Benzyl_alcohol...</td>\n      <td>3</td>\n      <td>x0528-x0739-merge-1-2</td>\n      <td>3</td>\n      <td>A71EV2A-x0528_A_147_A71EV2A-x0501+A+152+1 A71E...</td>\n    </tr>\n    <tr>\n      <th>33</th>\n      <td>Cc1cc(C)c(OCC(=O)N2CCOCC2)c(OC2CCN(C)C2=O)c1</td>\n      <td>[('Cc1cc(O)c(OCc2ccccc2)c(C)c1', 'O=C1C(Cl)CCN...</td>\n      <td>['Williamson_ether_synthesis', 'Benzyl_alcohol...</td>\n      <td>3</td>\n      <td>x0528-x0739-merge-1-3</td>\n      <td>3</td>\n      <td>A71EV2A-x0528_A_147_A71EV2A-x0501+A+152+1 A71E...</td>\n    </tr>\n    <tr>\n      <th>34</th>\n      <td>Cc1ccc(OC2CCN(C)C2=O)c(OCC(=O)N2CCOCC2)c1</td>\n      <td>[('Cc1cc(OCc2ccccc2)c(O)cc1', 'O=C1C(Cl)CCN1C'...</td>\n      <td>['Williamson_ether_synthesis', 'Benzyl_alcohol...</td>\n      <td>3</td>\n      <td>x0528-x0739-merge-1-4</td>\n      <td>3</td>\n      <td>A71EV2A-x0528_A_147_A71EV2A-x0501+A+152+1 A71E...</td>\n    </tr>\n    <tr>\n      <th>35</th>\n      <td>Cc1cnc(OCC(=O)N2CCOCC2)c(OC2CCN(C)C2=O)c1</td>\n      <td>[('Cc1cnc(OCc2ccccc2)c(O)c1', 'O=C1C(Cl)CCN1C'...</td>\n      <td>['Williamson_ether_synthesis', 'Benzyl_alcohol...</td>\n      <td>3</td>\n      <td>x0528-x0739-merge-1-5</td>\n      <td>3</td>\n      <td>A71EV2A-x0528_A_147_A71EV2A-x0501+A+152+1 A71E...</td>\n    </tr>\n    <tr>\n      <th>36</th>\n      <td>CC(=O)Nc1cccc(NC(C)=O)c1CNS(C)(=O)=O</td>\n      <td>[('Brc1c(N)cccc1NC(=O)OC(C)(C)C', 'CC(=O)O'), ...</td>\n      <td>['Amidation', 'N-Boc_deprotection', 'Amidation...</td>\n      <td>4</td>\n      <td>x0884-x0719-merge-1-1</td>\n      <td>3</td>\n      <td>NaN</td>\n    </tr>\n    <tr>\n      <th>37</th>\n      <td>CC(=O)Nc1c(CNS(C)(=O)=O)ccc(OCC(=O)N(C)C)c1Br</td>\n      <td>[('Fc1ccc(O)c(Br)c1N', 'CC(=O)O'), ('CC(=O)Nc1...</td>\n      <td>['Amidation', 'Williamson_ether_synthesis', 'S...</td>\n      <td>3</td>\n      <td>x0884-x0719-x0922-merge-2-1</td>\n      <td>3</td>\n      <td>NaN</td>\n    </tr>\n    <tr>\n      <th>38</th>\n      <td>CC(=O)Nc1cccc(OCC(=O)N(C)C)c1CNS(C)(=O)=O</td>\n      <td>[('Nc1cccc(O)c1Br', 'CC(=O)O'), ('CC(=O)Nc1ccc...</td>\n      <td>['Amidation', 'Williamson_ether_synthesis', 'S...</td>\n      <td>3</td>\n      <td>x0884-x0719-x0922-merge-2-2</td>\n      <td>3</td>\n      <td>NaN</td>\n    </tr>\n  </tbody>\n</table>\n</div>"
     },
     "execution_count": 10,
     "metadata": {},
     "output_type": "execute_result"
    }
   ],
   "source": [
    "batch3_new = batch3[batch3[\"smiles\"].isin(batch3_todo)]\n",
    "batch3_new"
   ],
   "metadata": {
    "collapsed": false,
    "ExecuteTime": {
     "end_time": "2024-03-27T11:42:45.670206Z",
     "start_time": "2024-03-27T11:42:45.665472Z"
    }
   },
   "id": "be00bf244891ea11",
   "execution_count": 10
  },
  {
   "cell_type": "code",
   "outputs": [],
   "source": [
    "batch3_new.to_csv('/Users/kate_fieseler/PycharmProjects/EV-A71-2A-syndirella-run/batches_run5/batch3.csv')"
   ],
   "metadata": {
    "collapsed": false,
    "ExecuteTime": {
     "end_time": "2024-03-27T11:42:52.450219Z",
     "start_time": "2024-03-27T11:42:52.446514Z"
    }
   },
   "id": "4c39d3f09e9974d0",
   "execution_count": 11
  },
  {
   "cell_type": "code",
   "outputs": [
    {
     "data": {
      "text/plain": "                          smiles  \\\n41    CC(=O)Nc1cc(C)ccc1NC(=O)CO   \n42    CC(=O)Nc1ccc(C)cc1NC(=O)CO   \n43    CC(=O)Nc1ccc(C)cc1NC(=O)CO   \n45     CC(=O)Nc1cccc(NC(=O)CO)c1   \n46    CC(=O)Nc1cc(NC(=O)CO)ccc1C   \n47     CC(=O)Nc1cc(NC(=O)CO)ccn1   \n48  CC(=O)Nc1ccc(C)c(NC(=O)CO)c1   \n49  CC(=O)Nc1ccc(C)c(NC(=O)CO)c1   \n\n                                            reactants  \\\n41  [('CC(C)(C)OC(=O)Nc1ccc(C)cc1N', 'CC(=O)O'), '...   \n42  [('CC(C)(C)OC(=O)Nc1cc(C)ccc1N', 'CC(=O)O'), '...   \n43  [('CC(C)(C)OC(=O)Nc1cc(C)ccc1N', 'CC(=O)O'), '...   \n45  [('CC(C)(C)OC(=O)Nc1cccc(N)c1', 'CC(=O)O'), 'C...   \n46  [('CC(C)(C)OC(=O)Nc1cc(N)c(C)cc1', 'CC(=O)O'),...   \n47  [('Nc1cc(NC(=O)OC(C)(C)C)ccn1', 'CC(=O)O'), 'C...   \n48  [('CC(C)(C)OC(=O)Nc1cc(N)ccc1C', 'CC(=O)O'), '...   \n49  [('CC(C)(C)OC(=O)Nc1cc(N)ccc1C', 'CC(=O)O'), '...   \n\n                                      reaction_names  num_steps  \\\n41  ['Amidation', 'N-Boc_deprotection', 'Amidation']          3   \n42  ['Amidation', 'N-Boc_deprotection', 'Amidation']          3   \n43  ['Amidation', 'N-Boc_deprotection', 'Amidation']          3   \n45  ['Amidation', 'N-Boc_deprotection', 'Amidation']          3   \n46  ['Amidation', 'N-Boc_deprotection', 'Amidation']          3   \n47  ['Amidation', 'N-Boc_deprotection', 'Amidation']          3   \n48  ['Amidation', 'N-Boc_deprotection', 'Amidation']          3   \n49  ['Amidation', 'N-Boc_deprotection', 'Amidation']          3   \n\n             compound_set  batch  \\\n41  x0884-x0732-merge-2-3      4   \n42  x0884-x0732-merge-2-4      4   \n43  x0884-x0732-merge-2-5      4   \n45  x0884-x0732-merge-3-1      4   \n46  x0884-x0732-merge-3-2      4   \n47  x0884-x0732-merge-3-3      4   \n48  x0884-x0732-merge-3-4      4   \n49  x0884-x0732-merge-3-5      4   \n\n                                                 hits  \n41  A71EV2A-x0884_A_147_A71EV2A-x0501+A+152+1 A71E...  \n42  A71EV2A-x0884_A_147_A71EV2A-x0501+A+152+1 A71E...  \n43  A71EV2A-x0884_A_147_A71EV2A-x0501+A+152+1 A71E...  \n45  A71EV2A-x0884_A_147_A71EV2A-x0501+A+152+1 A71E...  \n46  A71EV2A-x0884_A_147_A71EV2A-x0501+A+152+1 A71E...  \n47  A71EV2A-x0884_A_147_A71EV2A-x0501+A+152+1 A71E...  \n48  A71EV2A-x0884_A_147_A71EV2A-x0501+A+152+1 A71E...  \n49  A71EV2A-x0884_A_147_A71EV2A-x0501+A+152+1 A71E...  ",
      "text/html": "<div>\n<style scoped>\n    .dataframe tbody tr th:only-of-type {\n        vertical-align: middle;\n    }\n\n    .dataframe tbody tr th {\n        vertical-align: top;\n    }\n\n    .dataframe thead th {\n        text-align: right;\n    }\n</style>\n<table border=\"1\" class=\"dataframe\">\n  <thead>\n    <tr style=\"text-align: right;\">\n      <th></th>\n      <th>smiles</th>\n      <th>reactants</th>\n      <th>reaction_names</th>\n      <th>num_steps</th>\n      <th>compound_set</th>\n      <th>batch</th>\n      <th>hits</th>\n    </tr>\n  </thead>\n  <tbody>\n    <tr>\n      <th>41</th>\n      <td>CC(=O)Nc1cc(C)ccc1NC(=O)CO</td>\n      <td>[('CC(C)(C)OC(=O)Nc1ccc(C)cc1N', 'CC(=O)O'), '...</td>\n      <td>['Amidation', 'N-Boc_deprotection', 'Amidation']</td>\n      <td>3</td>\n      <td>x0884-x0732-merge-2-3</td>\n      <td>4</td>\n      <td>A71EV2A-x0884_A_147_A71EV2A-x0501+A+152+1 A71E...</td>\n    </tr>\n    <tr>\n      <th>42</th>\n      <td>CC(=O)Nc1ccc(C)cc1NC(=O)CO</td>\n      <td>[('CC(C)(C)OC(=O)Nc1cc(C)ccc1N', 'CC(=O)O'), '...</td>\n      <td>['Amidation', 'N-Boc_deprotection', 'Amidation']</td>\n      <td>3</td>\n      <td>x0884-x0732-merge-2-4</td>\n      <td>4</td>\n      <td>A71EV2A-x0884_A_147_A71EV2A-x0501+A+152+1 A71E...</td>\n    </tr>\n    <tr>\n      <th>43</th>\n      <td>CC(=O)Nc1ccc(C)cc1NC(=O)CO</td>\n      <td>[('CC(C)(C)OC(=O)Nc1cc(C)ccc1N', 'CC(=O)O'), '...</td>\n      <td>['Amidation', 'N-Boc_deprotection', 'Amidation']</td>\n      <td>3</td>\n      <td>x0884-x0732-merge-2-5</td>\n      <td>4</td>\n      <td>A71EV2A-x0884_A_147_A71EV2A-x0501+A+152+1 A71E...</td>\n    </tr>\n    <tr>\n      <th>45</th>\n      <td>CC(=O)Nc1cccc(NC(=O)CO)c1</td>\n      <td>[('CC(C)(C)OC(=O)Nc1cccc(N)c1', 'CC(=O)O'), 'C...</td>\n      <td>['Amidation', 'N-Boc_deprotection', 'Amidation']</td>\n      <td>3</td>\n      <td>x0884-x0732-merge-3-1</td>\n      <td>4</td>\n      <td>A71EV2A-x0884_A_147_A71EV2A-x0501+A+152+1 A71E...</td>\n    </tr>\n    <tr>\n      <th>46</th>\n      <td>CC(=O)Nc1cc(NC(=O)CO)ccc1C</td>\n      <td>[('CC(C)(C)OC(=O)Nc1cc(N)c(C)cc1', 'CC(=O)O'),...</td>\n      <td>['Amidation', 'N-Boc_deprotection', 'Amidation']</td>\n      <td>3</td>\n      <td>x0884-x0732-merge-3-2</td>\n      <td>4</td>\n      <td>A71EV2A-x0884_A_147_A71EV2A-x0501+A+152+1 A71E...</td>\n    </tr>\n    <tr>\n      <th>47</th>\n      <td>CC(=O)Nc1cc(NC(=O)CO)ccn1</td>\n      <td>[('Nc1cc(NC(=O)OC(C)(C)C)ccn1', 'CC(=O)O'), 'C...</td>\n      <td>['Amidation', 'N-Boc_deprotection', 'Amidation']</td>\n      <td>3</td>\n      <td>x0884-x0732-merge-3-3</td>\n      <td>4</td>\n      <td>A71EV2A-x0884_A_147_A71EV2A-x0501+A+152+1 A71E...</td>\n    </tr>\n    <tr>\n      <th>48</th>\n      <td>CC(=O)Nc1ccc(C)c(NC(=O)CO)c1</td>\n      <td>[('CC(C)(C)OC(=O)Nc1cc(N)ccc1C', 'CC(=O)O'), '...</td>\n      <td>['Amidation', 'N-Boc_deprotection', 'Amidation']</td>\n      <td>3</td>\n      <td>x0884-x0732-merge-3-4</td>\n      <td>4</td>\n      <td>A71EV2A-x0884_A_147_A71EV2A-x0501+A+152+1 A71E...</td>\n    </tr>\n    <tr>\n      <th>49</th>\n      <td>CC(=O)Nc1ccc(C)c(NC(=O)CO)c1</td>\n      <td>[('CC(C)(C)OC(=O)Nc1cc(N)ccc1C', 'CC(=O)O'), '...</td>\n      <td>['Amidation', 'N-Boc_deprotection', 'Amidation']</td>\n      <td>3</td>\n      <td>x0884-x0732-merge-3-5</td>\n      <td>4</td>\n      <td>A71EV2A-x0884_A_147_A71EV2A-x0501+A+152+1 A71E...</td>\n    </tr>\n  </tbody>\n</table>\n</div>"
     },
     "execution_count": 12,
     "metadata": {},
     "output_type": "execute_result"
    }
   ],
   "source": [
    "batch4_new = batch4[batch4[\"smiles\"].isin(batch4_todo)]\n",
    "batch4_new"
   ],
   "metadata": {
    "collapsed": false,
    "ExecuteTime": {
     "end_time": "2024-03-27T11:42:55.790664Z",
     "start_time": "2024-03-27T11:42:55.783805Z"
    }
   },
   "id": "d5d63a79e50ba215",
   "execution_count": 12
  },
  {
   "cell_type": "code",
   "outputs": [],
   "source": [
    "batch4_new.to_csv('/Users/kate_fieseler/PycharmProjects/EV-A71-2A-syndirella-run/batches_run5/batch4.csv')"
   ],
   "metadata": {
    "collapsed": false,
    "ExecuteTime": {
     "end_time": "2024-03-27T11:42:57.974487Z",
     "start_time": "2024-03-27T11:42:57.971248Z"
    }
   },
   "id": "4f7733da1f12a318",
   "execution_count": 13
  },
  {
   "cell_type": "code",
   "outputs": [],
   "source": [],
   "metadata": {
    "collapsed": false
   },
   "id": "18e58aeafe908a96"
  }
 ],
 "metadata": {
  "kernelspec": {
   "display_name": "Python 3",
   "language": "python",
   "name": "python3"
  },
  "language_info": {
   "codemirror_mode": {
    "name": "ipython",
    "version": 2
   },
   "file_extension": ".py",
   "mimetype": "text/x-python",
   "name": "python",
   "nbconvert_exporter": "python",
   "pygments_lexer": "ipython2",
   "version": "2.7.6"
  }
 },
 "nbformat": 4,
 "nbformat_minor": 5
}

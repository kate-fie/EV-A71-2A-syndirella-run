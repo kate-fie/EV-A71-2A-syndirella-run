{
 "cells": [
  {
   "cell_type": "code",
   "execution_count": 1,
   "id": "initial_id",
   "metadata": {
    "collapsed": true,
    "ExecuteTime": {
     "end_time": "2024-02-29T18:26:43.596946Z",
     "start_time": "2024-02-29T18:26:42.724056Z"
    }
   },
   "outputs": [
    {
     "name": "stderr",
     "output_type": "stream",
     "text": [
      "[18:26:43] ERROR: Cannot convert 'ATO' to unsigned int on line 4\n",
      "[18:26:43] ERROR: moving to the beginning of the next molecule\n"
     ]
    }
   ],
   "source": [
    "from rdkit import Chem\n",
    "from rdkit.Chem import AllChem\n",
    "\n",
    "def export_ligands_from_pdb_to_sdf(pdb_file, sdf_file):\n",
    "    # Read the PDB file\n",
    "    suppl = Chem.SDMolSupplier(pdb_file, removeHs=False)\n",
    "    \n",
    "    # Create an SDF writer to write our molecules to an SDF file\n",
    "    writer = Chem.SDWriter(sdf_file)\n",
    "    \n",
    "    for mol in suppl:\n",
    "        if mol is not None:  # Ensure the molecule is valid\n",
    "            # Optionally, you might want to add steps here to filter for ligands\n",
    "            # based on size, presence in a dictionary, or other criteria.\n",
    "            \n",
    "            # Generate 3D coordinates for the ligand, if needed\n",
    "            AllChem.Compute2DCoords(mol)\n",
    "            \n",
    "            # Write the molecule to the SDF file\n",
    "            writer.write(mol)\n",
    "    \n",
    "    writer.close()\n",
    "    \n",
    "# Example usage\n",
    "pdb_file = '/Users/kate_fieseler/PycharmProjects/EV-A71-2A-syndirella-run/fragments/EVA712A_hits.pdb'\n",
    "sdf_file = '/Users/kate_fieseler/PycharmProjects/EV-A71-2A-syndirella-run/fragments/EVA712A_hits.sdf'\n",
    "export_ligands_from_pdb_to_sdf(pdb_file, sdf_file)"
   ]
  },
  {
   "cell_type": "code",
   "outputs": [],
   "source": [],
   "metadata": {
    "collapsed": false
   },
   "id": "781b40f9ff342345"
  }
 ],
 "metadata": {
  "kernelspec": {
   "display_name": "Python 3",
   "language": "python",
   "name": "python3"
  },
  "language_info": {
   "codemirror_mode": {
    "name": "ipython",
    "version": 2
   },
   "file_extension": ".py",
   "mimetype": "text/x-python",
   "name": "python",
   "nbconvert_exporter": "python",
   "pygments_lexer": "ipython2",
   "version": "2.7.6"
  }
 },
 "nbformat": 4,
 "nbformat_minor": 5
}

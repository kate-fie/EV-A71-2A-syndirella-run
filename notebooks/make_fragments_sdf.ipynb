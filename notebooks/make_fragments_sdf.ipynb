{
 "cells": [
  {
   "cell_type": "code",
   "outputs": [],
   "source": [
    "import pandas as pd"
   ],
   "metadata": {
    "collapsed": false,
    "ExecuteTime": {
     "end_time": "2024-03-04T16:35:34.944328Z",
     "start_time": "2024-03-04T16:35:34.939215Z"
    }
   },
   "id": "781b40f9ff342345",
   "execution_count": 3
  },
  {
   "cell_type": "code",
   "outputs": [
    {
     "data": {
      "text/plain": "                                      smiles  \\\n0          Cn1ncc(NC(=O)CC#N)c1NC(=O)C1CCCO1   \n1          N#CCC(=O)Nc1cccc(NC(=O)C2CCCO2)c1   \n2         Cc1ccc(NC(=O)CC#N)cc1NC(=O)C1CCCO1   \n3          N#CCC(=O)Nc1ccnc(NC(=O)C2CCCO2)c1   \n4         Cc1ccc(NC(=O)C2CCCO2)cc1NC(=O)CC#N   \n..                                       ...   \n128   CN(C)C(=O)COc1ccc(F)c(NC(=O)C2CCCO2)c1   \n129     Cc1ccc(NC(=O)C2CCCO2)cc1OCC(=O)N(C)C   \n130  Cc1cc(C)c(OCC(=O)N(C)C)cc1NC(=O)C1CCCO1   \n131      CN(C)C(=O)COc1cncc(NC(=O)C2CCCO2)c1   \n132      CN(C)C(=O)COc1cc(NC(=O)C2CCCO2)ccn1   \n\n                                             reactants  \\\n0    [(Cn1ncc(NC(=O)OC(C)(C)C)c1N, O=C(O)C1CCCO1), ...   \n1    [(CC(C)(C)OC(=O)Nc1cccc(N)c1, O=C(O)C1CCCO1), ...   \n2    [(CC(C)(C)OC(=O)Nc1cc(N)c(C)cc1, O=C(O)C1CCCO1...   \n3    [(Nc1cc(NC(=O)OC(C)(C)C)ccn1, O=C(O)C1CCCO1), ...   \n4    [(CC(C)(C)OC(=O)Nc1cc(N)ccc1C, O=C(O)C1CCCO1),...   \n..                                                 ...   \n128  [(Fc1ccc(O)cc1N, O=C(O)C1CCCO1), (O=C(Nc1cc(O)...   \n129  [(Nc1cc(O)c(C)cc1, O=C(O)C1CCCO1), (Cc1ccc(NC(...   \n130  [(Nc1cc(O)c(C)cc1C, O=C(O)C1CCCO1), (Cc1cc(C)c...   \n131  [(Nc1cncc(O)c1, O=C(O)C1CCCO1), (O=C(Nc1cncc(O...   \n132  [(Nc1ccnc(O)c1, O=C(O)C1CCCO1), (O=C(Nc1ccnc(O...   \n\n                                 reaction_names  num_steps            hits  \\\n0    [Amidation, N-Boc_deprotection, Amidation]          3  [x0310, x0416]   \n1    [Amidation, N-Boc_deprotection, Amidation]          3  [x0310, x0416]   \n2    [Amidation, N-Boc_deprotection, Amidation]          3  [x0310, x0416]   \n3    [Amidation, N-Boc_deprotection, Amidation]          3  [x0310, x0416]   \n4    [Amidation, N-Boc_deprotection, Amidation]          3  [x0310, x0416]   \n..                                          ...        ...             ...   \n128     [Amidation, Williamson_ether_synthesis]          2  [x0922, x0416]   \n129     [Amidation, Williamson_ether_synthesis]          2  [x0922, x0416]   \n130     [Amidation, Williamson_ether_synthesis]          2  [x0922, x0416]   \n131     [Amidation, Williamson_ether_synthesis]          2  [x0922, x0416]   \n132     [Amidation, Williamson_ether_synthesis]          2  [x0922, x0416]   \n\n               compound_set  \n0     x0310-x0416-merge-1-1  \n1     x0310-x0416-merge-2-1  \n2     x0310-x0416-merge-2-2  \n3     x0310-x0416-merge-2-3  \n4     x0310-x0416-merge-2-4  \n..                      ...  \n128   x0922-x0416-merge-1-7  \n129   x0922-x0416-merge-1-8  \n130   x0922-x0416-merge-1-9  \n131  x0922-x0416-merge-1-10  \n132  x0922-x0416-merge-1-11  \n\n[133 rows x 6 columns]",
      "text/html": "<div>\n<style scoped>\n    .dataframe tbody tr th:only-of-type {\n        vertical-align: middle;\n    }\n\n    .dataframe tbody tr th {\n        vertical-align: top;\n    }\n\n    .dataframe thead th {\n        text-align: right;\n    }\n</style>\n<table border=\"1\" class=\"dataframe\">\n  <thead>\n    <tr style=\"text-align: right;\">\n      <th></th>\n      <th>smiles</th>\n      <th>reactants</th>\n      <th>reaction_names</th>\n      <th>num_steps</th>\n      <th>hits</th>\n      <th>compound_set</th>\n    </tr>\n  </thead>\n  <tbody>\n    <tr>\n      <th>0</th>\n      <td>Cn1ncc(NC(=O)CC#N)c1NC(=O)C1CCCO1</td>\n      <td>[(Cn1ncc(NC(=O)OC(C)(C)C)c1N, O=C(O)C1CCCO1), ...</td>\n      <td>[Amidation, N-Boc_deprotection, Amidation]</td>\n      <td>3</td>\n      <td>[x0310, x0416]</td>\n      <td>x0310-x0416-merge-1-1</td>\n    </tr>\n    <tr>\n      <th>1</th>\n      <td>N#CCC(=O)Nc1cccc(NC(=O)C2CCCO2)c1</td>\n      <td>[(CC(C)(C)OC(=O)Nc1cccc(N)c1, O=C(O)C1CCCO1), ...</td>\n      <td>[Amidation, N-Boc_deprotection, Amidation]</td>\n      <td>3</td>\n      <td>[x0310, x0416]</td>\n      <td>x0310-x0416-merge-2-1</td>\n    </tr>\n    <tr>\n      <th>2</th>\n      <td>Cc1ccc(NC(=O)CC#N)cc1NC(=O)C1CCCO1</td>\n      <td>[(CC(C)(C)OC(=O)Nc1cc(N)c(C)cc1, O=C(O)C1CCCO1...</td>\n      <td>[Amidation, N-Boc_deprotection, Amidation]</td>\n      <td>3</td>\n      <td>[x0310, x0416]</td>\n      <td>x0310-x0416-merge-2-2</td>\n    </tr>\n    <tr>\n      <th>3</th>\n      <td>N#CCC(=O)Nc1ccnc(NC(=O)C2CCCO2)c1</td>\n      <td>[(Nc1cc(NC(=O)OC(C)(C)C)ccn1, O=C(O)C1CCCO1), ...</td>\n      <td>[Amidation, N-Boc_deprotection, Amidation]</td>\n      <td>3</td>\n      <td>[x0310, x0416]</td>\n      <td>x0310-x0416-merge-2-3</td>\n    </tr>\n    <tr>\n      <th>4</th>\n      <td>Cc1ccc(NC(=O)C2CCCO2)cc1NC(=O)CC#N</td>\n      <td>[(CC(C)(C)OC(=O)Nc1cc(N)ccc1C, O=C(O)C1CCCO1),...</td>\n      <td>[Amidation, N-Boc_deprotection, Amidation]</td>\n      <td>3</td>\n      <td>[x0310, x0416]</td>\n      <td>x0310-x0416-merge-2-4</td>\n    </tr>\n    <tr>\n      <th>...</th>\n      <td>...</td>\n      <td>...</td>\n      <td>...</td>\n      <td>...</td>\n      <td>...</td>\n      <td>...</td>\n    </tr>\n    <tr>\n      <th>128</th>\n      <td>CN(C)C(=O)COc1ccc(F)c(NC(=O)C2CCCO2)c1</td>\n      <td>[(Fc1ccc(O)cc1N, O=C(O)C1CCCO1), (O=C(Nc1cc(O)...</td>\n      <td>[Amidation, Williamson_ether_synthesis]</td>\n      <td>2</td>\n      <td>[x0922, x0416]</td>\n      <td>x0922-x0416-merge-1-7</td>\n    </tr>\n    <tr>\n      <th>129</th>\n      <td>Cc1ccc(NC(=O)C2CCCO2)cc1OCC(=O)N(C)C</td>\n      <td>[(Nc1cc(O)c(C)cc1, O=C(O)C1CCCO1), (Cc1ccc(NC(...</td>\n      <td>[Amidation, Williamson_ether_synthesis]</td>\n      <td>2</td>\n      <td>[x0922, x0416]</td>\n      <td>x0922-x0416-merge-1-8</td>\n    </tr>\n    <tr>\n      <th>130</th>\n      <td>Cc1cc(C)c(OCC(=O)N(C)C)cc1NC(=O)C1CCCO1</td>\n      <td>[(Nc1cc(O)c(C)cc1C, O=C(O)C1CCCO1), (Cc1cc(C)c...</td>\n      <td>[Amidation, Williamson_ether_synthesis]</td>\n      <td>2</td>\n      <td>[x0922, x0416]</td>\n      <td>x0922-x0416-merge-1-9</td>\n    </tr>\n    <tr>\n      <th>131</th>\n      <td>CN(C)C(=O)COc1cncc(NC(=O)C2CCCO2)c1</td>\n      <td>[(Nc1cncc(O)c1, O=C(O)C1CCCO1), (O=C(Nc1cncc(O...</td>\n      <td>[Amidation, Williamson_ether_synthesis]</td>\n      <td>2</td>\n      <td>[x0922, x0416]</td>\n      <td>x0922-x0416-merge-1-10</td>\n    </tr>\n    <tr>\n      <th>132</th>\n      <td>CN(C)C(=O)COc1cc(NC(=O)C2CCCO2)ccn1</td>\n      <td>[(Nc1ccnc(O)c1, O=C(O)C1CCCO1), (O=C(Nc1ccnc(O...</td>\n      <td>[Amidation, Williamson_ether_synthesis]</td>\n      <td>2</td>\n      <td>[x0922, x0416]</td>\n      <td>x0922-x0416-merge-1-11</td>\n    </tr>\n  </tbody>\n</table>\n<p>133 rows × 6 columns</p>\n</div>"
     },
     "execution_count": 4,
     "metadata": {},
     "output_type": "execute_result"
    }
   ],
   "source": [
    "df = pd.read_pickle('/Users/kate_fieseler/PycharmProjects/EV-A71-2A-syndirella-run/base_compounds/syndirella_input_MASTER.pkl')\n",
    "df"
   ],
   "metadata": {
    "collapsed": false,
    "ExecuteTime": {
     "end_time": "2024-03-04T16:35:35.347029Z",
     "start_time": "2024-03-04T16:35:35.335770Z"
    }
   },
   "id": "e0cd36cc9630a953",
   "execution_count": 4
  },
  {
   "cell_type": "code",
   "outputs": [
    {
     "data": {
      "text/plain": "[['x0310', 'x0416'],\n ['x0310', 'x0416'],\n ['x0310', 'x0416'],\n ['x0310', 'x0416'],\n ['x0310', 'x0416'],\n ['x0310', 'x0416'],\n ['x0310', 'x0416'],\n ['x0310', 'x0416'],\n ['x0310', 'x0416'],\n ['x0310', 'x0732'],\n ['x0310', 'x0732'],\n ['x0310', 'x0732'],\n ['x0310', 'x0732'],\n ['x0310', 'x0732'],\n ['x0310', 'x0732'],\n ['x0310', 'x0732'],\n ['x0310', 'x0732'],\n ['x0310', 'x0732'],\n ['x0310', 'x0739'],\n ['x0310', 'x0739'],\n ['x0310', 'x0739'],\n ['x0310', 'x0739'],\n ['x0310', 'x0739'],\n ['x0310', 'x0739'],\n ['x0310', 'x0739'],\n ['x0310', 'x0739'],\n ['x0310', 'x0739'],\n ['x0310', 'x0739'],\n ['x0310', 'x0739'],\n ['x0528', 'x0450'],\n ['x0528', 'x0450'],\n ['x0528', 'x0739'],\n ['x0528', 'x0739'],\n ['x0528', 'x0739'],\n ['x0528', 'x0739'],\n ['x0528', 'x0739'],\n ['x0884', 'x0719'],\n ['x0884', 'x0719'],\n ['x0884', 'x0719'],\n ['x0884', 'x0732'],\n ['x0884', 'x0732'],\n ['x0884', 'x0732'],\n ['x0884', 'x0732'],\n ['x0884', 'x0732'],\n ['x0884', 'x0732'],\n ['x0884', 'x0732'],\n ['x0884', 'x0732'],\n ['x0884', 'x0732'],\n ['x0884', 'x0732'],\n ['x0884', 'x0732'],\n ['x0884', 'x0732'],\n ['x0884', 'x0732'],\n ['x0884', 'x0732'],\n ['x0884', 'x0732'],\n ['x0884', 'x0739'],\n ['x0884', 'x0739'],\n ['x0884', 'x0739'],\n ['x0884', 'x0739'],\n ['x0884', 'x0739'],\n ['x0884', 'x0739'],\n ['x0884', 'x0739'],\n ['x0884', 'x0739'],\n ['x0884', 'x0739'],\n ['x0884', 'x0739'],\n ['x0884', 'x0739'],\n ['x0528', 'x0416'],\n ['x0528', 'x0416'],\n ['x0528', 'x0416'],\n ['x0528', 'x0416'],\n ['x0528', 'x0416'],\n ['x0528', 'x0416'],\n ['x0528', 'x0416'],\n ['x0528', 'x0416'],\n ['x0528', 'x0416'],\n ['x0528', 'x0416'],\n ['x0528', 'x0416'],\n ['x0528', 'x0732'],\n ['x0528', 'x0732'],\n ['x0528', 'x0732'],\n ['x0528', 'x0732'],\n ['x0528', 'x0732'],\n ['x0528', 'x0732'],\n ['x0528', 'x0732'],\n ['x0528', 'x0732'],\n ['x0528', 'x0732'],\n ['x0528', 'x0732'],\n ['x0528', 'x0732'],\n ['x0528', 'x0732'],\n ['x0528', 'x0732'],\n ['x0528', 'x0732'],\n ['x0528', 'x0732'],\n ['x0528', 'x0732'],\n ['x0884', 'x0732'],\n ['x0922', 'x0732'],\n ['x0922', 'x0732'],\n ['x0922', 'x0732'],\n ['x0922', 'x0732'],\n ['x0922', 'x0732'],\n ['x0922', 'x0732'],\n ['x0922', 'x0732'],\n ['x0922', 'x0732'],\n ['x0922', 'x0732'],\n ['x0922', 'x0732'],\n ['x0922', 'x0732'],\n ['x0922', 'x0732'],\n ['x0922', 'x0732'],\n ['x0922', 'x0732'],\n ['x0922', 'x0732'],\n ['x0922', 'x0732'],\n ['x0922', 'x0732'],\n ['x0922', 'x0732'],\n ['x0922', 'x0732'],\n ['x0922', 'x0732'],\n ['x0922', 'x0732'],\n ['x0922', 'x0732'],\n ['x0922', 'x0739'],\n ['x0922', 'x0739'],\n ['x0922', 'x0739'],\n ['x0922', 'x0739'],\n ['x0922', 'x0739'],\n ['x0922', 'x0739'],\n ['x0922', 'x0739'],\n ['x0922', 'x0416'],\n ['x0922', 'x0416'],\n ['x0922', 'x0416'],\n ['x0922', 'x0416'],\n ['x0922', 'x0416'],\n ['x0922', 'x0416'],\n ['x0922', 'x0416'],\n ['x0922', 'x0416'],\n ['x0922', 'x0416'],\n ['x0922', 'x0416'],\n ['x0922', 'x0416']]"
     },
     "execution_count": 6,
     "metadata": {},
     "output_type": "execute_result"
    }
   ],
   "source": [
    "all_hits = list(df['hits'])\n",
    "all_hits"
   ],
   "metadata": {
    "collapsed": false,
    "ExecuteTime": {
     "end_time": "2024-03-04T16:36:06.371181Z",
     "start_time": "2024-03-04T16:36:06.367230Z"
    }
   },
   "id": "bdda1cfc8ddfba2",
   "execution_count": 6
  },
  {
   "cell_type": "code",
   "outputs": [
    {
     "data": {
      "text/plain": "['x0310',\n 'x0416',\n 'x0310',\n 'x0416',\n 'x0310',\n 'x0416',\n 'x0310',\n 'x0416',\n 'x0310',\n 'x0416',\n 'x0310',\n 'x0416',\n 'x0310',\n 'x0416',\n 'x0310',\n 'x0416',\n 'x0310',\n 'x0416',\n 'x0310',\n 'x0732',\n 'x0310',\n 'x0732',\n 'x0310',\n 'x0732',\n 'x0310',\n 'x0732',\n 'x0310',\n 'x0732',\n 'x0310',\n 'x0732',\n 'x0310',\n 'x0732',\n 'x0310',\n 'x0732',\n 'x0310',\n 'x0732',\n 'x0310',\n 'x0739',\n 'x0310',\n 'x0739',\n 'x0310',\n 'x0739',\n 'x0310',\n 'x0739',\n 'x0310',\n 'x0739',\n 'x0310',\n 'x0739',\n 'x0310',\n 'x0739',\n 'x0310',\n 'x0739',\n 'x0310',\n 'x0739',\n 'x0310',\n 'x0739',\n 'x0310',\n 'x0739',\n 'x0528',\n 'x0450',\n 'x0528',\n 'x0450',\n 'x0528',\n 'x0739',\n 'x0528',\n 'x0739',\n 'x0528',\n 'x0739',\n 'x0528',\n 'x0739',\n 'x0528',\n 'x0739',\n 'x0884',\n 'x0719',\n 'x0884',\n 'x0719',\n 'x0884',\n 'x0719',\n 'x0884',\n 'x0732',\n 'x0884',\n 'x0732',\n 'x0884',\n 'x0732',\n 'x0884',\n 'x0732',\n 'x0884',\n 'x0732',\n 'x0884',\n 'x0732',\n 'x0884',\n 'x0732',\n 'x0884',\n 'x0732',\n 'x0884',\n 'x0732',\n 'x0884',\n 'x0732',\n 'x0884',\n 'x0732',\n 'x0884',\n 'x0732',\n 'x0884',\n 'x0732',\n 'x0884',\n 'x0732',\n 'x0884',\n 'x0732',\n 'x0884',\n 'x0739',\n 'x0884',\n 'x0739',\n 'x0884',\n 'x0739',\n 'x0884',\n 'x0739',\n 'x0884',\n 'x0739',\n 'x0884',\n 'x0739',\n 'x0884',\n 'x0739',\n 'x0884',\n 'x0739',\n 'x0884',\n 'x0739',\n 'x0884',\n 'x0739',\n 'x0884',\n 'x0739',\n 'x0528',\n 'x0416',\n 'x0528',\n 'x0416',\n 'x0528',\n 'x0416',\n 'x0528',\n 'x0416',\n 'x0528',\n 'x0416',\n 'x0528',\n 'x0416',\n 'x0528',\n 'x0416',\n 'x0528',\n 'x0416',\n 'x0528',\n 'x0416',\n 'x0528',\n 'x0416',\n 'x0528',\n 'x0416',\n 'x0528',\n 'x0732',\n 'x0528',\n 'x0732',\n 'x0528',\n 'x0732',\n 'x0528',\n 'x0732',\n 'x0528',\n 'x0732',\n 'x0528',\n 'x0732',\n 'x0528',\n 'x0732',\n 'x0528',\n 'x0732',\n 'x0528',\n 'x0732',\n 'x0528',\n 'x0732',\n 'x0528',\n 'x0732',\n 'x0528',\n 'x0732',\n 'x0528',\n 'x0732',\n 'x0528',\n 'x0732',\n 'x0528',\n 'x0732',\n 'x0528',\n 'x0732',\n 'x0884',\n 'x0732',\n 'x0922',\n 'x0732',\n 'x0922',\n 'x0732',\n 'x0922',\n 'x0732',\n 'x0922',\n 'x0732',\n 'x0922',\n 'x0732',\n 'x0922',\n 'x0732',\n 'x0922',\n 'x0732',\n 'x0922',\n 'x0732',\n 'x0922',\n 'x0732',\n 'x0922',\n 'x0732',\n 'x0922',\n 'x0732',\n 'x0922',\n 'x0732',\n 'x0922',\n 'x0732',\n 'x0922',\n 'x0732',\n 'x0922',\n 'x0732',\n 'x0922',\n 'x0732',\n 'x0922',\n 'x0732',\n 'x0922',\n 'x0732',\n 'x0922',\n 'x0732',\n 'x0922',\n 'x0732',\n 'x0922',\n 'x0732',\n 'x0922',\n 'x0732',\n 'x0922',\n 'x0739',\n 'x0922',\n 'x0739',\n 'x0922',\n 'x0739',\n 'x0922',\n 'x0739',\n 'x0922',\n 'x0739',\n 'x0922',\n 'x0739',\n 'x0922',\n 'x0739',\n 'x0922',\n 'x0416',\n 'x0922',\n 'x0416',\n 'x0922',\n 'x0416',\n 'x0922',\n 'x0416',\n 'x0922',\n 'x0416',\n 'x0922',\n 'x0416',\n 'x0922',\n 'x0416',\n 'x0922',\n 'x0416',\n 'x0922',\n 'x0416',\n 'x0922',\n 'x0416',\n 'x0922',\n 'x0416']"
     },
     "execution_count": 7,
     "metadata": {},
     "output_type": "execute_result"
    }
   ],
   "source": [
    "# flatten into 1D list\n",
    "all_hits_flat = [item for sublist in all_hits for item in sublist]\n",
    "all_hits_flat"
   ],
   "metadata": {
    "collapsed": false,
    "ExecuteTime": {
     "end_time": "2024-03-04T16:36:27.679865Z",
     "start_time": "2024-03-04T16:36:27.675679Z"
    }
   },
   "id": "850a321b49e9ed52",
   "execution_count": 7
  },
  {
   "cell_type": "code",
   "outputs": [
    {
     "data": {
      "text/plain": "x0732    63\nx0922    40\nx0739    34\nx0528    34\nx0416    31\nx0884    30\nx0310    29\nx0719     3\nx0450     2\nName: count, dtype: int64"
     },
     "execution_count": 9,
     "metadata": {},
     "output_type": "execute_result"
    }
   ],
   "source": [
    "all_hits = pd.Series(all_hits_flat)\n",
    "all_hits.value_counts()"
   ],
   "metadata": {
    "collapsed": false,
    "ExecuteTime": {
     "end_time": "2024-03-04T16:36:59.680570Z",
     "start_time": "2024-03-04T16:36:59.677591Z"
    }
   },
   "id": "3ad3566c24f3745f",
   "execution_count": 9
  },
  {
   "cell_type": "code",
   "outputs": [
    {
     "name": "stdout",
     "output_type": "stream",
     "text": [
      "Combined SDF written to new_hits.sdf\n"
     ]
    }
   ],
   "source": [
    "from rdkit import Chem\n",
    "import os\n",
    "\n",
    "def combine_sdfs(input_files, output_file):\n",
    "    # Create an SDWriter to write the combined file\n",
    "    writer = Chem.SDWriter(output_file)\n",
    "\n",
    "    for file_name in input_files:\n",
    "        # Ensure the file exists to avoid errors\n",
    "        if not os.path.exists(file_name):\n",
    "            print(f\"File {file_name} not found.\")\n",
    "            continue\n",
    "\n",
    "        # Read molecules from the current file\n",
    "        suppl = Chem.SDMolSupplier(file_name)\n",
    "        for mol in suppl:\n",
    "            if mol is not None:  # Ensure the molecule is valid\n",
    "                writer.write(mol)\n",
    "            else:\n",
    "                print(f\"Failed to read molecule from {file_name}\")\n",
    "\n",
    "    writer.close()\n",
    "    print(f\"Combined SDF written to {output_file}\")\n",
    "\n",
    "# Example usage\n",
    "os.chdir('/Users/kate_fieseler/PycharmProjects/EV-A71-2A-syndirella-run/fragments')\n",
    "input_sdf_files = ['x0310A.sdf', 'x0416A.sdf', 'x0450A.sdf', 'x0528A.sdf', 'x0719A.sdf', 'x0732A.sdf', 'x0739A.sdf', 'x0884A.sdf', 'x0922A.sdf']  # Add your file names here\n",
    "output_sdf_file = 'new_hits.sdf'  # The output file name\n",
    "combine_sdfs(input_sdf_files, output_sdf_file)\n"
   ],
   "metadata": {
    "collapsed": false,
    "ExecuteTime": {
     "end_time": "2024-03-04T20:51:43.011101Z",
     "start_time": "2024-03-04T20:51:42.997631Z"
    }
   },
   "id": "6cff2752ef9b97d8",
   "execution_count": 12
  },
  {
   "cell_type": "code",
   "outputs": [],
   "source": [],
   "metadata": {
    "collapsed": false
   },
   "id": "20aec430d7674c0f"
  }
 ],
 "metadata": {
  "kernelspec": {
   "display_name": "Python 3",
   "language": "python",
   "name": "python3"
  },
  "language_info": {
   "codemirror_mode": {
    "name": "ipython",
    "version": 2
   },
   "file_extension": ".py",
   "mimetype": "text/x-python",
   "name": "python",
   "nbconvert_exporter": "python",
   "pygments_lexer": "ipython2",
   "version": "2.7.6"
  }
 },
 "nbformat": 4,
 "nbformat_minor": 5
}

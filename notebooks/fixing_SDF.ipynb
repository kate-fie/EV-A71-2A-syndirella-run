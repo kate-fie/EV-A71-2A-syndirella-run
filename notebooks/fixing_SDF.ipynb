{
 "cells": [
  {
   "cell_type": "code",
   "execution_count": 1,
   "id": "initial_id",
   "metadata": {
    "collapsed": true,
    "ExecuteTime": {
     "end_time": "2024-03-20T11:34:02.309950Z",
     "start_time": "2024-03-20T11:34:01.647048Z"
    }
   },
   "outputs": [],
   "source": [
    "import pandas as pd"
   ]
  },
  {
   "cell_type": "code",
   "outputs": [
    {
     "data": {
      "text/plain": "        Code                                  Long code Compound code  \\\n0    Ax0450a  A71EV2A-x0450_A_201_A71EV2A-x0501+A+152+1    Z100642432   \n1    Ax0451a  A71EV2A-x0451_A_201_A71EV2A-x0501+A+152+1    Z100643660   \n2    Ax0469a  A71EV2A-x0469_A_147_A71EV2A-x0469+A+147+1    Z104924088   \n3    Ax0473a  A71EV2A-x0473_A_147_A71EV2A-x0501+A+152+1   Z1082839290   \n4    Ax0486a  A71EV2A-x0486_A_147_A71EV2A-x0486+A+147+1   Z1148165337   \n..       ...                                        ...           ...   \n102  Ax1180b  A71EV2A-x1180_B_151_A71EV2A-x0501+A+152+1   Z1198183601   \n103  Ax1209a  A71EV2A-x1209_A_151_A71EV2A-x0501+A+152+1   Z1203730981   \n104  Ax1255a  A71EV2A-x1255_B_201_A71EV2A-x0501+A+152+1  NCL-00024387   \n105  Ax1292a  A71EV2A-x1292_A_151_A71EV2A-x0501+A+152+1     Z57473948   \n106  Ax1293a  A71EV2A-x1293_A_151_A71EV2A-x0395+A+148+1    Z362020366   \n\n                        Smiles  Downloaded      ConformerSites CanonSites  \\\n0      CN(C)C(=O)c1ccc(F)cc1Br        True  9a - A71EV2A-x0501   9 - A152   \n1      CNC(=O)c1cn(C)c2ccccc12        True  9a - A71EV2A-x0501   9 - A152   \n2      CC(C)N1CCN(c2ncccn2)CC1        True  6b - A71EV2A-x0469   6 - A147   \n3    O=S(=O)(NC1CCCC1)C1CCOCC1        True  9a - A71EV2A-x0501   9 - A152   \n4     CN(C)C(=O)Cn1ncc2ccccc21        True  7a - A71EV2A-x0486   7 - A147   \n..                         ...         ...                 ...        ...   \n102               Clc1c[nH]cn1        True  9a - A71EV2A-x0501   9 - A152   \n103               Brc1ncc[nH]1        True  9a - A71EV2A-x0501   9 - A152   \n104         COCCn1ccc(Br)cc1=O        True  9a - A71EV2A-x0501   9 - A152   \n105       O=C(NC1CC1)c1ccccc1O        True  9a - A71EV2A-x0501   9 - A152   \n106             Nc1nnc2ccccn12        True  2a - A71EV2A-x0395   2 - A148   \n\n                                      CrystalformSites Quatassemblies  \\\n0    F2f - A71_2A_open_small_cell - A71EV2A-x0450/A...   A1 - monomer   \n1            F1g - A71_2A_open - A71EV2A-x0451/A/201/1   A1 - monomer   \n2            F1h - A71_2A_open - A71EV2A-x0469/A/147/1   A1 - monomer   \n3            F1g - A71_2A_open - A71EV2A-x0451/A/201/1   A1 - monomer   \n4            F1i - A71_2A_open - A71EV2A-x0486/A/147/1   A1 - monomer   \n..                                                 ...            ...   \n102  F3l - A71_2A_open_long_cell - A71EV2A-x0501/A/...   A1 - monomer   \n103  F3l - A71_2A_open_long_cell - A71EV2A-x0501/A/...   A1 - monomer   \n104  F3l - A71_2A_open_long_cell - A71EV2A-x0501/A/...   A1 - monomer   \n105  F3l - A71_2A_open_long_cell - A71EV2A-x0501/A/...   A1 - monomer   \n106  F3v - A71_2A_open_long_cell - A71EV2A-x1293/A/...   A1 - monomer   \n\n                    Crystalforms  \n0    F2 - A71_2A_open_small_cell  \n1               F1 - A71_2A_open  \n2               F1 - A71_2A_open  \n3               F1 - A71_2A_open  \n4               F1 - A71_2A_open  \n..                           ...  \n102   F3 - A71_2A_open_long_cell  \n103   F3 - A71_2A_open_long_cell  \n104   F3 - A71_2A_open_long_cell  \n105   F3 - A71_2A_open_long_cell  \n106   F3 - A71_2A_open_long_cell  \n\n[107 rows x 10 columns]",
      "text/html": "<div>\n<style scoped>\n    .dataframe tbody tr th:only-of-type {\n        vertical-align: middle;\n    }\n\n    .dataframe tbody tr th {\n        vertical-align: top;\n    }\n\n    .dataframe thead th {\n        text-align: right;\n    }\n</style>\n<table border=\"1\" class=\"dataframe\">\n  <thead>\n    <tr style=\"text-align: right;\">\n      <th></th>\n      <th>Code</th>\n      <th>Long code</th>\n      <th>Compound code</th>\n      <th>Smiles</th>\n      <th>Downloaded</th>\n      <th>ConformerSites</th>\n      <th>CanonSites</th>\n      <th>CrystalformSites</th>\n      <th>Quatassemblies</th>\n      <th>Crystalforms</th>\n    </tr>\n  </thead>\n  <tbody>\n    <tr>\n      <th>0</th>\n      <td>Ax0450a</td>\n      <td>A71EV2A-x0450_A_201_A71EV2A-x0501+A+152+1</td>\n      <td>Z100642432</td>\n      <td>CN(C)C(=O)c1ccc(F)cc1Br</td>\n      <td>True</td>\n      <td>9a - A71EV2A-x0501</td>\n      <td>9 - A152</td>\n      <td>F2f - A71_2A_open_small_cell - A71EV2A-x0450/A...</td>\n      <td>A1 - monomer</td>\n      <td>F2 - A71_2A_open_small_cell</td>\n    </tr>\n    <tr>\n      <th>1</th>\n      <td>Ax0451a</td>\n      <td>A71EV2A-x0451_A_201_A71EV2A-x0501+A+152+1</td>\n      <td>Z100643660</td>\n      <td>CNC(=O)c1cn(C)c2ccccc12</td>\n      <td>True</td>\n      <td>9a - A71EV2A-x0501</td>\n      <td>9 - A152</td>\n      <td>F1g - A71_2A_open - A71EV2A-x0451/A/201/1</td>\n      <td>A1 - monomer</td>\n      <td>F1 - A71_2A_open</td>\n    </tr>\n    <tr>\n      <th>2</th>\n      <td>Ax0469a</td>\n      <td>A71EV2A-x0469_A_147_A71EV2A-x0469+A+147+1</td>\n      <td>Z104924088</td>\n      <td>CC(C)N1CCN(c2ncccn2)CC1</td>\n      <td>True</td>\n      <td>6b - A71EV2A-x0469</td>\n      <td>6 - A147</td>\n      <td>F1h - A71_2A_open - A71EV2A-x0469/A/147/1</td>\n      <td>A1 - monomer</td>\n      <td>F1 - A71_2A_open</td>\n    </tr>\n    <tr>\n      <th>3</th>\n      <td>Ax0473a</td>\n      <td>A71EV2A-x0473_A_147_A71EV2A-x0501+A+152+1</td>\n      <td>Z1082839290</td>\n      <td>O=S(=O)(NC1CCCC1)C1CCOCC1</td>\n      <td>True</td>\n      <td>9a - A71EV2A-x0501</td>\n      <td>9 - A152</td>\n      <td>F1g - A71_2A_open - A71EV2A-x0451/A/201/1</td>\n      <td>A1 - monomer</td>\n      <td>F1 - A71_2A_open</td>\n    </tr>\n    <tr>\n      <th>4</th>\n      <td>Ax0486a</td>\n      <td>A71EV2A-x0486_A_147_A71EV2A-x0486+A+147+1</td>\n      <td>Z1148165337</td>\n      <td>CN(C)C(=O)Cn1ncc2ccccc21</td>\n      <td>True</td>\n      <td>7a - A71EV2A-x0486</td>\n      <td>7 - A147</td>\n      <td>F1i - A71_2A_open - A71EV2A-x0486/A/147/1</td>\n      <td>A1 - monomer</td>\n      <td>F1 - A71_2A_open</td>\n    </tr>\n    <tr>\n      <th>...</th>\n      <td>...</td>\n      <td>...</td>\n      <td>...</td>\n      <td>...</td>\n      <td>...</td>\n      <td>...</td>\n      <td>...</td>\n      <td>...</td>\n      <td>...</td>\n      <td>...</td>\n    </tr>\n    <tr>\n      <th>102</th>\n      <td>Ax1180b</td>\n      <td>A71EV2A-x1180_B_151_A71EV2A-x0501+A+152+1</td>\n      <td>Z1198183601</td>\n      <td>Clc1c[nH]cn1</td>\n      <td>True</td>\n      <td>9a - A71EV2A-x0501</td>\n      <td>9 - A152</td>\n      <td>F3l - A71_2A_open_long_cell - A71EV2A-x0501/A/...</td>\n      <td>A1 - monomer</td>\n      <td>F3 - A71_2A_open_long_cell</td>\n    </tr>\n    <tr>\n      <th>103</th>\n      <td>Ax1209a</td>\n      <td>A71EV2A-x1209_A_151_A71EV2A-x0501+A+152+1</td>\n      <td>Z1203730981</td>\n      <td>Brc1ncc[nH]1</td>\n      <td>True</td>\n      <td>9a - A71EV2A-x0501</td>\n      <td>9 - A152</td>\n      <td>F3l - A71_2A_open_long_cell - A71EV2A-x0501/A/...</td>\n      <td>A1 - monomer</td>\n      <td>F3 - A71_2A_open_long_cell</td>\n    </tr>\n    <tr>\n      <th>104</th>\n      <td>Ax1255a</td>\n      <td>A71EV2A-x1255_B_201_A71EV2A-x0501+A+152+1</td>\n      <td>NCL-00024387</td>\n      <td>COCCn1ccc(Br)cc1=O</td>\n      <td>True</td>\n      <td>9a - A71EV2A-x0501</td>\n      <td>9 - A152</td>\n      <td>F3l - A71_2A_open_long_cell - A71EV2A-x0501/A/...</td>\n      <td>A1 - monomer</td>\n      <td>F3 - A71_2A_open_long_cell</td>\n    </tr>\n    <tr>\n      <th>105</th>\n      <td>Ax1292a</td>\n      <td>A71EV2A-x1292_A_151_A71EV2A-x0501+A+152+1</td>\n      <td>Z57473948</td>\n      <td>O=C(NC1CC1)c1ccccc1O</td>\n      <td>True</td>\n      <td>9a - A71EV2A-x0501</td>\n      <td>9 - A152</td>\n      <td>F3l - A71_2A_open_long_cell - A71EV2A-x0501/A/...</td>\n      <td>A1 - monomer</td>\n      <td>F3 - A71_2A_open_long_cell</td>\n    </tr>\n    <tr>\n      <th>106</th>\n      <td>Ax1293a</td>\n      <td>A71EV2A-x1293_A_151_A71EV2A-x0395+A+148+1</td>\n      <td>Z362020366</td>\n      <td>Nc1nnc2ccccn12</td>\n      <td>True</td>\n      <td>2a - A71EV2A-x0395</td>\n      <td>2 - A148</td>\n      <td>F3v - A71_2A_open_long_cell - A71EV2A-x1293/A/...</td>\n      <td>A1 - monomer</td>\n      <td>F3 - A71_2A_open_long_cell</td>\n    </tr>\n  </tbody>\n</table>\n<p>107 rows × 10 columns</p>\n</div>"
     },
     "execution_count": 2,
     "metadata": {},
     "output_type": "execute_result"
    }
   ],
   "source": [
    "metadata = pd.read_csv('/Users/kate_fieseler/PycharmProjects/EV-A71-2A-syndirella-run/fragments/metadata.csv')\n",
    "metadata"
   ],
   "metadata": {
    "collapsed": false,
    "ExecuteTime": {
     "end_time": "2024-03-20T11:34:57.223681Z",
     "start_time": "2024-03-20T11:34:57.210178Z"
    }
   },
   "id": "ad5f7099404df2aa",
   "execution_count": 2
  },
  {
   "cell_type": "code",
   "outputs": [
    {
     "data": {
      "text/plain": "                                 smiles  \\\n0     Cn1ncc(NC(=O)CC#N)c1NC(=O)C1CCCO1   \n1     N#CCC(=O)Nc1cccc(NC(=O)C2CCCO2)c1   \n2    Cc1ccc(NC(=O)CC#N)cc1NC(=O)C1CCCO1   \n3     N#CCC(=O)Nc1ccnc(NC(=O)C2CCCO2)c1   \n4    Cc1ccc(NC(=O)C2CCCO2)cc1NC(=O)CC#N   \n..                                  ...   \n135        N#CCC(=O)Nc1ccncc1(NC(=O)CO)   \n136       Cc1cccc(NC(=O)CO)c1NC(=O)CC#N   \n137       N#CCC(=O)Nc1c(NC(=O)CO)cccc1F   \n138     c1cc(NC(=O)CO)c(NC(=O)CC#N)cc1F   \n139     c1cc(NC(=O)CO)c(NC(=O)CC#N)cc1F   \n\n                                             reactants  \\\n0    [('Cn1ncc(NC(=O)OC(C)(C)C)c1N', 'O=C(O)C1CCCO1...   \n1    [('CC(C)(C)OC(=O)Nc1cccc(N)c1', 'O=C(O)C1CCCO1...   \n2    [('CC(C)(C)OC(=O)Nc1cc(N)c(C)cc1', 'O=C(O)C1CC...   \n3    [('Nc1cc(NC(=O)OC(C)(C)C)ccn1', 'O=C(O)C1CCCO1...   \n4    [('CC(C)(C)OC(=O)Nc1cc(N)ccc1C', 'O=C(O)C1CCCO...   \n..                                                 ...   \n135  [('CC(C)(C)OC(=O)Nc1ccncc1(N)', 'O=C(O)CO'), '...   \n136  [('CC(C)(C)OC(=O)Nc1c(C)cccc1(N)', 'O=C(O)CO')...   \n137  [('CC(C)(C)OC(=O)Nc1c(F)cccc1(N)', 'O=C(O)CO')...   \n138  [('CC(C)(C)OC(=O)Nc1cc(F)ccc1(N)', 'O=C(O)CO')...   \n139  [('CC(C)(C)OC(=O)Nc1cc(C)ccc1(N)', 'O=C(O)CO')...   \n\n                                       reaction_names  num_steps  \\\n0    ['Amidation', 'N-Boc_deprotection', 'Amidation']          3   \n1    ['Amidation', 'N-Boc_deprotection', 'Amidation']          3   \n2    ['Amidation', 'N-Boc_deprotection', 'Amidation']          3   \n3    ['Amidation', 'N-Boc_deprotection', 'Amidation']          3   \n4    ['Amidation', 'N-Boc_deprotection', 'Amidation']          3   \n..                                                ...        ...   \n135  ['Amidation', 'N-Boc_deprotection', 'Amidation']          3   \n136  ['Amidation', 'N-Boc_deprotection', 'Amidation']          3   \n137  ['Amidation', 'N-Boc_deprotection', 'Amidation']          3   \n138  ['Amidation', 'N-Boc_deprotection', 'Amidation']          3   \n139  ['Amidation', 'N-Boc_deprotection', 'Amidation']          3   \n\n                hits           compound_set  batch  \n0    x0310_A x0416_A  x0310-x0416-merge-1-1      0  \n1    x0310_A x0416_A  x0310-x0416-merge-2-1      0  \n2    x0310_A x0416_A  x0310-x0416-merge-2-2      0  \n3    x0310_A x0416_A  x0310-x0416-merge-2-3      0  \n4    x0310_A x0416_A  x0310-x0416-merge-2-4      0  \n..               ...                    ...    ...  \n135  x0310_A x0732_A  x0310-x0732-merge-3-3     13  \n136  x0310_A x0732_A  x0310-x0732-merge-3-4     13  \n137  x0310_A x0732_A  x0310-x0732-merge-3-5     13  \n138  x0310_A x0732_A  x0310-x0732-merge-3-6     13  \n139  x0310_A x0732_A  x0310-x0732-merge-3-7     13  \n\n[140 rows x 7 columns]",
      "text/html": "<div>\n<style scoped>\n    .dataframe tbody tr th:only-of-type {\n        vertical-align: middle;\n    }\n\n    .dataframe tbody tr th {\n        vertical-align: top;\n    }\n\n    .dataframe thead th {\n        text-align: right;\n    }\n</style>\n<table border=\"1\" class=\"dataframe\">\n  <thead>\n    <tr style=\"text-align: right;\">\n      <th></th>\n      <th>smiles</th>\n      <th>reactants</th>\n      <th>reaction_names</th>\n      <th>num_steps</th>\n      <th>hits</th>\n      <th>compound_set</th>\n      <th>batch</th>\n    </tr>\n  </thead>\n  <tbody>\n    <tr>\n      <th>0</th>\n      <td>Cn1ncc(NC(=O)CC#N)c1NC(=O)C1CCCO1</td>\n      <td>[('Cn1ncc(NC(=O)OC(C)(C)C)c1N', 'O=C(O)C1CCCO1...</td>\n      <td>['Amidation', 'N-Boc_deprotection', 'Amidation']</td>\n      <td>3</td>\n      <td>x0310_A x0416_A</td>\n      <td>x0310-x0416-merge-1-1</td>\n      <td>0</td>\n    </tr>\n    <tr>\n      <th>1</th>\n      <td>N#CCC(=O)Nc1cccc(NC(=O)C2CCCO2)c1</td>\n      <td>[('CC(C)(C)OC(=O)Nc1cccc(N)c1', 'O=C(O)C1CCCO1...</td>\n      <td>['Amidation', 'N-Boc_deprotection', 'Amidation']</td>\n      <td>3</td>\n      <td>x0310_A x0416_A</td>\n      <td>x0310-x0416-merge-2-1</td>\n      <td>0</td>\n    </tr>\n    <tr>\n      <th>2</th>\n      <td>Cc1ccc(NC(=O)CC#N)cc1NC(=O)C1CCCO1</td>\n      <td>[('CC(C)(C)OC(=O)Nc1cc(N)c(C)cc1', 'O=C(O)C1CC...</td>\n      <td>['Amidation', 'N-Boc_deprotection', 'Amidation']</td>\n      <td>3</td>\n      <td>x0310_A x0416_A</td>\n      <td>x0310-x0416-merge-2-2</td>\n      <td>0</td>\n    </tr>\n    <tr>\n      <th>3</th>\n      <td>N#CCC(=O)Nc1ccnc(NC(=O)C2CCCO2)c1</td>\n      <td>[('Nc1cc(NC(=O)OC(C)(C)C)ccn1', 'O=C(O)C1CCCO1...</td>\n      <td>['Amidation', 'N-Boc_deprotection', 'Amidation']</td>\n      <td>3</td>\n      <td>x0310_A x0416_A</td>\n      <td>x0310-x0416-merge-2-3</td>\n      <td>0</td>\n    </tr>\n    <tr>\n      <th>4</th>\n      <td>Cc1ccc(NC(=O)C2CCCO2)cc1NC(=O)CC#N</td>\n      <td>[('CC(C)(C)OC(=O)Nc1cc(N)ccc1C', 'O=C(O)C1CCCO...</td>\n      <td>['Amidation', 'N-Boc_deprotection', 'Amidation']</td>\n      <td>3</td>\n      <td>x0310_A x0416_A</td>\n      <td>x0310-x0416-merge-2-4</td>\n      <td>0</td>\n    </tr>\n    <tr>\n      <th>...</th>\n      <td>...</td>\n      <td>...</td>\n      <td>...</td>\n      <td>...</td>\n      <td>...</td>\n      <td>...</td>\n      <td>...</td>\n    </tr>\n    <tr>\n      <th>135</th>\n      <td>N#CCC(=O)Nc1ccncc1(NC(=O)CO)</td>\n      <td>[('CC(C)(C)OC(=O)Nc1ccncc1(N)', 'O=C(O)CO'), '...</td>\n      <td>['Amidation', 'N-Boc_deprotection', 'Amidation']</td>\n      <td>3</td>\n      <td>x0310_A x0732_A</td>\n      <td>x0310-x0732-merge-3-3</td>\n      <td>13</td>\n    </tr>\n    <tr>\n      <th>136</th>\n      <td>Cc1cccc(NC(=O)CO)c1NC(=O)CC#N</td>\n      <td>[('CC(C)(C)OC(=O)Nc1c(C)cccc1(N)', 'O=C(O)CO')...</td>\n      <td>['Amidation', 'N-Boc_deprotection', 'Amidation']</td>\n      <td>3</td>\n      <td>x0310_A x0732_A</td>\n      <td>x0310-x0732-merge-3-4</td>\n      <td>13</td>\n    </tr>\n    <tr>\n      <th>137</th>\n      <td>N#CCC(=O)Nc1c(NC(=O)CO)cccc1F</td>\n      <td>[('CC(C)(C)OC(=O)Nc1c(F)cccc1(N)', 'O=C(O)CO')...</td>\n      <td>['Amidation', 'N-Boc_deprotection', 'Amidation']</td>\n      <td>3</td>\n      <td>x0310_A x0732_A</td>\n      <td>x0310-x0732-merge-3-5</td>\n      <td>13</td>\n    </tr>\n    <tr>\n      <th>138</th>\n      <td>c1cc(NC(=O)CO)c(NC(=O)CC#N)cc1F</td>\n      <td>[('CC(C)(C)OC(=O)Nc1cc(F)ccc1(N)', 'O=C(O)CO')...</td>\n      <td>['Amidation', 'N-Boc_deprotection', 'Amidation']</td>\n      <td>3</td>\n      <td>x0310_A x0732_A</td>\n      <td>x0310-x0732-merge-3-6</td>\n      <td>13</td>\n    </tr>\n    <tr>\n      <th>139</th>\n      <td>c1cc(NC(=O)CO)c(NC(=O)CC#N)cc1F</td>\n      <td>[('CC(C)(C)OC(=O)Nc1cc(C)ccc1(N)', 'O=C(O)CO')...</td>\n      <td>['Amidation', 'N-Boc_deprotection', 'Amidation']</td>\n      <td>3</td>\n      <td>x0310_A x0732_A</td>\n      <td>x0310-x0732-merge-3-7</td>\n      <td>13</td>\n    </tr>\n  </tbody>\n</table>\n<p>140 rows × 7 columns</p>\n</div>"
     },
     "execution_count": 3,
     "metadata": {},
     "output_type": "execute_result"
    }
   ],
   "source": [
    "# change hits to long code for all batches, then restart them with low success rate\n",
    "df = pd.read_pickle('/Users/kate_fieseler/PycharmProjects/EV-A71-2A-syndirella-run/base_compounds/syndirella_input_MASTER_run2.pkl')\n",
    "df"
   ],
   "metadata": {
    "collapsed": false,
    "ExecuteTime": {
     "end_time": "2024-03-20T11:37:35.368656Z",
     "start_time": "2024-03-20T11:37:35.360465Z"
    }
   },
   "id": "ac9e43428c8a99af",
   "execution_count": 3
  },
  {
   "cell_type": "code",
   "outputs": [
    {
     "data": {
      "text/plain": "hits\nx0922_A x0732_A    22\nx0310_A x0732_A    16\nx0884_A x0732_A    16\nx0528_A x0732_A    16\nx0310_A x0739_A    11\nx0884_A x0739_A    11\nx0528_A x0416_A    11\nx0922_A x0416_A    11\nx0310_A x0416_A     9\nx0922_A x0739_A     7\nx0528_A x0739_A     5\nx0884_A x0719_A     3\nx0528_A x0450_A     2\nName: count, dtype: int64"
     },
     "execution_count": 9,
     "metadata": {},
     "output_type": "execute_result"
    }
   ],
   "source": [
    "df['hits'].value_counts()"
   ],
   "metadata": {
    "collapsed": false,
    "ExecuteTime": {
     "end_time": "2024-03-20T11:40:17.490640Z",
     "start_time": "2024-03-20T11:40:17.486976Z"
    }
   },
   "id": "18d565928e150d09",
   "execution_count": 9
  },
  {
   "cell_type": "code",
   "outputs": [],
   "source": [
    "previous_to_long = {\n",
    "    'x0922_A': 'A71EV2A-x0922_A_147_A71EV2A-x0501+A+152+1',\n",
    "    'x0732_A': 'A71EV2A-x0732_A_201_A71EV2A-x0501+A+152+1',\n",
    "    'x0310_A': 'A71EV2A-x0310_A_147_A71EV2A-x0501+A+152+1',\n",
    "    'x0884_A': 'A71EV2A-x0884_A_147_A71EV2A-x0501+A+152+1',\n",
    "    'x0528_A': 'A71EV2A-x0528_A_147_A71EV2A-x0501+A+152+1',\n",
    "    'x0739_A': 'A71EV2A-x0739_A_147_A71EV2A-x0501+A+152+1',\n",
    "    'x0416_A': 'A71EV2A-x0416_A_147_A71EV2A-x0501+A+152+1',\n",
    "}"
   ],
   "metadata": {
    "collapsed": false,
    "ExecuteTime": {
     "end_time": "2024-03-20T11:44:48.517529Z",
     "start_time": "2024-03-20T11:44:48.513604Z"
    }
   },
   "id": "9a36d1dd6ed038a3",
   "execution_count": 10
  },
  {
   "cell_type": "code",
   "outputs": [
    {
     "data": {
      "text/plain": "7"
     },
     "execution_count": 11,
     "metadata": {},
     "output_type": "execute_result"
    }
   ],
   "source": [
    "len(previous_to_long)"
   ],
   "metadata": {
    "collapsed": false,
    "ExecuteTime": {
     "end_time": "2024-03-20T11:44:53.513946Z",
     "start_time": "2024-03-20T11:44:53.510981Z"
    }
   },
   "id": "47c5b661ae70e24a",
   "execution_count": 11
  },
  {
   "cell_type": "code",
   "outputs": [
    {
     "data": {
      "text/plain": "                                 smiles  \\\n0     Cn1ncc(NC(=O)CC#N)c1NC(=O)C1CCCO1   \n1     N#CCC(=O)Nc1cccc(NC(=O)C2CCCO2)c1   \n2    Cc1ccc(NC(=O)CC#N)cc1NC(=O)C1CCCO1   \n3     N#CCC(=O)Nc1ccnc(NC(=O)C2CCCO2)c1   \n4    Cc1ccc(NC(=O)C2CCCO2)cc1NC(=O)CC#N   \n..                                  ...   \n135        N#CCC(=O)Nc1ccncc1(NC(=O)CO)   \n136       Cc1cccc(NC(=O)CO)c1NC(=O)CC#N   \n137       N#CCC(=O)Nc1c(NC(=O)CO)cccc1F   \n138     c1cc(NC(=O)CO)c(NC(=O)CC#N)cc1F   \n139     c1cc(NC(=O)CO)c(NC(=O)CC#N)cc1F   \n\n                                             reactants  \\\n0    [('Cn1ncc(NC(=O)OC(C)(C)C)c1N', 'O=C(O)C1CCCO1...   \n1    [('CC(C)(C)OC(=O)Nc1cccc(N)c1', 'O=C(O)C1CCCO1...   \n2    [('CC(C)(C)OC(=O)Nc1cc(N)c(C)cc1', 'O=C(O)C1CC...   \n3    [('Nc1cc(NC(=O)OC(C)(C)C)ccn1', 'O=C(O)C1CCCO1...   \n4    [('CC(C)(C)OC(=O)Nc1cc(N)ccc1C', 'O=C(O)C1CCCO...   \n..                                                 ...   \n135  [('CC(C)(C)OC(=O)Nc1ccncc1(N)', 'O=C(O)CO'), '...   \n136  [('CC(C)(C)OC(=O)Nc1c(C)cccc1(N)', 'O=C(O)CO')...   \n137  [('CC(C)(C)OC(=O)Nc1c(F)cccc1(N)', 'O=C(O)CO')...   \n138  [('CC(C)(C)OC(=O)Nc1cc(F)ccc1(N)', 'O=C(O)CO')...   \n139  [('CC(C)(C)OC(=O)Nc1cc(C)ccc1(N)', 'O=C(O)CO')...   \n\n                                       reaction_names  num_steps  \\\n0    ['Amidation', 'N-Boc_deprotection', 'Amidation']          3   \n1    ['Amidation', 'N-Boc_deprotection', 'Amidation']          3   \n2    ['Amidation', 'N-Boc_deprotection', 'Amidation']          3   \n3    ['Amidation', 'N-Boc_deprotection', 'Amidation']          3   \n4    ['Amidation', 'N-Boc_deprotection', 'Amidation']          3   \n..                                                ...        ...   \n135  ['Amidation', 'N-Boc_deprotection', 'Amidation']          3   \n136  ['Amidation', 'N-Boc_deprotection', 'Amidation']          3   \n137  ['Amidation', 'N-Boc_deprotection', 'Amidation']          3   \n138  ['Amidation', 'N-Boc_deprotection', 'Amidation']          3   \n139  ['Amidation', 'N-Boc_deprotection', 'Amidation']          3   \n\n                hits           compound_set  batch       hits_unpacked  \n0    x0310_A x0416_A  x0310-x0416-merge-1-1      0  [x0310_A, x0416_A]  \n1    x0310_A x0416_A  x0310-x0416-merge-2-1      0  [x0310_A, x0416_A]  \n2    x0310_A x0416_A  x0310-x0416-merge-2-2      0  [x0310_A, x0416_A]  \n3    x0310_A x0416_A  x0310-x0416-merge-2-3      0  [x0310_A, x0416_A]  \n4    x0310_A x0416_A  x0310-x0416-merge-2-4      0  [x0310_A, x0416_A]  \n..               ...                    ...    ...                 ...  \n135  x0310_A x0732_A  x0310-x0732-merge-3-3     13  [x0310_A, x0732_A]  \n136  x0310_A x0732_A  x0310-x0732-merge-3-4     13  [x0310_A, x0732_A]  \n137  x0310_A x0732_A  x0310-x0732-merge-3-5     13  [x0310_A, x0732_A]  \n138  x0310_A x0732_A  x0310-x0732-merge-3-6     13  [x0310_A, x0732_A]  \n139  x0310_A x0732_A  x0310-x0732-merge-3-7     13  [x0310_A, x0732_A]  \n\n[140 rows x 8 columns]",
      "text/html": "<div>\n<style scoped>\n    .dataframe tbody tr th:only-of-type {\n        vertical-align: middle;\n    }\n\n    .dataframe tbody tr th {\n        vertical-align: top;\n    }\n\n    .dataframe thead th {\n        text-align: right;\n    }\n</style>\n<table border=\"1\" class=\"dataframe\">\n  <thead>\n    <tr style=\"text-align: right;\">\n      <th></th>\n      <th>smiles</th>\n      <th>reactants</th>\n      <th>reaction_names</th>\n      <th>num_steps</th>\n      <th>hits</th>\n      <th>compound_set</th>\n      <th>batch</th>\n      <th>hits_unpacked</th>\n    </tr>\n  </thead>\n  <tbody>\n    <tr>\n      <th>0</th>\n      <td>Cn1ncc(NC(=O)CC#N)c1NC(=O)C1CCCO1</td>\n      <td>[('Cn1ncc(NC(=O)OC(C)(C)C)c1N', 'O=C(O)C1CCCO1...</td>\n      <td>['Amidation', 'N-Boc_deprotection', 'Amidation']</td>\n      <td>3</td>\n      <td>x0310_A x0416_A</td>\n      <td>x0310-x0416-merge-1-1</td>\n      <td>0</td>\n      <td>[x0310_A, x0416_A]</td>\n    </tr>\n    <tr>\n      <th>1</th>\n      <td>N#CCC(=O)Nc1cccc(NC(=O)C2CCCO2)c1</td>\n      <td>[('CC(C)(C)OC(=O)Nc1cccc(N)c1', 'O=C(O)C1CCCO1...</td>\n      <td>['Amidation', 'N-Boc_deprotection', 'Amidation']</td>\n      <td>3</td>\n      <td>x0310_A x0416_A</td>\n      <td>x0310-x0416-merge-2-1</td>\n      <td>0</td>\n      <td>[x0310_A, x0416_A]</td>\n    </tr>\n    <tr>\n      <th>2</th>\n      <td>Cc1ccc(NC(=O)CC#N)cc1NC(=O)C1CCCO1</td>\n      <td>[('CC(C)(C)OC(=O)Nc1cc(N)c(C)cc1', 'O=C(O)C1CC...</td>\n      <td>['Amidation', 'N-Boc_deprotection', 'Amidation']</td>\n      <td>3</td>\n      <td>x0310_A x0416_A</td>\n      <td>x0310-x0416-merge-2-2</td>\n      <td>0</td>\n      <td>[x0310_A, x0416_A]</td>\n    </tr>\n    <tr>\n      <th>3</th>\n      <td>N#CCC(=O)Nc1ccnc(NC(=O)C2CCCO2)c1</td>\n      <td>[('Nc1cc(NC(=O)OC(C)(C)C)ccn1', 'O=C(O)C1CCCO1...</td>\n      <td>['Amidation', 'N-Boc_deprotection', 'Amidation']</td>\n      <td>3</td>\n      <td>x0310_A x0416_A</td>\n      <td>x0310-x0416-merge-2-3</td>\n      <td>0</td>\n      <td>[x0310_A, x0416_A]</td>\n    </tr>\n    <tr>\n      <th>4</th>\n      <td>Cc1ccc(NC(=O)C2CCCO2)cc1NC(=O)CC#N</td>\n      <td>[('CC(C)(C)OC(=O)Nc1cc(N)ccc1C', 'O=C(O)C1CCCO...</td>\n      <td>['Amidation', 'N-Boc_deprotection', 'Amidation']</td>\n      <td>3</td>\n      <td>x0310_A x0416_A</td>\n      <td>x0310-x0416-merge-2-4</td>\n      <td>0</td>\n      <td>[x0310_A, x0416_A]</td>\n    </tr>\n    <tr>\n      <th>...</th>\n      <td>...</td>\n      <td>...</td>\n      <td>...</td>\n      <td>...</td>\n      <td>...</td>\n      <td>...</td>\n      <td>...</td>\n      <td>...</td>\n    </tr>\n    <tr>\n      <th>135</th>\n      <td>N#CCC(=O)Nc1ccncc1(NC(=O)CO)</td>\n      <td>[('CC(C)(C)OC(=O)Nc1ccncc1(N)', 'O=C(O)CO'), '...</td>\n      <td>['Amidation', 'N-Boc_deprotection', 'Amidation']</td>\n      <td>3</td>\n      <td>x0310_A x0732_A</td>\n      <td>x0310-x0732-merge-3-3</td>\n      <td>13</td>\n      <td>[x0310_A, x0732_A]</td>\n    </tr>\n    <tr>\n      <th>136</th>\n      <td>Cc1cccc(NC(=O)CO)c1NC(=O)CC#N</td>\n      <td>[('CC(C)(C)OC(=O)Nc1c(C)cccc1(N)', 'O=C(O)CO')...</td>\n      <td>['Amidation', 'N-Boc_deprotection', 'Amidation']</td>\n      <td>3</td>\n      <td>x0310_A x0732_A</td>\n      <td>x0310-x0732-merge-3-4</td>\n      <td>13</td>\n      <td>[x0310_A, x0732_A]</td>\n    </tr>\n    <tr>\n      <th>137</th>\n      <td>N#CCC(=O)Nc1c(NC(=O)CO)cccc1F</td>\n      <td>[('CC(C)(C)OC(=O)Nc1c(F)cccc1(N)', 'O=C(O)CO')...</td>\n      <td>['Amidation', 'N-Boc_deprotection', 'Amidation']</td>\n      <td>3</td>\n      <td>x0310_A x0732_A</td>\n      <td>x0310-x0732-merge-3-5</td>\n      <td>13</td>\n      <td>[x0310_A, x0732_A]</td>\n    </tr>\n    <tr>\n      <th>138</th>\n      <td>c1cc(NC(=O)CO)c(NC(=O)CC#N)cc1F</td>\n      <td>[('CC(C)(C)OC(=O)Nc1cc(F)ccc1(N)', 'O=C(O)CO')...</td>\n      <td>['Amidation', 'N-Boc_deprotection', 'Amidation']</td>\n      <td>3</td>\n      <td>x0310_A x0732_A</td>\n      <td>x0310-x0732-merge-3-6</td>\n      <td>13</td>\n      <td>[x0310_A, x0732_A]</td>\n    </tr>\n    <tr>\n      <th>139</th>\n      <td>c1cc(NC(=O)CO)c(NC(=O)CC#N)cc1F</td>\n      <td>[('CC(C)(C)OC(=O)Nc1cc(C)ccc1(N)', 'O=C(O)CO')...</td>\n      <td>['Amidation', 'N-Boc_deprotection', 'Amidation']</td>\n      <td>3</td>\n      <td>x0310_A x0732_A</td>\n      <td>x0310-x0732-merge-3-7</td>\n      <td>13</td>\n      <td>[x0310_A, x0732_A]</td>\n    </tr>\n  </tbody>\n</table>\n<p>140 rows × 8 columns</p>\n</div>"
     },
     "execution_count": 12,
     "metadata": {},
     "output_type": "execute_result"
    }
   ],
   "source": [
    "# change hits to long code\n",
    "df['hits'] = df['hits'].replace(previous_to_long)\n",
    "df"
   ],
   "metadata": {
    "collapsed": false,
    "ExecuteTime": {
     "end_time": "2024-03-20T11:47:05.818867Z",
     "start_time": "2024-03-20T11:47:05.810903Z"
    }
   },
   "id": "a132da41650c887f",
   "execution_count": 12
  },
  {
   "cell_type": "code",
   "outputs": [
    {
     "data": {
      "text/plain": "                                 smiles  \\\n0     Cn1ncc(NC(=O)CC#N)c1NC(=O)C1CCCO1   \n1     N#CCC(=O)Nc1cccc(NC(=O)C2CCCO2)c1   \n2    Cc1ccc(NC(=O)CC#N)cc1NC(=O)C1CCCO1   \n3     N#CCC(=O)Nc1ccnc(NC(=O)C2CCCO2)c1   \n4    Cc1ccc(NC(=O)C2CCCO2)cc1NC(=O)CC#N   \n..                                  ...   \n135        N#CCC(=O)Nc1ccncc1(NC(=O)CO)   \n136       Cc1cccc(NC(=O)CO)c1NC(=O)CC#N   \n137       N#CCC(=O)Nc1c(NC(=O)CO)cccc1F   \n138     c1cc(NC(=O)CO)c(NC(=O)CC#N)cc1F   \n139     c1cc(NC(=O)CO)c(NC(=O)CC#N)cc1F   \n\n                                             reactants  \\\n0    [('Cn1ncc(NC(=O)OC(C)(C)C)c1N', 'O=C(O)C1CCCO1...   \n1    [('CC(C)(C)OC(=O)Nc1cccc(N)c1', 'O=C(O)C1CCCO1...   \n2    [('CC(C)(C)OC(=O)Nc1cc(N)c(C)cc1', 'O=C(O)C1CC...   \n3    [('Nc1cc(NC(=O)OC(C)(C)C)ccn1', 'O=C(O)C1CCCO1...   \n4    [('CC(C)(C)OC(=O)Nc1cc(N)ccc1C', 'O=C(O)C1CCCO...   \n..                                                 ...   \n135  [('CC(C)(C)OC(=O)Nc1ccncc1(N)', 'O=C(O)CO'), '...   \n136  [('CC(C)(C)OC(=O)Nc1c(C)cccc1(N)', 'O=C(O)CO')...   \n137  [('CC(C)(C)OC(=O)Nc1c(F)cccc1(N)', 'O=C(O)CO')...   \n138  [('CC(C)(C)OC(=O)Nc1cc(F)ccc1(N)', 'O=C(O)CO')...   \n139  [('CC(C)(C)OC(=O)Nc1cc(C)ccc1(N)', 'O=C(O)CO')...   \n\n                                       reaction_names  num_steps  \\\n0    ['Amidation', 'N-Boc_deprotection', 'Amidation']          3   \n1    ['Amidation', 'N-Boc_deprotection', 'Amidation']          3   \n2    ['Amidation', 'N-Boc_deprotection', 'Amidation']          3   \n3    ['Amidation', 'N-Boc_deprotection', 'Amidation']          3   \n4    ['Amidation', 'N-Boc_deprotection', 'Amidation']          3   \n..                                                ...        ...   \n135  ['Amidation', 'N-Boc_deprotection', 'Amidation']          3   \n136  ['Amidation', 'N-Boc_deprotection', 'Amidation']          3   \n137  ['Amidation', 'N-Boc_deprotection', 'Amidation']          3   \n138  ['Amidation', 'N-Boc_deprotection', 'Amidation']          3   \n139  ['Amidation', 'N-Boc_deprotection', 'Amidation']          3   \n\n                hits           compound_set  batch       hits_unpacked  \\\n0    x0310_A x0416_A  x0310-x0416-merge-1-1      0  [x0310_A, x0416_A]   \n1    x0310_A x0416_A  x0310-x0416-merge-2-1      0  [x0310_A, x0416_A]   \n2    x0310_A x0416_A  x0310-x0416-merge-2-2      0  [x0310_A, x0416_A]   \n3    x0310_A x0416_A  x0310-x0416-merge-2-3      0  [x0310_A, x0416_A]   \n4    x0310_A x0416_A  x0310-x0416-merge-2-4      0  [x0310_A, x0416_A]   \n..               ...                    ...    ...                 ...   \n135  x0310_A x0732_A  x0310-x0732-merge-3-3     13  [x0310_A, x0732_A]   \n136  x0310_A x0732_A  x0310-x0732-merge-3-4     13  [x0310_A, x0732_A]   \n137  x0310_A x0732_A  x0310-x0732-merge-3-5     13  [x0310_A, x0732_A]   \n138  x0310_A x0732_A  x0310-x0732-merge-3-6     13  [x0310_A, x0732_A]   \n139  x0310_A x0732_A  x0310-x0732-merge-3-7     13  [x0310_A, x0732_A]   \n\n                                          hit1  \\\n0    A71EV2A-x0310_A_147_A71EV2A-x0501+A+152+1   \n1    A71EV2A-x0310_A_147_A71EV2A-x0501+A+152+1   \n2    A71EV2A-x0310_A_147_A71EV2A-x0501+A+152+1   \n3    A71EV2A-x0310_A_147_A71EV2A-x0501+A+152+1   \n4    A71EV2A-x0310_A_147_A71EV2A-x0501+A+152+1   \n..                                         ...   \n135  A71EV2A-x0310_A_147_A71EV2A-x0501+A+152+1   \n136  A71EV2A-x0310_A_147_A71EV2A-x0501+A+152+1   \n137  A71EV2A-x0310_A_147_A71EV2A-x0501+A+152+1   \n138  A71EV2A-x0310_A_147_A71EV2A-x0501+A+152+1   \n139  A71EV2A-x0310_A_147_A71EV2A-x0501+A+152+1   \n\n                                          hit2  \\\n0    A71EV2A-x0416_A_147_A71EV2A-x0501+A+152+1   \n1    A71EV2A-x0416_A_147_A71EV2A-x0501+A+152+1   \n2    A71EV2A-x0416_A_147_A71EV2A-x0501+A+152+1   \n3    A71EV2A-x0416_A_147_A71EV2A-x0501+A+152+1   \n4    A71EV2A-x0416_A_147_A71EV2A-x0501+A+152+1   \n..                                         ...   \n135  A71EV2A-x0732_A_201_A71EV2A-x0501+A+152+1   \n136  A71EV2A-x0732_A_201_A71EV2A-x0501+A+152+1   \n137  A71EV2A-x0732_A_201_A71EV2A-x0501+A+152+1   \n138  A71EV2A-x0732_A_201_A71EV2A-x0501+A+152+1   \n139  A71EV2A-x0732_A_201_A71EV2A-x0501+A+152+1   \n\n                                              new_hits  \n0    A71EV2A-x0310_A_147_A71EV2A-x0501+A+152+1 A71E...  \n1    A71EV2A-x0310_A_147_A71EV2A-x0501+A+152+1 A71E...  \n2    A71EV2A-x0310_A_147_A71EV2A-x0501+A+152+1 A71E...  \n3    A71EV2A-x0310_A_147_A71EV2A-x0501+A+152+1 A71E...  \n4    A71EV2A-x0310_A_147_A71EV2A-x0501+A+152+1 A71E...  \n..                                                 ...  \n135  A71EV2A-x0310_A_147_A71EV2A-x0501+A+152+1 A71E...  \n136  A71EV2A-x0310_A_147_A71EV2A-x0501+A+152+1 A71E...  \n137  A71EV2A-x0310_A_147_A71EV2A-x0501+A+152+1 A71E...  \n138  A71EV2A-x0310_A_147_A71EV2A-x0501+A+152+1 A71E...  \n139  A71EV2A-x0310_A_147_A71EV2A-x0501+A+152+1 A71E...  \n\n[140 rows x 11 columns]",
      "text/html": "<div>\n<style scoped>\n    .dataframe tbody tr th:only-of-type {\n        vertical-align: middle;\n    }\n\n    .dataframe tbody tr th {\n        vertical-align: top;\n    }\n\n    .dataframe thead th {\n        text-align: right;\n    }\n</style>\n<table border=\"1\" class=\"dataframe\">\n  <thead>\n    <tr style=\"text-align: right;\">\n      <th></th>\n      <th>smiles</th>\n      <th>reactants</th>\n      <th>reaction_names</th>\n      <th>num_steps</th>\n      <th>hits</th>\n      <th>compound_set</th>\n      <th>batch</th>\n      <th>hits_unpacked</th>\n      <th>hit1</th>\n      <th>hit2</th>\n      <th>new_hits</th>\n    </tr>\n  </thead>\n  <tbody>\n    <tr>\n      <th>0</th>\n      <td>Cn1ncc(NC(=O)CC#N)c1NC(=O)C1CCCO1</td>\n      <td>[('Cn1ncc(NC(=O)OC(C)(C)C)c1N', 'O=C(O)C1CCCO1...</td>\n      <td>['Amidation', 'N-Boc_deprotection', 'Amidation']</td>\n      <td>3</td>\n      <td>x0310_A x0416_A</td>\n      <td>x0310-x0416-merge-1-1</td>\n      <td>0</td>\n      <td>[x0310_A, x0416_A]</td>\n      <td>A71EV2A-x0310_A_147_A71EV2A-x0501+A+152+1</td>\n      <td>A71EV2A-x0416_A_147_A71EV2A-x0501+A+152+1</td>\n      <td>A71EV2A-x0310_A_147_A71EV2A-x0501+A+152+1 A71E...</td>\n    </tr>\n    <tr>\n      <th>1</th>\n      <td>N#CCC(=O)Nc1cccc(NC(=O)C2CCCO2)c1</td>\n      <td>[('CC(C)(C)OC(=O)Nc1cccc(N)c1', 'O=C(O)C1CCCO1...</td>\n      <td>['Amidation', 'N-Boc_deprotection', 'Amidation']</td>\n      <td>3</td>\n      <td>x0310_A x0416_A</td>\n      <td>x0310-x0416-merge-2-1</td>\n      <td>0</td>\n      <td>[x0310_A, x0416_A]</td>\n      <td>A71EV2A-x0310_A_147_A71EV2A-x0501+A+152+1</td>\n      <td>A71EV2A-x0416_A_147_A71EV2A-x0501+A+152+1</td>\n      <td>A71EV2A-x0310_A_147_A71EV2A-x0501+A+152+1 A71E...</td>\n    </tr>\n    <tr>\n      <th>2</th>\n      <td>Cc1ccc(NC(=O)CC#N)cc1NC(=O)C1CCCO1</td>\n      <td>[('CC(C)(C)OC(=O)Nc1cc(N)c(C)cc1', 'O=C(O)C1CC...</td>\n      <td>['Amidation', 'N-Boc_deprotection', 'Amidation']</td>\n      <td>3</td>\n      <td>x0310_A x0416_A</td>\n      <td>x0310-x0416-merge-2-2</td>\n      <td>0</td>\n      <td>[x0310_A, x0416_A]</td>\n      <td>A71EV2A-x0310_A_147_A71EV2A-x0501+A+152+1</td>\n      <td>A71EV2A-x0416_A_147_A71EV2A-x0501+A+152+1</td>\n      <td>A71EV2A-x0310_A_147_A71EV2A-x0501+A+152+1 A71E...</td>\n    </tr>\n    <tr>\n      <th>3</th>\n      <td>N#CCC(=O)Nc1ccnc(NC(=O)C2CCCO2)c1</td>\n      <td>[('Nc1cc(NC(=O)OC(C)(C)C)ccn1', 'O=C(O)C1CCCO1...</td>\n      <td>['Amidation', 'N-Boc_deprotection', 'Amidation']</td>\n      <td>3</td>\n      <td>x0310_A x0416_A</td>\n      <td>x0310-x0416-merge-2-3</td>\n      <td>0</td>\n      <td>[x0310_A, x0416_A]</td>\n      <td>A71EV2A-x0310_A_147_A71EV2A-x0501+A+152+1</td>\n      <td>A71EV2A-x0416_A_147_A71EV2A-x0501+A+152+1</td>\n      <td>A71EV2A-x0310_A_147_A71EV2A-x0501+A+152+1 A71E...</td>\n    </tr>\n    <tr>\n      <th>4</th>\n      <td>Cc1ccc(NC(=O)C2CCCO2)cc1NC(=O)CC#N</td>\n      <td>[('CC(C)(C)OC(=O)Nc1cc(N)ccc1C', 'O=C(O)C1CCCO...</td>\n      <td>['Amidation', 'N-Boc_deprotection', 'Amidation']</td>\n      <td>3</td>\n      <td>x0310_A x0416_A</td>\n      <td>x0310-x0416-merge-2-4</td>\n      <td>0</td>\n      <td>[x0310_A, x0416_A]</td>\n      <td>A71EV2A-x0310_A_147_A71EV2A-x0501+A+152+1</td>\n      <td>A71EV2A-x0416_A_147_A71EV2A-x0501+A+152+1</td>\n      <td>A71EV2A-x0310_A_147_A71EV2A-x0501+A+152+1 A71E...</td>\n    </tr>\n    <tr>\n      <th>...</th>\n      <td>...</td>\n      <td>...</td>\n      <td>...</td>\n      <td>...</td>\n      <td>...</td>\n      <td>...</td>\n      <td>...</td>\n      <td>...</td>\n      <td>...</td>\n      <td>...</td>\n      <td>...</td>\n    </tr>\n    <tr>\n      <th>135</th>\n      <td>N#CCC(=O)Nc1ccncc1(NC(=O)CO)</td>\n      <td>[('CC(C)(C)OC(=O)Nc1ccncc1(N)', 'O=C(O)CO'), '...</td>\n      <td>['Amidation', 'N-Boc_deprotection', 'Amidation']</td>\n      <td>3</td>\n      <td>x0310_A x0732_A</td>\n      <td>x0310-x0732-merge-3-3</td>\n      <td>13</td>\n      <td>[x0310_A, x0732_A]</td>\n      <td>A71EV2A-x0310_A_147_A71EV2A-x0501+A+152+1</td>\n      <td>A71EV2A-x0732_A_201_A71EV2A-x0501+A+152+1</td>\n      <td>A71EV2A-x0310_A_147_A71EV2A-x0501+A+152+1 A71E...</td>\n    </tr>\n    <tr>\n      <th>136</th>\n      <td>Cc1cccc(NC(=O)CO)c1NC(=O)CC#N</td>\n      <td>[('CC(C)(C)OC(=O)Nc1c(C)cccc1(N)', 'O=C(O)CO')...</td>\n      <td>['Amidation', 'N-Boc_deprotection', 'Amidation']</td>\n      <td>3</td>\n      <td>x0310_A x0732_A</td>\n      <td>x0310-x0732-merge-3-4</td>\n      <td>13</td>\n      <td>[x0310_A, x0732_A]</td>\n      <td>A71EV2A-x0310_A_147_A71EV2A-x0501+A+152+1</td>\n      <td>A71EV2A-x0732_A_201_A71EV2A-x0501+A+152+1</td>\n      <td>A71EV2A-x0310_A_147_A71EV2A-x0501+A+152+1 A71E...</td>\n    </tr>\n    <tr>\n      <th>137</th>\n      <td>N#CCC(=O)Nc1c(NC(=O)CO)cccc1F</td>\n      <td>[('CC(C)(C)OC(=O)Nc1c(F)cccc1(N)', 'O=C(O)CO')...</td>\n      <td>['Amidation', 'N-Boc_deprotection', 'Amidation']</td>\n      <td>3</td>\n      <td>x0310_A x0732_A</td>\n      <td>x0310-x0732-merge-3-5</td>\n      <td>13</td>\n      <td>[x0310_A, x0732_A]</td>\n      <td>A71EV2A-x0310_A_147_A71EV2A-x0501+A+152+1</td>\n      <td>A71EV2A-x0732_A_201_A71EV2A-x0501+A+152+1</td>\n      <td>A71EV2A-x0310_A_147_A71EV2A-x0501+A+152+1 A71E...</td>\n    </tr>\n    <tr>\n      <th>138</th>\n      <td>c1cc(NC(=O)CO)c(NC(=O)CC#N)cc1F</td>\n      <td>[('CC(C)(C)OC(=O)Nc1cc(F)ccc1(N)', 'O=C(O)CO')...</td>\n      <td>['Amidation', 'N-Boc_deprotection', 'Amidation']</td>\n      <td>3</td>\n      <td>x0310_A x0732_A</td>\n      <td>x0310-x0732-merge-3-6</td>\n      <td>13</td>\n      <td>[x0310_A, x0732_A]</td>\n      <td>A71EV2A-x0310_A_147_A71EV2A-x0501+A+152+1</td>\n      <td>A71EV2A-x0732_A_201_A71EV2A-x0501+A+152+1</td>\n      <td>A71EV2A-x0310_A_147_A71EV2A-x0501+A+152+1 A71E...</td>\n    </tr>\n    <tr>\n      <th>139</th>\n      <td>c1cc(NC(=O)CO)c(NC(=O)CC#N)cc1F</td>\n      <td>[('CC(C)(C)OC(=O)Nc1cc(C)ccc1(N)', 'O=C(O)CO')...</td>\n      <td>['Amidation', 'N-Boc_deprotection', 'Amidation']</td>\n      <td>3</td>\n      <td>x0310_A x0732_A</td>\n      <td>x0310-x0732-merge-3-7</td>\n      <td>13</td>\n      <td>[x0310_A, x0732_A]</td>\n      <td>A71EV2A-x0310_A_147_A71EV2A-x0501+A+152+1</td>\n      <td>A71EV2A-x0732_A_201_A71EV2A-x0501+A+152+1</td>\n      <td>A71EV2A-x0310_A_147_A71EV2A-x0501+A+152+1 A71E...</td>\n    </tr>\n  </tbody>\n</table>\n<p>140 rows × 11 columns</p>\n</div>"
     },
     "execution_count": 13,
     "metadata": {},
     "output_type": "execute_result"
    }
   ],
   "source": [
    "def process_hits_column(df):\n",
    "    # Split the 'hits' column into two new columns 'hit1' and 'hit2'\n",
    "    df[['hit1', 'hit2']] = df['hits'].str.split(' ', expand=True)\n",
    "    \n",
    "    # Replace the values in 'hit1' and 'hit2' according to the dictionary\n",
    "    df['hit1'] = df['hit1'].map(previous_to_long)\n",
    "    df['hit2'] = df['hit2'].map(previous_to_long)\n",
    "    \n",
    "    # Merge 'hit1' and 'hit2' into a new 'hits' column\n",
    "    df['new_hits'] = df['hit1'] + ' ' + df['hit2']\n",
    "    \n",
    "    return df\n",
    "\n",
    "# Process the DataFrame\n",
    "processed_df = process_hits_column(df)\n",
    "processed_df"
   ],
   "metadata": {
    "collapsed": false,
    "ExecuteTime": {
     "end_time": "2024-03-20T11:51:49.330183Z",
     "start_time": "2024-03-20T11:51:49.311392Z"
    }
   },
   "id": "65a64bdf0cc285a0",
   "execution_count": 13
  },
  {
   "cell_type": "code",
   "outputs": [],
   "source": [
    "df.drop(columns=['hit1', 'hit2', 'hits', 'hits_unpacked'], inplace=True)"
   ],
   "metadata": {
    "collapsed": false,
    "ExecuteTime": {
     "end_time": "2024-03-20T11:52:34.198803Z",
     "start_time": "2024-03-20T11:52:34.195385Z"
    }
   },
   "id": "705e5a6c4dc06723",
   "execution_count": 14
  },
  {
   "cell_type": "code",
   "outputs": [
    {
     "data": {
      "text/plain": "                                 smiles  \\\n0     Cn1ncc(NC(=O)CC#N)c1NC(=O)C1CCCO1   \n1     N#CCC(=O)Nc1cccc(NC(=O)C2CCCO2)c1   \n2    Cc1ccc(NC(=O)CC#N)cc1NC(=O)C1CCCO1   \n3     N#CCC(=O)Nc1ccnc(NC(=O)C2CCCO2)c1   \n4    Cc1ccc(NC(=O)C2CCCO2)cc1NC(=O)CC#N   \n..                                  ...   \n135        N#CCC(=O)Nc1ccncc1(NC(=O)CO)   \n136       Cc1cccc(NC(=O)CO)c1NC(=O)CC#N   \n137       N#CCC(=O)Nc1c(NC(=O)CO)cccc1F   \n138     c1cc(NC(=O)CO)c(NC(=O)CC#N)cc1F   \n139     c1cc(NC(=O)CO)c(NC(=O)CC#N)cc1F   \n\n                                             reactants  \\\n0    [('Cn1ncc(NC(=O)OC(C)(C)C)c1N', 'O=C(O)C1CCCO1...   \n1    [('CC(C)(C)OC(=O)Nc1cccc(N)c1', 'O=C(O)C1CCCO1...   \n2    [('CC(C)(C)OC(=O)Nc1cc(N)c(C)cc1', 'O=C(O)C1CC...   \n3    [('Nc1cc(NC(=O)OC(C)(C)C)ccn1', 'O=C(O)C1CCCO1...   \n4    [('CC(C)(C)OC(=O)Nc1cc(N)ccc1C', 'O=C(O)C1CCCO...   \n..                                                 ...   \n135  [('CC(C)(C)OC(=O)Nc1ccncc1(N)', 'O=C(O)CO'), '...   \n136  [('CC(C)(C)OC(=O)Nc1c(C)cccc1(N)', 'O=C(O)CO')...   \n137  [('CC(C)(C)OC(=O)Nc1c(F)cccc1(N)', 'O=C(O)CO')...   \n138  [('CC(C)(C)OC(=O)Nc1cc(F)ccc1(N)', 'O=C(O)CO')...   \n139  [('CC(C)(C)OC(=O)Nc1cc(C)ccc1(N)', 'O=C(O)CO')...   \n\n                                       reaction_names  num_steps  \\\n0    ['Amidation', 'N-Boc_deprotection', 'Amidation']          3   \n1    ['Amidation', 'N-Boc_deprotection', 'Amidation']          3   \n2    ['Amidation', 'N-Boc_deprotection', 'Amidation']          3   \n3    ['Amidation', 'N-Boc_deprotection', 'Amidation']          3   \n4    ['Amidation', 'N-Boc_deprotection', 'Amidation']          3   \n..                                                ...        ...   \n135  ['Amidation', 'N-Boc_deprotection', 'Amidation']          3   \n136  ['Amidation', 'N-Boc_deprotection', 'Amidation']          3   \n137  ['Amidation', 'N-Boc_deprotection', 'Amidation']          3   \n138  ['Amidation', 'N-Boc_deprotection', 'Amidation']          3   \n139  ['Amidation', 'N-Boc_deprotection', 'Amidation']          3   \n\n              compound_set  batch  \\\n0    x0310-x0416-merge-1-1      0   \n1    x0310-x0416-merge-2-1      0   \n2    x0310-x0416-merge-2-2      0   \n3    x0310-x0416-merge-2-3      0   \n4    x0310-x0416-merge-2-4      0   \n..                     ...    ...   \n135  x0310-x0732-merge-3-3     13   \n136  x0310-x0732-merge-3-4     13   \n137  x0310-x0732-merge-3-5     13   \n138  x0310-x0732-merge-3-6     13   \n139  x0310-x0732-merge-3-7     13   \n\n                                              new_hits  \n0    A71EV2A-x0310_A_147_A71EV2A-x0501+A+152+1 A71E...  \n1    A71EV2A-x0310_A_147_A71EV2A-x0501+A+152+1 A71E...  \n2    A71EV2A-x0310_A_147_A71EV2A-x0501+A+152+1 A71E...  \n3    A71EV2A-x0310_A_147_A71EV2A-x0501+A+152+1 A71E...  \n4    A71EV2A-x0310_A_147_A71EV2A-x0501+A+152+1 A71E...  \n..                                                 ...  \n135  A71EV2A-x0310_A_147_A71EV2A-x0501+A+152+1 A71E...  \n136  A71EV2A-x0310_A_147_A71EV2A-x0501+A+152+1 A71E...  \n137  A71EV2A-x0310_A_147_A71EV2A-x0501+A+152+1 A71E...  \n138  A71EV2A-x0310_A_147_A71EV2A-x0501+A+152+1 A71E...  \n139  A71EV2A-x0310_A_147_A71EV2A-x0501+A+152+1 A71E...  \n\n[140 rows x 7 columns]",
      "text/html": "<div>\n<style scoped>\n    .dataframe tbody tr th:only-of-type {\n        vertical-align: middle;\n    }\n\n    .dataframe tbody tr th {\n        vertical-align: top;\n    }\n\n    .dataframe thead th {\n        text-align: right;\n    }\n</style>\n<table border=\"1\" class=\"dataframe\">\n  <thead>\n    <tr style=\"text-align: right;\">\n      <th></th>\n      <th>smiles</th>\n      <th>reactants</th>\n      <th>reaction_names</th>\n      <th>num_steps</th>\n      <th>compound_set</th>\n      <th>batch</th>\n      <th>new_hits</th>\n    </tr>\n  </thead>\n  <tbody>\n    <tr>\n      <th>0</th>\n      <td>Cn1ncc(NC(=O)CC#N)c1NC(=O)C1CCCO1</td>\n      <td>[('Cn1ncc(NC(=O)OC(C)(C)C)c1N', 'O=C(O)C1CCCO1...</td>\n      <td>['Amidation', 'N-Boc_deprotection', 'Amidation']</td>\n      <td>3</td>\n      <td>x0310-x0416-merge-1-1</td>\n      <td>0</td>\n      <td>A71EV2A-x0310_A_147_A71EV2A-x0501+A+152+1 A71E...</td>\n    </tr>\n    <tr>\n      <th>1</th>\n      <td>N#CCC(=O)Nc1cccc(NC(=O)C2CCCO2)c1</td>\n      <td>[('CC(C)(C)OC(=O)Nc1cccc(N)c1', 'O=C(O)C1CCCO1...</td>\n      <td>['Amidation', 'N-Boc_deprotection', 'Amidation']</td>\n      <td>3</td>\n      <td>x0310-x0416-merge-2-1</td>\n      <td>0</td>\n      <td>A71EV2A-x0310_A_147_A71EV2A-x0501+A+152+1 A71E...</td>\n    </tr>\n    <tr>\n      <th>2</th>\n      <td>Cc1ccc(NC(=O)CC#N)cc1NC(=O)C1CCCO1</td>\n      <td>[('CC(C)(C)OC(=O)Nc1cc(N)c(C)cc1', 'O=C(O)C1CC...</td>\n      <td>['Amidation', 'N-Boc_deprotection', 'Amidation']</td>\n      <td>3</td>\n      <td>x0310-x0416-merge-2-2</td>\n      <td>0</td>\n      <td>A71EV2A-x0310_A_147_A71EV2A-x0501+A+152+1 A71E...</td>\n    </tr>\n    <tr>\n      <th>3</th>\n      <td>N#CCC(=O)Nc1ccnc(NC(=O)C2CCCO2)c1</td>\n      <td>[('Nc1cc(NC(=O)OC(C)(C)C)ccn1', 'O=C(O)C1CCCO1...</td>\n      <td>['Amidation', 'N-Boc_deprotection', 'Amidation']</td>\n      <td>3</td>\n      <td>x0310-x0416-merge-2-3</td>\n      <td>0</td>\n      <td>A71EV2A-x0310_A_147_A71EV2A-x0501+A+152+1 A71E...</td>\n    </tr>\n    <tr>\n      <th>4</th>\n      <td>Cc1ccc(NC(=O)C2CCCO2)cc1NC(=O)CC#N</td>\n      <td>[('CC(C)(C)OC(=O)Nc1cc(N)ccc1C', 'O=C(O)C1CCCO...</td>\n      <td>['Amidation', 'N-Boc_deprotection', 'Amidation']</td>\n      <td>3</td>\n      <td>x0310-x0416-merge-2-4</td>\n      <td>0</td>\n      <td>A71EV2A-x0310_A_147_A71EV2A-x0501+A+152+1 A71E...</td>\n    </tr>\n    <tr>\n      <th>...</th>\n      <td>...</td>\n      <td>...</td>\n      <td>...</td>\n      <td>...</td>\n      <td>...</td>\n      <td>...</td>\n      <td>...</td>\n    </tr>\n    <tr>\n      <th>135</th>\n      <td>N#CCC(=O)Nc1ccncc1(NC(=O)CO)</td>\n      <td>[('CC(C)(C)OC(=O)Nc1ccncc1(N)', 'O=C(O)CO'), '...</td>\n      <td>['Amidation', 'N-Boc_deprotection', 'Amidation']</td>\n      <td>3</td>\n      <td>x0310-x0732-merge-3-3</td>\n      <td>13</td>\n      <td>A71EV2A-x0310_A_147_A71EV2A-x0501+A+152+1 A71E...</td>\n    </tr>\n    <tr>\n      <th>136</th>\n      <td>Cc1cccc(NC(=O)CO)c1NC(=O)CC#N</td>\n      <td>[('CC(C)(C)OC(=O)Nc1c(C)cccc1(N)', 'O=C(O)CO')...</td>\n      <td>['Amidation', 'N-Boc_deprotection', 'Amidation']</td>\n      <td>3</td>\n      <td>x0310-x0732-merge-3-4</td>\n      <td>13</td>\n      <td>A71EV2A-x0310_A_147_A71EV2A-x0501+A+152+1 A71E...</td>\n    </tr>\n    <tr>\n      <th>137</th>\n      <td>N#CCC(=O)Nc1c(NC(=O)CO)cccc1F</td>\n      <td>[('CC(C)(C)OC(=O)Nc1c(F)cccc1(N)', 'O=C(O)CO')...</td>\n      <td>['Amidation', 'N-Boc_deprotection', 'Amidation']</td>\n      <td>3</td>\n      <td>x0310-x0732-merge-3-5</td>\n      <td>13</td>\n      <td>A71EV2A-x0310_A_147_A71EV2A-x0501+A+152+1 A71E...</td>\n    </tr>\n    <tr>\n      <th>138</th>\n      <td>c1cc(NC(=O)CO)c(NC(=O)CC#N)cc1F</td>\n      <td>[('CC(C)(C)OC(=O)Nc1cc(F)ccc1(N)', 'O=C(O)CO')...</td>\n      <td>['Amidation', 'N-Boc_deprotection', 'Amidation']</td>\n      <td>3</td>\n      <td>x0310-x0732-merge-3-6</td>\n      <td>13</td>\n      <td>A71EV2A-x0310_A_147_A71EV2A-x0501+A+152+1 A71E...</td>\n    </tr>\n    <tr>\n      <th>139</th>\n      <td>c1cc(NC(=O)CO)c(NC(=O)CC#N)cc1F</td>\n      <td>[('CC(C)(C)OC(=O)Nc1cc(C)ccc1(N)', 'O=C(O)CO')...</td>\n      <td>['Amidation', 'N-Boc_deprotection', 'Amidation']</td>\n      <td>3</td>\n      <td>x0310-x0732-merge-3-7</td>\n      <td>13</td>\n      <td>A71EV2A-x0310_A_147_A71EV2A-x0501+A+152+1 A71E...</td>\n    </tr>\n  </tbody>\n</table>\n<p>140 rows × 7 columns</p>\n</div>"
     },
     "execution_count": 15,
     "metadata": {},
     "output_type": "execute_result"
    }
   ],
   "source": [
    "df"
   ],
   "metadata": {
    "collapsed": false,
    "ExecuteTime": {
     "end_time": "2024-03-20T11:52:35.649435Z",
     "start_time": "2024-03-20T11:52:35.643645Z"
    }
   },
   "id": "9cf6ca03b222678f",
   "execution_count": 15
  },
  {
   "cell_type": "code",
   "outputs": [
    {
     "data": {
      "text/plain": "                                 smiles  \\\n0     Cn1ncc(NC(=O)CC#N)c1NC(=O)C1CCCO1   \n1     N#CCC(=O)Nc1cccc(NC(=O)C2CCCO2)c1   \n2    Cc1ccc(NC(=O)CC#N)cc1NC(=O)C1CCCO1   \n3     N#CCC(=O)Nc1ccnc(NC(=O)C2CCCO2)c1   \n4    Cc1ccc(NC(=O)C2CCCO2)cc1NC(=O)CC#N   \n..                                  ...   \n135        N#CCC(=O)Nc1ccncc1(NC(=O)CO)   \n136       Cc1cccc(NC(=O)CO)c1NC(=O)CC#N   \n137       N#CCC(=O)Nc1c(NC(=O)CO)cccc1F   \n138     c1cc(NC(=O)CO)c(NC(=O)CC#N)cc1F   \n139     c1cc(NC(=O)CO)c(NC(=O)CC#N)cc1F   \n\n                                             reactants  \\\n0    [('Cn1ncc(NC(=O)OC(C)(C)C)c1N', 'O=C(O)C1CCCO1...   \n1    [('CC(C)(C)OC(=O)Nc1cccc(N)c1', 'O=C(O)C1CCCO1...   \n2    [('CC(C)(C)OC(=O)Nc1cc(N)c(C)cc1', 'O=C(O)C1CC...   \n3    [('Nc1cc(NC(=O)OC(C)(C)C)ccn1', 'O=C(O)C1CCCO1...   \n4    [('CC(C)(C)OC(=O)Nc1cc(N)ccc1C', 'O=C(O)C1CCCO...   \n..                                                 ...   \n135  [('CC(C)(C)OC(=O)Nc1ccncc1(N)', 'O=C(O)CO'), '...   \n136  [('CC(C)(C)OC(=O)Nc1c(C)cccc1(N)', 'O=C(O)CO')...   \n137  [('CC(C)(C)OC(=O)Nc1c(F)cccc1(N)', 'O=C(O)CO')...   \n138  [('CC(C)(C)OC(=O)Nc1cc(F)ccc1(N)', 'O=C(O)CO')...   \n139  [('CC(C)(C)OC(=O)Nc1cc(C)ccc1(N)', 'O=C(O)CO')...   \n\n                                       reaction_names  num_steps  \\\n0    ['Amidation', 'N-Boc_deprotection', 'Amidation']          3   \n1    ['Amidation', 'N-Boc_deprotection', 'Amidation']          3   \n2    ['Amidation', 'N-Boc_deprotection', 'Amidation']          3   \n3    ['Amidation', 'N-Boc_deprotection', 'Amidation']          3   \n4    ['Amidation', 'N-Boc_deprotection', 'Amidation']          3   \n..                                                ...        ...   \n135  ['Amidation', 'N-Boc_deprotection', 'Amidation']          3   \n136  ['Amidation', 'N-Boc_deprotection', 'Amidation']          3   \n137  ['Amidation', 'N-Boc_deprotection', 'Amidation']          3   \n138  ['Amidation', 'N-Boc_deprotection', 'Amidation']          3   \n139  ['Amidation', 'N-Boc_deprotection', 'Amidation']          3   \n\n              compound_set  batch  \\\n0    x0310-x0416-merge-1-1      0   \n1    x0310-x0416-merge-2-1      0   \n2    x0310-x0416-merge-2-2      0   \n3    x0310-x0416-merge-2-3      0   \n4    x0310-x0416-merge-2-4      0   \n..                     ...    ...   \n135  x0310-x0732-merge-3-3     13   \n136  x0310-x0732-merge-3-4     13   \n137  x0310-x0732-merge-3-5     13   \n138  x0310-x0732-merge-3-6     13   \n139  x0310-x0732-merge-3-7     13   \n\n                                                  hits  \n0    A71EV2A-x0310_A_147_A71EV2A-x0501+A+152+1 A71E...  \n1    A71EV2A-x0310_A_147_A71EV2A-x0501+A+152+1 A71E...  \n2    A71EV2A-x0310_A_147_A71EV2A-x0501+A+152+1 A71E...  \n3    A71EV2A-x0310_A_147_A71EV2A-x0501+A+152+1 A71E...  \n4    A71EV2A-x0310_A_147_A71EV2A-x0501+A+152+1 A71E...  \n..                                                 ...  \n135  A71EV2A-x0310_A_147_A71EV2A-x0501+A+152+1 A71E...  \n136  A71EV2A-x0310_A_147_A71EV2A-x0501+A+152+1 A71E...  \n137  A71EV2A-x0310_A_147_A71EV2A-x0501+A+152+1 A71E...  \n138  A71EV2A-x0310_A_147_A71EV2A-x0501+A+152+1 A71E...  \n139  A71EV2A-x0310_A_147_A71EV2A-x0501+A+152+1 A71E...  \n\n[140 rows x 7 columns]",
      "text/html": "<div>\n<style scoped>\n    .dataframe tbody tr th:only-of-type {\n        vertical-align: middle;\n    }\n\n    .dataframe tbody tr th {\n        vertical-align: top;\n    }\n\n    .dataframe thead th {\n        text-align: right;\n    }\n</style>\n<table border=\"1\" class=\"dataframe\">\n  <thead>\n    <tr style=\"text-align: right;\">\n      <th></th>\n      <th>smiles</th>\n      <th>reactants</th>\n      <th>reaction_names</th>\n      <th>num_steps</th>\n      <th>compound_set</th>\n      <th>batch</th>\n      <th>hits</th>\n    </tr>\n  </thead>\n  <tbody>\n    <tr>\n      <th>0</th>\n      <td>Cn1ncc(NC(=O)CC#N)c1NC(=O)C1CCCO1</td>\n      <td>[('Cn1ncc(NC(=O)OC(C)(C)C)c1N', 'O=C(O)C1CCCO1...</td>\n      <td>['Amidation', 'N-Boc_deprotection', 'Amidation']</td>\n      <td>3</td>\n      <td>x0310-x0416-merge-1-1</td>\n      <td>0</td>\n      <td>A71EV2A-x0310_A_147_A71EV2A-x0501+A+152+1 A71E...</td>\n    </tr>\n    <tr>\n      <th>1</th>\n      <td>N#CCC(=O)Nc1cccc(NC(=O)C2CCCO2)c1</td>\n      <td>[('CC(C)(C)OC(=O)Nc1cccc(N)c1', 'O=C(O)C1CCCO1...</td>\n      <td>['Amidation', 'N-Boc_deprotection', 'Amidation']</td>\n      <td>3</td>\n      <td>x0310-x0416-merge-2-1</td>\n      <td>0</td>\n      <td>A71EV2A-x0310_A_147_A71EV2A-x0501+A+152+1 A71E...</td>\n    </tr>\n    <tr>\n      <th>2</th>\n      <td>Cc1ccc(NC(=O)CC#N)cc1NC(=O)C1CCCO1</td>\n      <td>[('CC(C)(C)OC(=O)Nc1cc(N)c(C)cc1', 'O=C(O)C1CC...</td>\n      <td>['Amidation', 'N-Boc_deprotection', 'Amidation']</td>\n      <td>3</td>\n      <td>x0310-x0416-merge-2-2</td>\n      <td>0</td>\n      <td>A71EV2A-x0310_A_147_A71EV2A-x0501+A+152+1 A71E...</td>\n    </tr>\n    <tr>\n      <th>3</th>\n      <td>N#CCC(=O)Nc1ccnc(NC(=O)C2CCCO2)c1</td>\n      <td>[('Nc1cc(NC(=O)OC(C)(C)C)ccn1', 'O=C(O)C1CCCO1...</td>\n      <td>['Amidation', 'N-Boc_deprotection', 'Amidation']</td>\n      <td>3</td>\n      <td>x0310-x0416-merge-2-3</td>\n      <td>0</td>\n      <td>A71EV2A-x0310_A_147_A71EV2A-x0501+A+152+1 A71E...</td>\n    </tr>\n    <tr>\n      <th>4</th>\n      <td>Cc1ccc(NC(=O)C2CCCO2)cc1NC(=O)CC#N</td>\n      <td>[('CC(C)(C)OC(=O)Nc1cc(N)ccc1C', 'O=C(O)C1CCCO...</td>\n      <td>['Amidation', 'N-Boc_deprotection', 'Amidation']</td>\n      <td>3</td>\n      <td>x0310-x0416-merge-2-4</td>\n      <td>0</td>\n      <td>A71EV2A-x0310_A_147_A71EV2A-x0501+A+152+1 A71E...</td>\n    </tr>\n    <tr>\n      <th>...</th>\n      <td>...</td>\n      <td>...</td>\n      <td>...</td>\n      <td>...</td>\n      <td>...</td>\n      <td>...</td>\n      <td>...</td>\n    </tr>\n    <tr>\n      <th>135</th>\n      <td>N#CCC(=O)Nc1ccncc1(NC(=O)CO)</td>\n      <td>[('CC(C)(C)OC(=O)Nc1ccncc1(N)', 'O=C(O)CO'), '...</td>\n      <td>['Amidation', 'N-Boc_deprotection', 'Amidation']</td>\n      <td>3</td>\n      <td>x0310-x0732-merge-3-3</td>\n      <td>13</td>\n      <td>A71EV2A-x0310_A_147_A71EV2A-x0501+A+152+1 A71E...</td>\n    </tr>\n    <tr>\n      <th>136</th>\n      <td>Cc1cccc(NC(=O)CO)c1NC(=O)CC#N</td>\n      <td>[('CC(C)(C)OC(=O)Nc1c(C)cccc1(N)', 'O=C(O)CO')...</td>\n      <td>['Amidation', 'N-Boc_deprotection', 'Amidation']</td>\n      <td>3</td>\n      <td>x0310-x0732-merge-3-4</td>\n      <td>13</td>\n      <td>A71EV2A-x0310_A_147_A71EV2A-x0501+A+152+1 A71E...</td>\n    </tr>\n    <tr>\n      <th>137</th>\n      <td>N#CCC(=O)Nc1c(NC(=O)CO)cccc1F</td>\n      <td>[('CC(C)(C)OC(=O)Nc1c(F)cccc1(N)', 'O=C(O)CO')...</td>\n      <td>['Amidation', 'N-Boc_deprotection', 'Amidation']</td>\n      <td>3</td>\n      <td>x0310-x0732-merge-3-5</td>\n      <td>13</td>\n      <td>A71EV2A-x0310_A_147_A71EV2A-x0501+A+152+1 A71E...</td>\n    </tr>\n    <tr>\n      <th>138</th>\n      <td>c1cc(NC(=O)CO)c(NC(=O)CC#N)cc1F</td>\n      <td>[('CC(C)(C)OC(=O)Nc1cc(F)ccc1(N)', 'O=C(O)CO')...</td>\n      <td>['Amidation', 'N-Boc_deprotection', 'Amidation']</td>\n      <td>3</td>\n      <td>x0310-x0732-merge-3-6</td>\n      <td>13</td>\n      <td>A71EV2A-x0310_A_147_A71EV2A-x0501+A+152+1 A71E...</td>\n    </tr>\n    <tr>\n      <th>139</th>\n      <td>c1cc(NC(=O)CO)c(NC(=O)CC#N)cc1F</td>\n      <td>[('CC(C)(C)OC(=O)Nc1cc(C)ccc1(N)', 'O=C(O)CO')...</td>\n      <td>['Amidation', 'N-Boc_deprotection', 'Amidation']</td>\n      <td>3</td>\n      <td>x0310-x0732-merge-3-7</td>\n      <td>13</td>\n      <td>A71EV2A-x0310_A_147_A71EV2A-x0501+A+152+1 A71E...</td>\n    </tr>\n  </tbody>\n</table>\n<p>140 rows × 7 columns</p>\n</div>"
     },
     "execution_count": 16,
     "metadata": {},
     "output_type": "execute_result"
    }
   ],
   "source": [
    "df.rename(columns={'new_hits': 'hits'}, inplace=True)\n",
    "df"
   ],
   "metadata": {
    "collapsed": false,
    "ExecuteTime": {
     "end_time": "2024-03-20T11:52:44.596565Z",
     "start_time": "2024-03-20T11:52:44.589886Z"
    }
   },
   "id": "b57124589ccaab34",
   "execution_count": 16
  },
  {
   "cell_type": "code",
   "outputs": [],
   "source": [
    "df.to_pickle('/Users/kate_fieseler/PycharmProjects/EV-A71-2A-syndirella-run/base_compounds/syndirella_input_MASTER_run3.pkl')\n",
    "df.to_csv('/Users/kate_fieseler/PycharmProjects/EV-A71-2A-syndirella-run/base_compounds/syndirella_input_MASTER_run3.csv')"
   ],
   "metadata": {
    "collapsed": false,
    "ExecuteTime": {
     "end_time": "2024-03-20T11:56:16.417838Z",
     "start_time": "2024-03-20T11:56:16.405163Z"
    }
   },
   "id": "81c8528949d322d4",
   "execution_count": 17
  },
  {
   "cell_type": "code",
   "outputs": [],
   "source": [],
   "metadata": {
    "collapsed": false
   },
   "id": "abd45623f24e98ac"
  }
 ],
 "metadata": {
  "kernelspec": {
   "display_name": "Python 3",
   "language": "python",
   "name": "python3"
  },
  "language_info": {
   "codemirror_mode": {
    "name": "ipython",
    "version": 2
   },
   "file_extension": ".py",
   "mimetype": "text/x-python",
   "name": "python",
   "nbconvert_exporter": "python",
   "pygments_lexer": "ipython2",
   "version": "2.7.6"
  }
 },
 "nbformat": 4,
 "nbformat_minor": 5
}

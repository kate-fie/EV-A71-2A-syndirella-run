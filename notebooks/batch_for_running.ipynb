{
 "cells": [
  {
   "cell_type": "code",
   "execution_count": 7,
   "id": "initial_id",
   "metadata": {
    "collapsed": true,
    "ExecuteTime": {
     "end_time": "2024-02-29T14:13:52.469160Z",
     "start_time": "2024-02-29T14:13:52.466420Z"
    }
   },
   "outputs": [],
   "source": [
    "import pandas as pd"
   ]
  },
  {
   "cell_type": "code",
   "outputs": [
    {
     "data": {
      "text/plain": "              target-names  no-steps  concentration-required-mM  \\\n0    x0310-x0416-merge-1-1         3                        100   \n1    x0310-x0416-merge-2-1         3                        100   \n2    x0310-x0416-merge-2-2         3                        100   \n3    x0310-x0416-merge-2-3         3                        100   \n4    x0310-x0416-merge-2-4         3                        100   \n..                     ...       ...                        ...   \n125  x0922-x0739-merge-2-3         3                        100   \n126  x0922-x0739-merge-2-4         3                        100   \n127  x0922-x0739-merge-2-5         3                        100   \n128  x0922-x0739-merge-2-6         3                        100   \n129  x0922-x0739-merge-2-7         3                        100   \n\n     amount-required-uL  batch-tag                   reactant-1-1  \\\n0                    40  wasgo-2.0     Cn1ncc(NC(=O)OC(C)(C)C)c1N   \n1                    40  wasgo-2.0     CC(C)(C)OC(=O)Nc1cccc(N)c1   \n2                    40  wasgo-2.0  CC(C)(C)OC(=O)Nc1cc(N)c(C)cc1   \n3                    40  wasgo-2.0     Nc1cc(NC(=O)OC(C)(C)C)ccn1   \n4                    40  wasgo-2.0    CC(C)(C)OC(=O)Nc1cc(N)ccc1C   \n..                  ...        ...                            ...   \n125                  40  wasgo-2.0       Cc1cc(OCc2ccccc2)cc(O)c1   \n126                  40  wasgo-2.0          Oc1cc(OCc2ccccc2)ccn1   \n127                  40  wasgo-2.0         Cc1ccc(OCc2ccccc2)cc1O   \n128                  40  wasgo-2.0       Oc1cc(OCc2ccccc2)c(C)cc1   \n129                  40  wasgo-2.0          Oc1cncc(OCc2ccccc2)c1   \n\n         reactant-2-1                reaction-product-smiles-1  \\\n0       O=C(O)C1CCCO1   Cn1ncc(NC(=O)OC(C)(C)C)c1NC(=O)C1CCCO1   \n1       O=C(O)C1CCCO1   CC(C)(C)OC(=O)Nc1cccc(NC(=O)C2CCCO2)c1   \n2       O=C(O)C1CCCO1  Cc1ccc(NC(=O)OC(C)(C)C)cc1NC(=O)C1CCCO1   \n3       O=C(O)C1CCCO1   CC(C)(C)OC(=O)Nc1ccnc(NC(=O)C2CCCO2)c1   \n4       O=C(O)C1CCCO1  Cc1ccc(NC(=O)C2CCCO2)cc1NC(=O)OC(C)(C)C   \n..                ...                                      ...   \n125  O=C(CCl)N1CCOCC1                                product-1   \n126  O=C(CCl)N1CCOCC1                                product-1   \n127  O=C(CCl)N1CCOCC1                                product-1   \n128  O=C(CCl)N1CCOCC1                                product-1   \n129  O=C(CCl)N1CCOCC1                                product-1   \n\n    reaction-name-1 reaction-recipe-1  ...  \\\n0         Amidation          standard  ...   \n1         Amidation          standard  ...   \n2         Amidation          standard  ...   \n3         Amidation          standard  ...   \n4         Amidation          standard  ...   \n..              ...               ...  ...   \n125       Amidation          standard  ...   \n126       Amidation          standard  ...   \n127       Amidation          standard  ...   \n128       Amidation          standard  ...   \n129       Amidation          standard  ...   \n\n              reaction-product-smiles-3   reaction-name-3 reaction-recipe-3  \\\n0     Cn1ncc(NC(=O)CC#N)c1NC(=O)C1CCCO1         Amidation          standard   \n1     N#CCC(=O)Nc1cccc(NC(=O)C2CCCO2)c1         Amidation          standard   \n2    Cc1ccc(NC(=O)CC#N)cc1NC(=O)C1CCCO1         Amidation          standard   \n3     N#CCC(=O)Nc1ccnc(NC(=O)C2CCCO2)c1         Amidation          standard   \n4    Cc1ccc(NC(=O)C2CCCO2)cc1NC(=O)CC#N         Amidation          standard   \n..                                  ...               ...               ...   \n125                           product-3  Williamson ether          standard   \n126                           product-3  Williamson ether          standard   \n127                           product-3  Williamson ether          standard   \n128                           product-3  Williamson ether          standard   \n129                           product-3  Williamson ether          standard   \n\n    reaction-groupby-column-3 reactant-1-4 reactant-2-4  \\\n0                        True          NaN          NaN   \n1                        True          NaN          NaN   \n2                        True          NaN          NaN   \n3                        True          NaN          NaN   \n4                        True          NaN          NaN   \n..                        ...          ...          ...   \n125                      True          NaN          NaN   \n126                      True          NaN          NaN   \n127                      True          NaN          NaN   \n128                      True          NaN          NaN   \n129                      True          NaN          NaN   \n\n    reaction-product-smiles-4 reaction-name-4 reaction-recipe-4  \\\n0                         NaN             NaN               NaN   \n1                         NaN             NaN               NaN   \n2                         NaN             NaN               NaN   \n3                         NaN             NaN               NaN   \n4                         NaN             NaN               NaN   \n..                        ...             ...               ...   \n125                       NaN             NaN               NaN   \n126                       NaN             NaN               NaN   \n127                       NaN             NaN               NaN   \n128                       NaN             NaN               NaN   \n129                       NaN             NaN               NaN   \n\n    reaction-groupby-column-4  \n0                         NaN  \n1                         NaN  \n2                         NaN  \n3                         NaN  \n4                         NaN  \n..                        ...  \n125                       NaN  \n126                       NaN  \n127                       NaN  \n128                       NaN  \n129                       NaN  \n\n[130 rows x 29 columns]",
      "text/html": "<div>\n<style scoped>\n    .dataframe tbody tr th:only-of-type {\n        vertical-align: middle;\n    }\n\n    .dataframe tbody tr th {\n        vertical-align: top;\n    }\n\n    .dataframe thead th {\n        text-align: right;\n    }\n</style>\n<table border=\"1\" class=\"dataframe\">\n  <thead>\n    <tr style=\"text-align: right;\">\n      <th></th>\n      <th>target-names</th>\n      <th>no-steps</th>\n      <th>concentration-required-mM</th>\n      <th>amount-required-uL</th>\n      <th>batch-tag</th>\n      <th>reactant-1-1</th>\n      <th>reactant-2-1</th>\n      <th>reaction-product-smiles-1</th>\n      <th>reaction-name-1</th>\n      <th>reaction-recipe-1</th>\n      <th>...</th>\n      <th>reaction-product-smiles-3</th>\n      <th>reaction-name-3</th>\n      <th>reaction-recipe-3</th>\n      <th>reaction-groupby-column-3</th>\n      <th>reactant-1-4</th>\n      <th>reactant-2-4</th>\n      <th>reaction-product-smiles-4</th>\n      <th>reaction-name-4</th>\n      <th>reaction-recipe-4</th>\n      <th>reaction-groupby-column-4</th>\n    </tr>\n  </thead>\n  <tbody>\n    <tr>\n      <th>0</th>\n      <td>x0310-x0416-merge-1-1</td>\n      <td>3</td>\n      <td>100</td>\n      <td>40</td>\n      <td>wasgo-2.0</td>\n      <td>Cn1ncc(NC(=O)OC(C)(C)C)c1N</td>\n      <td>O=C(O)C1CCCO1</td>\n      <td>Cn1ncc(NC(=O)OC(C)(C)C)c1NC(=O)C1CCCO1</td>\n      <td>Amidation</td>\n      <td>standard</td>\n      <td>...</td>\n      <td>Cn1ncc(NC(=O)CC#N)c1NC(=O)C1CCCO1</td>\n      <td>Amidation</td>\n      <td>standard</td>\n      <td>True</td>\n      <td>NaN</td>\n      <td>NaN</td>\n      <td>NaN</td>\n      <td>NaN</td>\n      <td>NaN</td>\n      <td>NaN</td>\n    </tr>\n    <tr>\n      <th>1</th>\n      <td>x0310-x0416-merge-2-1</td>\n      <td>3</td>\n      <td>100</td>\n      <td>40</td>\n      <td>wasgo-2.0</td>\n      <td>CC(C)(C)OC(=O)Nc1cccc(N)c1</td>\n      <td>O=C(O)C1CCCO1</td>\n      <td>CC(C)(C)OC(=O)Nc1cccc(NC(=O)C2CCCO2)c1</td>\n      <td>Amidation</td>\n      <td>standard</td>\n      <td>...</td>\n      <td>N#CCC(=O)Nc1cccc(NC(=O)C2CCCO2)c1</td>\n      <td>Amidation</td>\n      <td>standard</td>\n      <td>True</td>\n      <td>NaN</td>\n      <td>NaN</td>\n      <td>NaN</td>\n      <td>NaN</td>\n      <td>NaN</td>\n      <td>NaN</td>\n    </tr>\n    <tr>\n      <th>2</th>\n      <td>x0310-x0416-merge-2-2</td>\n      <td>3</td>\n      <td>100</td>\n      <td>40</td>\n      <td>wasgo-2.0</td>\n      <td>CC(C)(C)OC(=O)Nc1cc(N)c(C)cc1</td>\n      <td>O=C(O)C1CCCO1</td>\n      <td>Cc1ccc(NC(=O)OC(C)(C)C)cc1NC(=O)C1CCCO1</td>\n      <td>Amidation</td>\n      <td>standard</td>\n      <td>...</td>\n      <td>Cc1ccc(NC(=O)CC#N)cc1NC(=O)C1CCCO1</td>\n      <td>Amidation</td>\n      <td>standard</td>\n      <td>True</td>\n      <td>NaN</td>\n      <td>NaN</td>\n      <td>NaN</td>\n      <td>NaN</td>\n      <td>NaN</td>\n      <td>NaN</td>\n    </tr>\n    <tr>\n      <th>3</th>\n      <td>x0310-x0416-merge-2-3</td>\n      <td>3</td>\n      <td>100</td>\n      <td>40</td>\n      <td>wasgo-2.0</td>\n      <td>Nc1cc(NC(=O)OC(C)(C)C)ccn1</td>\n      <td>O=C(O)C1CCCO1</td>\n      <td>CC(C)(C)OC(=O)Nc1ccnc(NC(=O)C2CCCO2)c1</td>\n      <td>Amidation</td>\n      <td>standard</td>\n      <td>...</td>\n      <td>N#CCC(=O)Nc1ccnc(NC(=O)C2CCCO2)c1</td>\n      <td>Amidation</td>\n      <td>standard</td>\n      <td>True</td>\n      <td>NaN</td>\n      <td>NaN</td>\n      <td>NaN</td>\n      <td>NaN</td>\n      <td>NaN</td>\n      <td>NaN</td>\n    </tr>\n    <tr>\n      <th>4</th>\n      <td>x0310-x0416-merge-2-4</td>\n      <td>3</td>\n      <td>100</td>\n      <td>40</td>\n      <td>wasgo-2.0</td>\n      <td>CC(C)(C)OC(=O)Nc1cc(N)ccc1C</td>\n      <td>O=C(O)C1CCCO1</td>\n      <td>Cc1ccc(NC(=O)C2CCCO2)cc1NC(=O)OC(C)(C)C</td>\n      <td>Amidation</td>\n      <td>standard</td>\n      <td>...</td>\n      <td>Cc1ccc(NC(=O)C2CCCO2)cc1NC(=O)CC#N</td>\n      <td>Amidation</td>\n      <td>standard</td>\n      <td>True</td>\n      <td>NaN</td>\n      <td>NaN</td>\n      <td>NaN</td>\n      <td>NaN</td>\n      <td>NaN</td>\n      <td>NaN</td>\n    </tr>\n    <tr>\n      <th>...</th>\n      <td>...</td>\n      <td>...</td>\n      <td>...</td>\n      <td>...</td>\n      <td>...</td>\n      <td>...</td>\n      <td>...</td>\n      <td>...</td>\n      <td>...</td>\n      <td>...</td>\n      <td>...</td>\n      <td>...</td>\n      <td>...</td>\n      <td>...</td>\n      <td>...</td>\n      <td>...</td>\n      <td>...</td>\n      <td>...</td>\n      <td>...</td>\n      <td>...</td>\n      <td>...</td>\n    </tr>\n    <tr>\n      <th>125</th>\n      <td>x0922-x0739-merge-2-3</td>\n      <td>3</td>\n      <td>100</td>\n      <td>40</td>\n      <td>wasgo-2.0</td>\n      <td>Cc1cc(OCc2ccccc2)cc(O)c1</td>\n      <td>O=C(CCl)N1CCOCC1</td>\n      <td>product-1</td>\n      <td>Amidation</td>\n      <td>standard</td>\n      <td>...</td>\n      <td>product-3</td>\n      <td>Williamson ether</td>\n      <td>standard</td>\n      <td>True</td>\n      <td>NaN</td>\n      <td>NaN</td>\n      <td>NaN</td>\n      <td>NaN</td>\n      <td>NaN</td>\n      <td>NaN</td>\n    </tr>\n    <tr>\n      <th>126</th>\n      <td>x0922-x0739-merge-2-4</td>\n      <td>3</td>\n      <td>100</td>\n      <td>40</td>\n      <td>wasgo-2.0</td>\n      <td>Oc1cc(OCc2ccccc2)ccn1</td>\n      <td>O=C(CCl)N1CCOCC1</td>\n      <td>product-1</td>\n      <td>Amidation</td>\n      <td>standard</td>\n      <td>...</td>\n      <td>product-3</td>\n      <td>Williamson ether</td>\n      <td>standard</td>\n      <td>True</td>\n      <td>NaN</td>\n      <td>NaN</td>\n      <td>NaN</td>\n      <td>NaN</td>\n      <td>NaN</td>\n      <td>NaN</td>\n    </tr>\n    <tr>\n      <th>127</th>\n      <td>x0922-x0739-merge-2-5</td>\n      <td>3</td>\n      <td>100</td>\n      <td>40</td>\n      <td>wasgo-2.0</td>\n      <td>Cc1ccc(OCc2ccccc2)cc1O</td>\n      <td>O=C(CCl)N1CCOCC1</td>\n      <td>product-1</td>\n      <td>Amidation</td>\n      <td>standard</td>\n      <td>...</td>\n      <td>product-3</td>\n      <td>Williamson ether</td>\n      <td>standard</td>\n      <td>True</td>\n      <td>NaN</td>\n      <td>NaN</td>\n      <td>NaN</td>\n      <td>NaN</td>\n      <td>NaN</td>\n      <td>NaN</td>\n    </tr>\n    <tr>\n      <th>128</th>\n      <td>x0922-x0739-merge-2-6</td>\n      <td>3</td>\n      <td>100</td>\n      <td>40</td>\n      <td>wasgo-2.0</td>\n      <td>Oc1cc(OCc2ccccc2)c(C)cc1</td>\n      <td>O=C(CCl)N1CCOCC1</td>\n      <td>product-1</td>\n      <td>Amidation</td>\n      <td>standard</td>\n      <td>...</td>\n      <td>product-3</td>\n      <td>Williamson ether</td>\n      <td>standard</td>\n      <td>True</td>\n      <td>NaN</td>\n      <td>NaN</td>\n      <td>NaN</td>\n      <td>NaN</td>\n      <td>NaN</td>\n      <td>NaN</td>\n    </tr>\n    <tr>\n      <th>129</th>\n      <td>x0922-x0739-merge-2-7</td>\n      <td>3</td>\n      <td>100</td>\n      <td>40</td>\n      <td>wasgo-2.0</td>\n      <td>Oc1cncc(OCc2ccccc2)c1</td>\n      <td>O=C(CCl)N1CCOCC1</td>\n      <td>product-1</td>\n      <td>Amidation</td>\n      <td>standard</td>\n      <td>...</td>\n      <td>product-3</td>\n      <td>Williamson ether</td>\n      <td>standard</td>\n      <td>True</td>\n      <td>NaN</td>\n      <td>NaN</td>\n      <td>NaN</td>\n      <td>NaN</td>\n      <td>NaN</td>\n      <td>NaN</td>\n    </tr>\n  </tbody>\n</table>\n<p>130 rows × 29 columns</p>\n</div>"
     },
     "execution_count": 9,
     "metadata": {},
     "output_type": "execute_result"
    }
   ],
   "source": [
    "df = pd.read_csv('../base_compounds/wt_designs_full_routes_29Feb.csv', index_col=0)\n",
    "df"
   ],
   "metadata": {
    "collapsed": false,
    "ExecuteTime": {
     "end_time": "2024-02-29T14:14:54.451054Z",
     "start_time": "2024-02-29T14:14:54.436762Z"
    }
   },
   "id": "3ffe1c7c41bfc9ca",
   "execution_count": 9
  },
  {
   "cell_type": "code",
   "outputs": [],
   "source": [
    "# batch into num_steps of route\n"
   ],
   "metadata": {
    "collapsed": false
   },
   "id": "3a6c7478c765056f"
  }
 ],
 "metadata": {
  "kernelspec": {
   "display_name": "Python 3",
   "language": "python",
   "name": "python3"
  },
  "language_info": {
   "codemirror_mode": {
    "name": "ipython",
    "version": 2
   },
   "file_extension": ".py",
   "mimetype": "text/x-python",
   "name": "python",
   "nbconvert_exporter": "python",
   "pygments_lexer": "ipython2",
   "version": "2.7.6"
  }
 },
 "nbformat": 4,
 "nbformat_minor": 5
}

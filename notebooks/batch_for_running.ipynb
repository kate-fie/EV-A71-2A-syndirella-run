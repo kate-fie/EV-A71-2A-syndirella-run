{
 "cells": [
  {
   "cell_type": "code",
   "execution_count": 314,
   "id": "initial_id",
   "metadata": {
    "collapsed": true,
    "ExecuteTime": {
     "end_time": "2024-02-29T19:01:46.582366Z",
     "start_time": "2024-02-29T19:01:46.579709Z"
    }
   },
   "outputs": [],
   "source": [
    "import pandas as pd"
   ]
  },
  {
   "cell_type": "code",
   "outputs": [
    {
     "data": {
      "text/plain": "                                      smiles  \\\n0          Cn1ncc(NC(=O)CC#N)c1NC(=O)C1CCCO1   \n1          N#CCC(=O)Nc1cccc(NC(=O)C2CCCO2)c1   \n2         Cc1ccc(NC(=O)CC#N)cc1NC(=O)C1CCCO1   \n3          N#CCC(=O)Nc1ccnc(NC(=O)C2CCCO2)c1   \n4         Cc1ccc(NC(=O)C2CCCO2)cc1NC(=O)CC#N   \n..                                       ...   \n128   CN(C)C(=O)COc1ccc(F)c(NC(=O)C2CCCO2)c1   \n129     Cc1ccc(NC(=O)C2CCCO2)cc1OCC(=O)N(C)C   \n130  Cc1cc(C)c(OCC(=O)N(C)C)cc1NC(=O)C1CCCO1   \n131      CN(C)C(=O)COc1cncc(NC(=O)C2CCCO2)c1   \n132      CN(C)C(=O)COc1cc(NC(=O)C2CCCO2)ccn1   \n\n                                             reactants  \\\n0    [(Cn1ncc(NC(=O)OC(C)(C)C)c1N, O=C(O)C1CCCO1), ...   \n1    [(CC(C)(C)OC(=O)Nc1cccc(N)c1, O=C(O)C1CCCO1), ...   \n2    [(CC(C)(C)OC(=O)Nc1cc(N)c(C)cc1, O=C(O)C1CCCO1...   \n3    [(Nc1cc(NC(=O)OC(C)(C)C)ccn1, O=C(O)C1CCCO1), ...   \n4    [(CC(C)(C)OC(=O)Nc1cc(N)ccc1C, O=C(O)C1CCCO1),...   \n..                                                 ...   \n128  [(Fc1ccc(O)cc1N, O=C(O)C1CCCO1), (O=C(Nc1cc(O)...   \n129  [(Nc1cc(O)c(C)cc1, O=C(O)C1CCCO1), (Cc1ccc(NC(...   \n130  [(Nc1cc(O)c(C)cc1C, O=C(O)C1CCCO1), (Cc1cc(C)c...   \n131  [(Nc1cncc(O)c1, O=C(O)C1CCCO1), (O=C(Nc1cncc(O...   \n132  [(Nc1ccnc(O)c1, O=C(O)C1CCCO1), (O=C(Nc1ccnc(O...   \n\n                                 reaction_names  num_steps            hits  \\\n0    [Amidation, N-Boc_deprotection, Amidation]          3  [x0310, x0416]   \n1    [Amidation, N-Boc_deprotection, Amidation]          3  [x0310, x0416]   \n2    [Amidation, N-Boc_deprotection, Amidation]          3  [x0310, x0416]   \n3    [Amidation, N-Boc_deprotection, Amidation]          3  [x0310, x0416]   \n4    [Amidation, N-Boc_deprotection, Amidation]          3  [x0310, x0416]   \n..                                          ...        ...             ...   \n128     [Amidation, Williamson_ether_synthesis]          2  [x0922, x0416]   \n129     [Amidation, Williamson_ether_synthesis]          2  [x0922, x0416]   \n130     [Amidation, Williamson_ether_synthesis]          2  [x0922, x0416]   \n131     [Amidation, Williamson_ether_synthesis]          2  [x0922, x0416]   \n132     [Amidation, Williamson_ether_synthesis]          2  [x0922, x0416]   \n\n               compound_set  \n0     x0310-x0416-merge-1-1  \n1     x0310-x0416-merge-2-1  \n2     x0310-x0416-merge-2-2  \n3     x0310-x0416-merge-2-3  \n4     x0310-x0416-merge-2-4  \n..                      ...  \n128   x0922-x0416-merge-1-7  \n129   x0922-x0416-merge-1-8  \n130   x0922-x0416-merge-1-9  \n131  x0922-x0416-merge-1-10  \n132  x0922-x0416-merge-1-11  \n\n[133 rows x 6 columns]",
      "text/html": "<div>\n<style scoped>\n    .dataframe tbody tr th:only-of-type {\n        vertical-align: middle;\n    }\n\n    .dataframe tbody tr th {\n        vertical-align: top;\n    }\n\n    .dataframe thead th {\n        text-align: right;\n    }\n</style>\n<table border=\"1\" class=\"dataframe\">\n  <thead>\n    <tr style=\"text-align: right;\">\n      <th></th>\n      <th>smiles</th>\n      <th>reactants</th>\n      <th>reaction_names</th>\n      <th>num_steps</th>\n      <th>hits</th>\n      <th>compound_set</th>\n    </tr>\n  </thead>\n  <tbody>\n    <tr>\n      <th>0</th>\n      <td>Cn1ncc(NC(=O)CC#N)c1NC(=O)C1CCCO1</td>\n      <td>[(Cn1ncc(NC(=O)OC(C)(C)C)c1N, O=C(O)C1CCCO1), ...</td>\n      <td>[Amidation, N-Boc_deprotection, Amidation]</td>\n      <td>3</td>\n      <td>[x0310, x0416]</td>\n      <td>x0310-x0416-merge-1-1</td>\n    </tr>\n    <tr>\n      <th>1</th>\n      <td>N#CCC(=O)Nc1cccc(NC(=O)C2CCCO2)c1</td>\n      <td>[(CC(C)(C)OC(=O)Nc1cccc(N)c1, O=C(O)C1CCCO1), ...</td>\n      <td>[Amidation, N-Boc_deprotection, Amidation]</td>\n      <td>3</td>\n      <td>[x0310, x0416]</td>\n      <td>x0310-x0416-merge-2-1</td>\n    </tr>\n    <tr>\n      <th>2</th>\n      <td>Cc1ccc(NC(=O)CC#N)cc1NC(=O)C1CCCO1</td>\n      <td>[(CC(C)(C)OC(=O)Nc1cc(N)c(C)cc1, O=C(O)C1CCCO1...</td>\n      <td>[Amidation, N-Boc_deprotection, Amidation]</td>\n      <td>3</td>\n      <td>[x0310, x0416]</td>\n      <td>x0310-x0416-merge-2-2</td>\n    </tr>\n    <tr>\n      <th>3</th>\n      <td>N#CCC(=O)Nc1ccnc(NC(=O)C2CCCO2)c1</td>\n      <td>[(Nc1cc(NC(=O)OC(C)(C)C)ccn1, O=C(O)C1CCCO1), ...</td>\n      <td>[Amidation, N-Boc_deprotection, Amidation]</td>\n      <td>3</td>\n      <td>[x0310, x0416]</td>\n      <td>x0310-x0416-merge-2-3</td>\n    </tr>\n    <tr>\n      <th>4</th>\n      <td>Cc1ccc(NC(=O)C2CCCO2)cc1NC(=O)CC#N</td>\n      <td>[(CC(C)(C)OC(=O)Nc1cc(N)ccc1C, O=C(O)C1CCCO1),...</td>\n      <td>[Amidation, N-Boc_deprotection, Amidation]</td>\n      <td>3</td>\n      <td>[x0310, x0416]</td>\n      <td>x0310-x0416-merge-2-4</td>\n    </tr>\n    <tr>\n      <th>...</th>\n      <td>...</td>\n      <td>...</td>\n      <td>...</td>\n      <td>...</td>\n      <td>...</td>\n      <td>...</td>\n    </tr>\n    <tr>\n      <th>128</th>\n      <td>CN(C)C(=O)COc1ccc(F)c(NC(=O)C2CCCO2)c1</td>\n      <td>[(Fc1ccc(O)cc1N, O=C(O)C1CCCO1), (O=C(Nc1cc(O)...</td>\n      <td>[Amidation, Williamson_ether_synthesis]</td>\n      <td>2</td>\n      <td>[x0922, x0416]</td>\n      <td>x0922-x0416-merge-1-7</td>\n    </tr>\n    <tr>\n      <th>129</th>\n      <td>Cc1ccc(NC(=O)C2CCCO2)cc1OCC(=O)N(C)C</td>\n      <td>[(Nc1cc(O)c(C)cc1, O=C(O)C1CCCO1), (Cc1ccc(NC(...</td>\n      <td>[Amidation, Williamson_ether_synthesis]</td>\n      <td>2</td>\n      <td>[x0922, x0416]</td>\n      <td>x0922-x0416-merge-1-8</td>\n    </tr>\n    <tr>\n      <th>130</th>\n      <td>Cc1cc(C)c(OCC(=O)N(C)C)cc1NC(=O)C1CCCO1</td>\n      <td>[(Nc1cc(O)c(C)cc1C, O=C(O)C1CCCO1), (Cc1cc(C)c...</td>\n      <td>[Amidation, Williamson_ether_synthesis]</td>\n      <td>2</td>\n      <td>[x0922, x0416]</td>\n      <td>x0922-x0416-merge-1-9</td>\n    </tr>\n    <tr>\n      <th>131</th>\n      <td>CN(C)C(=O)COc1cncc(NC(=O)C2CCCO2)c1</td>\n      <td>[(Nc1cncc(O)c1, O=C(O)C1CCCO1), (O=C(Nc1cncc(O...</td>\n      <td>[Amidation, Williamson_ether_synthesis]</td>\n      <td>2</td>\n      <td>[x0922, x0416]</td>\n      <td>x0922-x0416-merge-1-10</td>\n    </tr>\n    <tr>\n      <th>132</th>\n      <td>CN(C)C(=O)COc1cc(NC(=O)C2CCCO2)ccn1</td>\n      <td>[(Nc1ccnc(O)c1, O=C(O)C1CCCO1), (O=C(Nc1ccnc(O...</td>\n      <td>[Amidation, Williamson_ether_synthesis]</td>\n      <td>2</td>\n      <td>[x0922, x0416]</td>\n      <td>x0922-x0416-merge-1-11</td>\n    </tr>\n  </tbody>\n</table>\n<p>133 rows × 6 columns</p>\n</div>"
     },
     "execution_count": 315,
     "metadata": {},
     "output_type": "execute_result"
    }
   ],
   "source": [
    "df = pd.read_pickle('/Users/kate_fieseler/PycharmProjects/EV-A71-2A-syndirella-run/base_compounds/syndirella_input_MASTER.pkl')\n",
    "df"
   ],
   "metadata": {
    "collapsed": false,
    "ExecuteTime": {
     "end_time": "2024-02-29T19:01:46.612143Z",
     "start_time": "2024-02-29T19:01:46.601117Z"
    }
   },
   "id": "3ffe1c7c41bfc9ca",
   "execution_count": 315
  },
  {
   "cell_type": "code",
   "outputs": [
    {
     "data": {
      "text/plain": "                                      smiles  \\\n0          Cn1ncc(NC(=O)CC#N)c1NC(=O)C1CCCO1   \n1          N#CCC(=O)Nc1cccc(NC(=O)C2CCCO2)c1   \n2         Cc1ccc(NC(=O)CC#N)cc1NC(=O)C1CCCO1   \n3          N#CCC(=O)Nc1ccnc(NC(=O)C2CCCO2)c1   \n4         Cc1ccc(NC(=O)C2CCCO2)cc1NC(=O)CC#N   \n..                                       ...   \n128   CN(C)C(=O)COc1ccc(F)c(NC(=O)C2CCCO2)c1   \n129     Cc1ccc(NC(=O)C2CCCO2)cc1OCC(=O)N(C)C   \n130  Cc1cc(C)c(OCC(=O)N(C)C)cc1NC(=O)C1CCCO1   \n131      CN(C)C(=O)COc1cncc(NC(=O)C2CCCO2)c1   \n132      CN(C)C(=O)COc1cc(NC(=O)C2CCCO2)ccn1   \n\n                                             reactants  \\\n0    [(Cn1ncc(NC(=O)OC(C)(C)C)c1N, O=C(O)C1CCCO1), ...   \n1    [(CC(C)(C)OC(=O)Nc1cccc(N)c1, O=C(O)C1CCCO1), ...   \n2    [(CC(C)(C)OC(=O)Nc1cc(N)c(C)cc1, O=C(O)C1CCCO1...   \n3    [(Nc1cc(NC(=O)OC(C)(C)C)ccn1, O=C(O)C1CCCO1), ...   \n4    [(CC(C)(C)OC(=O)Nc1cc(N)ccc1C, O=C(O)C1CCCO1),...   \n..                                                 ...   \n128  [(Fc1ccc(O)cc1N, O=C(O)C1CCCO1), (O=C(Nc1cc(O)...   \n129  [(Nc1cc(O)c(C)cc1, O=C(O)C1CCCO1), (Cc1ccc(NC(...   \n130  [(Nc1cc(O)c(C)cc1C, O=C(O)C1CCCO1), (Cc1cc(C)c...   \n131  [(Nc1cncc(O)c1, O=C(O)C1CCCO1), (O=C(Nc1cncc(O...   \n132  [(Nc1ccnc(O)c1, O=C(O)C1CCCO1), (O=C(Nc1ccnc(O...   \n\n                                 reaction_names  num_steps            hits  \\\n0    [Amidation, N-Boc_deprotection, Amidation]          3  [x0310, x0416]   \n1    [Amidation, N-Boc_deprotection, Amidation]          3  [x0310, x0416]   \n2    [Amidation, N-Boc_deprotection, Amidation]          3  [x0310, x0416]   \n3    [Amidation, N-Boc_deprotection, Amidation]          3  [x0310, x0416]   \n4    [Amidation, N-Boc_deprotection, Amidation]          3  [x0310, x0416]   \n..                                          ...        ...             ...   \n128     [Amidation, Williamson_ether_synthesis]          2  [x0922, x0416]   \n129     [Amidation, Williamson_ether_synthesis]          2  [x0922, x0416]   \n130     [Amidation, Williamson_ether_synthesis]          2  [x0922, x0416]   \n131     [Amidation, Williamson_ether_synthesis]          2  [x0922, x0416]   \n132     [Amidation, Williamson_ether_synthesis]          2  [x0922, x0416]   \n\n               compound_set  batch  \n0     x0310-x0416-merge-1-1      0  \n1     x0310-x0416-merge-2-1      0  \n2     x0310-x0416-merge-2-2      0  \n3     x0310-x0416-merge-2-3      0  \n4     x0310-x0416-merge-2-4      0  \n..                      ...    ...  \n128   x0922-x0416-merge-1-7     12  \n129   x0922-x0416-merge-1-8     12  \n130   x0922-x0416-merge-1-9     13  \n131  x0922-x0416-merge-1-10     13  \n132  x0922-x0416-merge-1-11     13  \n\n[133 rows x 7 columns]",
      "text/html": "<div>\n<style scoped>\n    .dataframe tbody tr th:only-of-type {\n        vertical-align: middle;\n    }\n\n    .dataframe tbody tr th {\n        vertical-align: top;\n    }\n\n    .dataframe thead th {\n        text-align: right;\n    }\n</style>\n<table border=\"1\" class=\"dataframe\">\n  <thead>\n    <tr style=\"text-align: right;\">\n      <th></th>\n      <th>smiles</th>\n      <th>reactants</th>\n      <th>reaction_names</th>\n      <th>num_steps</th>\n      <th>hits</th>\n      <th>compound_set</th>\n      <th>batch</th>\n    </tr>\n  </thead>\n  <tbody>\n    <tr>\n      <th>0</th>\n      <td>Cn1ncc(NC(=O)CC#N)c1NC(=O)C1CCCO1</td>\n      <td>[(Cn1ncc(NC(=O)OC(C)(C)C)c1N, O=C(O)C1CCCO1), ...</td>\n      <td>[Amidation, N-Boc_deprotection, Amidation]</td>\n      <td>3</td>\n      <td>[x0310, x0416]</td>\n      <td>x0310-x0416-merge-1-1</td>\n      <td>0</td>\n    </tr>\n    <tr>\n      <th>1</th>\n      <td>N#CCC(=O)Nc1cccc(NC(=O)C2CCCO2)c1</td>\n      <td>[(CC(C)(C)OC(=O)Nc1cccc(N)c1, O=C(O)C1CCCO1), ...</td>\n      <td>[Amidation, N-Boc_deprotection, Amidation]</td>\n      <td>3</td>\n      <td>[x0310, x0416]</td>\n      <td>x0310-x0416-merge-2-1</td>\n      <td>0</td>\n    </tr>\n    <tr>\n      <th>2</th>\n      <td>Cc1ccc(NC(=O)CC#N)cc1NC(=O)C1CCCO1</td>\n      <td>[(CC(C)(C)OC(=O)Nc1cc(N)c(C)cc1, O=C(O)C1CCCO1...</td>\n      <td>[Amidation, N-Boc_deprotection, Amidation]</td>\n      <td>3</td>\n      <td>[x0310, x0416]</td>\n      <td>x0310-x0416-merge-2-2</td>\n      <td>0</td>\n    </tr>\n    <tr>\n      <th>3</th>\n      <td>N#CCC(=O)Nc1ccnc(NC(=O)C2CCCO2)c1</td>\n      <td>[(Nc1cc(NC(=O)OC(C)(C)C)ccn1, O=C(O)C1CCCO1), ...</td>\n      <td>[Amidation, N-Boc_deprotection, Amidation]</td>\n      <td>3</td>\n      <td>[x0310, x0416]</td>\n      <td>x0310-x0416-merge-2-3</td>\n      <td>0</td>\n    </tr>\n    <tr>\n      <th>4</th>\n      <td>Cc1ccc(NC(=O)C2CCCO2)cc1NC(=O)CC#N</td>\n      <td>[(CC(C)(C)OC(=O)Nc1cc(N)ccc1C, O=C(O)C1CCCO1),...</td>\n      <td>[Amidation, N-Boc_deprotection, Amidation]</td>\n      <td>3</td>\n      <td>[x0310, x0416]</td>\n      <td>x0310-x0416-merge-2-4</td>\n      <td>0</td>\n    </tr>\n    <tr>\n      <th>...</th>\n      <td>...</td>\n      <td>...</td>\n      <td>...</td>\n      <td>...</td>\n      <td>...</td>\n      <td>...</td>\n      <td>...</td>\n    </tr>\n    <tr>\n      <th>128</th>\n      <td>CN(C)C(=O)COc1ccc(F)c(NC(=O)C2CCCO2)c1</td>\n      <td>[(Fc1ccc(O)cc1N, O=C(O)C1CCCO1), (O=C(Nc1cc(O)...</td>\n      <td>[Amidation, Williamson_ether_synthesis]</td>\n      <td>2</td>\n      <td>[x0922, x0416]</td>\n      <td>x0922-x0416-merge-1-7</td>\n      <td>12</td>\n    </tr>\n    <tr>\n      <th>129</th>\n      <td>Cc1ccc(NC(=O)C2CCCO2)cc1OCC(=O)N(C)C</td>\n      <td>[(Nc1cc(O)c(C)cc1, O=C(O)C1CCCO1), (Cc1ccc(NC(...</td>\n      <td>[Amidation, Williamson_ether_synthesis]</td>\n      <td>2</td>\n      <td>[x0922, x0416]</td>\n      <td>x0922-x0416-merge-1-8</td>\n      <td>12</td>\n    </tr>\n    <tr>\n      <th>130</th>\n      <td>Cc1cc(C)c(OCC(=O)N(C)C)cc1NC(=O)C1CCCO1</td>\n      <td>[(Nc1cc(O)c(C)cc1C, O=C(O)C1CCCO1), (Cc1cc(C)c...</td>\n      <td>[Amidation, Williamson_ether_synthesis]</td>\n      <td>2</td>\n      <td>[x0922, x0416]</td>\n      <td>x0922-x0416-merge-1-9</td>\n      <td>13</td>\n    </tr>\n    <tr>\n      <th>131</th>\n      <td>CN(C)C(=O)COc1cncc(NC(=O)C2CCCO2)c1</td>\n      <td>[(Nc1cncc(O)c1, O=C(O)C1CCCO1), (O=C(Nc1cncc(O...</td>\n      <td>[Amidation, Williamson_ether_synthesis]</td>\n      <td>2</td>\n      <td>[x0922, x0416]</td>\n      <td>x0922-x0416-merge-1-10</td>\n      <td>13</td>\n    </tr>\n    <tr>\n      <th>132</th>\n      <td>CN(C)C(=O)COc1cc(NC(=O)C2CCCO2)ccn1</td>\n      <td>[(Nc1ccnc(O)c1, O=C(O)C1CCCO1), (O=C(Nc1ccnc(O...</td>\n      <td>[Amidation, Williamson_ether_synthesis]</td>\n      <td>2</td>\n      <td>[x0922, x0416]</td>\n      <td>x0922-x0416-merge-1-11</td>\n      <td>13</td>\n    </tr>\n  </tbody>\n</table>\n<p>133 rows × 7 columns</p>\n</div>"
     },
     "execution_count": 316,
     "metadata": {},
     "output_type": "execute_result"
    }
   ],
   "source": [
    "# batch into num_steps of route\n",
    "df['batch'] = df.index // 10\n",
    "df"
   ],
   "metadata": {
    "collapsed": false,
    "ExecuteTime": {
     "end_time": "2024-02-29T19:01:46.635957Z",
     "start_time": "2024-02-29T19:01:46.626220Z"
    }
   },
   "id": "3a6c7478c765056f",
   "execution_count": 316
  },
  {
   "cell_type": "code",
   "outputs": [
    {
     "data": {
      "text/plain": "                                      smiles  \\\n0          Cn1ncc(NC(=O)CC#N)c1NC(=O)C1CCCO1   \n1          N#CCC(=O)Nc1cccc(NC(=O)C2CCCO2)c1   \n2         Cc1ccc(NC(=O)CC#N)cc1NC(=O)C1CCCO1   \n3          N#CCC(=O)Nc1ccnc(NC(=O)C2CCCO2)c1   \n4         Cc1ccc(NC(=O)C2CCCO2)cc1NC(=O)CC#N   \n..                                       ...   \n128   CN(C)C(=O)COc1ccc(F)c(NC(=O)C2CCCO2)c1   \n129     Cc1ccc(NC(=O)C2CCCO2)cc1OCC(=O)N(C)C   \n130  Cc1cc(C)c(OCC(=O)N(C)C)cc1NC(=O)C1CCCO1   \n131      CN(C)C(=O)COc1cncc(NC(=O)C2CCCO2)c1   \n132      CN(C)C(=O)COc1cc(NC(=O)C2CCCO2)ccn1   \n\n                                             reactants  \\\n0    [(Cn1ncc(NC(=O)OC(C)(C)C)c1N, O=C(O)C1CCCO1), ...   \n1    [(CC(C)(C)OC(=O)Nc1cccc(N)c1, O=C(O)C1CCCO1), ...   \n2    [(CC(C)(C)OC(=O)Nc1cc(N)c(C)cc1, O=C(O)C1CCCO1...   \n3    [(Nc1cc(NC(=O)OC(C)(C)C)ccn1, O=C(O)C1CCCO1), ...   \n4    [(CC(C)(C)OC(=O)Nc1cc(N)ccc1C, O=C(O)C1CCCO1),...   \n..                                                 ...   \n128  [(Fc1ccc(O)cc1N, O=C(O)C1CCCO1), (O=C(Nc1cc(O)...   \n129  [(Nc1cc(O)c(C)cc1, O=C(O)C1CCCO1), (Cc1ccc(NC(...   \n130  [(Nc1cc(O)c(C)cc1C, O=C(O)C1CCCO1), (Cc1cc(C)c...   \n131  [(Nc1cncc(O)c1, O=C(O)C1CCCO1), (O=C(Nc1cncc(O...   \n132  [(Nc1ccnc(O)c1, O=C(O)C1CCCO1), (O=C(Nc1ccnc(O...   \n\n                                 reaction_names  num_steps         hits  \\\n0    [Amidation, N-Boc_deprotection, Amidation]          3  x0310 x0416   \n1    [Amidation, N-Boc_deprotection, Amidation]          3  x0310 x0416   \n2    [Amidation, N-Boc_deprotection, Amidation]          3  x0310 x0416   \n3    [Amidation, N-Boc_deprotection, Amidation]          3  x0310 x0416   \n4    [Amidation, N-Boc_deprotection, Amidation]          3  x0310 x0416   \n..                                          ...        ...          ...   \n128     [Amidation, Williamson_ether_synthesis]          2  x0922 x0416   \n129     [Amidation, Williamson_ether_synthesis]          2  x0922 x0416   \n130     [Amidation, Williamson_ether_synthesis]          2  x0922 x0416   \n131     [Amidation, Williamson_ether_synthesis]          2  x0922 x0416   \n132     [Amidation, Williamson_ether_synthesis]          2  x0922 x0416   \n\n               compound_set  batch  \n0     x0310-x0416-merge-1-1      0  \n1     x0310-x0416-merge-2-1      0  \n2     x0310-x0416-merge-2-2      0  \n3     x0310-x0416-merge-2-3      0  \n4     x0310-x0416-merge-2-4      0  \n..                      ...    ...  \n128   x0922-x0416-merge-1-7     12  \n129   x0922-x0416-merge-1-8     12  \n130   x0922-x0416-merge-1-9     13  \n131  x0922-x0416-merge-1-10     13  \n132  x0922-x0416-merge-1-11     13  \n\n[133 rows x 7 columns]",
      "text/html": "<div>\n<style scoped>\n    .dataframe tbody tr th:only-of-type {\n        vertical-align: middle;\n    }\n\n    .dataframe tbody tr th {\n        vertical-align: top;\n    }\n\n    .dataframe thead th {\n        text-align: right;\n    }\n</style>\n<table border=\"1\" class=\"dataframe\">\n  <thead>\n    <tr style=\"text-align: right;\">\n      <th></th>\n      <th>smiles</th>\n      <th>reactants</th>\n      <th>reaction_names</th>\n      <th>num_steps</th>\n      <th>hits</th>\n      <th>compound_set</th>\n      <th>batch</th>\n    </tr>\n  </thead>\n  <tbody>\n    <tr>\n      <th>0</th>\n      <td>Cn1ncc(NC(=O)CC#N)c1NC(=O)C1CCCO1</td>\n      <td>[(Cn1ncc(NC(=O)OC(C)(C)C)c1N, O=C(O)C1CCCO1), ...</td>\n      <td>[Amidation, N-Boc_deprotection, Amidation]</td>\n      <td>3</td>\n      <td>x0310 x0416</td>\n      <td>x0310-x0416-merge-1-1</td>\n      <td>0</td>\n    </tr>\n    <tr>\n      <th>1</th>\n      <td>N#CCC(=O)Nc1cccc(NC(=O)C2CCCO2)c1</td>\n      <td>[(CC(C)(C)OC(=O)Nc1cccc(N)c1, O=C(O)C1CCCO1), ...</td>\n      <td>[Amidation, N-Boc_deprotection, Amidation]</td>\n      <td>3</td>\n      <td>x0310 x0416</td>\n      <td>x0310-x0416-merge-2-1</td>\n      <td>0</td>\n    </tr>\n    <tr>\n      <th>2</th>\n      <td>Cc1ccc(NC(=O)CC#N)cc1NC(=O)C1CCCO1</td>\n      <td>[(CC(C)(C)OC(=O)Nc1cc(N)c(C)cc1, O=C(O)C1CCCO1...</td>\n      <td>[Amidation, N-Boc_deprotection, Amidation]</td>\n      <td>3</td>\n      <td>x0310 x0416</td>\n      <td>x0310-x0416-merge-2-2</td>\n      <td>0</td>\n    </tr>\n    <tr>\n      <th>3</th>\n      <td>N#CCC(=O)Nc1ccnc(NC(=O)C2CCCO2)c1</td>\n      <td>[(Nc1cc(NC(=O)OC(C)(C)C)ccn1, O=C(O)C1CCCO1), ...</td>\n      <td>[Amidation, N-Boc_deprotection, Amidation]</td>\n      <td>3</td>\n      <td>x0310 x0416</td>\n      <td>x0310-x0416-merge-2-3</td>\n      <td>0</td>\n    </tr>\n    <tr>\n      <th>4</th>\n      <td>Cc1ccc(NC(=O)C2CCCO2)cc1NC(=O)CC#N</td>\n      <td>[(CC(C)(C)OC(=O)Nc1cc(N)ccc1C, O=C(O)C1CCCO1),...</td>\n      <td>[Amidation, N-Boc_deprotection, Amidation]</td>\n      <td>3</td>\n      <td>x0310 x0416</td>\n      <td>x0310-x0416-merge-2-4</td>\n      <td>0</td>\n    </tr>\n    <tr>\n      <th>...</th>\n      <td>...</td>\n      <td>...</td>\n      <td>...</td>\n      <td>...</td>\n      <td>...</td>\n      <td>...</td>\n      <td>...</td>\n    </tr>\n    <tr>\n      <th>128</th>\n      <td>CN(C)C(=O)COc1ccc(F)c(NC(=O)C2CCCO2)c1</td>\n      <td>[(Fc1ccc(O)cc1N, O=C(O)C1CCCO1), (O=C(Nc1cc(O)...</td>\n      <td>[Amidation, Williamson_ether_synthesis]</td>\n      <td>2</td>\n      <td>x0922 x0416</td>\n      <td>x0922-x0416-merge-1-7</td>\n      <td>12</td>\n    </tr>\n    <tr>\n      <th>129</th>\n      <td>Cc1ccc(NC(=O)C2CCCO2)cc1OCC(=O)N(C)C</td>\n      <td>[(Nc1cc(O)c(C)cc1, O=C(O)C1CCCO1), (Cc1ccc(NC(...</td>\n      <td>[Amidation, Williamson_ether_synthesis]</td>\n      <td>2</td>\n      <td>x0922 x0416</td>\n      <td>x0922-x0416-merge-1-8</td>\n      <td>12</td>\n    </tr>\n    <tr>\n      <th>130</th>\n      <td>Cc1cc(C)c(OCC(=O)N(C)C)cc1NC(=O)C1CCCO1</td>\n      <td>[(Nc1cc(O)c(C)cc1C, O=C(O)C1CCCO1), (Cc1cc(C)c...</td>\n      <td>[Amidation, Williamson_ether_synthesis]</td>\n      <td>2</td>\n      <td>x0922 x0416</td>\n      <td>x0922-x0416-merge-1-9</td>\n      <td>13</td>\n    </tr>\n    <tr>\n      <th>131</th>\n      <td>CN(C)C(=O)COc1cncc(NC(=O)C2CCCO2)c1</td>\n      <td>[(Nc1cncc(O)c1, O=C(O)C1CCCO1), (O=C(Nc1cncc(O...</td>\n      <td>[Amidation, Williamson_ether_synthesis]</td>\n      <td>2</td>\n      <td>x0922 x0416</td>\n      <td>x0922-x0416-merge-1-10</td>\n      <td>13</td>\n    </tr>\n    <tr>\n      <th>132</th>\n      <td>CN(C)C(=O)COc1cc(NC(=O)C2CCCO2)ccn1</td>\n      <td>[(Nc1ccnc(O)c1, O=C(O)C1CCCO1), (O=C(Nc1ccnc(O...</td>\n      <td>[Amidation, Williamson_ether_synthesis]</td>\n      <td>2</td>\n      <td>x0922 x0416</td>\n      <td>x0922-x0416-merge-1-11</td>\n      <td>13</td>\n    </tr>\n  </tbody>\n</table>\n<p>133 rows × 7 columns</p>\n</div>"
     },
     "execution_count": 317,
     "metadata": {},
     "output_type": "execute_result"
    }
   ],
   "source": [
    "# have to convert hits columns to space seperated strings\n",
    "df['hits'] = df['hits'].apply(lambda x: ' '.join(x))\n",
    "df"
   ],
   "metadata": {
    "collapsed": false,
    "ExecuteTime": {
     "end_time": "2024-02-29T19:01:46.647551Z",
     "start_time": "2024-02-29T19:01:46.639555Z"
    }
   },
   "id": "836f769373eddfca",
   "execution_count": 317
  },
  {
   "cell_type": "code",
   "outputs": [],
   "source": [
    "# split into seperate batch dataframes\n",
    "batch_dfs = [df[df['batch'] == i] for i in df['batch'].unique()]\n"
   ],
   "metadata": {
    "collapsed": false,
    "ExecuteTime": {
     "end_time": "2024-02-29T19:01:46.651730Z",
     "start_time": "2024-02-29T19:01:46.648492Z"
    }
   },
   "id": "2b4bb8b15f00a708",
   "execution_count": 318
  },
  {
   "cell_type": "code",
   "outputs": [
    {
     "name": "stderr",
     "output_type": "stream",
     "text": [
      "/var/folders/sg/gb03t0zx5sz8vw2lxlghz1gr0000gn/T/ipykernel_59475/1830673351.py:2: SettingWithCopyWarning: \n",
      "A value is trying to be set on a copy of a slice from a DataFrame.\n",
      "Try using .loc[row_indexer,col_indexer] = value instead\n",
      "\n",
      "See the caveats in the documentation: https://pandas.pydata.org/pandas-docs/stable/user_guide/indexing.html#returning-a-view-versus-a-copy\n",
      "  df0['hits_new'] = 'x0310_0A x0416_0A'\n",
      "/var/folders/sg/gb03t0zx5sz8vw2lxlghz1gr0000gn/T/ipykernel_59475/1830673351.py:3: SettingWithCopyWarning: \n",
      "A value is trying to be set on a copy of a slice from a DataFrame.\n",
      "Try using .loc[row_indexer,col_indexer] = value instead\n",
      "\n",
      "See the caveats in the documentation: https://pandas.pydata.org/pandas-docs/stable/user_guide/indexing.html#returning-a-view-versus-a-copy\n",
      "  df0['hits'] = df0['hits_new']\n"
     ]
    }
   ],
   "source": [
    "df0 = batch_dfs[0]\n",
    "df0['hits_new'] = 'x0310_0A x0416_0A'\n",
    "df0['hits'] = df0['hits_new']\n",
    "df0 = df0.drop(columns=['hits_new'])\n",
    "df1 = batch_dfs[1]"
   ],
   "metadata": {
    "collapsed": false,
    "ExecuteTime": {
     "end_time": "2024-02-29T19:01:46.654725Z",
     "start_time": "2024-02-29T19:01:46.652348Z"
    }
   },
   "id": "ebbab2d931bfb571",
   "execution_count": 319
  },
  {
   "cell_type": "code",
   "outputs": [
    {
     "data": {
      "text/plain": "                         smiles  \\\n9  Cn1ncc(NC(=O)CC#N)c1NC(=O)CO   \n\n                                           reactants  \\\n9  [(Cn1ncc(NC(=O)OC(C)(C)C)c1N, O=C(O)CO), Cn1nc...   \n\n                               reaction_names  num_steps               hits  \\\n9  [Amidation, N-Boc_deprotection, Amidation]          3  x0310_0A x0416_0A   \n\n            compound_set  batch  \n9  x0310-x0732-merge-1-1      0  ",
      "text/html": "<div>\n<style scoped>\n    .dataframe tbody tr th:only-of-type {\n        vertical-align: middle;\n    }\n\n    .dataframe tbody tr th {\n        vertical-align: top;\n    }\n\n    .dataframe thead th {\n        text-align: right;\n    }\n</style>\n<table border=\"1\" class=\"dataframe\">\n  <thead>\n    <tr style=\"text-align: right;\">\n      <th></th>\n      <th>smiles</th>\n      <th>reactants</th>\n      <th>reaction_names</th>\n      <th>num_steps</th>\n      <th>hits</th>\n      <th>compound_set</th>\n      <th>batch</th>\n    </tr>\n  </thead>\n  <tbody>\n    <tr>\n      <th>9</th>\n      <td>Cn1ncc(NC(=O)CC#N)c1NC(=O)CO</td>\n      <td>[(Cn1ncc(NC(=O)OC(C)(C)C)c1N, O=C(O)CO), Cn1nc...</td>\n      <td>[Amidation, N-Boc_deprotection, Amidation]</td>\n      <td>3</td>\n      <td>x0310_0A x0416_0A</td>\n      <td>x0310-x0732-merge-1-1</td>\n      <td>0</td>\n    </tr>\n  </tbody>\n</table>\n</div>"
     },
     "execution_count": 320,
     "metadata": {},
     "output_type": "execute_result"
    }
   ],
   "source": [
    "# df0 drop last row and add to df1\n",
    "# Dropping the last row from df1 and storing it in a new variable\n",
    "last_row = df0.iloc[-1:]\n",
    "last_row"
   ],
   "metadata": {
    "collapsed": false,
    "ExecuteTime": {
     "end_time": "2024-02-29T19:01:46.659655Z",
     "start_time": "2024-02-29T19:01:46.655677Z"
    }
   },
   "id": "b3d3a7b35c2d8e2e",
   "execution_count": 320
  },
  {
   "cell_type": "code",
   "outputs": [
    {
     "data": {
      "text/plain": "                                 smiles  \\\n0     Cn1ncc(NC(=O)CC#N)c1NC(=O)C1CCCO1   \n1     N#CCC(=O)Nc1cccc(NC(=O)C2CCCO2)c1   \n2    Cc1ccc(NC(=O)CC#N)cc1NC(=O)C1CCCO1   \n3     N#CCC(=O)Nc1ccnc(NC(=O)C2CCCO2)c1   \n4    Cc1ccc(NC(=O)C2CCCO2)cc1NC(=O)CC#N   \n5    Cc1ccc(NC(=O)C2CCCO2)cc1NC(=O)CC#N   \n6    N#CCC(=O)Nc1cc(NC(=O)C2CCCO2)ccc1F   \n7  Cc1cc(NC(=O)CC#N)cc(NC(=O)C2CCCO2)c1   \n8  Cc1cc(NC(=O)CC#N)cc(NC(=O)C2CCCO2)c1   \n\n                                           reactants  \\\n0  [(Cn1ncc(NC(=O)OC(C)(C)C)c1N, O=C(O)C1CCCO1), ...   \n1  [(CC(C)(C)OC(=O)Nc1cccc(N)c1, O=C(O)C1CCCO1), ...   \n2  [(CC(C)(C)OC(=O)Nc1cc(N)c(C)cc1, O=C(O)C1CCCO1...   \n3  [(Nc1cc(NC(=O)OC(C)(C)C)ccn1, O=C(O)C1CCCO1), ...   \n4  [(CC(C)(C)OC(=O)Nc1cc(N)ccc1C, O=C(O)C1CCCO1),...   \n5  [(CC(C)(C)OC(=O)Nc1cc(N)ccc1C, O=C(O)C1CCCO1),...   \n6  [(CC(C)(C)OC(=O)Nc1cc(N)ccc1F, O=C(O)C1CCCO1),...   \n7  [(CC(C)(C)OC(=O)Nc1cc(C)cc(N)c1, O=C(O)C1CCCO1...   \n8  [(CC(C)(C)OC(=O)Nc1cc(N)cc(C)c1, O=C(O)C1CCCO1...   \n\n                               reaction_names  num_steps               hits  \\\n0  [Amidation, N-Boc_deprotection, Amidation]          3  x0310_0A x0416_0A   \n1  [Amidation, N-Boc_deprotection, Amidation]          3  x0310_0A x0416_0A   \n2  [Amidation, N-Boc_deprotection, Amidation]          3  x0310_0A x0416_0A   \n3  [Amidation, N-Boc_deprotection, Amidation]          3  x0310_0A x0416_0A   \n4  [Amidation, N-Boc_deprotection, Amidation]          3  x0310_0A x0416_0A   \n5  [Amidation, N-Boc_deprotection, Amidation]          3  x0310_0A x0416_0A   \n6  [Amidation, N-Boc_deprotection, Amidation]          3  x0310_0A x0416_0A   \n7  [Amidation, N-Boc_deprotection, Amidation]          3  x0310_0A x0416_0A   \n8  [Amidation, N-Boc_deprotection, Amidation]          3  x0310_0A x0416_0A   \n\n            compound_set  batch  \n0  x0310-x0416-merge-1-1      0  \n1  x0310-x0416-merge-2-1      0  \n2  x0310-x0416-merge-2-2      0  \n3  x0310-x0416-merge-2-3      0  \n4  x0310-x0416-merge-2-4      0  \n5  x0310-x0416-merge-2-5      0  \n6  x0310-x0416-merge-2-6      0  \n7  x0310-x0416-merge-2-7      0  \n8  x0310-x0416-merge-2-8      0  ",
      "text/html": "<div>\n<style scoped>\n    .dataframe tbody tr th:only-of-type {\n        vertical-align: middle;\n    }\n\n    .dataframe tbody tr th {\n        vertical-align: top;\n    }\n\n    .dataframe thead th {\n        text-align: right;\n    }\n</style>\n<table border=\"1\" class=\"dataframe\">\n  <thead>\n    <tr style=\"text-align: right;\">\n      <th></th>\n      <th>smiles</th>\n      <th>reactants</th>\n      <th>reaction_names</th>\n      <th>num_steps</th>\n      <th>hits</th>\n      <th>compound_set</th>\n      <th>batch</th>\n    </tr>\n  </thead>\n  <tbody>\n    <tr>\n      <th>0</th>\n      <td>Cn1ncc(NC(=O)CC#N)c1NC(=O)C1CCCO1</td>\n      <td>[(Cn1ncc(NC(=O)OC(C)(C)C)c1N, O=C(O)C1CCCO1), ...</td>\n      <td>[Amidation, N-Boc_deprotection, Amidation]</td>\n      <td>3</td>\n      <td>x0310_0A x0416_0A</td>\n      <td>x0310-x0416-merge-1-1</td>\n      <td>0</td>\n    </tr>\n    <tr>\n      <th>1</th>\n      <td>N#CCC(=O)Nc1cccc(NC(=O)C2CCCO2)c1</td>\n      <td>[(CC(C)(C)OC(=O)Nc1cccc(N)c1, O=C(O)C1CCCO1), ...</td>\n      <td>[Amidation, N-Boc_deprotection, Amidation]</td>\n      <td>3</td>\n      <td>x0310_0A x0416_0A</td>\n      <td>x0310-x0416-merge-2-1</td>\n      <td>0</td>\n    </tr>\n    <tr>\n      <th>2</th>\n      <td>Cc1ccc(NC(=O)CC#N)cc1NC(=O)C1CCCO1</td>\n      <td>[(CC(C)(C)OC(=O)Nc1cc(N)c(C)cc1, O=C(O)C1CCCO1...</td>\n      <td>[Amidation, N-Boc_deprotection, Amidation]</td>\n      <td>3</td>\n      <td>x0310_0A x0416_0A</td>\n      <td>x0310-x0416-merge-2-2</td>\n      <td>0</td>\n    </tr>\n    <tr>\n      <th>3</th>\n      <td>N#CCC(=O)Nc1ccnc(NC(=O)C2CCCO2)c1</td>\n      <td>[(Nc1cc(NC(=O)OC(C)(C)C)ccn1, O=C(O)C1CCCO1), ...</td>\n      <td>[Amidation, N-Boc_deprotection, Amidation]</td>\n      <td>3</td>\n      <td>x0310_0A x0416_0A</td>\n      <td>x0310-x0416-merge-2-3</td>\n      <td>0</td>\n    </tr>\n    <tr>\n      <th>4</th>\n      <td>Cc1ccc(NC(=O)C2CCCO2)cc1NC(=O)CC#N</td>\n      <td>[(CC(C)(C)OC(=O)Nc1cc(N)ccc1C, O=C(O)C1CCCO1),...</td>\n      <td>[Amidation, N-Boc_deprotection, Amidation]</td>\n      <td>3</td>\n      <td>x0310_0A x0416_0A</td>\n      <td>x0310-x0416-merge-2-4</td>\n      <td>0</td>\n    </tr>\n    <tr>\n      <th>5</th>\n      <td>Cc1ccc(NC(=O)C2CCCO2)cc1NC(=O)CC#N</td>\n      <td>[(CC(C)(C)OC(=O)Nc1cc(N)ccc1C, O=C(O)C1CCCO1),...</td>\n      <td>[Amidation, N-Boc_deprotection, Amidation]</td>\n      <td>3</td>\n      <td>x0310_0A x0416_0A</td>\n      <td>x0310-x0416-merge-2-5</td>\n      <td>0</td>\n    </tr>\n    <tr>\n      <th>6</th>\n      <td>N#CCC(=O)Nc1cc(NC(=O)C2CCCO2)ccc1F</td>\n      <td>[(CC(C)(C)OC(=O)Nc1cc(N)ccc1F, O=C(O)C1CCCO1),...</td>\n      <td>[Amidation, N-Boc_deprotection, Amidation]</td>\n      <td>3</td>\n      <td>x0310_0A x0416_0A</td>\n      <td>x0310-x0416-merge-2-6</td>\n      <td>0</td>\n    </tr>\n    <tr>\n      <th>7</th>\n      <td>Cc1cc(NC(=O)CC#N)cc(NC(=O)C2CCCO2)c1</td>\n      <td>[(CC(C)(C)OC(=O)Nc1cc(C)cc(N)c1, O=C(O)C1CCCO1...</td>\n      <td>[Amidation, N-Boc_deprotection, Amidation]</td>\n      <td>3</td>\n      <td>x0310_0A x0416_0A</td>\n      <td>x0310-x0416-merge-2-7</td>\n      <td>0</td>\n    </tr>\n    <tr>\n      <th>8</th>\n      <td>Cc1cc(NC(=O)CC#N)cc(NC(=O)C2CCCO2)c1</td>\n      <td>[(CC(C)(C)OC(=O)Nc1cc(N)cc(C)c1, O=C(O)C1CCCO1...</td>\n      <td>[Amidation, N-Boc_deprotection, Amidation]</td>\n      <td>3</td>\n      <td>x0310_0A x0416_0A</td>\n      <td>x0310-x0416-merge-2-8</td>\n      <td>0</td>\n    </tr>\n  </tbody>\n</table>\n</div>"
     },
     "execution_count": 321,
     "metadata": {},
     "output_type": "execute_result"
    }
   ],
   "source": [
    "# dropping the last row from df1\n",
    "df0 = df0[:-1]\n",
    "df0"
   ],
   "metadata": {
    "collapsed": false,
    "ExecuteTime": {
     "end_time": "2024-02-29T19:01:46.666852Z",
     "start_time": "2024-02-29T19:01:46.660358Z"
    }
   },
   "id": "6d644f0bf49ba5da",
   "execution_count": 321
  },
  {
   "cell_type": "code",
   "outputs": [
    {
     "data": {
      "text/plain": "                                    smiles  \\\n0             Cn1ncc(NC(=O)CC#N)c1NC(=O)CO   \n1             N#CCC(=O)Nc1cccc(NC(=O)CO)c1   \n2            Cc1ccc(NC(=O)CC#N)cc1NC(=O)CO   \n3             N#CCC(=O)Nc1ccnc(NC(=O)CO)c1   \n4            Cc1ccc(NC(=O)CO)cc1NC(=O)CC#N   \n5            Cc1ccc(NC(=O)CO)cc1NC(=O)CC#N   \n6            N#CCC(=O)Nc1cc(NC(=O)CO)ccc1F   \n7          Cc1cc(NC(=O)CO)cc(NC(=O)CC#N)c1   \n8          Cc1cc(NC(=O)CO)cc(NC(=O)CC#N)c1   \n9   Cc1cc(NC(=O)CC#N)cc(OCC(=O)N2CCOCC2)c1   \n10    Cc1cnc(OCC(=O)N2CCOCC2)cc1NC(=O)CC#N   \n\n                                            reactants  \\\n0   [(Cn1ncc(NC(=O)OC(C)(C)C)c1N, O=C(O)CO), Cn1nc...   \n1   [(CC(C)(C)OC(=O)Nc1cccc(N)c1, O=C(O)CO), CC(C)...   \n2   [(CC(C)(C)OC(=O)Nc1cc(N)c(C)cc1, O=C(O)CO), Cc...   \n3   [(Nc1cc(NC(=O)OC(C)(C)C)ccn1, O=C(O)CO), CC(C)...   \n4   [(CC(C)(C)OC(=O)Nc1cc(N)ccc1C, O=C(O)CO), Cc1c...   \n5   [(CC(C)(C)OC(=O)Nc1cc(N)ccc1C, O=C(O)CO), Cc1c...   \n6   [(CC(C)(C)OC(=O)Nc1cc(N)ccc1F, O=C(O)CO), CC(C...   \n7   [(CC(C)(C)OC(=O)Nc1cc(C)cc(N)c1, O=C(O)CO), Cc...   \n8   [(CC(C)(C)OC(=O)Nc1cc(N)cc(C)c1, O=C(O)CO), Cc...   \n9   [(Cc1cc(O)cc(N)c1, N#CCC(=O)O), (Cc1cc(O)cc(NC...   \n10  [(Cc1cnc(O)cc1N, N#CCC(=O)O), (Cc1cnc(O)cc1NC(...   \n\n                                reaction_names  num_steps         hits  \\\n0   [Amidation, N-Boc_deprotection, Amidation]          3  x0310 x0732   \n1   [Amidation, N-Boc_deprotection, Amidation]          3  x0310 x0732   \n2   [Amidation, N-Boc_deprotection, Amidation]          3  x0310 x0732   \n3   [Amidation, N-Boc_deprotection, Amidation]          3  x0310 x0732   \n4   [Amidation, N-Boc_deprotection, Amidation]          3  x0310 x0732   \n5   [Amidation, N-Boc_deprotection, Amidation]          3  x0310 x0732   \n6   [Amidation, N-Boc_deprotection, Amidation]          3  x0310 x0732   \n7   [Amidation, N-Boc_deprotection, Amidation]          3  x0310 x0732   \n8   [Amidation, N-Boc_deprotection, Amidation]          3  x0310 x0732   \n9      [Amidation, Williamson_ether_synthesis]          2  x0310 x0739   \n10     [Amidation, Williamson_ether_synthesis]          2  x0310 x0739   \n\n             compound_set  batch  \n0   x0310-x0732-merge-1-1      0  \n1   x0310-x0732-merge-2-1      1  \n2   x0310-x0732-merge-2-2      1  \n3   x0310-x0732-merge-2-3      1  \n4   x0310-x0732-merge-2-4      1  \n5   x0310-x0732-merge-2-5      1  \n6   x0310-x0732-merge-2-6      1  \n7   x0310-x0732-merge-2-7      1  \n8   x0310-x0732-merge-2-8      1  \n9   x0310-x0739-merge-2-1      1  \n10  x0310-x0739-merge-2-2      1  ",
      "text/html": "<div>\n<style scoped>\n    .dataframe tbody tr th:only-of-type {\n        vertical-align: middle;\n    }\n\n    .dataframe tbody tr th {\n        vertical-align: top;\n    }\n\n    .dataframe thead th {\n        text-align: right;\n    }\n</style>\n<table border=\"1\" class=\"dataframe\">\n  <thead>\n    <tr style=\"text-align: right;\">\n      <th></th>\n      <th>smiles</th>\n      <th>reactants</th>\n      <th>reaction_names</th>\n      <th>num_steps</th>\n      <th>hits</th>\n      <th>compound_set</th>\n      <th>batch</th>\n    </tr>\n  </thead>\n  <tbody>\n    <tr>\n      <th>0</th>\n      <td>Cn1ncc(NC(=O)CC#N)c1NC(=O)CO</td>\n      <td>[(Cn1ncc(NC(=O)OC(C)(C)C)c1N, O=C(O)CO), Cn1nc...</td>\n      <td>[Amidation, N-Boc_deprotection, Amidation]</td>\n      <td>3</td>\n      <td>x0310 x0732</td>\n      <td>x0310-x0732-merge-1-1</td>\n      <td>0</td>\n    </tr>\n    <tr>\n      <th>1</th>\n      <td>N#CCC(=O)Nc1cccc(NC(=O)CO)c1</td>\n      <td>[(CC(C)(C)OC(=O)Nc1cccc(N)c1, O=C(O)CO), CC(C)...</td>\n      <td>[Amidation, N-Boc_deprotection, Amidation]</td>\n      <td>3</td>\n      <td>x0310 x0732</td>\n      <td>x0310-x0732-merge-2-1</td>\n      <td>1</td>\n    </tr>\n    <tr>\n      <th>2</th>\n      <td>Cc1ccc(NC(=O)CC#N)cc1NC(=O)CO</td>\n      <td>[(CC(C)(C)OC(=O)Nc1cc(N)c(C)cc1, O=C(O)CO), Cc...</td>\n      <td>[Amidation, N-Boc_deprotection, Amidation]</td>\n      <td>3</td>\n      <td>x0310 x0732</td>\n      <td>x0310-x0732-merge-2-2</td>\n      <td>1</td>\n    </tr>\n    <tr>\n      <th>3</th>\n      <td>N#CCC(=O)Nc1ccnc(NC(=O)CO)c1</td>\n      <td>[(Nc1cc(NC(=O)OC(C)(C)C)ccn1, O=C(O)CO), CC(C)...</td>\n      <td>[Amidation, N-Boc_deprotection, Amidation]</td>\n      <td>3</td>\n      <td>x0310 x0732</td>\n      <td>x0310-x0732-merge-2-3</td>\n      <td>1</td>\n    </tr>\n    <tr>\n      <th>4</th>\n      <td>Cc1ccc(NC(=O)CO)cc1NC(=O)CC#N</td>\n      <td>[(CC(C)(C)OC(=O)Nc1cc(N)ccc1C, O=C(O)CO), Cc1c...</td>\n      <td>[Amidation, N-Boc_deprotection, Amidation]</td>\n      <td>3</td>\n      <td>x0310 x0732</td>\n      <td>x0310-x0732-merge-2-4</td>\n      <td>1</td>\n    </tr>\n    <tr>\n      <th>5</th>\n      <td>Cc1ccc(NC(=O)CO)cc1NC(=O)CC#N</td>\n      <td>[(CC(C)(C)OC(=O)Nc1cc(N)ccc1C, O=C(O)CO), Cc1c...</td>\n      <td>[Amidation, N-Boc_deprotection, Amidation]</td>\n      <td>3</td>\n      <td>x0310 x0732</td>\n      <td>x0310-x0732-merge-2-5</td>\n      <td>1</td>\n    </tr>\n    <tr>\n      <th>6</th>\n      <td>N#CCC(=O)Nc1cc(NC(=O)CO)ccc1F</td>\n      <td>[(CC(C)(C)OC(=O)Nc1cc(N)ccc1F, O=C(O)CO), CC(C...</td>\n      <td>[Amidation, N-Boc_deprotection, Amidation]</td>\n      <td>3</td>\n      <td>x0310 x0732</td>\n      <td>x0310-x0732-merge-2-6</td>\n      <td>1</td>\n    </tr>\n    <tr>\n      <th>7</th>\n      <td>Cc1cc(NC(=O)CO)cc(NC(=O)CC#N)c1</td>\n      <td>[(CC(C)(C)OC(=O)Nc1cc(C)cc(N)c1, O=C(O)CO), Cc...</td>\n      <td>[Amidation, N-Boc_deprotection, Amidation]</td>\n      <td>3</td>\n      <td>x0310 x0732</td>\n      <td>x0310-x0732-merge-2-7</td>\n      <td>1</td>\n    </tr>\n    <tr>\n      <th>8</th>\n      <td>Cc1cc(NC(=O)CO)cc(NC(=O)CC#N)c1</td>\n      <td>[(CC(C)(C)OC(=O)Nc1cc(N)cc(C)c1, O=C(O)CO), Cc...</td>\n      <td>[Amidation, N-Boc_deprotection, Amidation]</td>\n      <td>3</td>\n      <td>x0310 x0732</td>\n      <td>x0310-x0732-merge-2-8</td>\n      <td>1</td>\n    </tr>\n    <tr>\n      <th>9</th>\n      <td>Cc1cc(NC(=O)CC#N)cc(OCC(=O)N2CCOCC2)c1</td>\n      <td>[(Cc1cc(O)cc(N)c1, N#CCC(=O)O), (Cc1cc(O)cc(NC...</td>\n      <td>[Amidation, Williamson_ether_synthesis]</td>\n      <td>2</td>\n      <td>x0310 x0739</td>\n      <td>x0310-x0739-merge-2-1</td>\n      <td>1</td>\n    </tr>\n    <tr>\n      <th>10</th>\n      <td>Cc1cnc(OCC(=O)N2CCOCC2)cc1NC(=O)CC#N</td>\n      <td>[(Cc1cnc(O)cc1N, N#CCC(=O)O), (Cc1cnc(O)cc1NC(...</td>\n      <td>[Amidation, Williamson_ether_synthesis]</td>\n      <td>2</td>\n      <td>x0310 x0739</td>\n      <td>x0310-x0739-merge-2-2</td>\n      <td>1</td>\n    </tr>\n  </tbody>\n</table>\n</div>"
     },
     "execution_count": 322,
     "metadata": {},
     "output_type": "execute_result"
    }
   ],
   "source": [
    "df1 = pd.concat([last_row, df1], ignore_index=True)\n",
    "df1.loc[0, 'hits'] = 'x0310 x0732'\n",
    "df1"
   ],
   "metadata": {
    "collapsed": false,
    "ExecuteTime": {
     "end_time": "2024-02-29T19:01:46.675324Z",
     "start_time": "2024-02-29T19:01:46.667881Z"
    }
   },
   "id": "4bc6abd4d11d028",
   "execution_count": 322
  },
  {
   "cell_type": "code",
   "outputs": [],
   "source": [
    "df0.to_pickle('/Users/kate_fieseler/PycharmProjects/EV-A71-2A-syndirella-run/batches/batch0.pkl')\n",
    "df0.to_csv('/Users/kate_fieseler/PycharmProjects/EV-A71-2A-syndirella-run/batches/batch0.csv')"
   ],
   "metadata": {
    "collapsed": false,
    "ExecuteTime": {
     "end_time": "2024-02-29T19:01:46.690062Z",
     "start_time": "2024-02-29T19:01:46.685814Z"
    }
   },
   "id": "bea09ef278cf2953",
   "execution_count": 323
  },
  {
   "cell_type": "code",
   "outputs": [],
   "source": [
    "df1 = batch_dfs[1]\n",
    "df1.to_pickle('/Users/kate_fieseler/PycharmProjects/EV-A71-2A-syndirella-run/batches/batch1.pkl')\n",
    "df1.to_csv('/Users/kate_fieseler/PycharmProjects/EV-A71-2A-syndirella-run/batches/batch1.csv')"
   ],
   "metadata": {
    "collapsed": false,
    "ExecuteTime": {
     "end_time": "2024-02-29T19:01:46.731236Z",
     "start_time": "2024-02-29T19:01:46.728264Z"
    }
   },
   "id": "8c0b43f4ba3cde7d",
   "execution_count": 324
  },
  {
   "cell_type": "code",
   "outputs": [],
   "source": [
    "df2 = batch_dfs[2]\n",
    "df2.to_pickle('/Users/kate_fieseler/PycharmProjects/EV-A71-2A-syndirella-run/batches/batch2.pkl')\n",
    "df2.to_csv('/Users/kate_fieseler/PycharmProjects/EV-A71-2A-syndirella-run/batches/batch2.csv')"
   ],
   "metadata": {
    "collapsed": false,
    "ExecuteTime": {
     "end_time": "2024-02-29T19:01:46.763679Z",
     "start_time": "2024-02-29T19:01:46.760598Z"
    }
   },
   "id": "64a679b5a1d5a148",
   "execution_count": 325
  },
  {
   "cell_type": "code",
   "outputs": [],
   "source": [
    "df3 = batch_dfs[3]\n",
    "df3.to_pickle('/Users/kate_fieseler/PycharmProjects/EV-A71-2A-syndirella-run/batches/batch3.pkl')\n",
    "df3.to_csv('/Users/kate_fieseler/PycharmProjects/EV-A71-2A-syndirella-run/batches/batch3.csv')"
   ],
   "metadata": {
    "collapsed": false,
    "ExecuteTime": {
     "end_time": "2024-02-29T19:01:46.799967Z",
     "start_time": "2024-02-29T19:01:46.797066Z"
    }
   },
   "id": "4b15b6765110c3ee",
   "execution_count": 326
  },
  {
   "cell_type": "code",
   "outputs": [],
   "source": [
    "df4 = batch_dfs[4]\n",
    "df4.to_pickle('/Users/kate_fieseler/PycharmProjects/EV-A71-2A-syndirella-run/batches/batch4.pkl')\n",
    "df4.to_csv('/Users/kate_fieseler/PycharmProjects/EV-A71-2A-syndirella-run/batches/batch4.csv')"
   ],
   "metadata": {
    "collapsed": false,
    "ExecuteTime": {
     "end_time": "2024-02-29T19:01:46.802992Z",
     "start_time": "2024-02-29T19:01:46.800808Z"
    }
   },
   "id": "49b0fdf823f808ad",
   "execution_count": 327
  },
  {
   "cell_type": "code",
   "outputs": [],
   "source": [
    "df5 = batch_dfs[5]\n",
    "df5.to_pickle('/Users/kate_fieseler/PycharmProjects/EV-A71-2A-syndirella-run/batches/batch5.pkl')\n",
    "df5.to_csv('/Users/kate_fieseler/PycharmProjects/EV-A71-2A-syndirella-run/batches/batch5.csv')"
   ],
   "metadata": {
    "collapsed": false,
    "ExecuteTime": {
     "end_time": "2024-02-29T19:01:46.821594Z",
     "start_time": "2024-02-29T19:01:46.818853Z"
    }
   },
   "id": "c6ad834df040af6f",
   "execution_count": 328
  },
  {
   "cell_type": "code",
   "outputs": [],
   "source": [
    "df6 = batch_dfs[6]\n",
    "df6.to_pickle('/Users/kate_fieseler/PycharmProjects/EV-A71-2A-syndirella-run/batches/batch6.pkl')\n",
    "df6.to_csv('/Users/kate_fieseler/PycharmProjects/EV-A71-2A-syndirella-run/batches/batch6.csv')\n"
   ],
   "metadata": {
    "collapsed": false,
    "ExecuteTime": {
     "end_time": "2024-02-29T19:01:46.825336Z",
     "start_time": "2024-02-29T19:01:46.823191Z"
    }
   },
   "id": "123353b8f8ee68aa",
   "execution_count": 329
  },
  {
   "cell_type": "code",
   "outputs": [],
   "source": [
    "df7 = batch_dfs[7]\n",
    "df7.to_pickle('/Users/kate_fieseler/PycharmProjects/EV-A71-2A-syndirella-run/batches/batch7.pkl')\n",
    "df7.to_csv('/Users/kate_fieseler/PycharmProjects/EV-A71-2A-syndirella-run/batches/batch7.csv')\n"
   ],
   "metadata": {
    "collapsed": false,
    "ExecuteTime": {
     "end_time": "2024-02-29T19:01:46.838316Z",
     "start_time": "2024-02-29T19:01:46.835840Z"
    }
   },
   "id": "151c00b0f139f1d6",
   "execution_count": 330
  },
  {
   "cell_type": "code",
   "outputs": [],
   "source": [
    "df8 = batch_dfs[8]\n",
    "df8.to_pickle('/Users/kate_fieseler/PycharmProjects/EV-A71-2A-syndirella-run/batches/batch8.pkl')\n",
    "df8.to_csv('/Users/kate_fieseler/PycharmProjects/EV-A71-2A-syndirella-run/batches/batch8.csv')\n"
   ],
   "metadata": {
    "collapsed": false,
    "ExecuteTime": {
     "end_time": "2024-02-29T19:01:46.841385Z",
     "start_time": "2024-02-29T19:01:46.839082Z"
    }
   },
   "id": "8c9adee0dba2da30",
   "execution_count": 331
  },
  {
   "cell_type": "code",
   "outputs": [],
   "source": [
    "df9 = batch_dfs[9]\n",
    "df9.to_pickle('/Users/kate_fieseler/PycharmProjects/EV-A71-2A-syndirella-run/batches/batch9.pkl')\n",
    "df9.to_csv('/Users/kate_fieseler/PycharmProjects/EV-A71-2A-syndirella-run/batches/batch9.csv')\n"
   ],
   "metadata": {
    "collapsed": false,
    "ExecuteTime": {
     "end_time": "2024-02-29T19:01:46.844692Z",
     "start_time": "2024-02-29T19:01:46.842200Z"
    }
   },
   "id": "95aa735b6a3cb8f1",
   "execution_count": 332
  },
  {
   "cell_type": "code",
   "outputs": [],
   "source": [
    "df10 = batch_dfs[10]\n",
    "df10.to_pickle('/Users/kate_fieseler/PycharmProjects/EV-A71-2A-syndirella-run/batches/batch10.pkl')\n",
    "df10.to_csv('/Users/kate_fieseler/PycharmProjects/EV-A71-2A-syndirella-run/batches/batch10.csv')"
   ],
   "metadata": {
    "collapsed": false,
    "ExecuteTime": {
     "end_time": "2024-02-29T19:01:46.852463Z",
     "start_time": "2024-02-29T19:01:46.849894Z"
    }
   },
   "id": "16a4be8a1f65bcae",
   "execution_count": 333
  },
  {
   "cell_type": "code",
   "outputs": [],
   "source": [
    "df11 = batch_dfs[11]\n",
    "df11.to_pickle('/Users/kate_fieseler/PycharmProjects/EV-A71-2A-syndirella-run/batches/batch11.pkl')\n",
    "df11.to_csv('/Users/kate_fieseler/PycharmProjects/EV-A71-2A-syndirella-run/batches/batch11.csv')"
   ],
   "metadata": {
    "collapsed": false,
    "ExecuteTime": {
     "end_time": "2024-02-29T19:01:46.856845Z",
     "start_time": "2024-02-29T19:01:46.854509Z"
    }
   },
   "id": "59825bb38dcf3f0",
   "execution_count": 334
  },
  {
   "cell_type": "code",
   "outputs": [],
   "source": [
    "df12 = batch_dfs[12]\n",
    "df12.to_pickle('/Users/kate_fieseler/PycharmProjects/EV-A71-2A-syndirella-run/batches/batch12.pkl')\n",
    "df12.to_csv('/Users/kate_fieseler/PycharmProjects/EV-A71-2A-syndirella-run/batches/batch12.csv')"
   ],
   "metadata": {
    "collapsed": false,
    "ExecuteTime": {
     "end_time": "2024-02-29T19:01:46.860212Z",
     "start_time": "2024-02-29T19:01:46.857610Z"
    }
   },
   "id": "656dd82e241f9bbc",
   "execution_count": 335
  },
  {
   "cell_type": "code",
   "outputs": [],
   "source": [
    "df13 = batch_dfs[13]\n",
    "df13.to_pickle('/Users/kate_fieseler/PycharmProjects/EV-A71-2A-syndirella-run/batches/batch13.pkl')\n",
    "df13.to_csv('/Users/kate_fieseler/PycharmProjects/EV-A71-2A-syndirella-run/batches/batch13.csv')"
   ],
   "metadata": {
    "collapsed": false,
    "ExecuteTime": {
     "end_time": "2024-02-29T19:01:46.863068Z",
     "start_time": "2024-02-29T19:01:46.860970Z"
    }
   },
   "id": "3c44511ee5e1206c",
   "execution_count": 336
  },
  {
   "cell_type": "code",
   "outputs": [],
   "source": [],
   "metadata": {
    "collapsed": false,
    "ExecuteTime": {
     "end_time": "2024-02-29T19:01:46.871369Z",
     "start_time": "2024-02-29T19:01:46.870143Z"
    }
   },
   "id": "d2831b42c0ea8aee",
   "execution_count": 336
  }
 ],
 "metadata": {
  "kernelspec": {
   "display_name": "Python 3",
   "language": "python",
   "name": "python3"
  },
  "language_info": {
   "codemirror_mode": {
    "name": "ipython",
    "version": 2
   },
   "file_extension": ".py",
   "mimetype": "text/x-python",
   "name": "python",
   "nbconvert_exporter": "python",
   "pygments_lexer": "ipython2",
   "version": "2.7.6"
  }
 },
 "nbformat": 4,
 "nbformat_minor": 5
}

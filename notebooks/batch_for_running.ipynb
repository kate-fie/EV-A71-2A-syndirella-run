{
 "cells": [
  {
   "cell_type": "code",
   "execution_count": 32,
   "id": "initial_id",
   "metadata": {
    "collapsed": true,
    "ExecuteTime": {
     "end_time": "2024-03-18T15:31:19.115515Z",
     "start_time": "2024-03-18T15:31:19.113434Z"
    }
   },
   "outputs": [],
   "source": [
    "import pandas as pd\n",
    "import ast"
   ]
  },
  {
   "cell_type": "code",
   "outputs": [
    {
     "data": {
      "text/plain": "                                 smiles  \\\n0     Cn1ncc(NC(=O)CC#N)c1NC(=O)C1CCCO1   \n1     N#CCC(=O)Nc1cccc(NC(=O)C2CCCO2)c1   \n2    Cc1ccc(NC(=O)CC#N)cc1NC(=O)C1CCCO1   \n3     N#CCC(=O)Nc1ccnc(NC(=O)C2CCCO2)c1   \n4    Cc1ccc(NC(=O)C2CCCO2)cc1NC(=O)CC#N   \n..                                  ...   \n135        N#CCC(=O)Nc1ccncc1(NC(=O)CO)   \n136       Cc1cccc(NC(=O)CO)c1NC(=O)CC#N   \n137       N#CCC(=O)Nc1c(NC(=O)CO)cccc1F   \n138     c1cc(NC(=O)CO)c(NC(=O)CC#N)cc1F   \n139     c1cc(NC(=O)CO)c(NC(=O)CC#N)cc1F   \n\n                                             reactants  \\\n0    [('Cn1ncc(NC(=O)OC(C)(C)C)c1N', 'O=C(O)C1CCCO1...   \n1    [('CC(C)(C)OC(=O)Nc1cccc(N)c1', 'O=C(O)C1CCCO1...   \n2    [('CC(C)(C)OC(=O)Nc1cc(N)c(C)cc1', 'O=C(O)C1CC...   \n3    [('Nc1cc(NC(=O)OC(C)(C)C)ccn1', 'O=C(O)C1CCCO1...   \n4    [('CC(C)(C)OC(=O)Nc1cc(N)ccc1C', 'O=C(O)C1CCCO...   \n..                                                 ...   \n135  [('CC(C)(C)OC(=O)Nc1ccncc1(N)', 'O=C(O)CO'), '...   \n136  [('CC(C)(C)OC(=O)Nc1c(C)cccc1(N)', 'O=C(O)CO')...   \n137  [('CC(C)(C)OC(=O)Nc1c(F)cccc1(N)', 'O=C(O)CO')...   \n138  [('CC(C)(C)OC(=O)Nc1cc(F)ccc1(N)', 'O=C(O)CO')...   \n139  [('CC(C)(C)OC(=O)Nc1cc(C)ccc1(N)', 'O=C(O)CO')...   \n\n                                       reaction_names  num_steps  \\\n0    ['Amidation', 'N-Boc_deprotection', 'Amidation']          3   \n1    ['Amidation', 'N-Boc_deprotection', 'Amidation']          3   \n2    ['Amidation', 'N-Boc_deprotection', 'Amidation']          3   \n3    ['Amidation', 'N-Boc_deprotection', 'Amidation']          3   \n4    ['Amidation', 'N-Boc_deprotection', 'Amidation']          3   \n..                                                ...        ...   \n135  ['Amidation', 'N-Boc_deprotection', 'Amidation']          3   \n136  ['Amidation', 'N-Boc_deprotection', 'Amidation']          3   \n137  ['Amidation', 'N-Boc_deprotection', 'Amidation']          3   \n138  ['Amidation', 'N-Boc_deprotection', 'Amidation']          3   \n139  ['Amidation', 'N-Boc_deprotection', 'Amidation']          3   \n\n                hits           compound_set  batch  \n0    x0310_A x0416_A  x0310-x0416-merge-1-1      0  \n1    x0310_A x0416_A  x0310-x0416-merge-2-1      0  \n2    x0310_A x0416_A  x0310-x0416-merge-2-2      0  \n3    x0310_A x0416_A  x0310-x0416-merge-2-3      0  \n4    x0310_A x0416_A  x0310-x0416-merge-2-4      0  \n..               ...                    ...    ...  \n135  x0310_A x0732_A  x0310-x0732-merge-3-3     13  \n136  x0310_A x0732_A  x0310-x0732-merge-3-4     13  \n137  x0310_A x0732_A  x0310-x0732-merge-3-5     13  \n138  x0310_A x0732_A  x0310-x0732-merge-3-6     13  \n139  x0310_A x0732_A  x0310-x0732-merge-3-7     13  \n\n[140 rows x 7 columns]",
      "text/html": "<div>\n<style scoped>\n    .dataframe tbody tr th:only-of-type {\n        vertical-align: middle;\n    }\n\n    .dataframe tbody tr th {\n        vertical-align: top;\n    }\n\n    .dataframe thead th {\n        text-align: right;\n    }\n</style>\n<table border=\"1\" class=\"dataframe\">\n  <thead>\n    <tr style=\"text-align: right;\">\n      <th></th>\n      <th>smiles</th>\n      <th>reactants</th>\n      <th>reaction_names</th>\n      <th>num_steps</th>\n      <th>hits</th>\n      <th>compound_set</th>\n      <th>batch</th>\n    </tr>\n  </thead>\n  <tbody>\n    <tr>\n      <th>0</th>\n      <td>Cn1ncc(NC(=O)CC#N)c1NC(=O)C1CCCO1</td>\n      <td>[('Cn1ncc(NC(=O)OC(C)(C)C)c1N', 'O=C(O)C1CCCO1...</td>\n      <td>['Amidation', 'N-Boc_deprotection', 'Amidation']</td>\n      <td>3</td>\n      <td>x0310_A x0416_A</td>\n      <td>x0310-x0416-merge-1-1</td>\n      <td>0</td>\n    </tr>\n    <tr>\n      <th>1</th>\n      <td>N#CCC(=O)Nc1cccc(NC(=O)C2CCCO2)c1</td>\n      <td>[('CC(C)(C)OC(=O)Nc1cccc(N)c1', 'O=C(O)C1CCCO1...</td>\n      <td>['Amidation', 'N-Boc_deprotection', 'Amidation']</td>\n      <td>3</td>\n      <td>x0310_A x0416_A</td>\n      <td>x0310-x0416-merge-2-1</td>\n      <td>0</td>\n    </tr>\n    <tr>\n      <th>2</th>\n      <td>Cc1ccc(NC(=O)CC#N)cc1NC(=O)C1CCCO1</td>\n      <td>[('CC(C)(C)OC(=O)Nc1cc(N)c(C)cc1', 'O=C(O)C1CC...</td>\n      <td>['Amidation', 'N-Boc_deprotection', 'Amidation']</td>\n      <td>3</td>\n      <td>x0310_A x0416_A</td>\n      <td>x0310-x0416-merge-2-2</td>\n      <td>0</td>\n    </tr>\n    <tr>\n      <th>3</th>\n      <td>N#CCC(=O)Nc1ccnc(NC(=O)C2CCCO2)c1</td>\n      <td>[('Nc1cc(NC(=O)OC(C)(C)C)ccn1', 'O=C(O)C1CCCO1...</td>\n      <td>['Amidation', 'N-Boc_deprotection', 'Amidation']</td>\n      <td>3</td>\n      <td>x0310_A x0416_A</td>\n      <td>x0310-x0416-merge-2-3</td>\n      <td>0</td>\n    </tr>\n    <tr>\n      <th>4</th>\n      <td>Cc1ccc(NC(=O)C2CCCO2)cc1NC(=O)CC#N</td>\n      <td>[('CC(C)(C)OC(=O)Nc1cc(N)ccc1C', 'O=C(O)C1CCCO...</td>\n      <td>['Amidation', 'N-Boc_deprotection', 'Amidation']</td>\n      <td>3</td>\n      <td>x0310_A x0416_A</td>\n      <td>x0310-x0416-merge-2-4</td>\n      <td>0</td>\n    </tr>\n    <tr>\n      <th>...</th>\n      <td>...</td>\n      <td>...</td>\n      <td>...</td>\n      <td>...</td>\n      <td>...</td>\n      <td>...</td>\n      <td>...</td>\n    </tr>\n    <tr>\n      <th>135</th>\n      <td>N#CCC(=O)Nc1ccncc1(NC(=O)CO)</td>\n      <td>[('CC(C)(C)OC(=O)Nc1ccncc1(N)', 'O=C(O)CO'), '...</td>\n      <td>['Amidation', 'N-Boc_deprotection', 'Amidation']</td>\n      <td>3</td>\n      <td>x0310_A x0732_A</td>\n      <td>x0310-x0732-merge-3-3</td>\n      <td>13</td>\n    </tr>\n    <tr>\n      <th>136</th>\n      <td>Cc1cccc(NC(=O)CO)c1NC(=O)CC#N</td>\n      <td>[('CC(C)(C)OC(=O)Nc1c(C)cccc1(N)', 'O=C(O)CO')...</td>\n      <td>['Amidation', 'N-Boc_deprotection', 'Amidation']</td>\n      <td>3</td>\n      <td>x0310_A x0732_A</td>\n      <td>x0310-x0732-merge-3-4</td>\n      <td>13</td>\n    </tr>\n    <tr>\n      <th>137</th>\n      <td>N#CCC(=O)Nc1c(NC(=O)CO)cccc1F</td>\n      <td>[('CC(C)(C)OC(=O)Nc1c(F)cccc1(N)', 'O=C(O)CO')...</td>\n      <td>['Amidation', 'N-Boc_deprotection', 'Amidation']</td>\n      <td>3</td>\n      <td>x0310_A x0732_A</td>\n      <td>x0310-x0732-merge-3-5</td>\n      <td>13</td>\n    </tr>\n    <tr>\n      <th>138</th>\n      <td>c1cc(NC(=O)CO)c(NC(=O)CC#N)cc1F</td>\n      <td>[('CC(C)(C)OC(=O)Nc1cc(F)ccc1(N)', 'O=C(O)CO')...</td>\n      <td>['Amidation', 'N-Boc_deprotection', 'Amidation']</td>\n      <td>3</td>\n      <td>x0310_A x0732_A</td>\n      <td>x0310-x0732-merge-3-6</td>\n      <td>13</td>\n    </tr>\n    <tr>\n      <th>139</th>\n      <td>c1cc(NC(=O)CO)c(NC(=O)CC#N)cc1F</td>\n      <td>[('CC(C)(C)OC(=O)Nc1cc(C)ccc1(N)', 'O=C(O)CO')...</td>\n      <td>['Amidation', 'N-Boc_deprotection', 'Amidation']</td>\n      <td>3</td>\n      <td>x0310_A x0732_A</td>\n      <td>x0310-x0732-merge-3-7</td>\n      <td>13</td>\n    </tr>\n  </tbody>\n</table>\n<p>140 rows × 7 columns</p>\n</div>"
     },
     "execution_count": 33,
     "metadata": {},
     "output_type": "execute_result"
    }
   ],
   "source": [
    "df = pd.read_pickle('/Users/kate_fieseler/PycharmProjects/EV-A71-2A-syndirella-run/base_compounds/syndirella_input_MASTER_run2.pkl')\n",
    "df"
   ],
   "metadata": {
    "collapsed": false,
    "ExecuteTime": {
     "end_time": "2024-03-18T15:31:19.123076Z",
     "start_time": "2024-03-18T15:31:19.116796Z"
    }
   },
   "id": "d566b600684b524",
   "execution_count": 33
  },
  {
   "cell_type": "code",
   "outputs": [
    {
     "name": "stdout",
     "output_type": "stream",
     "text": [
      "batch 0 has 10 compounds\n",
      "batch 1 has 10 compounds\n",
      "batch 2 has 10 compounds\n",
      "batch 3 has 10 compounds\n",
      "batch 4 has 10 compounds\n",
      "batch 5 has 10 compounds\n",
      "batch 6 has 10 compounds\n",
      "batch 7 has 10 compounds\n",
      "batch 8 has 10 compounds\n",
      "batch 9 has 10 compounds\n",
      "batch 10 has 10 compounds\n",
      "batch 11 has 10 compounds\n",
      "batch 12 has 10 compounds\n",
      "batch 13 has 10 compounds\n"
     ]
    }
   ],
   "source": [
    "# split into seperate batch dataframes\n",
    "batch_dfs = [df[df['batch'] == i] for i in df['batch'].unique()]\n",
    "for i in range(len(batch_dfs)):\n",
    "    print(f'batch {i} has {len(batch_dfs[i])} compounds')\n",
    "    df = batch_dfs[i]\n",
    "    df.to_csv(f'/Users/kate_fieseler/PycharmProjects/EV-A71-2A-syndirella-run/batches_run2/batch{i}.csv')"
   ],
   "metadata": {
    "collapsed": false,
    "ExecuteTime": {
     "end_time": "2024-03-18T15:31:19.132153Z",
     "start_time": "2024-03-18T15:31:19.123745Z"
    }
   },
   "id": "2b4bb8b15f00a708",
   "execution_count": 34
  },
  {
   "cell_type": "code",
   "outputs": [],
   "source": [],
   "metadata": {
    "collapsed": false,
    "ExecuteTime": {
     "end_time": "2024-03-18T15:31:19.134514Z",
     "start_time": "2024-03-18T15:31:19.133198Z"
    }
   },
   "id": "c399f0bfe6f56f6",
   "execution_count": 34
  }
 ],
 "metadata": {
  "kernelspec": {
   "display_name": "Python 3",
   "language": "python",
   "name": "python3"
  },
  "language_info": {
   "codemirror_mode": {
    "name": "ipython",
    "version": 2
   },
   "file_extension": ".py",
   "mimetype": "text/x-python",
   "name": "python",
   "nbconvert_exporter": "python",
   "pygments_lexer": "ipython2",
   "version": "2.7.6"
  }
 },
 "nbformat": 4,
 "nbformat_minor": 5
}

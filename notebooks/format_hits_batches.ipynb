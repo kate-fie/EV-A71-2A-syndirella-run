{
 "cells": [
  {
   "cell_type": "code",
   "execution_count": 12,
   "id": "initial_id",
   "metadata": {
    "collapsed": true,
    "ExecuteTime": {
     "end_time": "2024-03-04T21:00:15.585681Z",
     "start_time": "2024-03-04T21:00:15.583579Z"
    }
   },
   "outputs": [],
   "source": [
    "import pandas as pd\n",
    "import os\n",
    "os.chdir('/Users/kate_fieseler/PycharmProjects/EV-A71-2A-syndirella-run/batches')"
   ]
  },
  {
   "cell_type": "code",
   "outputs": [],
   "source": [
    "for i in range(1, 14):\n",
    "    df = pd.read_pickle(f'batch{i}.pkl')\n",
    "    df['hits'] = df['hits'].apply(lambda x: ' '.join([i + 'A' for i in x.split()]))\n",
    "    df.to_pickle(f'batch{i}.pkl')\n",
    "    df.to_csv(f'batch{i}.csv')"
   ],
   "metadata": {
    "collapsed": false,
    "ExecuteTime": {
     "end_time": "2024-03-04T21:02:03.713098Z",
     "start_time": "2024-03-04T21:02:03.683450Z"
    }
   },
   "id": "5c02bbe305f41bf4",
   "execution_count": 15
  },
  {
   "cell_type": "code",
   "outputs": [
    {
     "data": {
      "text/plain": "                                      smiles  \\\n130  Cc1cc(C)c(OCC(=O)N(C)C)cc1NC(=O)C1CCCO1   \n131      CN(C)C(=O)COc1cncc(NC(=O)C2CCCO2)c1   \n132      CN(C)C(=O)COc1cc(NC(=O)C2CCCO2)ccn1   \n\n                                             reactants  \\\n130  [(Nc1cc(O)c(C)cc1C, O=C(O)C1CCCO1), (Cc1cc(C)c...   \n131  [(Nc1cncc(O)c1, O=C(O)C1CCCO1), (O=C(Nc1cncc(O...   \n132  [(Nc1ccnc(O)c1, O=C(O)C1CCCO1), (O=C(Nc1ccnc(O...   \n\n                              reaction_names  num_steps           hits  \\\n130  [Amidation, Williamson_ether_synthesis]          2  x0922A x0416A   \n131  [Amidation, Williamson_ether_synthesis]          2  x0922A x0416A   \n132  [Amidation, Williamson_ether_synthesis]          2  x0922A x0416A   \n\n               compound_set  batch  \n130   x0922-x0416-merge-1-9     13  \n131  x0922-x0416-merge-1-10     13  \n132  x0922-x0416-merge-1-11     13  ",
      "text/html": "<div>\n<style scoped>\n    .dataframe tbody tr th:only-of-type {\n        vertical-align: middle;\n    }\n\n    .dataframe tbody tr th {\n        vertical-align: top;\n    }\n\n    .dataframe thead th {\n        text-align: right;\n    }\n</style>\n<table border=\"1\" class=\"dataframe\">\n  <thead>\n    <tr style=\"text-align: right;\">\n      <th></th>\n      <th>smiles</th>\n      <th>reactants</th>\n      <th>reaction_names</th>\n      <th>num_steps</th>\n      <th>hits</th>\n      <th>compound_set</th>\n      <th>batch</th>\n    </tr>\n  </thead>\n  <tbody>\n    <tr>\n      <th>130</th>\n      <td>Cc1cc(C)c(OCC(=O)N(C)C)cc1NC(=O)C1CCCO1</td>\n      <td>[(Nc1cc(O)c(C)cc1C, O=C(O)C1CCCO1), (Cc1cc(C)c...</td>\n      <td>[Amidation, Williamson_ether_synthesis]</td>\n      <td>2</td>\n      <td>x0922A x0416A</td>\n      <td>x0922-x0416-merge-1-9</td>\n      <td>13</td>\n    </tr>\n    <tr>\n      <th>131</th>\n      <td>CN(C)C(=O)COc1cncc(NC(=O)C2CCCO2)c1</td>\n      <td>[(Nc1cncc(O)c1, O=C(O)C1CCCO1), (O=C(Nc1cncc(O...</td>\n      <td>[Amidation, Williamson_ether_synthesis]</td>\n      <td>2</td>\n      <td>x0922A x0416A</td>\n      <td>x0922-x0416-merge-1-10</td>\n      <td>13</td>\n    </tr>\n    <tr>\n      <th>132</th>\n      <td>CN(C)C(=O)COc1cc(NC(=O)C2CCCO2)ccn1</td>\n      <td>[(Nc1ccnc(O)c1, O=C(O)C1CCCO1), (O=C(Nc1ccnc(O...</td>\n      <td>[Amidation, Williamson_ether_synthesis]</td>\n      <td>2</td>\n      <td>x0922A x0416A</td>\n      <td>x0922-x0416-merge-1-11</td>\n      <td>13</td>\n    </tr>\n  </tbody>\n</table>\n</div>"
     },
     "execution_count": 14,
     "metadata": {},
     "output_type": "execute_result"
    }
   ],
   "source": [
    "# Read in hits column and add A to end of each element in space separated list\n",
    "df['hits'] = df['hits'].apply(lambda x: ' '.join([i + 'A' for i in x.split()]))\n",
    "df"
   ],
   "metadata": {
    "collapsed": false,
    "ExecuteTime": {
     "end_time": "2024-03-04T21:00:15.601737Z",
     "start_time": "2024-03-04T21:00:15.596862Z"
    }
   },
   "id": "3abdcb352f3f95f8",
   "execution_count": 14
  },
  {
   "cell_type": "code",
   "outputs": [],
   "source": [],
   "metadata": {
    "collapsed": false,
    "ExecuteTime": {
     "end_time": "2024-03-04T21:00:15.603952Z",
     "start_time": "2024-03-04T21:00:15.602556Z"
    }
   },
   "id": "242e048e540c2954",
   "execution_count": 14
  }
 ],
 "metadata": {
  "kernelspec": {
   "display_name": "Python 3",
   "language": "python",
   "name": "python3"
  },
  "language_info": {
   "codemirror_mode": {
    "name": "ipython",
    "version": 2
   },
   "file_extension": ".py",
   "mimetype": "text/x-python",
   "name": "python",
   "nbconvert_exporter": "python",
   "pygments_lexer": "ipython2",
   "version": "2.7.6"
  }
 },
 "nbformat": 4,
 "nbformat_minor": 5
}

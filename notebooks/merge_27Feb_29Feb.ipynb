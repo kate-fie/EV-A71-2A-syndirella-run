{
 "cells": [
  {
   "cell_type": "code",
   "execution_count": 22,
   "id": "initial_id",
   "metadata": {
    "collapsed": true,
    "ExecuteTime": {
     "end_time": "2024-02-29T15:31:51.238594Z",
     "start_time": "2024-02-29T15:31:51.235245Z"
    }
   },
   "outputs": [],
   "source": [
    "import pandas as pd\n",
    "import json\n",
    "from rdkit import Chem"
   ]
  },
  {
   "cell_type": "code",
   "outputs": [],
   "source": [
    "# Merge most up-to-date data with csv I already filled in with products\n",
    "df1 = pd.read_csv('../base_compounds/wt_designs_full_routes_27Feb.csv', index_col=0)\n",
    "df2 = pd.read_csv('../base_compounds/wt_designs_MASTER_29Feb.csv')"
   ],
   "metadata": {
    "collapsed": false,
    "ExecuteTime": {
     "end_time": "2024-02-29T15:31:51.249374Z",
     "start_time": "2024-02-29T15:31:51.240478Z"
    }
   },
   "id": "fc008ae8e5ad94aa",
   "execution_count": 23
  },
  {
   "cell_type": "code",
   "outputs": [
    {
     "data": {
      "text/plain": "               target-names  no-steps  concentration-required-mM  \\\n0     x0310-x0416-merge-1-1         3                        100   \n1     x0310-x0416-merge-2-1         3                        100   \n2     x0310-x0416-merge-2-2         3                        100   \n3     x0310-x0416-merge-2-3         3                        100   \n4     x0310-x0416-merge-2-4         3                        100   \n..                      ...       ...                        ...   \n212   x0922-x0416-merge-1-7         2                        100   \n213   x0922-x0416-merge-1-8         2                        100   \n214   x0922-x0416-merge-1-9         2                        100   \n215  x0922-x0416-merge-1-10         2                        100   \n216  x0922-x0416-merge-1-11         2                        100   \n\n     amount-required-uL  batch-tag                   reactant-1-1  \\\n0                    40  wasgo-2.0     Cn1ncc(NC(=O)OC(C)(C)C)c1N   \n1                    40  wasgo-2.0     CC(C)(C)OC(=O)Nc1cccc(N)c1   \n2                    40  wasgo-2.0  CC(C)(C)OC(=O)Nc1cc(N)c(C)cc1   \n3                    40  wasgo-2.0     Nc1cc(NC(=O)OC(C)(C)C)ccn1   \n4                    40  wasgo-2.0    CC(C)(C)OC(=O)Nc1cc(N)ccc1C   \n..                  ...        ...                            ...   \n212                  40  wasgo-2.0                  Fc1ccc(O)cc1N   \n213                  40  wasgo-2.0                Nc1cc(O)c(C)cc1   \n214                  40  wasgo-2.0               Nc1cc(O)c(C)cc1C   \n215                  40  wasgo-2.0                   Nc1cncc(O)c1   \n216                  40  wasgo-2.0                   Nc1ccnc(O)c1   \n\n      reactant-2-1                reaction-product-smiles-1 reaction-name-1  \\\n0    O=C(O)C1CCCO1   Cn1ncc(NC(=O)OC(C)(C)C)c1NC(=O)C1CCCO1       Amidation   \n1    O=C(O)C1CCCO1   CC(C)(C)OC(=O)Nc1cccc(NC(=O)C2CCCO2)c1       Amidation   \n2    O=C(O)C1CCCO1  Cc1ccc(NC(=O)OC(C)(C)C)cc1NC(=O)C1CCCO1       Amidation   \n3    O=C(O)C1CCCO1   CC(C)(C)OC(=O)Nc1ccnc(NC(=O)C2CCCO2)c1       Amidation   \n4    O=C(O)C1CCCO1  Cc1ccc(NC(=O)C2CCCO2)cc1NC(=O)OC(C)(C)C       Amidation   \n..             ...                                      ...             ...   \n212  O=C(O)C1CCCO1                                product-1       Amidation   \n213  O=C(O)C1CCCO1                                product-1       Amidation   \n214  O=C(O)C1CCCO1                                product-1       Amidation   \n215  O=C(O)C1CCCO1                                product-1       Amidation   \n216  O=C(O)C1CCCO1                                product-1       Amidation   \n\n    reaction-recipe-1  ...  reaction-product-smiles-4 reaction-name-4  \\\n0            standard  ...                        NaN             NaN   \n1            standard  ...                        NaN             NaN   \n2            standard  ...                        NaN             NaN   \n3            standard  ...                        NaN             NaN   \n4            standard  ...                        NaN             NaN   \n..                ...  ...                        ...             ...   \n212          standard  ...                        NaN             NaN   \n213          standard  ...                        NaN             NaN   \n214          standard  ...                        NaN             NaN   \n215          standard  ...                        NaN             NaN   \n216          standard  ...                        NaN             NaN   \n\n    reaction-recipe-4 reaction-groupby-column-4 reactant-1-5 reactant-2-5  \\\n0                 NaN                       NaN          NaN          NaN   \n1                 NaN                       NaN          NaN          NaN   \n2                 NaN                       NaN          NaN          NaN   \n3                 NaN                       NaN          NaN          NaN   \n4                 NaN                       NaN          NaN          NaN   \n..                ...                       ...          ...          ...   \n212               NaN                       NaN          NaN          NaN   \n213               NaN                       NaN          NaN          NaN   \n214               NaN                       NaN          NaN          NaN   \n215               NaN                       NaN          NaN          NaN   \n216               NaN                       NaN          NaN          NaN   \n\n    reaction-product-smiles-5 reaction-name-5 reaction-recipe-5  \\\n0                         NaN             NaN               NaN   \n1                         NaN             NaN               NaN   \n2                         NaN             NaN               NaN   \n3                         NaN             NaN               NaN   \n4                         NaN             NaN               NaN   \n..                        ...             ...               ...   \n212                       NaN             NaN               NaN   \n213                       NaN             NaN               NaN   \n214                       NaN             NaN               NaN   \n215                       NaN             NaN               NaN   \n216                       NaN             NaN               NaN   \n\n    reaction-groupby-column-5  \n0                         NaN  \n1                         NaN  \n2                         NaN  \n3                         NaN  \n4                         NaN  \n..                        ...  \n212                       NaN  \n213                       NaN  \n214                       NaN  \n215                       NaN  \n216                       NaN  \n\n[217 rows x 35 columns]",
      "text/html": "<div>\n<style scoped>\n    .dataframe tbody tr th:only-of-type {\n        vertical-align: middle;\n    }\n\n    .dataframe tbody tr th {\n        vertical-align: top;\n    }\n\n    .dataframe thead th {\n        text-align: right;\n    }\n</style>\n<table border=\"1\" class=\"dataframe\">\n  <thead>\n    <tr style=\"text-align: right;\">\n      <th></th>\n      <th>target-names</th>\n      <th>no-steps</th>\n      <th>concentration-required-mM</th>\n      <th>amount-required-uL</th>\n      <th>batch-tag</th>\n      <th>reactant-1-1</th>\n      <th>reactant-2-1</th>\n      <th>reaction-product-smiles-1</th>\n      <th>reaction-name-1</th>\n      <th>reaction-recipe-1</th>\n      <th>...</th>\n      <th>reaction-product-smiles-4</th>\n      <th>reaction-name-4</th>\n      <th>reaction-recipe-4</th>\n      <th>reaction-groupby-column-4</th>\n      <th>reactant-1-5</th>\n      <th>reactant-2-5</th>\n      <th>reaction-product-smiles-5</th>\n      <th>reaction-name-5</th>\n      <th>reaction-recipe-5</th>\n      <th>reaction-groupby-column-5</th>\n    </tr>\n  </thead>\n  <tbody>\n    <tr>\n      <th>0</th>\n      <td>x0310-x0416-merge-1-1</td>\n      <td>3</td>\n      <td>100</td>\n      <td>40</td>\n      <td>wasgo-2.0</td>\n      <td>Cn1ncc(NC(=O)OC(C)(C)C)c1N</td>\n      <td>O=C(O)C1CCCO1</td>\n      <td>Cn1ncc(NC(=O)OC(C)(C)C)c1NC(=O)C1CCCO1</td>\n      <td>Amidation</td>\n      <td>standard</td>\n      <td>...</td>\n      <td>NaN</td>\n      <td>NaN</td>\n      <td>NaN</td>\n      <td>NaN</td>\n      <td>NaN</td>\n      <td>NaN</td>\n      <td>NaN</td>\n      <td>NaN</td>\n      <td>NaN</td>\n      <td>NaN</td>\n    </tr>\n    <tr>\n      <th>1</th>\n      <td>x0310-x0416-merge-2-1</td>\n      <td>3</td>\n      <td>100</td>\n      <td>40</td>\n      <td>wasgo-2.0</td>\n      <td>CC(C)(C)OC(=O)Nc1cccc(N)c1</td>\n      <td>O=C(O)C1CCCO1</td>\n      <td>CC(C)(C)OC(=O)Nc1cccc(NC(=O)C2CCCO2)c1</td>\n      <td>Amidation</td>\n      <td>standard</td>\n      <td>...</td>\n      <td>NaN</td>\n      <td>NaN</td>\n      <td>NaN</td>\n      <td>NaN</td>\n      <td>NaN</td>\n      <td>NaN</td>\n      <td>NaN</td>\n      <td>NaN</td>\n      <td>NaN</td>\n      <td>NaN</td>\n    </tr>\n    <tr>\n      <th>2</th>\n      <td>x0310-x0416-merge-2-2</td>\n      <td>3</td>\n      <td>100</td>\n      <td>40</td>\n      <td>wasgo-2.0</td>\n      <td>CC(C)(C)OC(=O)Nc1cc(N)c(C)cc1</td>\n      <td>O=C(O)C1CCCO1</td>\n      <td>Cc1ccc(NC(=O)OC(C)(C)C)cc1NC(=O)C1CCCO1</td>\n      <td>Amidation</td>\n      <td>standard</td>\n      <td>...</td>\n      <td>NaN</td>\n      <td>NaN</td>\n      <td>NaN</td>\n      <td>NaN</td>\n      <td>NaN</td>\n      <td>NaN</td>\n      <td>NaN</td>\n      <td>NaN</td>\n      <td>NaN</td>\n      <td>NaN</td>\n    </tr>\n    <tr>\n      <th>3</th>\n      <td>x0310-x0416-merge-2-3</td>\n      <td>3</td>\n      <td>100</td>\n      <td>40</td>\n      <td>wasgo-2.0</td>\n      <td>Nc1cc(NC(=O)OC(C)(C)C)ccn1</td>\n      <td>O=C(O)C1CCCO1</td>\n      <td>CC(C)(C)OC(=O)Nc1ccnc(NC(=O)C2CCCO2)c1</td>\n      <td>Amidation</td>\n      <td>standard</td>\n      <td>...</td>\n      <td>NaN</td>\n      <td>NaN</td>\n      <td>NaN</td>\n      <td>NaN</td>\n      <td>NaN</td>\n      <td>NaN</td>\n      <td>NaN</td>\n      <td>NaN</td>\n      <td>NaN</td>\n      <td>NaN</td>\n    </tr>\n    <tr>\n      <th>4</th>\n      <td>x0310-x0416-merge-2-4</td>\n      <td>3</td>\n      <td>100</td>\n      <td>40</td>\n      <td>wasgo-2.0</td>\n      <td>CC(C)(C)OC(=O)Nc1cc(N)ccc1C</td>\n      <td>O=C(O)C1CCCO1</td>\n      <td>Cc1ccc(NC(=O)C2CCCO2)cc1NC(=O)OC(C)(C)C</td>\n      <td>Amidation</td>\n      <td>standard</td>\n      <td>...</td>\n      <td>NaN</td>\n      <td>NaN</td>\n      <td>NaN</td>\n      <td>NaN</td>\n      <td>NaN</td>\n      <td>NaN</td>\n      <td>NaN</td>\n      <td>NaN</td>\n      <td>NaN</td>\n      <td>NaN</td>\n    </tr>\n    <tr>\n      <th>...</th>\n      <td>...</td>\n      <td>...</td>\n      <td>...</td>\n      <td>...</td>\n      <td>...</td>\n      <td>...</td>\n      <td>...</td>\n      <td>...</td>\n      <td>...</td>\n      <td>...</td>\n      <td>...</td>\n      <td>...</td>\n      <td>...</td>\n      <td>...</td>\n      <td>...</td>\n      <td>...</td>\n      <td>...</td>\n      <td>...</td>\n      <td>...</td>\n      <td>...</td>\n      <td>...</td>\n    </tr>\n    <tr>\n      <th>212</th>\n      <td>x0922-x0416-merge-1-7</td>\n      <td>2</td>\n      <td>100</td>\n      <td>40</td>\n      <td>wasgo-2.0</td>\n      <td>Fc1ccc(O)cc1N</td>\n      <td>O=C(O)C1CCCO1</td>\n      <td>product-1</td>\n      <td>Amidation</td>\n      <td>standard</td>\n      <td>...</td>\n      <td>NaN</td>\n      <td>NaN</td>\n      <td>NaN</td>\n      <td>NaN</td>\n      <td>NaN</td>\n      <td>NaN</td>\n      <td>NaN</td>\n      <td>NaN</td>\n      <td>NaN</td>\n      <td>NaN</td>\n    </tr>\n    <tr>\n      <th>213</th>\n      <td>x0922-x0416-merge-1-8</td>\n      <td>2</td>\n      <td>100</td>\n      <td>40</td>\n      <td>wasgo-2.0</td>\n      <td>Nc1cc(O)c(C)cc1</td>\n      <td>O=C(O)C1CCCO1</td>\n      <td>product-1</td>\n      <td>Amidation</td>\n      <td>standard</td>\n      <td>...</td>\n      <td>NaN</td>\n      <td>NaN</td>\n      <td>NaN</td>\n      <td>NaN</td>\n      <td>NaN</td>\n      <td>NaN</td>\n      <td>NaN</td>\n      <td>NaN</td>\n      <td>NaN</td>\n      <td>NaN</td>\n    </tr>\n    <tr>\n      <th>214</th>\n      <td>x0922-x0416-merge-1-9</td>\n      <td>2</td>\n      <td>100</td>\n      <td>40</td>\n      <td>wasgo-2.0</td>\n      <td>Nc1cc(O)c(C)cc1C</td>\n      <td>O=C(O)C1CCCO1</td>\n      <td>product-1</td>\n      <td>Amidation</td>\n      <td>standard</td>\n      <td>...</td>\n      <td>NaN</td>\n      <td>NaN</td>\n      <td>NaN</td>\n      <td>NaN</td>\n      <td>NaN</td>\n      <td>NaN</td>\n      <td>NaN</td>\n      <td>NaN</td>\n      <td>NaN</td>\n      <td>NaN</td>\n    </tr>\n    <tr>\n      <th>215</th>\n      <td>x0922-x0416-merge-1-10</td>\n      <td>2</td>\n      <td>100</td>\n      <td>40</td>\n      <td>wasgo-2.0</td>\n      <td>Nc1cncc(O)c1</td>\n      <td>O=C(O)C1CCCO1</td>\n      <td>product-1</td>\n      <td>Amidation</td>\n      <td>standard</td>\n      <td>...</td>\n      <td>NaN</td>\n      <td>NaN</td>\n      <td>NaN</td>\n      <td>NaN</td>\n      <td>NaN</td>\n      <td>NaN</td>\n      <td>NaN</td>\n      <td>NaN</td>\n      <td>NaN</td>\n      <td>NaN</td>\n    </tr>\n    <tr>\n      <th>216</th>\n      <td>x0922-x0416-merge-1-11</td>\n      <td>2</td>\n      <td>100</td>\n      <td>40</td>\n      <td>wasgo-2.0</td>\n      <td>Nc1ccnc(O)c1</td>\n      <td>O=C(O)C1CCCO1</td>\n      <td>product-1</td>\n      <td>Amidation</td>\n      <td>standard</td>\n      <td>...</td>\n      <td>NaN</td>\n      <td>NaN</td>\n      <td>NaN</td>\n      <td>NaN</td>\n      <td>NaN</td>\n      <td>NaN</td>\n      <td>NaN</td>\n      <td>NaN</td>\n      <td>NaN</td>\n      <td>NaN</td>\n    </tr>\n  </tbody>\n</table>\n<p>217 rows × 35 columns</p>\n</div>"
     },
     "execution_count": 24,
     "metadata": {},
     "output_type": "execute_result"
    }
   ],
   "source": [
    "df = pd.concat([df1, df2], axis=0)\n",
    "df.reset_index(drop=True, inplace=True)\n",
    "df"
   ],
   "metadata": {
    "collapsed": false,
    "ExecuteTime": {
     "end_time": "2024-02-29T15:31:51.262289Z",
     "start_time": "2024-02-29T15:31:51.250267Z"
    }
   },
   "id": "e599cd737b4f421",
   "execution_count": 24
  },
  {
   "cell_type": "code",
   "outputs": [
    {
     "data": {
      "text/plain": "               target-names  no-steps  concentration-required-mM  \\\n0     x0310-x0416-merge-1-1         3                        100   \n1     x0310-x0416-merge-2-1         3                        100   \n2     x0310-x0416-merge-2-2         3                        100   \n3     x0310-x0416-merge-2-3         3                        100   \n4     x0310-x0416-merge-2-4         3                        100   \n..                      ...       ...                        ...   \n212   x0922-x0416-merge-1-7         2                        100   \n213   x0922-x0416-merge-1-8         2                        100   \n214   x0922-x0416-merge-1-9         2                        100   \n215  x0922-x0416-merge-1-10         2                        100   \n216  x0922-x0416-merge-1-11         2                        100   \n\n     amount-required-uL  batch-tag                   reactant-1-1  \\\n0                    40  wasgo-2.0     Cn1ncc(NC(=O)OC(C)(C)C)c1N   \n1                    40  wasgo-2.0     CC(C)(C)OC(=O)Nc1cccc(N)c1   \n2                    40  wasgo-2.0  CC(C)(C)OC(=O)Nc1cc(N)c(C)cc1   \n3                    40  wasgo-2.0     Nc1cc(NC(=O)OC(C)(C)C)ccn1   \n4                    40  wasgo-2.0    CC(C)(C)OC(=O)Nc1cc(N)ccc1C   \n..                  ...        ...                            ...   \n212                  40  wasgo-2.0                  Fc1ccc(O)cc1N   \n213                  40  wasgo-2.0                Nc1cc(O)c(C)cc1   \n214                  40  wasgo-2.0               Nc1cc(O)c(C)cc1C   \n215                  40  wasgo-2.0                   Nc1cncc(O)c1   \n216                  40  wasgo-2.0                   Nc1ccnc(O)c1   \n\n      reactant-2-1                reaction-product-smiles-1 reaction-name-1  \\\n0    O=C(O)C1CCCO1   Cn1ncc(NC(=O)OC(C)(C)C)c1NC(=O)C1CCCO1       Amidation   \n1    O=C(O)C1CCCO1   CC(C)(C)OC(=O)Nc1cccc(NC(=O)C2CCCO2)c1       Amidation   \n2    O=C(O)C1CCCO1  Cc1ccc(NC(=O)OC(C)(C)C)cc1NC(=O)C1CCCO1       Amidation   \n3    O=C(O)C1CCCO1   CC(C)(C)OC(=O)Nc1ccnc(NC(=O)C2CCCO2)c1       Amidation   \n4    O=C(O)C1CCCO1  Cc1ccc(NC(=O)C2CCCO2)cc1NC(=O)OC(C)(C)C       Amidation   \n..             ...                                      ...             ...   \n212  O=C(O)C1CCCO1                                product-1       Amidation   \n213  O=C(O)C1CCCO1                                product-1       Amidation   \n214  O=C(O)C1CCCO1                                product-1       Amidation   \n215  O=C(O)C1CCCO1                                product-1       Amidation   \n216  O=C(O)C1CCCO1                                product-1       Amidation   \n\n    reaction-recipe-1  ...  reaction-product-smiles-4 reaction-name-4  \\\n0            standard  ...                        NaN             NaN   \n1            standard  ...                        NaN             NaN   \n2            standard  ...                        NaN             NaN   \n3            standard  ...                        NaN             NaN   \n4            standard  ...                        NaN             NaN   \n..                ...  ...                        ...             ...   \n212          standard  ...                        NaN             NaN   \n213          standard  ...                        NaN             NaN   \n214          standard  ...                        NaN             NaN   \n215          standard  ...                        NaN             NaN   \n216          standard  ...                        NaN             NaN   \n\n    reaction-recipe-4 reaction-groupby-column-4 reactant-1-5 reactant-2-5  \\\n0                 NaN                       NaN          NaN          NaN   \n1                 NaN                       NaN          NaN          NaN   \n2                 NaN                       NaN          NaN          NaN   \n3                 NaN                       NaN          NaN          NaN   \n4                 NaN                       NaN          NaN          NaN   \n..                ...                       ...          ...          ...   \n212               NaN                       NaN          NaN          NaN   \n213               NaN                       NaN          NaN          NaN   \n214               NaN                       NaN          NaN          NaN   \n215               NaN                       NaN          NaN          NaN   \n216               NaN                       NaN          NaN          NaN   \n\n    reaction-product-smiles-5 reaction-name-5 reaction-recipe-5  \\\n0                         NaN             NaN               NaN   \n1                         NaN             NaN               NaN   \n2                         NaN             NaN               NaN   \n3                         NaN             NaN               NaN   \n4                         NaN             NaN               NaN   \n..                        ...             ...               ...   \n212                       NaN             NaN               NaN   \n213                       NaN             NaN               NaN   \n214                       NaN             NaN               NaN   \n215                       NaN             NaN               NaN   \n216                       NaN             NaN               NaN   \n\n    reaction-groupby-column-5  \n0                         NaN  \n1                         NaN  \n2                         NaN  \n3                         NaN  \n4                         NaN  \n..                        ...  \n212                       NaN  \n213                       NaN  \n214                       NaN  \n215                       NaN  \n216                       NaN  \n\n[152 rows x 35 columns]",
      "text/html": "<div>\n<style scoped>\n    .dataframe tbody tr th:only-of-type {\n        vertical-align: middle;\n    }\n\n    .dataframe tbody tr th {\n        vertical-align: top;\n    }\n\n    .dataframe thead th {\n        text-align: right;\n    }\n</style>\n<table border=\"1\" class=\"dataframe\">\n  <thead>\n    <tr style=\"text-align: right;\">\n      <th></th>\n      <th>target-names</th>\n      <th>no-steps</th>\n      <th>concentration-required-mM</th>\n      <th>amount-required-uL</th>\n      <th>batch-tag</th>\n      <th>reactant-1-1</th>\n      <th>reactant-2-1</th>\n      <th>reaction-product-smiles-1</th>\n      <th>reaction-name-1</th>\n      <th>reaction-recipe-1</th>\n      <th>...</th>\n      <th>reaction-product-smiles-4</th>\n      <th>reaction-name-4</th>\n      <th>reaction-recipe-4</th>\n      <th>reaction-groupby-column-4</th>\n      <th>reactant-1-5</th>\n      <th>reactant-2-5</th>\n      <th>reaction-product-smiles-5</th>\n      <th>reaction-name-5</th>\n      <th>reaction-recipe-5</th>\n      <th>reaction-groupby-column-5</th>\n    </tr>\n  </thead>\n  <tbody>\n    <tr>\n      <th>0</th>\n      <td>x0310-x0416-merge-1-1</td>\n      <td>3</td>\n      <td>100</td>\n      <td>40</td>\n      <td>wasgo-2.0</td>\n      <td>Cn1ncc(NC(=O)OC(C)(C)C)c1N</td>\n      <td>O=C(O)C1CCCO1</td>\n      <td>Cn1ncc(NC(=O)OC(C)(C)C)c1NC(=O)C1CCCO1</td>\n      <td>Amidation</td>\n      <td>standard</td>\n      <td>...</td>\n      <td>NaN</td>\n      <td>NaN</td>\n      <td>NaN</td>\n      <td>NaN</td>\n      <td>NaN</td>\n      <td>NaN</td>\n      <td>NaN</td>\n      <td>NaN</td>\n      <td>NaN</td>\n      <td>NaN</td>\n    </tr>\n    <tr>\n      <th>1</th>\n      <td>x0310-x0416-merge-2-1</td>\n      <td>3</td>\n      <td>100</td>\n      <td>40</td>\n      <td>wasgo-2.0</td>\n      <td>CC(C)(C)OC(=O)Nc1cccc(N)c1</td>\n      <td>O=C(O)C1CCCO1</td>\n      <td>CC(C)(C)OC(=O)Nc1cccc(NC(=O)C2CCCO2)c1</td>\n      <td>Amidation</td>\n      <td>standard</td>\n      <td>...</td>\n      <td>NaN</td>\n      <td>NaN</td>\n      <td>NaN</td>\n      <td>NaN</td>\n      <td>NaN</td>\n      <td>NaN</td>\n      <td>NaN</td>\n      <td>NaN</td>\n      <td>NaN</td>\n      <td>NaN</td>\n    </tr>\n    <tr>\n      <th>2</th>\n      <td>x0310-x0416-merge-2-2</td>\n      <td>3</td>\n      <td>100</td>\n      <td>40</td>\n      <td>wasgo-2.0</td>\n      <td>CC(C)(C)OC(=O)Nc1cc(N)c(C)cc1</td>\n      <td>O=C(O)C1CCCO1</td>\n      <td>Cc1ccc(NC(=O)OC(C)(C)C)cc1NC(=O)C1CCCO1</td>\n      <td>Amidation</td>\n      <td>standard</td>\n      <td>...</td>\n      <td>NaN</td>\n      <td>NaN</td>\n      <td>NaN</td>\n      <td>NaN</td>\n      <td>NaN</td>\n      <td>NaN</td>\n      <td>NaN</td>\n      <td>NaN</td>\n      <td>NaN</td>\n      <td>NaN</td>\n    </tr>\n    <tr>\n      <th>3</th>\n      <td>x0310-x0416-merge-2-3</td>\n      <td>3</td>\n      <td>100</td>\n      <td>40</td>\n      <td>wasgo-2.0</td>\n      <td>Nc1cc(NC(=O)OC(C)(C)C)ccn1</td>\n      <td>O=C(O)C1CCCO1</td>\n      <td>CC(C)(C)OC(=O)Nc1ccnc(NC(=O)C2CCCO2)c1</td>\n      <td>Amidation</td>\n      <td>standard</td>\n      <td>...</td>\n      <td>NaN</td>\n      <td>NaN</td>\n      <td>NaN</td>\n      <td>NaN</td>\n      <td>NaN</td>\n      <td>NaN</td>\n      <td>NaN</td>\n      <td>NaN</td>\n      <td>NaN</td>\n      <td>NaN</td>\n    </tr>\n    <tr>\n      <th>4</th>\n      <td>x0310-x0416-merge-2-4</td>\n      <td>3</td>\n      <td>100</td>\n      <td>40</td>\n      <td>wasgo-2.0</td>\n      <td>CC(C)(C)OC(=O)Nc1cc(N)ccc1C</td>\n      <td>O=C(O)C1CCCO1</td>\n      <td>Cc1ccc(NC(=O)C2CCCO2)cc1NC(=O)OC(C)(C)C</td>\n      <td>Amidation</td>\n      <td>standard</td>\n      <td>...</td>\n      <td>NaN</td>\n      <td>NaN</td>\n      <td>NaN</td>\n      <td>NaN</td>\n      <td>NaN</td>\n      <td>NaN</td>\n      <td>NaN</td>\n      <td>NaN</td>\n      <td>NaN</td>\n      <td>NaN</td>\n    </tr>\n    <tr>\n      <th>...</th>\n      <td>...</td>\n      <td>...</td>\n      <td>...</td>\n      <td>...</td>\n      <td>...</td>\n      <td>...</td>\n      <td>...</td>\n      <td>...</td>\n      <td>...</td>\n      <td>...</td>\n      <td>...</td>\n      <td>...</td>\n      <td>...</td>\n      <td>...</td>\n      <td>...</td>\n      <td>...</td>\n      <td>...</td>\n      <td>...</td>\n      <td>...</td>\n      <td>...</td>\n      <td>...</td>\n    </tr>\n    <tr>\n      <th>212</th>\n      <td>x0922-x0416-merge-1-7</td>\n      <td>2</td>\n      <td>100</td>\n      <td>40</td>\n      <td>wasgo-2.0</td>\n      <td>Fc1ccc(O)cc1N</td>\n      <td>O=C(O)C1CCCO1</td>\n      <td>product-1</td>\n      <td>Amidation</td>\n      <td>standard</td>\n      <td>...</td>\n      <td>NaN</td>\n      <td>NaN</td>\n      <td>NaN</td>\n      <td>NaN</td>\n      <td>NaN</td>\n      <td>NaN</td>\n      <td>NaN</td>\n      <td>NaN</td>\n      <td>NaN</td>\n      <td>NaN</td>\n    </tr>\n    <tr>\n      <th>213</th>\n      <td>x0922-x0416-merge-1-8</td>\n      <td>2</td>\n      <td>100</td>\n      <td>40</td>\n      <td>wasgo-2.0</td>\n      <td>Nc1cc(O)c(C)cc1</td>\n      <td>O=C(O)C1CCCO1</td>\n      <td>product-1</td>\n      <td>Amidation</td>\n      <td>standard</td>\n      <td>...</td>\n      <td>NaN</td>\n      <td>NaN</td>\n      <td>NaN</td>\n      <td>NaN</td>\n      <td>NaN</td>\n      <td>NaN</td>\n      <td>NaN</td>\n      <td>NaN</td>\n      <td>NaN</td>\n      <td>NaN</td>\n    </tr>\n    <tr>\n      <th>214</th>\n      <td>x0922-x0416-merge-1-9</td>\n      <td>2</td>\n      <td>100</td>\n      <td>40</td>\n      <td>wasgo-2.0</td>\n      <td>Nc1cc(O)c(C)cc1C</td>\n      <td>O=C(O)C1CCCO1</td>\n      <td>product-1</td>\n      <td>Amidation</td>\n      <td>standard</td>\n      <td>...</td>\n      <td>NaN</td>\n      <td>NaN</td>\n      <td>NaN</td>\n      <td>NaN</td>\n      <td>NaN</td>\n      <td>NaN</td>\n      <td>NaN</td>\n      <td>NaN</td>\n      <td>NaN</td>\n      <td>NaN</td>\n    </tr>\n    <tr>\n      <th>215</th>\n      <td>x0922-x0416-merge-1-10</td>\n      <td>2</td>\n      <td>100</td>\n      <td>40</td>\n      <td>wasgo-2.0</td>\n      <td>Nc1cncc(O)c1</td>\n      <td>O=C(O)C1CCCO1</td>\n      <td>product-1</td>\n      <td>Amidation</td>\n      <td>standard</td>\n      <td>...</td>\n      <td>NaN</td>\n      <td>NaN</td>\n      <td>NaN</td>\n      <td>NaN</td>\n      <td>NaN</td>\n      <td>NaN</td>\n      <td>NaN</td>\n      <td>NaN</td>\n      <td>NaN</td>\n      <td>NaN</td>\n    </tr>\n    <tr>\n      <th>216</th>\n      <td>x0922-x0416-merge-1-11</td>\n      <td>2</td>\n      <td>100</td>\n      <td>40</td>\n      <td>wasgo-2.0</td>\n      <td>Nc1ccnc(O)c1</td>\n      <td>O=C(O)C1CCCO1</td>\n      <td>product-1</td>\n      <td>Amidation</td>\n      <td>standard</td>\n      <td>...</td>\n      <td>NaN</td>\n      <td>NaN</td>\n      <td>NaN</td>\n      <td>NaN</td>\n      <td>NaN</td>\n      <td>NaN</td>\n      <td>NaN</td>\n      <td>NaN</td>\n      <td>NaN</td>\n      <td>NaN</td>\n    </tr>\n  </tbody>\n</table>\n<p>152 rows × 35 columns</p>\n</div>"
     },
     "execution_count": 25,
     "metadata": {},
     "output_type": "execute_result"
    }
   ],
   "source": [
    "df3 = df.drop_duplicates(subset=['target-names', 'reactant-1-1', 'reactant-2-1'], keep='first')\n",
    "df3"
   ],
   "metadata": {
    "collapsed": false,
    "ExecuteTime": {
     "end_time": "2024-02-29T15:31:51.274072Z",
     "start_time": "2024-02-29T15:31:51.263153Z"
    }
   },
   "id": "205effafad067ba5",
   "execution_count": 25
  },
  {
   "cell_type": "code",
   "outputs": [
    {
     "data": {
      "text/plain": "target-names\nx0310-x0416-merge-1-1    1\nx0310-x0416-merge-2-1    1\nx0310-x0416-merge-2-2    1\nx0310-x0416-merge-2-3    1\nx0310-x0416-merge-2-4    1\n                        ..\nx0922-x0739-merge-2-3    1\nx0922-x0739-merge-2-4    1\nx0922-x0739-merge-2-5    1\nx0922-x0739-merge-2-6    1\nx0922-x0739-merge-2-7    1\nLength: 133, dtype: int64"
     },
     "execution_count": 26,
     "metadata": {},
     "output_type": "execute_result"
    }
   ],
   "source": [
    "df3.groupby('target-names').size()"
   ],
   "metadata": {
    "collapsed": false,
    "ExecuteTime": {
     "end_time": "2024-02-29T15:31:51.280845Z",
     "start_time": "2024-02-29T15:31:51.275706Z"
    }
   },
   "id": "7d55b33104bcd665",
   "execution_count": 26
  },
  {
   "cell_type": "code",
   "outputs": [
    {
     "data": {
      "text/plain": "152"
     },
     "execution_count": 27,
     "metadata": {},
     "output_type": "execute_result"
    }
   ],
   "source": [
    "df = df3\n",
    "df.reset_index(drop=True, inplace=True)\n",
    "len(df)"
   ],
   "metadata": {
    "collapsed": false,
    "ExecuteTime": {
     "end_time": "2024-02-29T15:31:51.284490Z",
     "start_time": "2024-02-29T15:31:51.281778Z"
    }
   },
   "id": "d42c7229eea93614",
   "execution_count": 27
  },
  {
   "cell_type": "code",
   "outputs": [
    {
     "data": {
      "text/plain": "[31, 32, 33, 34, 35, 36, 37, 38, 62, 63, 64, 65, 66, 67, 68, 69, 70, 71, 72]"
     },
     "execution_count": 28,
     "metadata": {},
     "output_type": "execute_result"
    }
   ],
   "source": [
    "# remove rows x0528-x0732-merge-1 where reaction-product-smiles-1 is not product-1\n",
    "rows = range(0, len(df))\n",
    "rows_to_drop = []\n",
    "for row in rows:\n",
    "    if 'x0528-x0732-merge-1' in df.iloc[row]['target-names'] or 'x0922-x0732-merge-1' in df.iloc[row]['target-names']:\n",
    "        if df.iloc[row]['reaction-product-smiles-1'] != 'product-1':\n",
    "            rows_to_drop.append(row)\n",
    "rows_to_drop"
   ],
   "metadata": {
    "collapsed": false,
    "ExecuteTime": {
     "end_time": "2024-02-29T15:31:51.295171Z",
     "start_time": "2024-02-29T15:31:51.285199Z"
    }
   },
   "id": "872465d4df8934d9",
   "execution_count": 28
  },
  {
   "cell_type": "code",
   "outputs": [
    {
     "data": {
      "text/plain": "               target-names  no-steps  concentration-required-mM  \\\n0     x0310-x0416-merge-1-1         3                        100   \n1     x0310-x0416-merge-2-1         3                        100   \n2     x0310-x0416-merge-2-2         3                        100   \n3     x0310-x0416-merge-2-3         3                        100   \n4     x0310-x0416-merge-2-4         3                        100   \n..                      ...       ...                        ...   \n147   x0922-x0416-merge-1-7         2                        100   \n148   x0922-x0416-merge-1-8         2                        100   \n149   x0922-x0416-merge-1-9         2                        100   \n150  x0922-x0416-merge-1-10         2                        100   \n151  x0922-x0416-merge-1-11         2                        100   \n\n     amount-required-uL  batch-tag                   reactant-1-1  \\\n0                    40  wasgo-2.0     Cn1ncc(NC(=O)OC(C)(C)C)c1N   \n1                    40  wasgo-2.0     CC(C)(C)OC(=O)Nc1cccc(N)c1   \n2                    40  wasgo-2.0  CC(C)(C)OC(=O)Nc1cc(N)c(C)cc1   \n3                    40  wasgo-2.0     Nc1cc(NC(=O)OC(C)(C)C)ccn1   \n4                    40  wasgo-2.0    CC(C)(C)OC(=O)Nc1cc(N)ccc1C   \n..                  ...        ...                            ...   \n147                  40  wasgo-2.0                  Fc1ccc(O)cc1N   \n148                  40  wasgo-2.0                Nc1cc(O)c(C)cc1   \n149                  40  wasgo-2.0               Nc1cc(O)c(C)cc1C   \n150                  40  wasgo-2.0                   Nc1cncc(O)c1   \n151                  40  wasgo-2.0                   Nc1ccnc(O)c1   \n\n      reactant-2-1                reaction-product-smiles-1 reaction-name-1  \\\n0    O=C(O)C1CCCO1   Cn1ncc(NC(=O)OC(C)(C)C)c1NC(=O)C1CCCO1       Amidation   \n1    O=C(O)C1CCCO1   CC(C)(C)OC(=O)Nc1cccc(NC(=O)C2CCCO2)c1       Amidation   \n2    O=C(O)C1CCCO1  Cc1ccc(NC(=O)OC(C)(C)C)cc1NC(=O)C1CCCO1       Amidation   \n3    O=C(O)C1CCCO1   CC(C)(C)OC(=O)Nc1ccnc(NC(=O)C2CCCO2)c1       Amidation   \n4    O=C(O)C1CCCO1  Cc1ccc(NC(=O)C2CCCO2)cc1NC(=O)OC(C)(C)C       Amidation   \n..             ...                                      ...             ...   \n147  O=C(O)C1CCCO1                                product-1       Amidation   \n148  O=C(O)C1CCCO1                                product-1       Amidation   \n149  O=C(O)C1CCCO1                                product-1       Amidation   \n150  O=C(O)C1CCCO1                                product-1       Amidation   \n151  O=C(O)C1CCCO1                                product-1       Amidation   \n\n    reaction-recipe-1  ...  reaction-product-smiles-4 reaction-name-4  \\\n0            standard  ...                        NaN             NaN   \n1            standard  ...                        NaN             NaN   \n2            standard  ...                        NaN             NaN   \n3            standard  ...                        NaN             NaN   \n4            standard  ...                        NaN             NaN   \n..                ...  ...                        ...             ...   \n147          standard  ...                        NaN             NaN   \n148          standard  ...                        NaN             NaN   \n149          standard  ...                        NaN             NaN   \n150          standard  ...                        NaN             NaN   \n151          standard  ...                        NaN             NaN   \n\n    reaction-recipe-4 reaction-groupby-column-4 reactant-1-5 reactant-2-5  \\\n0                 NaN                       NaN          NaN          NaN   \n1                 NaN                       NaN          NaN          NaN   \n2                 NaN                       NaN          NaN          NaN   \n3                 NaN                       NaN          NaN          NaN   \n4                 NaN                       NaN          NaN          NaN   \n..                ...                       ...          ...          ...   \n147               NaN                       NaN          NaN          NaN   \n148               NaN                       NaN          NaN          NaN   \n149               NaN                       NaN          NaN          NaN   \n150               NaN                       NaN          NaN          NaN   \n151               NaN                       NaN          NaN          NaN   \n\n    reaction-product-smiles-5 reaction-name-5 reaction-recipe-5  \\\n0                         NaN             NaN               NaN   \n1                         NaN             NaN               NaN   \n2                         NaN             NaN               NaN   \n3                         NaN             NaN               NaN   \n4                         NaN             NaN               NaN   \n..                        ...             ...               ...   \n147                       NaN             NaN               NaN   \n148                       NaN             NaN               NaN   \n149                       NaN             NaN               NaN   \n150                       NaN             NaN               NaN   \n151                       NaN             NaN               NaN   \n\n    reaction-groupby-column-5  \n0                         NaN  \n1                         NaN  \n2                         NaN  \n3                         NaN  \n4                         NaN  \n..                        ...  \n147                       NaN  \n148                       NaN  \n149                       NaN  \n150                       NaN  \n151                       NaN  \n\n[133 rows x 35 columns]",
      "text/html": "<div>\n<style scoped>\n    .dataframe tbody tr th:only-of-type {\n        vertical-align: middle;\n    }\n\n    .dataframe tbody tr th {\n        vertical-align: top;\n    }\n\n    .dataframe thead th {\n        text-align: right;\n    }\n</style>\n<table border=\"1\" class=\"dataframe\">\n  <thead>\n    <tr style=\"text-align: right;\">\n      <th></th>\n      <th>target-names</th>\n      <th>no-steps</th>\n      <th>concentration-required-mM</th>\n      <th>amount-required-uL</th>\n      <th>batch-tag</th>\n      <th>reactant-1-1</th>\n      <th>reactant-2-1</th>\n      <th>reaction-product-smiles-1</th>\n      <th>reaction-name-1</th>\n      <th>reaction-recipe-1</th>\n      <th>...</th>\n      <th>reaction-product-smiles-4</th>\n      <th>reaction-name-4</th>\n      <th>reaction-recipe-4</th>\n      <th>reaction-groupby-column-4</th>\n      <th>reactant-1-5</th>\n      <th>reactant-2-5</th>\n      <th>reaction-product-smiles-5</th>\n      <th>reaction-name-5</th>\n      <th>reaction-recipe-5</th>\n      <th>reaction-groupby-column-5</th>\n    </tr>\n  </thead>\n  <tbody>\n    <tr>\n      <th>0</th>\n      <td>x0310-x0416-merge-1-1</td>\n      <td>3</td>\n      <td>100</td>\n      <td>40</td>\n      <td>wasgo-2.0</td>\n      <td>Cn1ncc(NC(=O)OC(C)(C)C)c1N</td>\n      <td>O=C(O)C1CCCO1</td>\n      <td>Cn1ncc(NC(=O)OC(C)(C)C)c1NC(=O)C1CCCO1</td>\n      <td>Amidation</td>\n      <td>standard</td>\n      <td>...</td>\n      <td>NaN</td>\n      <td>NaN</td>\n      <td>NaN</td>\n      <td>NaN</td>\n      <td>NaN</td>\n      <td>NaN</td>\n      <td>NaN</td>\n      <td>NaN</td>\n      <td>NaN</td>\n      <td>NaN</td>\n    </tr>\n    <tr>\n      <th>1</th>\n      <td>x0310-x0416-merge-2-1</td>\n      <td>3</td>\n      <td>100</td>\n      <td>40</td>\n      <td>wasgo-2.0</td>\n      <td>CC(C)(C)OC(=O)Nc1cccc(N)c1</td>\n      <td>O=C(O)C1CCCO1</td>\n      <td>CC(C)(C)OC(=O)Nc1cccc(NC(=O)C2CCCO2)c1</td>\n      <td>Amidation</td>\n      <td>standard</td>\n      <td>...</td>\n      <td>NaN</td>\n      <td>NaN</td>\n      <td>NaN</td>\n      <td>NaN</td>\n      <td>NaN</td>\n      <td>NaN</td>\n      <td>NaN</td>\n      <td>NaN</td>\n      <td>NaN</td>\n      <td>NaN</td>\n    </tr>\n    <tr>\n      <th>2</th>\n      <td>x0310-x0416-merge-2-2</td>\n      <td>3</td>\n      <td>100</td>\n      <td>40</td>\n      <td>wasgo-2.0</td>\n      <td>CC(C)(C)OC(=O)Nc1cc(N)c(C)cc1</td>\n      <td>O=C(O)C1CCCO1</td>\n      <td>Cc1ccc(NC(=O)OC(C)(C)C)cc1NC(=O)C1CCCO1</td>\n      <td>Amidation</td>\n      <td>standard</td>\n      <td>...</td>\n      <td>NaN</td>\n      <td>NaN</td>\n      <td>NaN</td>\n      <td>NaN</td>\n      <td>NaN</td>\n      <td>NaN</td>\n      <td>NaN</td>\n      <td>NaN</td>\n      <td>NaN</td>\n      <td>NaN</td>\n    </tr>\n    <tr>\n      <th>3</th>\n      <td>x0310-x0416-merge-2-3</td>\n      <td>3</td>\n      <td>100</td>\n      <td>40</td>\n      <td>wasgo-2.0</td>\n      <td>Nc1cc(NC(=O)OC(C)(C)C)ccn1</td>\n      <td>O=C(O)C1CCCO1</td>\n      <td>CC(C)(C)OC(=O)Nc1ccnc(NC(=O)C2CCCO2)c1</td>\n      <td>Amidation</td>\n      <td>standard</td>\n      <td>...</td>\n      <td>NaN</td>\n      <td>NaN</td>\n      <td>NaN</td>\n      <td>NaN</td>\n      <td>NaN</td>\n      <td>NaN</td>\n      <td>NaN</td>\n      <td>NaN</td>\n      <td>NaN</td>\n      <td>NaN</td>\n    </tr>\n    <tr>\n      <th>4</th>\n      <td>x0310-x0416-merge-2-4</td>\n      <td>3</td>\n      <td>100</td>\n      <td>40</td>\n      <td>wasgo-2.0</td>\n      <td>CC(C)(C)OC(=O)Nc1cc(N)ccc1C</td>\n      <td>O=C(O)C1CCCO1</td>\n      <td>Cc1ccc(NC(=O)C2CCCO2)cc1NC(=O)OC(C)(C)C</td>\n      <td>Amidation</td>\n      <td>standard</td>\n      <td>...</td>\n      <td>NaN</td>\n      <td>NaN</td>\n      <td>NaN</td>\n      <td>NaN</td>\n      <td>NaN</td>\n      <td>NaN</td>\n      <td>NaN</td>\n      <td>NaN</td>\n      <td>NaN</td>\n      <td>NaN</td>\n    </tr>\n    <tr>\n      <th>...</th>\n      <td>...</td>\n      <td>...</td>\n      <td>...</td>\n      <td>...</td>\n      <td>...</td>\n      <td>...</td>\n      <td>...</td>\n      <td>...</td>\n      <td>...</td>\n      <td>...</td>\n      <td>...</td>\n      <td>...</td>\n      <td>...</td>\n      <td>...</td>\n      <td>...</td>\n      <td>...</td>\n      <td>...</td>\n      <td>...</td>\n      <td>...</td>\n      <td>...</td>\n      <td>...</td>\n    </tr>\n    <tr>\n      <th>147</th>\n      <td>x0922-x0416-merge-1-7</td>\n      <td>2</td>\n      <td>100</td>\n      <td>40</td>\n      <td>wasgo-2.0</td>\n      <td>Fc1ccc(O)cc1N</td>\n      <td>O=C(O)C1CCCO1</td>\n      <td>product-1</td>\n      <td>Amidation</td>\n      <td>standard</td>\n      <td>...</td>\n      <td>NaN</td>\n      <td>NaN</td>\n      <td>NaN</td>\n      <td>NaN</td>\n      <td>NaN</td>\n      <td>NaN</td>\n      <td>NaN</td>\n      <td>NaN</td>\n      <td>NaN</td>\n      <td>NaN</td>\n    </tr>\n    <tr>\n      <th>148</th>\n      <td>x0922-x0416-merge-1-8</td>\n      <td>2</td>\n      <td>100</td>\n      <td>40</td>\n      <td>wasgo-2.0</td>\n      <td>Nc1cc(O)c(C)cc1</td>\n      <td>O=C(O)C1CCCO1</td>\n      <td>product-1</td>\n      <td>Amidation</td>\n      <td>standard</td>\n      <td>...</td>\n      <td>NaN</td>\n      <td>NaN</td>\n      <td>NaN</td>\n      <td>NaN</td>\n      <td>NaN</td>\n      <td>NaN</td>\n      <td>NaN</td>\n      <td>NaN</td>\n      <td>NaN</td>\n      <td>NaN</td>\n    </tr>\n    <tr>\n      <th>149</th>\n      <td>x0922-x0416-merge-1-9</td>\n      <td>2</td>\n      <td>100</td>\n      <td>40</td>\n      <td>wasgo-2.0</td>\n      <td>Nc1cc(O)c(C)cc1C</td>\n      <td>O=C(O)C1CCCO1</td>\n      <td>product-1</td>\n      <td>Amidation</td>\n      <td>standard</td>\n      <td>...</td>\n      <td>NaN</td>\n      <td>NaN</td>\n      <td>NaN</td>\n      <td>NaN</td>\n      <td>NaN</td>\n      <td>NaN</td>\n      <td>NaN</td>\n      <td>NaN</td>\n      <td>NaN</td>\n      <td>NaN</td>\n    </tr>\n    <tr>\n      <th>150</th>\n      <td>x0922-x0416-merge-1-10</td>\n      <td>2</td>\n      <td>100</td>\n      <td>40</td>\n      <td>wasgo-2.0</td>\n      <td>Nc1cncc(O)c1</td>\n      <td>O=C(O)C1CCCO1</td>\n      <td>product-1</td>\n      <td>Amidation</td>\n      <td>standard</td>\n      <td>...</td>\n      <td>NaN</td>\n      <td>NaN</td>\n      <td>NaN</td>\n      <td>NaN</td>\n      <td>NaN</td>\n      <td>NaN</td>\n      <td>NaN</td>\n      <td>NaN</td>\n      <td>NaN</td>\n      <td>NaN</td>\n    </tr>\n    <tr>\n      <th>151</th>\n      <td>x0922-x0416-merge-1-11</td>\n      <td>2</td>\n      <td>100</td>\n      <td>40</td>\n      <td>wasgo-2.0</td>\n      <td>Nc1ccnc(O)c1</td>\n      <td>O=C(O)C1CCCO1</td>\n      <td>product-1</td>\n      <td>Amidation</td>\n      <td>standard</td>\n      <td>...</td>\n      <td>NaN</td>\n      <td>NaN</td>\n      <td>NaN</td>\n      <td>NaN</td>\n      <td>NaN</td>\n      <td>NaN</td>\n      <td>NaN</td>\n      <td>NaN</td>\n      <td>NaN</td>\n      <td>NaN</td>\n    </tr>\n  </tbody>\n</table>\n<p>133 rows × 35 columns</p>\n</div>"
     },
     "execution_count": 29,
     "metadata": {},
     "output_type": "execute_result"
    }
   ],
   "source": [
    "df = df.drop(rows_to_drop)\n",
    "df"
   ],
   "metadata": {
    "collapsed": false,
    "ExecuteTime": {
     "end_time": "2024-02-29T15:31:51.303677Z",
     "start_time": "2024-02-29T15:31:51.295776Z"
    }
   },
   "id": "b78b7e94bc0093a8",
   "execution_count": 29
  },
  {
   "cell_type": "code",
   "outputs": [
    {
     "data": {
      "text/plain": "19"
     },
     "execution_count": 30,
     "metadata": {},
     "output_type": "execute_result"
    }
   ],
   "source": [
    "len(rows_to_drop)"
   ],
   "metadata": {
    "collapsed": false,
    "ExecuteTime": {
     "end_time": "2024-02-29T15:32:08.339554Z",
     "start_time": "2024-02-29T15:32:08.334759Z"
    }
   },
   "id": "225a8d388d7963",
   "execution_count": 30
  },
  {
   "cell_type": "code",
   "outputs": [],
   "source": [
    "df.to_csv('../base_compounds/wt_designs_MASTER_COMPLETE_v1_29Feb.csv')"
   ],
   "metadata": {
    "collapsed": false,
    "ExecuteTime": {
     "end_time": "2024-02-29T15:33:11.784566Z",
     "start_time": "2024-02-29T15:33:11.776033Z"
    }
   },
   "id": "7c38ec77cce0dc87",
   "execution_count": 31
  }
 ],
 "metadata": {
  "kernelspec": {
   "display_name": "Python 3",
   "language": "python",
   "name": "python3"
  },
  "language_info": {
   "codemirror_mode": {
    "name": "ipython",
    "version": 2
   },
   "file_extension": ".py",
   "mimetype": "text/x-python",
   "name": "python",
   "nbconvert_exporter": "python",
   "pygments_lexer": "ipython2",
   "version": "2.7.6"
  }
 },
 "nbformat": 4,
 "nbformat_minor": 5
}

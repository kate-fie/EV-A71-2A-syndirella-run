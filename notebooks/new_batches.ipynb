{
 "cells": [
  {
   "cell_type": "code",
   "execution_count": 19,
   "id": "initial_id",
   "metadata": {
    "collapsed": true,
    "ExecuteTime": {
     "end_time": "2024-03-07T18:09:11.120093Z",
     "start_time": "2024-03-07T18:09:11.116271Z"
    }
   },
   "outputs": [],
   "source": [
    "import pandas as pd\n",
    "import os\n",
    "os.chdir('../batches/')"
   ]
  },
  {
   "cell_type": "code",
   "outputs": [
    {
     "data": {
      "text/plain": "                                     smiles  \\\n20   Cc1cc(NC(=O)CC#N)cc(OCC(=O)N2CCOCC2)c1   \n21      N#CCC(=O)Nc1cccc(OCC(=O)N2CCOCC2)c1   \n22     Cc1ccc(OCC(=O)N2CCOCC2)cc1NC(=O)CC#N   \n23     Cc1ccc(OCC(=O)N2CCOCC2)cc1NC(=O)CC#N   \n24     N#CCC(=O)Nc1cc(OCC(=O)N2CCOCC2)ccc1F   \n25     Cc1ccc(NC(=O)CC#N)cc1OCC(=O)N1CCOCC1   \n26  Cc1cc(C)c(OCC(=O)N2CCOCC2)cc1NC(=O)CC#N   \n27      N#CCC(=O)Nc1cncc(OCC(=O)N2CCOCC2)c1   \n28      N#CCC(=O)Nc1ccnc(OCC(=O)N2CCOCC2)c1   \n29       CN(C)C(=O)c1ccc(F)cc1OC1CCN(C)C1=O   \n\n                                            reactants  \\\n20  [(Cc1cc(O)cc(N)c1, N#CCC(=O)O), (Cc1cc(O)cc(NC...   \n21  [(Nc1cccc(O)c1, N#CCC(=O)O), (N#CCC(=O)Nc1cccc...   \n22  [(Cc1ccc(O)cc1N, N#CCC(=O)O), (Cc1ccc(O)cc1NC(...   \n23  [(Cc1ccc(O)cc1N, N#CCC(=O)O), (Cc1ccc(O)cc1NC(...   \n24  [(Fc1ccc(O)cc1N, N#CCC(=O)O), (N#CCC(=O)Nc1cc(...   \n25  [(Nc1cc(O)c(C)cc1, N#CCC(=O)O), (Cc1ccc(NC(=O)...   \n26  [(Nc1cc(O)c(C)cc1C, N#CCC(=O)O), (Cc1cc(C)c(NC...   \n27  [(Nc1cncc(O)c1, N#CCC(=O)O), (N#CCC(=O)Nc1cncc...   \n28  [(Nc1ccnc(O)c1, N#CCC(=O)O), (N#CCC(=O)Nc1ccnc...   \n29         [(O=C(c1ccc(F)cc1Cl)N(C)C, O=C1C(O)CCN1C)]   \n\n                             reaction_names  num_steps           hits  \\\n20  [Amidation, Williamson_ether_synthesis]          2  x0310A x0739A   \n21  [Amidation, Williamson_ether_synthesis]          2  x0310A x0739A   \n22  [Amidation, Williamson_ether_synthesis]          2  x0310A x0739A   \n23  [Amidation, Williamson_ether_synthesis]          2  x0310A x0739A   \n24  [Amidation, Williamson_ether_synthesis]          2  x0310A x0739A   \n25  [Amidation, Williamson_ether_synthesis]          2  x0310A x0739A   \n26  [Amidation, Williamson_ether_synthesis]          2  x0310A x0739A   \n27  [Amidation, Williamson_ether_synthesis]          2  x0310A x0739A   \n28  [Amidation, Williamson_ether_synthesis]          2  x0310A x0739A   \n29              [Nucleophilic_substitution]          1  x0528A x0450A   \n\n              compound_set  batch  \n20   x0310-x0739-merge-2-3      2  \n21   x0310-x0739-merge-2-4      2  \n22   x0310-x0739-merge-2-5      2  \n23   x0310-x0739-merge-2-6      2  \n24   x0310-x0739-merge-2-7      2  \n25   x0310-x0739-merge-2-8      2  \n26   x0310-x0739-merge-2-9      2  \n27  x0310-x0739-merge-2-10      2  \n28  x0310-x0739-merge-2-11      2  \n29   x0528-x0450-merge-1-1      2  ",
      "text/html": "<div>\n<style scoped>\n    .dataframe tbody tr th:only-of-type {\n        vertical-align: middle;\n    }\n\n    .dataframe tbody tr th {\n        vertical-align: top;\n    }\n\n    .dataframe thead th {\n        text-align: right;\n    }\n</style>\n<table border=\"1\" class=\"dataframe\">\n  <thead>\n    <tr style=\"text-align: right;\">\n      <th></th>\n      <th>smiles</th>\n      <th>reactants</th>\n      <th>reaction_names</th>\n      <th>num_steps</th>\n      <th>hits</th>\n      <th>compound_set</th>\n      <th>batch</th>\n    </tr>\n  </thead>\n  <tbody>\n    <tr>\n      <th>20</th>\n      <td>Cc1cc(NC(=O)CC#N)cc(OCC(=O)N2CCOCC2)c1</td>\n      <td>[(Cc1cc(O)cc(N)c1, N#CCC(=O)O), (Cc1cc(O)cc(NC...</td>\n      <td>[Amidation, Williamson_ether_synthesis]</td>\n      <td>2</td>\n      <td>x0310A x0739A</td>\n      <td>x0310-x0739-merge-2-3</td>\n      <td>2</td>\n    </tr>\n    <tr>\n      <th>21</th>\n      <td>N#CCC(=O)Nc1cccc(OCC(=O)N2CCOCC2)c1</td>\n      <td>[(Nc1cccc(O)c1, N#CCC(=O)O), (N#CCC(=O)Nc1cccc...</td>\n      <td>[Amidation, Williamson_ether_synthesis]</td>\n      <td>2</td>\n      <td>x0310A x0739A</td>\n      <td>x0310-x0739-merge-2-4</td>\n      <td>2</td>\n    </tr>\n    <tr>\n      <th>22</th>\n      <td>Cc1ccc(OCC(=O)N2CCOCC2)cc1NC(=O)CC#N</td>\n      <td>[(Cc1ccc(O)cc1N, N#CCC(=O)O), (Cc1ccc(O)cc1NC(...</td>\n      <td>[Amidation, Williamson_ether_synthesis]</td>\n      <td>2</td>\n      <td>x0310A x0739A</td>\n      <td>x0310-x0739-merge-2-5</td>\n      <td>2</td>\n    </tr>\n    <tr>\n      <th>23</th>\n      <td>Cc1ccc(OCC(=O)N2CCOCC2)cc1NC(=O)CC#N</td>\n      <td>[(Cc1ccc(O)cc1N, N#CCC(=O)O), (Cc1ccc(O)cc1NC(...</td>\n      <td>[Amidation, Williamson_ether_synthesis]</td>\n      <td>2</td>\n      <td>x0310A x0739A</td>\n      <td>x0310-x0739-merge-2-6</td>\n      <td>2</td>\n    </tr>\n    <tr>\n      <th>24</th>\n      <td>N#CCC(=O)Nc1cc(OCC(=O)N2CCOCC2)ccc1F</td>\n      <td>[(Fc1ccc(O)cc1N, N#CCC(=O)O), (N#CCC(=O)Nc1cc(...</td>\n      <td>[Amidation, Williamson_ether_synthesis]</td>\n      <td>2</td>\n      <td>x0310A x0739A</td>\n      <td>x0310-x0739-merge-2-7</td>\n      <td>2</td>\n    </tr>\n    <tr>\n      <th>25</th>\n      <td>Cc1ccc(NC(=O)CC#N)cc1OCC(=O)N1CCOCC1</td>\n      <td>[(Nc1cc(O)c(C)cc1, N#CCC(=O)O), (Cc1ccc(NC(=O)...</td>\n      <td>[Amidation, Williamson_ether_synthesis]</td>\n      <td>2</td>\n      <td>x0310A x0739A</td>\n      <td>x0310-x0739-merge-2-8</td>\n      <td>2</td>\n    </tr>\n    <tr>\n      <th>26</th>\n      <td>Cc1cc(C)c(OCC(=O)N2CCOCC2)cc1NC(=O)CC#N</td>\n      <td>[(Nc1cc(O)c(C)cc1C, N#CCC(=O)O), (Cc1cc(C)c(NC...</td>\n      <td>[Amidation, Williamson_ether_synthesis]</td>\n      <td>2</td>\n      <td>x0310A x0739A</td>\n      <td>x0310-x0739-merge-2-9</td>\n      <td>2</td>\n    </tr>\n    <tr>\n      <th>27</th>\n      <td>N#CCC(=O)Nc1cncc(OCC(=O)N2CCOCC2)c1</td>\n      <td>[(Nc1cncc(O)c1, N#CCC(=O)O), (N#CCC(=O)Nc1cncc...</td>\n      <td>[Amidation, Williamson_ether_synthesis]</td>\n      <td>2</td>\n      <td>x0310A x0739A</td>\n      <td>x0310-x0739-merge-2-10</td>\n      <td>2</td>\n    </tr>\n    <tr>\n      <th>28</th>\n      <td>N#CCC(=O)Nc1ccnc(OCC(=O)N2CCOCC2)c1</td>\n      <td>[(Nc1ccnc(O)c1, N#CCC(=O)O), (N#CCC(=O)Nc1ccnc...</td>\n      <td>[Amidation, Williamson_ether_synthesis]</td>\n      <td>2</td>\n      <td>x0310A x0739A</td>\n      <td>x0310-x0739-merge-2-11</td>\n      <td>2</td>\n    </tr>\n    <tr>\n      <th>29</th>\n      <td>CN(C)C(=O)c1ccc(F)cc1OC1CCN(C)C1=O</td>\n      <td>[(O=C(c1ccc(F)cc1Cl)N(C)C, O=C1C(O)CCN1C)]</td>\n      <td>[Nucleophilic_substitution]</td>\n      <td>1</td>\n      <td>x0528A x0450A</td>\n      <td>x0528-x0450-merge-1-1</td>\n      <td>2</td>\n    </tr>\n  </tbody>\n</table>\n</div>"
     },
     "execution_count": 20,
     "metadata": {},
     "output_type": "execute_result"
    }
   ],
   "source": [
    "df = pd.read_pickle('batch2.pkl')\n",
    "df"
   ],
   "metadata": {
    "collapsed": false,
    "ExecuteTime": {
     "end_time": "2024-03-07T18:09:11.138933Z",
     "start_time": "2024-03-07T18:09:11.124228Z"
    }
   },
   "id": "27df61fa997cfa0b",
   "execution_count": 20
  },
  {
   "cell_type": "code",
   "outputs": [
    {
     "data": {
      "text/plain": "                                     smiles  \\\n25     Cc1ccc(NC(=O)CC#N)cc1OCC(=O)N1CCOCC1   \n26  Cc1cc(C)c(OCC(=O)N2CCOCC2)cc1NC(=O)CC#N   \n27      N#CCC(=O)Nc1cncc(OCC(=O)N2CCOCC2)c1   \n28      N#CCC(=O)Nc1ccnc(OCC(=O)N2CCOCC2)c1   \n29       CN(C)C(=O)c1ccc(F)cc1OC1CCN(C)C1=O   \n\n                                            reactants  \\\n25  [(Nc1cc(O)c(C)cc1, N#CCC(=O)O), (Cc1ccc(NC(=O)...   \n26  [(Nc1cc(O)c(C)cc1C, N#CCC(=O)O), (Cc1cc(C)c(NC...   \n27  [(Nc1cncc(O)c1, N#CCC(=O)O), (N#CCC(=O)Nc1cncc...   \n28  [(Nc1ccnc(O)c1, N#CCC(=O)O), (N#CCC(=O)Nc1ccnc...   \n29         [(O=C(c1ccc(F)cc1Cl)N(C)C, O=C1C(O)CCN1C)]   \n\n                             reaction_names  num_steps           hits  \\\n25  [Amidation, Williamson_ether_synthesis]          2  x0310A x0739A   \n26  [Amidation, Williamson_ether_synthesis]          2  x0310A x0739A   \n27  [Amidation, Williamson_ether_synthesis]          2  x0310A x0739A   \n28  [Amidation, Williamson_ether_synthesis]          2  x0310A x0739A   \n29              [Nucleophilic_substitution]          1  x0528A x0450A   \n\n              compound_set  batch  \n25   x0310-x0739-merge-2-8      2  \n26   x0310-x0739-merge-2-9      2  \n27  x0310-x0739-merge-2-10      2  \n28  x0310-x0739-merge-2-11      2  \n29   x0528-x0450-merge-1-1      2  ",
      "text/html": "<div>\n<style scoped>\n    .dataframe tbody tr th:only-of-type {\n        vertical-align: middle;\n    }\n\n    .dataframe tbody tr th {\n        vertical-align: top;\n    }\n\n    .dataframe thead th {\n        text-align: right;\n    }\n</style>\n<table border=\"1\" class=\"dataframe\">\n  <thead>\n    <tr style=\"text-align: right;\">\n      <th></th>\n      <th>smiles</th>\n      <th>reactants</th>\n      <th>reaction_names</th>\n      <th>num_steps</th>\n      <th>hits</th>\n      <th>compound_set</th>\n      <th>batch</th>\n    </tr>\n  </thead>\n  <tbody>\n    <tr>\n      <th>25</th>\n      <td>Cc1ccc(NC(=O)CC#N)cc1OCC(=O)N1CCOCC1</td>\n      <td>[(Nc1cc(O)c(C)cc1, N#CCC(=O)O), (Cc1ccc(NC(=O)...</td>\n      <td>[Amidation, Williamson_ether_synthesis]</td>\n      <td>2</td>\n      <td>x0310A x0739A</td>\n      <td>x0310-x0739-merge-2-8</td>\n      <td>2</td>\n    </tr>\n    <tr>\n      <th>26</th>\n      <td>Cc1cc(C)c(OCC(=O)N2CCOCC2)cc1NC(=O)CC#N</td>\n      <td>[(Nc1cc(O)c(C)cc1C, N#CCC(=O)O), (Cc1cc(C)c(NC...</td>\n      <td>[Amidation, Williamson_ether_synthesis]</td>\n      <td>2</td>\n      <td>x0310A x0739A</td>\n      <td>x0310-x0739-merge-2-9</td>\n      <td>2</td>\n    </tr>\n    <tr>\n      <th>27</th>\n      <td>N#CCC(=O)Nc1cncc(OCC(=O)N2CCOCC2)c1</td>\n      <td>[(Nc1cncc(O)c1, N#CCC(=O)O), (N#CCC(=O)Nc1cncc...</td>\n      <td>[Amidation, Williamson_ether_synthesis]</td>\n      <td>2</td>\n      <td>x0310A x0739A</td>\n      <td>x0310-x0739-merge-2-10</td>\n      <td>2</td>\n    </tr>\n    <tr>\n      <th>28</th>\n      <td>N#CCC(=O)Nc1ccnc(OCC(=O)N2CCOCC2)c1</td>\n      <td>[(Nc1ccnc(O)c1, N#CCC(=O)O), (N#CCC(=O)Nc1ccnc...</td>\n      <td>[Amidation, Williamson_ether_synthesis]</td>\n      <td>2</td>\n      <td>x0310A x0739A</td>\n      <td>x0310-x0739-merge-2-11</td>\n      <td>2</td>\n    </tr>\n    <tr>\n      <th>29</th>\n      <td>CN(C)C(=O)c1ccc(F)cc1OC1CCN(C)C1=O</td>\n      <td>[(O=C(c1ccc(F)cc1Cl)N(C)C, O=C1C(O)CCN1C)]</td>\n      <td>[Nucleophilic_substitution]</td>\n      <td>1</td>\n      <td>x0528A x0450A</td>\n      <td>x0528-x0450-merge-1-1</td>\n      <td>2</td>\n    </tr>\n  </tbody>\n</table>\n</div>"
     },
     "execution_count": 21,
     "metadata": {},
     "output_type": "execute_result"
    }
   ],
   "source": [
    "# get rows 25 to 30\n",
    "new_df =df.iloc[5:10]\n",
    "new_df"
   ],
   "metadata": {
    "collapsed": false,
    "ExecuteTime": {
     "end_time": "2024-03-07T18:09:11.146054Z",
     "start_time": "2024-03-07T18:09:11.140055Z"
    }
   },
   "id": "ea27706203942e47",
   "execution_count": 21
  },
  {
   "cell_type": "code",
   "outputs": [],
   "source": [
    "new_df.to_pickle('batch2_1.pkl')\n",
    "new_df.to_csv('batch2_1.csv')"
   ],
   "metadata": {
    "collapsed": false,
    "ExecuteTime": {
     "end_time": "2024-03-07T18:09:11.152590Z",
     "start_time": "2024-03-07T18:09:11.146937Z"
    }
   },
   "id": "797a35ff80f26fa5",
   "execution_count": 22
  },
  {
   "cell_type": "code",
   "outputs": [
    {
     "data": {
      "text/plain": "                                   smiles  \\\n90       Cc1nccc(OC2CCN(C)C2=O)c1NC(=O)CS   \n91  Cc1cc(OC2CCN(C)C2=O)c(NC(=O)CS)c(C)n1   \n92             CC(=O)Nc1cccc(O)c1NC(=O)CS   \n93      Cc1cc(NC(=O)CO)cc(OCC(=O)N(C)C)c1   \n94        Cc1cnc(OCC(=O)N(C)C)cc1NC(=O)CO   \n95      Cc1cc(NC(=O)CO)cc(OCC(=O)N(C)C)c1   \n96         CN(C)C(=O)COCC(=O)Nc1cccc(O)c1   \n97        Cc1ccc(OCC(=O)N(C)C)cc1NC(=O)CO   \n98        Cc1ccc(OCC(=O)N(C)C)cc1NC(=O)CO   \n99        CN(C)C(=O)COCC(=O)Nc1cc(O)ccc1F   \n\n                                            reactants  \\\n90  [(Oc1ccnc(C)c1N, O=C(O)CS), (Cc1nccc(O)c1NC(=O...   \n91  [(Cc1cc(O)c(N)c(C)n1, O=C(O)CS), (Cc1cc(O)c(NC...   \n92  [(Oc1cccc(N)c1NC(=O)OC(C)(C)C, CC(=O)O), CC(=O...   \n93  [(Cc1cc(O)cc(N)c1, C(O)(=O)CO[Si](C(C)(C)C)(C)...   \n94  [(Cc1cnc(O)cc1N, C(O)(=O)CO[Si](C(C)(C)C)(C)C)...   \n95  [(Cc1cc(O)cc(N)c1, C(O)(=O)CO[Si](C(C)(C)C)(C)...   \n96  [(Nc1cccc(O)c1, C(O)(=O)CO[Si](C(C)(C)C)(C)C),...   \n97  [(Cc1ccc(O)cc1N, C(O)(=O)CO[Si](C(C)(C)C)(C)C)...   \n98  [(Cc1ccc(O)cc1N, C(O)(=O)CO[Si](C(C)(C)C)(C)C)...   \n99  [(Fc1ccc(O)cc1N, C(O)(=O)CO[Si](C(C)(C)C)(C)C)...   \n\n                                       reaction_names  num_steps  \\\n90            [Amidation, Williamson_ether_synthesis]          2   \n91            [Amidation, Williamson_ether_synthesis]          2   \n92         [Amidation, N-Boc_deprotection, Amidation]          3   \n93  [Amidation, TBS_alcohol_deprotection, Williams...          3   \n94  [Amidation, TBS_alcohol_deprotection, Williams...          3   \n95  [Amidation, TBS_alcohol_deprotection, Williams...          3   \n96  [Amidation, TBS_alcohol_deprotection, Williams...          3   \n97  [Amidation, TBS_alcohol_deprotection, Williams...          3   \n98  [Amidation, TBS_alcohol_deprotection, Williams...          3   \n99  [Amidation, TBS_alcohol_deprotection, Williams...          3   \n\n             hits                 compound_set  batch  \n90  x0528A x0732A        x0528-x0732-merge-2-7      9  \n91  x0528A x0732A        x0528-x0732-merge-2-8      9  \n92  x0884A x0732A  x0884-x0732-x0922-merge-2-1      9  \n93  x0922A x0732A        x0922-x0732-merge-1-1      9  \n94  x0922A x0732A        x0922-x0732-merge-1-2      9  \n95  x0922A x0732A        x0922-x0732-merge-1-3      9  \n96  x0922A x0732A        x0922-x0732-merge-1-4      9  \n97  x0922A x0732A        x0922-x0732-merge-1-5      9  \n98  x0922A x0732A        x0922-x0732-merge-1-6      9  \n99  x0922A x0732A        x0922-x0732-merge-1-7      9  ",
      "text/html": "<div>\n<style scoped>\n    .dataframe tbody tr th:only-of-type {\n        vertical-align: middle;\n    }\n\n    .dataframe tbody tr th {\n        vertical-align: top;\n    }\n\n    .dataframe thead th {\n        text-align: right;\n    }\n</style>\n<table border=\"1\" class=\"dataframe\">\n  <thead>\n    <tr style=\"text-align: right;\">\n      <th></th>\n      <th>smiles</th>\n      <th>reactants</th>\n      <th>reaction_names</th>\n      <th>num_steps</th>\n      <th>hits</th>\n      <th>compound_set</th>\n      <th>batch</th>\n    </tr>\n  </thead>\n  <tbody>\n    <tr>\n      <th>90</th>\n      <td>Cc1nccc(OC2CCN(C)C2=O)c1NC(=O)CS</td>\n      <td>[(Oc1ccnc(C)c1N, O=C(O)CS), (Cc1nccc(O)c1NC(=O...</td>\n      <td>[Amidation, Williamson_ether_synthesis]</td>\n      <td>2</td>\n      <td>x0528A x0732A</td>\n      <td>x0528-x0732-merge-2-7</td>\n      <td>9</td>\n    </tr>\n    <tr>\n      <th>91</th>\n      <td>Cc1cc(OC2CCN(C)C2=O)c(NC(=O)CS)c(C)n1</td>\n      <td>[(Cc1cc(O)c(N)c(C)n1, O=C(O)CS), (Cc1cc(O)c(NC...</td>\n      <td>[Amidation, Williamson_ether_synthesis]</td>\n      <td>2</td>\n      <td>x0528A x0732A</td>\n      <td>x0528-x0732-merge-2-8</td>\n      <td>9</td>\n    </tr>\n    <tr>\n      <th>92</th>\n      <td>CC(=O)Nc1cccc(O)c1NC(=O)CS</td>\n      <td>[(Oc1cccc(N)c1NC(=O)OC(C)(C)C, CC(=O)O), CC(=O...</td>\n      <td>[Amidation, N-Boc_deprotection, Amidation]</td>\n      <td>3</td>\n      <td>x0884A x0732A</td>\n      <td>x0884-x0732-x0922-merge-2-1</td>\n      <td>9</td>\n    </tr>\n    <tr>\n      <th>93</th>\n      <td>Cc1cc(NC(=O)CO)cc(OCC(=O)N(C)C)c1</td>\n      <td>[(Cc1cc(O)cc(N)c1, C(O)(=O)CO[Si](C(C)(C)C)(C)...</td>\n      <td>[Amidation, TBS_alcohol_deprotection, Williams...</td>\n      <td>3</td>\n      <td>x0922A x0732A</td>\n      <td>x0922-x0732-merge-1-1</td>\n      <td>9</td>\n    </tr>\n    <tr>\n      <th>94</th>\n      <td>Cc1cnc(OCC(=O)N(C)C)cc1NC(=O)CO</td>\n      <td>[(Cc1cnc(O)cc1N, C(O)(=O)CO[Si](C(C)(C)C)(C)C)...</td>\n      <td>[Amidation, TBS_alcohol_deprotection, Williams...</td>\n      <td>3</td>\n      <td>x0922A x0732A</td>\n      <td>x0922-x0732-merge-1-2</td>\n      <td>9</td>\n    </tr>\n    <tr>\n      <th>95</th>\n      <td>Cc1cc(NC(=O)CO)cc(OCC(=O)N(C)C)c1</td>\n      <td>[(Cc1cc(O)cc(N)c1, C(O)(=O)CO[Si](C(C)(C)C)(C)...</td>\n      <td>[Amidation, TBS_alcohol_deprotection, Williams...</td>\n      <td>3</td>\n      <td>x0922A x0732A</td>\n      <td>x0922-x0732-merge-1-3</td>\n      <td>9</td>\n    </tr>\n    <tr>\n      <th>96</th>\n      <td>CN(C)C(=O)COCC(=O)Nc1cccc(O)c1</td>\n      <td>[(Nc1cccc(O)c1, C(O)(=O)CO[Si](C(C)(C)C)(C)C),...</td>\n      <td>[Amidation, TBS_alcohol_deprotection, Williams...</td>\n      <td>3</td>\n      <td>x0922A x0732A</td>\n      <td>x0922-x0732-merge-1-4</td>\n      <td>9</td>\n    </tr>\n    <tr>\n      <th>97</th>\n      <td>Cc1ccc(OCC(=O)N(C)C)cc1NC(=O)CO</td>\n      <td>[(Cc1ccc(O)cc1N, C(O)(=O)CO[Si](C(C)(C)C)(C)C)...</td>\n      <td>[Amidation, TBS_alcohol_deprotection, Williams...</td>\n      <td>3</td>\n      <td>x0922A x0732A</td>\n      <td>x0922-x0732-merge-1-5</td>\n      <td>9</td>\n    </tr>\n    <tr>\n      <th>98</th>\n      <td>Cc1ccc(OCC(=O)N(C)C)cc1NC(=O)CO</td>\n      <td>[(Cc1ccc(O)cc1N, C(O)(=O)CO[Si](C(C)(C)C)(C)C)...</td>\n      <td>[Amidation, TBS_alcohol_deprotection, Williams...</td>\n      <td>3</td>\n      <td>x0922A x0732A</td>\n      <td>x0922-x0732-merge-1-6</td>\n      <td>9</td>\n    </tr>\n    <tr>\n      <th>99</th>\n      <td>CN(C)C(=O)COCC(=O)Nc1cc(O)ccc1F</td>\n      <td>[(Fc1ccc(O)cc1N, C(O)(=O)CO[Si](C(C)(C)C)(C)C)...</td>\n      <td>[Amidation, TBS_alcohol_deprotection, Williams...</td>\n      <td>3</td>\n      <td>x0922A x0732A</td>\n      <td>x0922-x0732-merge-1-7</td>\n      <td>9</td>\n    </tr>\n  </tbody>\n</table>\n</div>"
     },
     "execution_count": 23,
     "metadata": {},
     "output_type": "execute_result"
    }
   ],
   "source": [
    "df = pd.read_pickle('batch9.pkl')\n",
    "df"
   ],
   "metadata": {
    "collapsed": false,
    "ExecuteTime": {
     "end_time": "2024-03-07T18:09:11.162223Z",
     "start_time": "2024-03-07T18:09:11.153867Z"
    }
   },
   "id": "fa542d1949964c5b",
   "execution_count": 23
  },
  {
   "cell_type": "code",
   "outputs": [
    {
     "data": {
      "text/plain": "                                   smiles  \\\n90       Cc1nccc(OC2CCN(C)C2=O)c1NC(=O)CS   \n91  Cc1cc(OC2CCN(C)C2=O)c(NC(=O)CS)c(C)n1   \n92             CC(=O)Nc1cccc(O)c1NC(=O)CS   \n93      Cc1cc(NC(=O)CO)cc(OCC(=O)N(C)C)c1   \n94        Cc1cnc(OCC(=O)N(C)C)cc1NC(=O)CO   \n95      Cc1cc(NC(=O)CO)cc(OCC(=O)N(C)C)c1   \n96         CN(C)C(=O)COCC(=O)Nc1cccc(O)c1   \n97        Cc1ccc(OCC(=O)N(C)C)cc1NC(=O)CO   \n98        Cc1ccc(OCC(=O)N(C)C)cc1NC(=O)CO   \n\n                                            reactants  \\\n90  [(Oc1ccnc(C)c1N, O=C(O)CS), (Cc1nccc(O)c1NC(=O...   \n91  [(Cc1cc(O)c(N)c(C)n1, O=C(O)CS), (Cc1cc(O)c(NC...   \n92  [(Oc1cccc(N)c1NC(=O)OC(C)(C)C, CC(=O)O), CC(=O...   \n93  [(Cc1cc(O)cc(N)c1, C(O)(=O)CO[Si](C(C)(C)C)(C)...   \n94  [(Cc1cnc(O)cc1N, C(O)(=O)CO[Si](C(C)(C)C)(C)C)...   \n95  [(Cc1cc(O)cc(N)c1, C(O)(=O)CO[Si](C(C)(C)C)(C)...   \n96  [(Nc1cccc(O)c1, C(O)(=O)CO[Si](C(C)(C)C)(C)C),...   \n97  [(Cc1ccc(O)cc1N, C(O)(=O)CO[Si](C(C)(C)C)(C)C)...   \n98  [(Cc1ccc(O)cc1N, C(O)(=O)CO[Si](C(C)(C)C)(C)C)...   \n\n                                       reaction_names  num_steps  \\\n90            [Amidation, Williamson_ether_synthesis]          2   \n91            [Amidation, Williamson_ether_synthesis]          2   \n92         [Amidation, N-Boc_deprotection, Amidation]          3   \n93  [Amidation, TBS_alcohol_deprotection, Williams...          3   \n94  [Amidation, TBS_alcohol_deprotection, Williams...          3   \n95  [Amidation, TBS_alcohol_deprotection, Williams...          3   \n96  [Amidation, TBS_alcohol_deprotection, Williams...          3   \n97  [Amidation, TBS_alcohol_deprotection, Williams...          3   \n98  [Amidation, TBS_alcohol_deprotection, Williams...          3   \n\n             hits                 compound_set  batch  \n90  x0528A x0732A        x0528-x0732-merge-2-7      9  \n91  x0528A x0732A        x0528-x0732-merge-2-8      9  \n92  x0884A x0732A  x0884-x0732-x0922-merge-2-1      9  \n93  x0922A x0732A        x0922-x0732-merge-1-1      9  \n94  x0922A x0732A        x0922-x0732-merge-1-2      9  \n95  x0922A x0732A        x0922-x0732-merge-1-3      9  \n96  x0922A x0732A        x0922-x0732-merge-1-4      9  \n97  x0922A x0732A        x0922-x0732-merge-1-5      9  \n98  x0922A x0732A        x0922-x0732-merge-1-6      9  ",
      "text/html": "<div>\n<style scoped>\n    .dataframe tbody tr th:only-of-type {\n        vertical-align: middle;\n    }\n\n    .dataframe tbody tr th {\n        vertical-align: top;\n    }\n\n    .dataframe thead th {\n        text-align: right;\n    }\n</style>\n<table border=\"1\" class=\"dataframe\">\n  <thead>\n    <tr style=\"text-align: right;\">\n      <th></th>\n      <th>smiles</th>\n      <th>reactants</th>\n      <th>reaction_names</th>\n      <th>num_steps</th>\n      <th>hits</th>\n      <th>compound_set</th>\n      <th>batch</th>\n    </tr>\n  </thead>\n  <tbody>\n    <tr>\n      <th>90</th>\n      <td>Cc1nccc(OC2CCN(C)C2=O)c1NC(=O)CS</td>\n      <td>[(Oc1ccnc(C)c1N, O=C(O)CS), (Cc1nccc(O)c1NC(=O...</td>\n      <td>[Amidation, Williamson_ether_synthesis]</td>\n      <td>2</td>\n      <td>x0528A x0732A</td>\n      <td>x0528-x0732-merge-2-7</td>\n      <td>9</td>\n    </tr>\n    <tr>\n      <th>91</th>\n      <td>Cc1cc(OC2CCN(C)C2=O)c(NC(=O)CS)c(C)n1</td>\n      <td>[(Cc1cc(O)c(N)c(C)n1, O=C(O)CS), (Cc1cc(O)c(NC...</td>\n      <td>[Amidation, Williamson_ether_synthesis]</td>\n      <td>2</td>\n      <td>x0528A x0732A</td>\n      <td>x0528-x0732-merge-2-8</td>\n      <td>9</td>\n    </tr>\n    <tr>\n      <th>92</th>\n      <td>CC(=O)Nc1cccc(O)c1NC(=O)CS</td>\n      <td>[(Oc1cccc(N)c1NC(=O)OC(C)(C)C, CC(=O)O), CC(=O...</td>\n      <td>[Amidation, N-Boc_deprotection, Amidation]</td>\n      <td>3</td>\n      <td>x0884A x0732A</td>\n      <td>x0884-x0732-x0922-merge-2-1</td>\n      <td>9</td>\n    </tr>\n    <tr>\n      <th>93</th>\n      <td>Cc1cc(NC(=O)CO)cc(OCC(=O)N(C)C)c1</td>\n      <td>[(Cc1cc(O)cc(N)c1, C(O)(=O)CO[Si](C(C)(C)C)(C)...</td>\n      <td>[Amidation, TBS_alcohol_deprotection, Williams...</td>\n      <td>3</td>\n      <td>x0922A x0732A</td>\n      <td>x0922-x0732-merge-1-1</td>\n      <td>9</td>\n    </tr>\n    <tr>\n      <th>94</th>\n      <td>Cc1cnc(OCC(=O)N(C)C)cc1NC(=O)CO</td>\n      <td>[(Cc1cnc(O)cc1N, C(O)(=O)CO[Si](C(C)(C)C)(C)C)...</td>\n      <td>[Amidation, TBS_alcohol_deprotection, Williams...</td>\n      <td>3</td>\n      <td>x0922A x0732A</td>\n      <td>x0922-x0732-merge-1-2</td>\n      <td>9</td>\n    </tr>\n    <tr>\n      <th>95</th>\n      <td>Cc1cc(NC(=O)CO)cc(OCC(=O)N(C)C)c1</td>\n      <td>[(Cc1cc(O)cc(N)c1, C(O)(=O)CO[Si](C(C)(C)C)(C)...</td>\n      <td>[Amidation, TBS_alcohol_deprotection, Williams...</td>\n      <td>3</td>\n      <td>x0922A x0732A</td>\n      <td>x0922-x0732-merge-1-3</td>\n      <td>9</td>\n    </tr>\n    <tr>\n      <th>96</th>\n      <td>CN(C)C(=O)COCC(=O)Nc1cccc(O)c1</td>\n      <td>[(Nc1cccc(O)c1, C(O)(=O)CO[Si](C(C)(C)C)(C)C),...</td>\n      <td>[Amidation, TBS_alcohol_deprotection, Williams...</td>\n      <td>3</td>\n      <td>x0922A x0732A</td>\n      <td>x0922-x0732-merge-1-4</td>\n      <td>9</td>\n    </tr>\n    <tr>\n      <th>97</th>\n      <td>Cc1ccc(OCC(=O)N(C)C)cc1NC(=O)CO</td>\n      <td>[(Cc1ccc(O)cc1N, C(O)(=O)CO[Si](C(C)(C)C)(C)C)...</td>\n      <td>[Amidation, TBS_alcohol_deprotection, Williams...</td>\n      <td>3</td>\n      <td>x0922A x0732A</td>\n      <td>x0922-x0732-merge-1-5</td>\n      <td>9</td>\n    </tr>\n    <tr>\n      <th>98</th>\n      <td>Cc1ccc(OCC(=O)N(C)C)cc1NC(=O)CO</td>\n      <td>[(Cc1ccc(O)cc1N, C(O)(=O)CO[Si](C(C)(C)C)(C)C)...</td>\n      <td>[Amidation, TBS_alcohol_deprotection, Williams...</td>\n      <td>3</td>\n      <td>x0922A x0732A</td>\n      <td>x0922-x0732-merge-1-6</td>\n      <td>9</td>\n    </tr>\n  </tbody>\n</table>\n</div>"
     },
     "execution_count": 24,
     "metadata": {},
     "output_type": "execute_result"
    }
   ],
   "source": [
    "new_df = df.iloc[0:9]\n",
    "new_df"
   ],
   "metadata": {
    "collapsed": false,
    "ExecuteTime": {
     "end_time": "2024-03-07T18:09:11.171012Z",
     "start_time": "2024-03-07T18:09:11.163420Z"
    }
   },
   "id": "8f9296192facf8c5",
   "execution_count": 24
  },
  {
   "cell_type": "code",
   "outputs": [],
   "source": [
    "new_df.to_pickle('batch9_1.pkl')\n",
    "new_df.to_csv('batch9_1.csv')"
   ],
   "metadata": {
    "collapsed": false,
    "ExecuteTime": {
     "end_time": "2024-03-07T18:09:11.174285Z",
     "start_time": "2024-03-07T18:09:11.171699Z"
    }
   },
   "id": "9062fddedf11ef2c",
   "execution_count": 25
  },
  {
   "cell_type": "code",
   "outputs": [
    {
     "data": {
      "text/plain": "                                       smiles  \\\n110         CN(C)C(=O)COc1ccc(F)c(NC(=O)CS)c1   \n111           Cc1ccc(NC(=O)CS)cc1OCC(=O)N(C)C   \n112        Cc1cc(C)c(OCC(=O)N(C)C)cc1NC(=O)CS   \n113            CN(C)C(=O)COc1cncc(NC(=O)CS)c1   \n114            CN(C)C(=O)COc1cc(NC(=O)CS)ccn1   \n115    CN(C)C(=O)COc1cc(OCC(=O)N2CCOCC2)ccc1F   \n116     CN(C)C(=O)COc1cccc(OCC(=O)N2CCOCC2)c1   \n117  Cc1cc(OCC(=O)N(C)C)cc(OCC(=O)N2CCOCC2)c1   \n118     CN(C)C(=O)COc1ccnc(OCC(=O)N2CCOCC2)c1   \n119    Cc1ccc(OCC(=O)N(C)C)cc1OCC(=O)N1CCOCC1   \n\n                                             reactants  \\\n110  [(Fc1ccc(O)cc1N, O=C(O)CS), (O=C(CS)Nc1cc(O)cc...   \n111  [(Nc1cc(O)c(C)cc1, O=C(O)CS), (Cc1ccc(NC(=O)CS...   \n112  [(Nc1cc(O)c(C)cc1C, O=C(O)CS), (Cc1cc(C)c(NC(=...   \n113  [(Nc1cncc(O)c1, O=C(O)CS), (O=C(CS)Nc1cncc(O)c...   \n114  [(Nc1ccnc(O)c1, O=C(O)CS), (O=C(CS)Nc1ccnc(O)c...   \n115  [(C[Si](C)(Oc1cc(O)ccc1F)C(C)(C)C, O=C(CCl)N1C...   \n116  [(CC(C)(C)[Si](C)(C)Oc1cccc(O)c1, O=C(CCl)N1CC...   \n117  [(Cc1cc(OCc2ccccc2)cc(O)c1, O=C(CCl)N1CCOCC1),...   \n118  [(Oc1cc(OCc2ccccc2)ccn1, O=C(CCl)N1CCOCC1), O=...   \n119  [(Cc1ccc(OCc2ccccc2)cc1O, O=C(CCl)N1CCOCC1), C...   \n\n                                        reaction_names  num_steps  \\\n110            [Amidation, Williamson_ether_synthesis]          2   \n111            [Amidation, Williamson_ether_synthesis]          2   \n112            [Amidation, Williamson_ether_synthesis]          2   \n113            [Amidation, Williamson_ether_synthesis]          2   \n114            [Amidation, Williamson_ether_synthesis]          2   \n115  [Williamson_ether_synthesis, TBS_alcohol_depro...          3   \n116  [Williamson_ether_synthesis, TBS_alcohol_depro...          3   \n117  [Williamson_ether_synthesis, Benzyl_alcohol_de...          3   \n118  [Williamson_ether_synthesis, Benzyl_alcohol_de...          3   \n119  [Williamson_ether_synthesis, Benzyl_alcohol_de...          3   \n\n              hits            compound_set  batch  \n110  x0922A x0732A   x0922-x0732-merge-2-7     11  \n111  x0922A x0732A   x0922-x0732-merge-2-8     11  \n112  x0922A x0732A   x0922-x0732-merge-2-9     11  \n113  x0922A x0732A  x0922-x0732-merge-2-10     11  \n114  x0922A x0732A  x0922-x0732-merge-2-11     11  \n115  x0922A x0739A   x0922-x0739-merge-2-1     11  \n116  x0922A x0739A   x0922-x0739-merge-2-2     11  \n117  x0922A x0739A   x0922-x0739-merge-2-3     11  \n118  x0922A x0739A   x0922-x0739-merge-2-4     11  \n119  x0922A x0739A   x0922-x0739-merge-2-5     11  ",
      "text/html": "<div>\n<style scoped>\n    .dataframe tbody tr th:only-of-type {\n        vertical-align: middle;\n    }\n\n    .dataframe tbody tr th {\n        vertical-align: top;\n    }\n\n    .dataframe thead th {\n        text-align: right;\n    }\n</style>\n<table border=\"1\" class=\"dataframe\">\n  <thead>\n    <tr style=\"text-align: right;\">\n      <th></th>\n      <th>smiles</th>\n      <th>reactants</th>\n      <th>reaction_names</th>\n      <th>num_steps</th>\n      <th>hits</th>\n      <th>compound_set</th>\n      <th>batch</th>\n    </tr>\n  </thead>\n  <tbody>\n    <tr>\n      <th>110</th>\n      <td>CN(C)C(=O)COc1ccc(F)c(NC(=O)CS)c1</td>\n      <td>[(Fc1ccc(O)cc1N, O=C(O)CS), (O=C(CS)Nc1cc(O)cc...</td>\n      <td>[Amidation, Williamson_ether_synthesis]</td>\n      <td>2</td>\n      <td>x0922A x0732A</td>\n      <td>x0922-x0732-merge-2-7</td>\n      <td>11</td>\n    </tr>\n    <tr>\n      <th>111</th>\n      <td>Cc1ccc(NC(=O)CS)cc1OCC(=O)N(C)C</td>\n      <td>[(Nc1cc(O)c(C)cc1, O=C(O)CS), (Cc1ccc(NC(=O)CS...</td>\n      <td>[Amidation, Williamson_ether_synthesis]</td>\n      <td>2</td>\n      <td>x0922A x0732A</td>\n      <td>x0922-x0732-merge-2-8</td>\n      <td>11</td>\n    </tr>\n    <tr>\n      <th>112</th>\n      <td>Cc1cc(C)c(OCC(=O)N(C)C)cc1NC(=O)CS</td>\n      <td>[(Nc1cc(O)c(C)cc1C, O=C(O)CS), (Cc1cc(C)c(NC(=...</td>\n      <td>[Amidation, Williamson_ether_synthesis]</td>\n      <td>2</td>\n      <td>x0922A x0732A</td>\n      <td>x0922-x0732-merge-2-9</td>\n      <td>11</td>\n    </tr>\n    <tr>\n      <th>113</th>\n      <td>CN(C)C(=O)COc1cncc(NC(=O)CS)c1</td>\n      <td>[(Nc1cncc(O)c1, O=C(O)CS), (O=C(CS)Nc1cncc(O)c...</td>\n      <td>[Amidation, Williamson_ether_synthesis]</td>\n      <td>2</td>\n      <td>x0922A x0732A</td>\n      <td>x0922-x0732-merge-2-10</td>\n      <td>11</td>\n    </tr>\n    <tr>\n      <th>114</th>\n      <td>CN(C)C(=O)COc1cc(NC(=O)CS)ccn1</td>\n      <td>[(Nc1ccnc(O)c1, O=C(O)CS), (O=C(CS)Nc1ccnc(O)c...</td>\n      <td>[Amidation, Williamson_ether_synthesis]</td>\n      <td>2</td>\n      <td>x0922A x0732A</td>\n      <td>x0922-x0732-merge-2-11</td>\n      <td>11</td>\n    </tr>\n    <tr>\n      <th>115</th>\n      <td>CN(C)C(=O)COc1cc(OCC(=O)N2CCOCC2)ccc1F</td>\n      <td>[(C[Si](C)(Oc1cc(O)ccc1F)C(C)(C)C, O=C(CCl)N1C...</td>\n      <td>[Williamson_ether_synthesis, TBS_alcohol_depro...</td>\n      <td>3</td>\n      <td>x0922A x0739A</td>\n      <td>x0922-x0739-merge-2-1</td>\n      <td>11</td>\n    </tr>\n    <tr>\n      <th>116</th>\n      <td>CN(C)C(=O)COc1cccc(OCC(=O)N2CCOCC2)c1</td>\n      <td>[(CC(C)(C)[Si](C)(C)Oc1cccc(O)c1, O=C(CCl)N1CC...</td>\n      <td>[Williamson_ether_synthesis, TBS_alcohol_depro...</td>\n      <td>3</td>\n      <td>x0922A x0739A</td>\n      <td>x0922-x0739-merge-2-2</td>\n      <td>11</td>\n    </tr>\n    <tr>\n      <th>117</th>\n      <td>Cc1cc(OCC(=O)N(C)C)cc(OCC(=O)N2CCOCC2)c1</td>\n      <td>[(Cc1cc(OCc2ccccc2)cc(O)c1, O=C(CCl)N1CCOCC1),...</td>\n      <td>[Williamson_ether_synthesis, Benzyl_alcohol_de...</td>\n      <td>3</td>\n      <td>x0922A x0739A</td>\n      <td>x0922-x0739-merge-2-3</td>\n      <td>11</td>\n    </tr>\n    <tr>\n      <th>118</th>\n      <td>CN(C)C(=O)COc1ccnc(OCC(=O)N2CCOCC2)c1</td>\n      <td>[(Oc1cc(OCc2ccccc2)ccn1, O=C(CCl)N1CCOCC1), O=...</td>\n      <td>[Williamson_ether_synthesis, Benzyl_alcohol_de...</td>\n      <td>3</td>\n      <td>x0922A x0739A</td>\n      <td>x0922-x0739-merge-2-4</td>\n      <td>11</td>\n    </tr>\n    <tr>\n      <th>119</th>\n      <td>Cc1ccc(OCC(=O)N(C)C)cc1OCC(=O)N1CCOCC1</td>\n      <td>[(Cc1ccc(OCc2ccccc2)cc1O, O=C(CCl)N1CCOCC1), C...</td>\n      <td>[Williamson_ether_synthesis, Benzyl_alcohol_de...</td>\n      <td>3</td>\n      <td>x0922A x0739A</td>\n      <td>x0922-x0739-merge-2-5</td>\n      <td>11</td>\n    </tr>\n  </tbody>\n</table>\n</div>"
     },
     "execution_count": 26,
     "metadata": {},
     "output_type": "execute_result"
    }
   ],
   "source": [
    "df = pd.read_pickle('batch11.pkl')\n",
    "df"
   ],
   "metadata": {
    "collapsed": false,
    "ExecuteTime": {
     "end_time": "2024-03-07T18:09:11.183045Z",
     "start_time": "2024-03-07T18:09:11.174936Z"
    }
   },
   "id": "5083c64a2b94a170",
   "execution_count": 26
  },
  {
   "cell_type": "code",
   "outputs": [
    {
     "data": {
      "text/plain": "                                       smiles  \\\n110         CN(C)C(=O)COc1ccc(F)c(NC(=O)CS)c1   \n111           Cc1ccc(NC(=O)CS)cc1OCC(=O)N(C)C   \n112        Cc1cc(C)c(OCC(=O)N(C)C)cc1NC(=O)CS   \n113            CN(C)C(=O)COc1cncc(NC(=O)CS)c1   \n114            CN(C)C(=O)COc1cc(NC(=O)CS)ccn1   \n115    CN(C)C(=O)COc1cc(OCC(=O)N2CCOCC2)ccc1F   \n116     CN(C)C(=O)COc1cccc(OCC(=O)N2CCOCC2)c1   \n117  Cc1cc(OCC(=O)N(C)C)cc(OCC(=O)N2CCOCC2)c1   \n\n                                             reactants  \\\n110  [(Fc1ccc(O)cc1N, O=C(O)CS), (O=C(CS)Nc1cc(O)cc...   \n111  [(Nc1cc(O)c(C)cc1, O=C(O)CS), (Cc1ccc(NC(=O)CS...   \n112  [(Nc1cc(O)c(C)cc1C, O=C(O)CS), (Cc1cc(C)c(NC(=...   \n113  [(Nc1cncc(O)c1, O=C(O)CS), (O=C(CS)Nc1cncc(O)c...   \n114  [(Nc1ccnc(O)c1, O=C(O)CS), (O=C(CS)Nc1ccnc(O)c...   \n115  [(C[Si](C)(Oc1cc(O)ccc1F)C(C)(C)C, O=C(CCl)N1C...   \n116  [(CC(C)(C)[Si](C)(C)Oc1cccc(O)c1, O=C(CCl)N1CC...   \n117  [(Cc1cc(OCc2ccccc2)cc(O)c1, O=C(CCl)N1CCOCC1),...   \n\n                                        reaction_names  num_steps  \\\n110            [Amidation, Williamson_ether_synthesis]          2   \n111            [Amidation, Williamson_ether_synthesis]          2   \n112            [Amidation, Williamson_ether_synthesis]          2   \n113            [Amidation, Williamson_ether_synthesis]          2   \n114            [Amidation, Williamson_ether_synthesis]          2   \n115  [Williamson_ether_synthesis, TBS_alcohol_depro...          3   \n116  [Williamson_ether_synthesis, TBS_alcohol_depro...          3   \n117  [Williamson_ether_synthesis, Benzyl_alcohol_de...          3   \n\n              hits            compound_set  batch  \n110  x0922A x0732A   x0922-x0732-merge-2-7     11  \n111  x0922A x0732A   x0922-x0732-merge-2-8     11  \n112  x0922A x0732A   x0922-x0732-merge-2-9     11  \n113  x0922A x0732A  x0922-x0732-merge-2-10     11  \n114  x0922A x0732A  x0922-x0732-merge-2-11     11  \n115  x0922A x0739A   x0922-x0739-merge-2-1     11  \n116  x0922A x0739A   x0922-x0739-merge-2-2     11  \n117  x0922A x0739A   x0922-x0739-merge-2-3     11  ",
      "text/html": "<div>\n<style scoped>\n    .dataframe tbody tr th:only-of-type {\n        vertical-align: middle;\n    }\n\n    .dataframe tbody tr th {\n        vertical-align: top;\n    }\n\n    .dataframe thead th {\n        text-align: right;\n    }\n</style>\n<table border=\"1\" class=\"dataframe\">\n  <thead>\n    <tr style=\"text-align: right;\">\n      <th></th>\n      <th>smiles</th>\n      <th>reactants</th>\n      <th>reaction_names</th>\n      <th>num_steps</th>\n      <th>hits</th>\n      <th>compound_set</th>\n      <th>batch</th>\n    </tr>\n  </thead>\n  <tbody>\n    <tr>\n      <th>110</th>\n      <td>CN(C)C(=O)COc1ccc(F)c(NC(=O)CS)c1</td>\n      <td>[(Fc1ccc(O)cc1N, O=C(O)CS), (O=C(CS)Nc1cc(O)cc...</td>\n      <td>[Amidation, Williamson_ether_synthesis]</td>\n      <td>2</td>\n      <td>x0922A x0732A</td>\n      <td>x0922-x0732-merge-2-7</td>\n      <td>11</td>\n    </tr>\n    <tr>\n      <th>111</th>\n      <td>Cc1ccc(NC(=O)CS)cc1OCC(=O)N(C)C</td>\n      <td>[(Nc1cc(O)c(C)cc1, O=C(O)CS), (Cc1ccc(NC(=O)CS...</td>\n      <td>[Amidation, Williamson_ether_synthesis]</td>\n      <td>2</td>\n      <td>x0922A x0732A</td>\n      <td>x0922-x0732-merge-2-8</td>\n      <td>11</td>\n    </tr>\n    <tr>\n      <th>112</th>\n      <td>Cc1cc(C)c(OCC(=O)N(C)C)cc1NC(=O)CS</td>\n      <td>[(Nc1cc(O)c(C)cc1C, O=C(O)CS), (Cc1cc(C)c(NC(=...</td>\n      <td>[Amidation, Williamson_ether_synthesis]</td>\n      <td>2</td>\n      <td>x0922A x0732A</td>\n      <td>x0922-x0732-merge-2-9</td>\n      <td>11</td>\n    </tr>\n    <tr>\n      <th>113</th>\n      <td>CN(C)C(=O)COc1cncc(NC(=O)CS)c1</td>\n      <td>[(Nc1cncc(O)c1, O=C(O)CS), (O=C(CS)Nc1cncc(O)c...</td>\n      <td>[Amidation, Williamson_ether_synthesis]</td>\n      <td>2</td>\n      <td>x0922A x0732A</td>\n      <td>x0922-x0732-merge-2-10</td>\n      <td>11</td>\n    </tr>\n    <tr>\n      <th>114</th>\n      <td>CN(C)C(=O)COc1cc(NC(=O)CS)ccn1</td>\n      <td>[(Nc1ccnc(O)c1, O=C(O)CS), (O=C(CS)Nc1ccnc(O)c...</td>\n      <td>[Amidation, Williamson_ether_synthesis]</td>\n      <td>2</td>\n      <td>x0922A x0732A</td>\n      <td>x0922-x0732-merge-2-11</td>\n      <td>11</td>\n    </tr>\n    <tr>\n      <th>115</th>\n      <td>CN(C)C(=O)COc1cc(OCC(=O)N2CCOCC2)ccc1F</td>\n      <td>[(C[Si](C)(Oc1cc(O)ccc1F)C(C)(C)C, O=C(CCl)N1C...</td>\n      <td>[Williamson_ether_synthesis, TBS_alcohol_depro...</td>\n      <td>3</td>\n      <td>x0922A x0739A</td>\n      <td>x0922-x0739-merge-2-1</td>\n      <td>11</td>\n    </tr>\n    <tr>\n      <th>116</th>\n      <td>CN(C)C(=O)COc1cccc(OCC(=O)N2CCOCC2)c1</td>\n      <td>[(CC(C)(C)[Si](C)(C)Oc1cccc(O)c1, O=C(CCl)N1CC...</td>\n      <td>[Williamson_ether_synthesis, TBS_alcohol_depro...</td>\n      <td>3</td>\n      <td>x0922A x0739A</td>\n      <td>x0922-x0739-merge-2-2</td>\n      <td>11</td>\n    </tr>\n    <tr>\n      <th>117</th>\n      <td>Cc1cc(OCC(=O)N(C)C)cc(OCC(=O)N2CCOCC2)c1</td>\n      <td>[(Cc1cc(OCc2ccccc2)cc(O)c1, O=C(CCl)N1CCOCC1),...</td>\n      <td>[Williamson_ether_synthesis, Benzyl_alcohol_de...</td>\n      <td>3</td>\n      <td>x0922A x0739A</td>\n      <td>x0922-x0739-merge-2-3</td>\n      <td>11</td>\n    </tr>\n  </tbody>\n</table>\n</div>"
     },
     "execution_count": 28,
     "metadata": {},
     "output_type": "execute_result"
    }
   ],
   "source": [
    "new_df = df.iloc[0:8]\n",
    "new_df"
   ],
   "metadata": {
    "collapsed": false,
    "ExecuteTime": {
     "end_time": "2024-03-07T18:09:23.191743Z",
     "start_time": "2024-03-07T18:09:23.179931Z"
    }
   },
   "id": "685a2ca69bfe6da9",
   "execution_count": 28
  },
  {
   "cell_type": "code",
   "outputs": [],
   "source": [
    "new_df.to_pickle('batch11_1.pkl')\n",
    "new_df.to_csv('batch11_1.csv')"
   ],
   "metadata": {
    "collapsed": false,
    "ExecuteTime": {
     "end_time": "2024-03-07T18:09:32.578996Z",
     "start_time": "2024-03-07T18:09:32.575376Z"
    }
   },
   "id": "7bf073b3dfd90d96",
   "execution_count": 29
  }
 ],
 "metadata": {
  "kernelspec": {
   "display_name": "Python 3",
   "language": "python",
   "name": "python3"
  },
  "language_info": {
   "codemirror_mode": {
    "name": "ipython",
    "version": 2
   },
   "file_extension": ".py",
   "mimetype": "text/x-python",
   "name": "python",
   "nbconvert_exporter": "python",
   "pygments_lexer": "ipython2",
   "version": "2.7.6"
  }
 },
 "nbformat": 4,
 "nbformat_minor": 5
}

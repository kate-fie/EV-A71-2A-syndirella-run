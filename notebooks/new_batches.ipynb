{
 "cells": [
  {
   "cell_type": "code",
   "execution_count": 3,
   "id": "initial_id",
   "metadata": {
    "collapsed": true,
    "ExecuteTime": {
     "end_time": "2024-03-06T16:08:02.112977Z",
     "start_time": "2024-03-06T16:08:02.109862Z"
    }
   },
   "outputs": [],
   "source": [
    "import pandas as pd\n",
    "import os\n",
    "os.chdir('../batches/')"
   ]
  },
  {
   "cell_type": "code",
   "outputs": [
    {
     "data": {
      "text/plain": "                                     smiles  \\\n20   Cc1cc(NC(=O)CC#N)cc(OCC(=O)N2CCOCC2)c1   \n21      N#CCC(=O)Nc1cccc(OCC(=O)N2CCOCC2)c1   \n22     Cc1ccc(OCC(=O)N2CCOCC2)cc1NC(=O)CC#N   \n23     Cc1ccc(OCC(=O)N2CCOCC2)cc1NC(=O)CC#N   \n24     N#CCC(=O)Nc1cc(OCC(=O)N2CCOCC2)ccc1F   \n25     Cc1ccc(NC(=O)CC#N)cc1OCC(=O)N1CCOCC1   \n26  Cc1cc(C)c(OCC(=O)N2CCOCC2)cc1NC(=O)CC#N   \n27      N#CCC(=O)Nc1cncc(OCC(=O)N2CCOCC2)c1   \n28      N#CCC(=O)Nc1ccnc(OCC(=O)N2CCOCC2)c1   \n29       CN(C)C(=O)c1ccc(F)cc1OC1CCN(C)C1=O   \n\n                                            reactants  \\\n20  [(Cc1cc(O)cc(N)c1, N#CCC(=O)O), (Cc1cc(O)cc(NC...   \n21  [(Nc1cccc(O)c1, N#CCC(=O)O), (N#CCC(=O)Nc1cccc...   \n22  [(Cc1ccc(O)cc1N, N#CCC(=O)O), (Cc1ccc(O)cc1NC(...   \n23  [(Cc1ccc(O)cc1N, N#CCC(=O)O), (Cc1ccc(O)cc1NC(...   \n24  [(Fc1ccc(O)cc1N, N#CCC(=O)O), (N#CCC(=O)Nc1cc(...   \n25  [(Nc1cc(O)c(C)cc1, N#CCC(=O)O), (Cc1ccc(NC(=O)...   \n26  [(Nc1cc(O)c(C)cc1C, N#CCC(=O)O), (Cc1cc(C)c(NC...   \n27  [(Nc1cncc(O)c1, N#CCC(=O)O), (N#CCC(=O)Nc1cncc...   \n28  [(Nc1ccnc(O)c1, N#CCC(=O)O), (N#CCC(=O)Nc1ccnc...   \n29         [(O=C(c1ccc(F)cc1Cl)N(C)C, O=C1C(O)CCN1C)]   \n\n                             reaction_names  num_steps           hits  \\\n20  [Amidation, Williamson_ether_synthesis]          2  x0310A x0739A   \n21  [Amidation, Williamson_ether_synthesis]          2  x0310A x0739A   \n22  [Amidation, Williamson_ether_synthesis]          2  x0310A x0739A   \n23  [Amidation, Williamson_ether_synthesis]          2  x0310A x0739A   \n24  [Amidation, Williamson_ether_synthesis]          2  x0310A x0739A   \n25  [Amidation, Williamson_ether_synthesis]          2  x0310A x0739A   \n26  [Amidation, Williamson_ether_synthesis]          2  x0310A x0739A   \n27  [Amidation, Williamson_ether_synthesis]          2  x0310A x0739A   \n28  [Amidation, Williamson_ether_synthesis]          2  x0310A x0739A   \n29              [Nucleophilic_substitution]          1  x0528A x0450A   \n\n              compound_set  batch  \n20   x0310-x0739-merge-2-3      2  \n21   x0310-x0739-merge-2-4      2  \n22   x0310-x0739-merge-2-5      2  \n23   x0310-x0739-merge-2-6      2  \n24   x0310-x0739-merge-2-7      2  \n25   x0310-x0739-merge-2-8      2  \n26   x0310-x0739-merge-2-9      2  \n27  x0310-x0739-merge-2-10      2  \n28  x0310-x0739-merge-2-11      2  \n29   x0528-x0450-merge-1-1      2  ",
      "text/html": "<div>\n<style scoped>\n    .dataframe tbody tr th:only-of-type {\n        vertical-align: middle;\n    }\n\n    .dataframe tbody tr th {\n        vertical-align: top;\n    }\n\n    .dataframe thead th {\n        text-align: right;\n    }\n</style>\n<table border=\"1\" class=\"dataframe\">\n  <thead>\n    <tr style=\"text-align: right;\">\n      <th></th>\n      <th>smiles</th>\n      <th>reactants</th>\n      <th>reaction_names</th>\n      <th>num_steps</th>\n      <th>hits</th>\n      <th>compound_set</th>\n      <th>batch</th>\n    </tr>\n  </thead>\n  <tbody>\n    <tr>\n      <th>20</th>\n      <td>Cc1cc(NC(=O)CC#N)cc(OCC(=O)N2CCOCC2)c1</td>\n      <td>[(Cc1cc(O)cc(N)c1, N#CCC(=O)O), (Cc1cc(O)cc(NC...</td>\n      <td>[Amidation, Williamson_ether_synthesis]</td>\n      <td>2</td>\n      <td>x0310A x0739A</td>\n      <td>x0310-x0739-merge-2-3</td>\n      <td>2</td>\n    </tr>\n    <tr>\n      <th>21</th>\n      <td>N#CCC(=O)Nc1cccc(OCC(=O)N2CCOCC2)c1</td>\n      <td>[(Nc1cccc(O)c1, N#CCC(=O)O), (N#CCC(=O)Nc1cccc...</td>\n      <td>[Amidation, Williamson_ether_synthesis]</td>\n      <td>2</td>\n      <td>x0310A x0739A</td>\n      <td>x0310-x0739-merge-2-4</td>\n      <td>2</td>\n    </tr>\n    <tr>\n      <th>22</th>\n      <td>Cc1ccc(OCC(=O)N2CCOCC2)cc1NC(=O)CC#N</td>\n      <td>[(Cc1ccc(O)cc1N, N#CCC(=O)O), (Cc1ccc(O)cc1NC(...</td>\n      <td>[Amidation, Williamson_ether_synthesis]</td>\n      <td>2</td>\n      <td>x0310A x0739A</td>\n      <td>x0310-x0739-merge-2-5</td>\n      <td>2</td>\n    </tr>\n    <tr>\n      <th>23</th>\n      <td>Cc1ccc(OCC(=O)N2CCOCC2)cc1NC(=O)CC#N</td>\n      <td>[(Cc1ccc(O)cc1N, N#CCC(=O)O), (Cc1ccc(O)cc1NC(...</td>\n      <td>[Amidation, Williamson_ether_synthesis]</td>\n      <td>2</td>\n      <td>x0310A x0739A</td>\n      <td>x0310-x0739-merge-2-6</td>\n      <td>2</td>\n    </tr>\n    <tr>\n      <th>24</th>\n      <td>N#CCC(=O)Nc1cc(OCC(=O)N2CCOCC2)ccc1F</td>\n      <td>[(Fc1ccc(O)cc1N, N#CCC(=O)O), (N#CCC(=O)Nc1cc(...</td>\n      <td>[Amidation, Williamson_ether_synthesis]</td>\n      <td>2</td>\n      <td>x0310A x0739A</td>\n      <td>x0310-x0739-merge-2-7</td>\n      <td>2</td>\n    </tr>\n    <tr>\n      <th>25</th>\n      <td>Cc1ccc(NC(=O)CC#N)cc1OCC(=O)N1CCOCC1</td>\n      <td>[(Nc1cc(O)c(C)cc1, N#CCC(=O)O), (Cc1ccc(NC(=O)...</td>\n      <td>[Amidation, Williamson_ether_synthesis]</td>\n      <td>2</td>\n      <td>x0310A x0739A</td>\n      <td>x0310-x0739-merge-2-8</td>\n      <td>2</td>\n    </tr>\n    <tr>\n      <th>26</th>\n      <td>Cc1cc(C)c(OCC(=O)N2CCOCC2)cc1NC(=O)CC#N</td>\n      <td>[(Nc1cc(O)c(C)cc1C, N#CCC(=O)O), (Cc1cc(C)c(NC...</td>\n      <td>[Amidation, Williamson_ether_synthesis]</td>\n      <td>2</td>\n      <td>x0310A x0739A</td>\n      <td>x0310-x0739-merge-2-9</td>\n      <td>2</td>\n    </tr>\n    <tr>\n      <th>27</th>\n      <td>N#CCC(=O)Nc1cncc(OCC(=O)N2CCOCC2)c1</td>\n      <td>[(Nc1cncc(O)c1, N#CCC(=O)O), (N#CCC(=O)Nc1cncc...</td>\n      <td>[Amidation, Williamson_ether_synthesis]</td>\n      <td>2</td>\n      <td>x0310A x0739A</td>\n      <td>x0310-x0739-merge-2-10</td>\n      <td>2</td>\n    </tr>\n    <tr>\n      <th>28</th>\n      <td>N#CCC(=O)Nc1ccnc(OCC(=O)N2CCOCC2)c1</td>\n      <td>[(Nc1ccnc(O)c1, N#CCC(=O)O), (N#CCC(=O)Nc1ccnc...</td>\n      <td>[Amidation, Williamson_ether_synthesis]</td>\n      <td>2</td>\n      <td>x0310A x0739A</td>\n      <td>x0310-x0739-merge-2-11</td>\n      <td>2</td>\n    </tr>\n    <tr>\n      <th>29</th>\n      <td>CN(C)C(=O)c1ccc(F)cc1OC1CCN(C)C1=O</td>\n      <td>[(O=C(c1ccc(F)cc1Cl)N(C)C, O=C1C(O)CCN1C)]</td>\n      <td>[Nucleophilic_substitution]</td>\n      <td>1</td>\n      <td>x0528A x0450A</td>\n      <td>x0528-x0450-merge-1-1</td>\n      <td>2</td>\n    </tr>\n  </tbody>\n</table>\n</div>"
     },
     "execution_count": 4,
     "metadata": {},
     "output_type": "execute_result"
    }
   ],
   "source": [
    "df = pd.read_pickle('batch2.pkl')\n",
    "df"
   ],
   "metadata": {
    "collapsed": false,
    "ExecuteTime": {
     "end_time": "2024-03-06T16:08:02.428107Z",
     "start_time": "2024-03-06T16:08:02.409887Z"
    }
   },
   "id": "27df61fa997cfa0b",
   "execution_count": 4
  },
  {
   "cell_type": "code",
   "outputs": [
    {
     "data": {
      "text/plain": "                                     smiles  \\\n25     Cc1ccc(NC(=O)CC#N)cc1OCC(=O)N1CCOCC1   \n26  Cc1cc(C)c(OCC(=O)N2CCOCC2)cc1NC(=O)CC#N   \n27      N#CCC(=O)Nc1cncc(OCC(=O)N2CCOCC2)c1   \n28      N#CCC(=O)Nc1ccnc(OCC(=O)N2CCOCC2)c1   \n29       CN(C)C(=O)c1ccc(F)cc1OC1CCN(C)C1=O   \n\n                                            reactants  \\\n25  [(Nc1cc(O)c(C)cc1, N#CCC(=O)O), (Cc1ccc(NC(=O)...   \n26  [(Nc1cc(O)c(C)cc1C, N#CCC(=O)O), (Cc1cc(C)c(NC...   \n27  [(Nc1cncc(O)c1, N#CCC(=O)O), (N#CCC(=O)Nc1cncc...   \n28  [(Nc1ccnc(O)c1, N#CCC(=O)O), (N#CCC(=O)Nc1ccnc...   \n29         [(O=C(c1ccc(F)cc1Cl)N(C)C, O=C1C(O)CCN1C)]   \n\n                             reaction_names  num_steps           hits  \\\n25  [Amidation, Williamson_ether_synthesis]          2  x0310A x0739A   \n26  [Amidation, Williamson_ether_synthesis]          2  x0310A x0739A   \n27  [Amidation, Williamson_ether_synthesis]          2  x0310A x0739A   \n28  [Amidation, Williamson_ether_synthesis]          2  x0310A x0739A   \n29              [Nucleophilic_substitution]          1  x0528A x0450A   \n\n              compound_set  batch  \n25   x0310-x0739-merge-2-8      2  \n26   x0310-x0739-merge-2-9      2  \n27  x0310-x0739-merge-2-10      2  \n28  x0310-x0739-merge-2-11      2  \n29   x0528-x0450-merge-1-1      2  ",
      "text/html": "<div>\n<style scoped>\n    .dataframe tbody tr th:only-of-type {\n        vertical-align: middle;\n    }\n\n    .dataframe tbody tr th {\n        vertical-align: top;\n    }\n\n    .dataframe thead th {\n        text-align: right;\n    }\n</style>\n<table border=\"1\" class=\"dataframe\">\n  <thead>\n    <tr style=\"text-align: right;\">\n      <th></th>\n      <th>smiles</th>\n      <th>reactants</th>\n      <th>reaction_names</th>\n      <th>num_steps</th>\n      <th>hits</th>\n      <th>compound_set</th>\n      <th>batch</th>\n    </tr>\n  </thead>\n  <tbody>\n    <tr>\n      <th>25</th>\n      <td>Cc1ccc(NC(=O)CC#N)cc1OCC(=O)N1CCOCC1</td>\n      <td>[(Nc1cc(O)c(C)cc1, N#CCC(=O)O), (Cc1ccc(NC(=O)...</td>\n      <td>[Amidation, Williamson_ether_synthesis]</td>\n      <td>2</td>\n      <td>x0310A x0739A</td>\n      <td>x0310-x0739-merge-2-8</td>\n      <td>2</td>\n    </tr>\n    <tr>\n      <th>26</th>\n      <td>Cc1cc(C)c(OCC(=O)N2CCOCC2)cc1NC(=O)CC#N</td>\n      <td>[(Nc1cc(O)c(C)cc1C, N#CCC(=O)O), (Cc1cc(C)c(NC...</td>\n      <td>[Amidation, Williamson_ether_synthesis]</td>\n      <td>2</td>\n      <td>x0310A x0739A</td>\n      <td>x0310-x0739-merge-2-9</td>\n      <td>2</td>\n    </tr>\n    <tr>\n      <th>27</th>\n      <td>N#CCC(=O)Nc1cncc(OCC(=O)N2CCOCC2)c1</td>\n      <td>[(Nc1cncc(O)c1, N#CCC(=O)O), (N#CCC(=O)Nc1cncc...</td>\n      <td>[Amidation, Williamson_ether_synthesis]</td>\n      <td>2</td>\n      <td>x0310A x0739A</td>\n      <td>x0310-x0739-merge-2-10</td>\n      <td>2</td>\n    </tr>\n    <tr>\n      <th>28</th>\n      <td>N#CCC(=O)Nc1ccnc(OCC(=O)N2CCOCC2)c1</td>\n      <td>[(Nc1ccnc(O)c1, N#CCC(=O)O), (N#CCC(=O)Nc1ccnc...</td>\n      <td>[Amidation, Williamson_ether_synthesis]</td>\n      <td>2</td>\n      <td>x0310A x0739A</td>\n      <td>x0310-x0739-merge-2-11</td>\n      <td>2</td>\n    </tr>\n    <tr>\n      <th>29</th>\n      <td>CN(C)C(=O)c1ccc(F)cc1OC1CCN(C)C1=O</td>\n      <td>[(O=C(c1ccc(F)cc1Cl)N(C)C, O=C1C(O)CCN1C)]</td>\n      <td>[Nucleophilic_substitution]</td>\n      <td>1</td>\n      <td>x0528A x0450A</td>\n      <td>x0528-x0450-merge-1-1</td>\n      <td>2</td>\n    </tr>\n  </tbody>\n</table>\n</div>"
     },
     "execution_count": 14,
     "metadata": {},
     "output_type": "execute_result"
    }
   ],
   "source": [
    "# get rows 25 to 30\n",
    "new_df =df.iloc[5:10]\n",
    "new_df"
   ],
   "metadata": {
    "collapsed": false,
    "ExecuteTime": {
     "end_time": "2024-03-06T16:10:47.360536Z",
     "start_time": "2024-03-06T16:10:47.353661Z"
    }
   },
   "id": "ea27706203942e47",
   "execution_count": 14
  },
  {
   "cell_type": "code",
   "outputs": [],
   "source": [
    "new_df.to_pickle('batch2_1.pkl')\n",
    "new_df.to_csv('batch2_1.csv')"
   ],
   "metadata": {
    "collapsed": false,
    "ExecuteTime": {
     "end_time": "2024-03-06T16:11:15.893134Z",
     "start_time": "2024-03-06T16:11:15.885760Z"
    }
   },
   "id": "797a35ff80f26fa5",
   "execution_count": 15
  },
  {
   "cell_type": "code",
   "outputs": [
    {
     "data": {
      "text/plain": "                                   smiles  \\\n90       Cc1nccc(OC2CCN(C)C2=O)c1NC(=O)CS   \n91  Cc1cc(OC2CCN(C)C2=O)c(NC(=O)CS)c(C)n1   \n92             CC(=O)Nc1cccc(O)c1NC(=O)CS   \n93      Cc1cc(NC(=O)CO)cc(OCC(=O)N(C)C)c1   \n94        Cc1cnc(OCC(=O)N(C)C)cc1NC(=O)CO   \n95      Cc1cc(NC(=O)CO)cc(OCC(=O)N(C)C)c1   \n96         CN(C)C(=O)COCC(=O)Nc1cccc(O)c1   \n97        Cc1ccc(OCC(=O)N(C)C)cc1NC(=O)CO   \n98        Cc1ccc(OCC(=O)N(C)C)cc1NC(=O)CO   \n99        CN(C)C(=O)COCC(=O)Nc1cc(O)ccc1F   \n\n                                            reactants  \\\n90  [(Oc1ccnc(C)c1N, O=C(O)CS), (Cc1nccc(O)c1NC(=O...   \n91  [(Cc1cc(O)c(N)c(C)n1, O=C(O)CS), (Cc1cc(O)c(NC...   \n92  [(Oc1cccc(N)c1NC(=O)OC(C)(C)C, CC(=O)O), CC(=O...   \n93  [(Cc1cc(O)cc(N)c1, C(O)(=O)CO[Si](C(C)(C)C)(C)...   \n94  [(Cc1cnc(O)cc1N, C(O)(=O)CO[Si](C(C)(C)C)(C)C)...   \n95  [(Cc1cc(O)cc(N)c1, C(O)(=O)CO[Si](C(C)(C)C)(C)...   \n96  [(Nc1cccc(O)c1, C(O)(=O)CO[Si](C(C)(C)C)(C)C),...   \n97  [(Cc1ccc(O)cc1N, C(O)(=O)CO[Si](C(C)(C)C)(C)C)...   \n98  [(Cc1ccc(O)cc1N, C(O)(=O)CO[Si](C(C)(C)C)(C)C)...   \n99  [(Fc1ccc(O)cc1N, C(O)(=O)CO[Si](C(C)(C)C)(C)C)...   \n\n                                       reaction_names  num_steps  \\\n90            [Amidation, Williamson_ether_synthesis]          2   \n91            [Amidation, Williamson_ether_synthesis]          2   \n92         [Amidation, N-Boc_deprotection, Amidation]          3   \n93  [Amidation, TBS_alcohol_deprotection, Williams...          3   \n94  [Amidation, TBS_alcohol_deprotection, Williams...          3   \n95  [Amidation, TBS_alcohol_deprotection, Williams...          3   \n96  [Amidation, TBS_alcohol_deprotection, Williams...          3   \n97  [Amidation, TBS_alcohol_deprotection, Williams...          3   \n98  [Amidation, TBS_alcohol_deprotection, Williams...          3   \n99  [Amidation, TBS_alcohol_deprotection, Williams...          3   \n\n             hits                 compound_set  batch  \n90  x0528A x0732A        x0528-x0732-merge-2-7      9  \n91  x0528A x0732A        x0528-x0732-merge-2-8      9  \n92  x0884A x0732A  x0884-x0732-x0922-merge-2-1      9  \n93  x0922A x0732A        x0922-x0732-merge-1-1      9  \n94  x0922A x0732A        x0922-x0732-merge-1-2      9  \n95  x0922A x0732A        x0922-x0732-merge-1-3      9  \n96  x0922A x0732A        x0922-x0732-merge-1-4      9  \n97  x0922A x0732A        x0922-x0732-merge-1-5      9  \n98  x0922A x0732A        x0922-x0732-merge-1-6      9  \n99  x0922A x0732A        x0922-x0732-merge-1-7      9  ",
      "text/html": "<div>\n<style scoped>\n    .dataframe tbody tr th:only-of-type {\n        vertical-align: middle;\n    }\n\n    .dataframe tbody tr th {\n        vertical-align: top;\n    }\n\n    .dataframe thead th {\n        text-align: right;\n    }\n</style>\n<table border=\"1\" class=\"dataframe\">\n  <thead>\n    <tr style=\"text-align: right;\">\n      <th></th>\n      <th>smiles</th>\n      <th>reactants</th>\n      <th>reaction_names</th>\n      <th>num_steps</th>\n      <th>hits</th>\n      <th>compound_set</th>\n      <th>batch</th>\n    </tr>\n  </thead>\n  <tbody>\n    <tr>\n      <th>90</th>\n      <td>Cc1nccc(OC2CCN(C)C2=O)c1NC(=O)CS</td>\n      <td>[(Oc1ccnc(C)c1N, O=C(O)CS), (Cc1nccc(O)c1NC(=O...</td>\n      <td>[Amidation, Williamson_ether_synthesis]</td>\n      <td>2</td>\n      <td>x0528A x0732A</td>\n      <td>x0528-x0732-merge-2-7</td>\n      <td>9</td>\n    </tr>\n    <tr>\n      <th>91</th>\n      <td>Cc1cc(OC2CCN(C)C2=O)c(NC(=O)CS)c(C)n1</td>\n      <td>[(Cc1cc(O)c(N)c(C)n1, O=C(O)CS), (Cc1cc(O)c(NC...</td>\n      <td>[Amidation, Williamson_ether_synthesis]</td>\n      <td>2</td>\n      <td>x0528A x0732A</td>\n      <td>x0528-x0732-merge-2-8</td>\n      <td>9</td>\n    </tr>\n    <tr>\n      <th>92</th>\n      <td>CC(=O)Nc1cccc(O)c1NC(=O)CS</td>\n      <td>[(Oc1cccc(N)c1NC(=O)OC(C)(C)C, CC(=O)O), CC(=O...</td>\n      <td>[Amidation, N-Boc_deprotection, Amidation]</td>\n      <td>3</td>\n      <td>x0884A x0732A</td>\n      <td>x0884-x0732-x0922-merge-2-1</td>\n      <td>9</td>\n    </tr>\n    <tr>\n      <th>93</th>\n      <td>Cc1cc(NC(=O)CO)cc(OCC(=O)N(C)C)c1</td>\n      <td>[(Cc1cc(O)cc(N)c1, C(O)(=O)CO[Si](C(C)(C)C)(C)...</td>\n      <td>[Amidation, TBS_alcohol_deprotection, Williams...</td>\n      <td>3</td>\n      <td>x0922A x0732A</td>\n      <td>x0922-x0732-merge-1-1</td>\n      <td>9</td>\n    </tr>\n    <tr>\n      <th>94</th>\n      <td>Cc1cnc(OCC(=O)N(C)C)cc1NC(=O)CO</td>\n      <td>[(Cc1cnc(O)cc1N, C(O)(=O)CO[Si](C(C)(C)C)(C)C)...</td>\n      <td>[Amidation, TBS_alcohol_deprotection, Williams...</td>\n      <td>3</td>\n      <td>x0922A x0732A</td>\n      <td>x0922-x0732-merge-1-2</td>\n      <td>9</td>\n    </tr>\n    <tr>\n      <th>95</th>\n      <td>Cc1cc(NC(=O)CO)cc(OCC(=O)N(C)C)c1</td>\n      <td>[(Cc1cc(O)cc(N)c1, C(O)(=O)CO[Si](C(C)(C)C)(C)...</td>\n      <td>[Amidation, TBS_alcohol_deprotection, Williams...</td>\n      <td>3</td>\n      <td>x0922A x0732A</td>\n      <td>x0922-x0732-merge-1-3</td>\n      <td>9</td>\n    </tr>\n    <tr>\n      <th>96</th>\n      <td>CN(C)C(=O)COCC(=O)Nc1cccc(O)c1</td>\n      <td>[(Nc1cccc(O)c1, C(O)(=O)CO[Si](C(C)(C)C)(C)C),...</td>\n      <td>[Amidation, TBS_alcohol_deprotection, Williams...</td>\n      <td>3</td>\n      <td>x0922A x0732A</td>\n      <td>x0922-x0732-merge-1-4</td>\n      <td>9</td>\n    </tr>\n    <tr>\n      <th>97</th>\n      <td>Cc1ccc(OCC(=O)N(C)C)cc1NC(=O)CO</td>\n      <td>[(Cc1ccc(O)cc1N, C(O)(=O)CO[Si](C(C)(C)C)(C)C)...</td>\n      <td>[Amidation, TBS_alcohol_deprotection, Williams...</td>\n      <td>3</td>\n      <td>x0922A x0732A</td>\n      <td>x0922-x0732-merge-1-5</td>\n      <td>9</td>\n    </tr>\n    <tr>\n      <th>98</th>\n      <td>Cc1ccc(OCC(=O)N(C)C)cc1NC(=O)CO</td>\n      <td>[(Cc1ccc(O)cc1N, C(O)(=O)CO[Si](C(C)(C)C)(C)C)...</td>\n      <td>[Amidation, TBS_alcohol_deprotection, Williams...</td>\n      <td>3</td>\n      <td>x0922A x0732A</td>\n      <td>x0922-x0732-merge-1-6</td>\n      <td>9</td>\n    </tr>\n    <tr>\n      <th>99</th>\n      <td>CN(C)C(=O)COCC(=O)Nc1cc(O)ccc1F</td>\n      <td>[(Fc1ccc(O)cc1N, C(O)(=O)CO[Si](C(C)(C)C)(C)C)...</td>\n      <td>[Amidation, TBS_alcohol_deprotection, Williams...</td>\n      <td>3</td>\n      <td>x0922A x0732A</td>\n      <td>x0922-x0732-merge-1-7</td>\n      <td>9</td>\n    </tr>\n  </tbody>\n</table>\n</div>"
     },
     "execution_count": 16,
     "metadata": {},
     "output_type": "execute_result"
    }
   ],
   "source": [
    "df = pd.read_pickle('batch9.pkl')\n",
    "df"
   ],
   "metadata": {
    "collapsed": false,
    "ExecuteTime": {
     "end_time": "2024-03-06T16:11:39.353063Z",
     "start_time": "2024-03-06T16:11:39.341643Z"
    }
   },
   "id": "fa542d1949964c5b",
   "execution_count": 16
  },
  {
   "cell_type": "code",
   "outputs": [
    {
     "data": {
      "text/plain": "                                   smiles  \\\n90       Cc1nccc(OC2CCN(C)C2=O)c1NC(=O)CS   \n91  Cc1cc(OC2CCN(C)C2=O)c(NC(=O)CS)c(C)n1   \n92             CC(=O)Nc1cccc(O)c1NC(=O)CS   \n93      Cc1cc(NC(=O)CO)cc(OCC(=O)N(C)C)c1   \n94        Cc1cnc(OCC(=O)N(C)C)cc1NC(=O)CO   \n95      Cc1cc(NC(=O)CO)cc(OCC(=O)N(C)C)c1   \n96         CN(C)C(=O)COCC(=O)Nc1cccc(O)c1   \n97        Cc1ccc(OCC(=O)N(C)C)cc1NC(=O)CO   \n98        Cc1ccc(OCC(=O)N(C)C)cc1NC(=O)CO   \n\n                                            reactants  \\\n90  [(Oc1ccnc(C)c1N, O=C(O)CS), (Cc1nccc(O)c1NC(=O...   \n91  [(Cc1cc(O)c(N)c(C)n1, O=C(O)CS), (Cc1cc(O)c(NC...   \n92  [(Oc1cccc(N)c1NC(=O)OC(C)(C)C, CC(=O)O), CC(=O...   \n93  [(Cc1cc(O)cc(N)c1, C(O)(=O)CO[Si](C(C)(C)C)(C)...   \n94  [(Cc1cnc(O)cc1N, C(O)(=O)CO[Si](C(C)(C)C)(C)C)...   \n95  [(Cc1cc(O)cc(N)c1, C(O)(=O)CO[Si](C(C)(C)C)(C)...   \n96  [(Nc1cccc(O)c1, C(O)(=O)CO[Si](C(C)(C)C)(C)C),...   \n97  [(Cc1ccc(O)cc1N, C(O)(=O)CO[Si](C(C)(C)C)(C)C)...   \n98  [(Cc1ccc(O)cc1N, C(O)(=O)CO[Si](C(C)(C)C)(C)C)...   \n\n                                       reaction_names  num_steps  \\\n90            [Amidation, Williamson_ether_synthesis]          2   \n91            [Amidation, Williamson_ether_synthesis]          2   \n92         [Amidation, N-Boc_deprotection, Amidation]          3   \n93  [Amidation, TBS_alcohol_deprotection, Williams...          3   \n94  [Amidation, TBS_alcohol_deprotection, Williams...          3   \n95  [Amidation, TBS_alcohol_deprotection, Williams...          3   \n96  [Amidation, TBS_alcohol_deprotection, Williams...          3   \n97  [Amidation, TBS_alcohol_deprotection, Williams...          3   \n98  [Amidation, TBS_alcohol_deprotection, Williams...          3   \n\n             hits                 compound_set  batch  \n90  x0528A x0732A        x0528-x0732-merge-2-7      9  \n91  x0528A x0732A        x0528-x0732-merge-2-8      9  \n92  x0884A x0732A  x0884-x0732-x0922-merge-2-1      9  \n93  x0922A x0732A        x0922-x0732-merge-1-1      9  \n94  x0922A x0732A        x0922-x0732-merge-1-2      9  \n95  x0922A x0732A        x0922-x0732-merge-1-3      9  \n96  x0922A x0732A        x0922-x0732-merge-1-4      9  \n97  x0922A x0732A        x0922-x0732-merge-1-5      9  \n98  x0922A x0732A        x0922-x0732-merge-1-6      9  ",
      "text/html": "<div>\n<style scoped>\n    .dataframe tbody tr th:only-of-type {\n        vertical-align: middle;\n    }\n\n    .dataframe tbody tr th {\n        vertical-align: top;\n    }\n\n    .dataframe thead th {\n        text-align: right;\n    }\n</style>\n<table border=\"1\" class=\"dataframe\">\n  <thead>\n    <tr style=\"text-align: right;\">\n      <th></th>\n      <th>smiles</th>\n      <th>reactants</th>\n      <th>reaction_names</th>\n      <th>num_steps</th>\n      <th>hits</th>\n      <th>compound_set</th>\n      <th>batch</th>\n    </tr>\n  </thead>\n  <tbody>\n    <tr>\n      <th>90</th>\n      <td>Cc1nccc(OC2CCN(C)C2=O)c1NC(=O)CS</td>\n      <td>[(Oc1ccnc(C)c1N, O=C(O)CS), (Cc1nccc(O)c1NC(=O...</td>\n      <td>[Amidation, Williamson_ether_synthesis]</td>\n      <td>2</td>\n      <td>x0528A x0732A</td>\n      <td>x0528-x0732-merge-2-7</td>\n      <td>9</td>\n    </tr>\n    <tr>\n      <th>91</th>\n      <td>Cc1cc(OC2CCN(C)C2=O)c(NC(=O)CS)c(C)n1</td>\n      <td>[(Cc1cc(O)c(N)c(C)n1, O=C(O)CS), (Cc1cc(O)c(NC...</td>\n      <td>[Amidation, Williamson_ether_synthesis]</td>\n      <td>2</td>\n      <td>x0528A x0732A</td>\n      <td>x0528-x0732-merge-2-8</td>\n      <td>9</td>\n    </tr>\n    <tr>\n      <th>92</th>\n      <td>CC(=O)Nc1cccc(O)c1NC(=O)CS</td>\n      <td>[(Oc1cccc(N)c1NC(=O)OC(C)(C)C, CC(=O)O), CC(=O...</td>\n      <td>[Amidation, N-Boc_deprotection, Amidation]</td>\n      <td>3</td>\n      <td>x0884A x0732A</td>\n      <td>x0884-x0732-x0922-merge-2-1</td>\n      <td>9</td>\n    </tr>\n    <tr>\n      <th>93</th>\n      <td>Cc1cc(NC(=O)CO)cc(OCC(=O)N(C)C)c1</td>\n      <td>[(Cc1cc(O)cc(N)c1, C(O)(=O)CO[Si](C(C)(C)C)(C)...</td>\n      <td>[Amidation, TBS_alcohol_deprotection, Williams...</td>\n      <td>3</td>\n      <td>x0922A x0732A</td>\n      <td>x0922-x0732-merge-1-1</td>\n      <td>9</td>\n    </tr>\n    <tr>\n      <th>94</th>\n      <td>Cc1cnc(OCC(=O)N(C)C)cc1NC(=O)CO</td>\n      <td>[(Cc1cnc(O)cc1N, C(O)(=O)CO[Si](C(C)(C)C)(C)C)...</td>\n      <td>[Amidation, TBS_alcohol_deprotection, Williams...</td>\n      <td>3</td>\n      <td>x0922A x0732A</td>\n      <td>x0922-x0732-merge-1-2</td>\n      <td>9</td>\n    </tr>\n    <tr>\n      <th>95</th>\n      <td>Cc1cc(NC(=O)CO)cc(OCC(=O)N(C)C)c1</td>\n      <td>[(Cc1cc(O)cc(N)c1, C(O)(=O)CO[Si](C(C)(C)C)(C)...</td>\n      <td>[Amidation, TBS_alcohol_deprotection, Williams...</td>\n      <td>3</td>\n      <td>x0922A x0732A</td>\n      <td>x0922-x0732-merge-1-3</td>\n      <td>9</td>\n    </tr>\n    <tr>\n      <th>96</th>\n      <td>CN(C)C(=O)COCC(=O)Nc1cccc(O)c1</td>\n      <td>[(Nc1cccc(O)c1, C(O)(=O)CO[Si](C(C)(C)C)(C)C),...</td>\n      <td>[Amidation, TBS_alcohol_deprotection, Williams...</td>\n      <td>3</td>\n      <td>x0922A x0732A</td>\n      <td>x0922-x0732-merge-1-4</td>\n      <td>9</td>\n    </tr>\n    <tr>\n      <th>97</th>\n      <td>Cc1ccc(OCC(=O)N(C)C)cc1NC(=O)CO</td>\n      <td>[(Cc1ccc(O)cc1N, C(O)(=O)CO[Si](C(C)(C)C)(C)C)...</td>\n      <td>[Amidation, TBS_alcohol_deprotection, Williams...</td>\n      <td>3</td>\n      <td>x0922A x0732A</td>\n      <td>x0922-x0732-merge-1-5</td>\n      <td>9</td>\n    </tr>\n    <tr>\n      <th>98</th>\n      <td>Cc1ccc(OCC(=O)N(C)C)cc1NC(=O)CO</td>\n      <td>[(Cc1ccc(O)cc1N, C(O)(=O)CO[Si](C(C)(C)C)(C)C)...</td>\n      <td>[Amidation, TBS_alcohol_deprotection, Williams...</td>\n      <td>3</td>\n      <td>x0922A x0732A</td>\n      <td>x0922-x0732-merge-1-6</td>\n      <td>9</td>\n    </tr>\n  </tbody>\n</table>\n</div>"
     },
     "execution_count": 17,
     "metadata": {},
     "output_type": "execute_result"
    }
   ],
   "source": [
    "new_df = df.iloc[0:9]\n",
    "new_df"
   ],
   "metadata": {
    "collapsed": false,
    "ExecuteTime": {
     "end_time": "2024-03-06T16:12:01.183443Z",
     "start_time": "2024-03-06T16:12:01.171293Z"
    }
   },
   "id": "8f9296192facf8c5",
   "execution_count": 17
  },
  {
   "cell_type": "code",
   "outputs": [],
   "source": [
    "new_df.to_pickle('batch9_1.pkl')\n",
    "new_df.to_csv('batch9_1.csv')"
   ],
   "metadata": {
    "collapsed": false,
    "ExecuteTime": {
     "end_time": "2024-03-06T16:12:37.953320Z",
     "start_time": "2024-03-06T16:12:37.948887Z"
    }
   },
   "id": "9062fddedf11ef2c",
   "execution_count": 18
  }
 ],
 "metadata": {
  "kernelspec": {
   "display_name": "Python 3",
   "language": "python",
   "name": "python3"
  },
  "language_info": {
   "codemirror_mode": {
    "name": "ipython",
    "version": 2
   },
   "file_extension": ".py",
   "mimetype": "text/x-python",
   "name": "python",
   "nbconvert_exporter": "python",
   "pygments_lexer": "ipython2",
   "version": "2.7.6"
  }
 },
 "nbformat": 4,
 "nbformat_minor": 5
}

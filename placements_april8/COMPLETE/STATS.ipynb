{
 "cells": [
  {
   "cell_type": "code",
   "id": "initial_id",
   "metadata": {
    "collapsed": true,
    "ExecuteTime": {
     "end_time": "2024-04-15T10:11:36.009066Z",
     "start_time": "2024-04-15T10:11:35.815140Z"
    }
   },
   "source": [
    "import pandas as pd\n",
    "from datetime import datetime\n",
    "from rdkit import Chem\n",
    "import os"
   ],
   "outputs": [],
   "execution_count": 3
  },
  {
   "metadata": {
    "ExecuteTime": {
     "end_time": "2024-04-15T10:11:36.012200Z",
     "start_time": "2024-04-15T10:11:36.010403Z"
    }
   },
   "cell_type": "code",
   "source": [
    "os.chdir('/Users/kate_fieseler/PycharmProjects/EV-A71-2A-syndirella-run/placements_april8')\n",
    "print(datetime.now())"
   ],
   "id": "f903697010fe9280",
   "outputs": [
    {
     "name": "stdout",
     "output_type": "stream",
     "text": [
      "2024-04-15 11:11:36.011110\n"
     ]
    }
   ],
   "execution_count": 4
  },
  {
   "metadata": {},
   "cell_type": "markdown",
   "source": "## Number of unique base compounds input to pipeline",
   "id": "d12987e4a3bd1f76"
  },
  {
   "metadata": {
    "ExecuteTime": {
     "end_time": "2024-04-15T10:13:58.042559Z",
     "start_time": "2024-04-15T10:13:58.037930Z"
    }
   },
   "cell_type": "code",
   "source": [
    "df = pd.read_csv('bases/MASTER.csv')\n",
    "len(df)"
   ],
   "id": "1c76586869ed220c",
   "outputs": [
    {
     "data": {
      "text/plain": [
       "69"
      ]
     },
     "execution_count": 8,
     "metadata": {},
     "output_type": "execute_result"
    }
   ],
   "execution_count": 8
  },
  {
   "metadata": {
    "ExecuteTime": {
     "end_time": "2024-04-15T10:14:54.100002Z",
     "start_time": "2024-04-15T10:14:54.095965Z"
    }
   },
   "cell_type": "code",
   "source": "len(df.name.unique())",
   "id": "c476d7601cd4cca0",
   "outputs": [
    {
     "data": {
      "text/plain": [
       "69"
      ]
     },
     "execution_count": 10,
     "metadata": {},
     "output_type": "execute_result"
    }
   ],
   "execution_count": 10
  },
  {
   "metadata": {},
   "cell_type": "markdown",
   "source": "## Number of base compounds that were successfully processed by pipeline",
   "id": "b928b1ef393a5235"
  },
  {
   "metadata": {},
   "cell_type": "code",
   "outputs": [],
   "execution_count": null,
   "source": [
    "# condor_interactive\n",
    "# cd A71EV2A_run4\n",
    "# find . -mindepth 2 -maxdepth 2 -type d -name 'base-check' | wc -l"
   ],
   "id": "d3725abef411e86d"
  },
  {
   "metadata": {
    "ExecuteTime": {
     "end_time": "2024-04-15T10:17:27.074369Z",
     "start_time": "2024-04-15T10:17:27.069929Z"
    }
   },
   "cell_type": "code",
   "source": "print(69)",
   "id": "c0b8b41989da8402",
   "outputs": [
    {
     "name": "stdout",
     "output_type": "stream",
     "text": [
      "69\n"
     ]
    }
   ],
   "execution_count": 11
  },
  {
   "metadata": {},
   "cell_type": "markdown",
   "source": "## Number of base compounds that passed minimisation",
   "id": "f43afb77a4bedacb"
  },
  {
   "metadata": {
    "ExecuteTime": {
     "end_time": "2024-04-15T10:18:54.390781Z",
     "start_time": "2024-04-15T10:18:54.388759Z"
    }
   },
   "cell_type": "code",
   "source": [
    "# condor_interactive\n",
    "# cd A71EV2A_run4\n",
    "# find . -mindepth 2 -maxdepth 2 -type d -name 'extra' | wc -l"
   ],
   "id": "2ebcfc046c7f90b1",
   "outputs": [],
   "execution_count": 13
  },
  {
   "metadata": {
    "ExecuteTime": {
     "end_time": "2024-04-15T10:19:37.767624Z",
     "start_time": "2024-04-15T10:19:37.762465Z"
    }
   },
   "cell_type": "code",
   "source": "print(68)",
   "id": "fb50ae785afd5897",
   "outputs": [
    {
     "name": "stdout",
     "output_type": "stream",
     "text": [
      "68\n"
     ]
    }
   ],
   "execution_count": 14
  },
  {
   "metadata": {},
   "cell_type": "markdown",
   "source": "## How many base compounds had elaborations and started placement?",
   "id": "7d3d29eb13f6ce2d"
  },
  {
   "metadata": {},
   "cell_type": "code",
   "outputs": [],
   "execution_count": null,
   "source": [
    "# condor_interactive\n",
    "# cd A71EV2A_run4\n",
    "# find . -mindepth 2 -maxdepth 2 -type d -name 'output' | wc -l"
   ],
   "id": "c25d235ee7434d57"
  },
  {
   "metadata": {
    "ExecuteTime": {
     "end_time": "2024-04-15T10:45:55.417945Z",
     "start_time": "2024-04-15T10:45:55.407777Z"
    }
   },
   "cell_type": "code",
   "source": "print(64)",
   "id": "cf14035c91de4cbe",
   "outputs": [
    {
     "name": "stdout",
     "output_type": "stream",
     "text": [
      "64\n"
     ]
    }
   ],
   "execution_count": 17
  },
  {
   "metadata": {},
   "cell_type": "markdown",
   "source": "## How many base compounds have a to_hippo.pkl file",
   "id": "33eb6c7c9644a84a"
  },
  {
   "metadata": {
    "ExecuteTime": {
     "end_time": "2024-04-15T10:21:00.005460Z",
     "start_time": "2024-04-15T10:21:00.000753Z"
    }
   },
   "cell_type": "code",
   "source": [
    "# condor_interactive\n",
    "# cd A71EV2A_run4\n",
    "# find . -mindepth 2 -maxdepth 2 -type f -name '*to_hippo.pkl.gz' | wc -l"
   ],
   "id": "193d4e415aaf4b7d",
   "outputs": [],
   "execution_count": 15
  },
  {
   "metadata": {
    "ExecuteTime": {
     "end_time": "2024-04-15T10:22:00.172325Z",
     "start_time": "2024-04-15T10:22:00.169506Z"
    }
   },
   "cell_type": "code",
   "source": "print(58)",
   "id": "13c7db3d077f8233",
   "outputs": [
    {
     "name": "stdout",
     "output_type": "stream",
     "text": [
      "58\n"
     ]
    }
   ],
   "execution_count": 16
  }
 ],
 "metadata": {
  "kernelspec": {
   "display_name": "Python 3",
   "language": "python",
   "name": "python3"
  },
  "language_info": {
   "codemirror_mode": {
    "name": "ipython",
    "version": 2
   },
   "file_extension": ".py",
   "mimetype": "text/x-python",
   "name": "python",
   "nbconvert_exporter": "python",
   "pygments_lexer": "ipython2",
   "version": "2.7.6"
  }
 },
 "nbformat": 4,
 "nbformat_minor": 5
}
